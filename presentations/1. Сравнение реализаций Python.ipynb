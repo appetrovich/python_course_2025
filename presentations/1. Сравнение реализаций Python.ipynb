{
 "cells": [
  {
   "cell_type": "markdown",
   "id": "60adcefe",
   "metadata": {},
   "source": [
    "# **Сравнение реализаций Python**\n",
    "\n",
    "## - <u>CPython</u>\n",
    "## - <u>PyPy</u>\n",
    "## - <u>GraalPy</u>\n",
    "## - <u>Micropython</u>"
   ]
  },
  {
   "cell_type": "markdown",
   "id": "74af5abd",
   "metadata": {},
   "source": [
    "## Cpython\n",
    "CPython — эталонная и самая распространённая реализация языка Python. Написана на языке C, поддерживается Python Software Foundation. \n",
    "\n",
    "* Модель выполнения: исходный код → AST → байткод → интерпретация в стековой виртуальной машине.\n",
    "    \n",
    "* Параллелизм: GIL (Global Interpreter Lock) — только один поток может выполнять Python-байткод в каждый момент времени.\n",
    "    \n",
    "* Совместимость: полная поддержка C API, что обеспечивает работу с numpy, pandas, torch и тысячами других библиотек.\n",
    "    \n",
    "* Производительность: медленная для чистого Python-кода из-за отсутствия JIT-компиляции.\n",
    "     "
   ]
  },
  {
   "cell_type": "markdown",
   "id": "74749c6e",
   "metadata": {},
   "source": [
    "## PyPy\n",
    "\n",
    "PyPy — альтернативная реализация, написанная на RPython (ограниченное подмножество Python). \n",
    "\n",
    "* Модель выполнения: мета-циклический интерпретатор с трассирующим JIT-компилятором.\n",
    "\n",
    "* Параллелизм: GIL присутствует, но реализован иначе; экспериментальные ветки без GIL существуют.\n",
    "    \n",
    "* Совместимость: совместимость на уровне Python-кода и неплохая поддрежка пакетов, написанных на CPython \n",
    "\n",
    "* Производительность: кратно быстрее CPython."
   ]
  },
  {
   "cell_type": "markdown",
   "id": "34fcf78b",
   "metadata": {},
   "source": [
    "## GraalPy\n",
    "GraalPy — реализация Python в рамках GraalVM (Oracle), построенная на Truffle framework. \n",
    "\n",
    "* Модель выполнения: исходный код → AST → Truffle-ноды → интерпретация + Graal JIT-компиляция.\n",
    "\n",
    "* Интеграция: полная совместимость с JVM — Python-объекты являются Java-объектами.\n",
    "\n",
    "* Параллелизм: GIL отсутствует → поддержка истинного многопоточного выполнения.\n",
    "\n",
    "* Совместимость: частичная эмуляция C API через Sulong (LLVM-бэкенд); NumPy поддерживается, но с накладными расходами.\n",
    "\n",
    "* Производительность: Наравне с Cpython или быстрее"
   ]
  },
  {
   "cell_type": "markdown",
   "id": "38f984c9",
   "metadata": {},
   "source": [
    "## MicroPython\n",
    "\n",
    "MicroPython — минималистичная реализация, предназначенная для микроконтроллеров и систем с ограниченными ресурсами. \n",
    "\n",
    "* Целевая платформа: ESP32, Raspberry Pi Pico, Pyboard и др. (8–64 КБ RAM).\n",
    "\n",
    "* Модель выполнения: упрощённый парсер → компактный байткод → лёгкий интерпретатор.\n",
    "\n",
    "* Параллелизм: нет потоков, но поддерживается кооперативная многозадачность (uasyncio).\n",
    "    \n",
    "* Совместимость: подмножество Python 3.4+; отсутствуют модули вроде **typing**, **decimal**, **ctypes**.\n",
    "     "
   ]
  },
  {
   "cell_type": "markdown",
   "id": "eccc7071",
   "metadata": {},
   "source": [
    "## Сравнение реализаций \n",
    "Рассмотрим выполнение рекурсивной функции Фибоначчи:"
   ]
  },
  {
   "cell_type": "code",
   "execution_count": null,
   "id": "b0500275",
   "metadata": {
    "vscode": {
     "languageId": "plaintext"
    }
   },
   "outputs": [],
   "source": [
    "def fib(n):\n",
    "    return n if n < 2 else fib(n-1) + fib(n-2)\n",
    "print(fib(30))"
   ]
  },
  {
   "cell_type": "markdown",
   "id": "4f38cf0c",
   "metadata": {},
   "source": [
    "|Реализация | Время (примерно) | GIL | Замечания |\n",
    "|-----------|-----------------|-----|-----------|\n",
    "|CPython|~0,1 сек| + | Стандарт, полная совместимость|\n",
    "|PyPy|~0,03 сек|+|JIT ускоряет чистый Python|\n",
    "|GraalPy|~0.14 сек|-|\"Истинный параллелизм | интеграция с JVM|\n",
    "|MicroPython|~30 сек|-|Работает на микроконтроллерах|"
   ]
  },
  {
   "cell_type": "markdown",
   "id": "589c6f19",
   "metadata": {},
   "source": [
    "## Вывод \n",
    "\n",
    "Python — это не одна программа, а спецификация поведения, реализуемая множеством способов: \n",
    "\n",
    "- CPython — для стабильности и экосистемы,  \n",
    "- PyPy — для скорости в долгоживущих задачах,  \n",
    "- GraalPy — для enterprise и полиглотных систем,  \n",
    "- MicroPython — для embedded и IoT.\n",
    "     \n",
    "\n",
    "Выбор реализации — это не техническая деталь, а архитектурное решение, влияющее на производительность, масштабируемость и даже стоимость инфраструктуры. "
   ]
  },
  {
   "cell_type": "markdown",
   "id": "844a867f",
   "metadata": {},
   "source": [
    "## Полезные ссылки\n",
    "\n",
    "* Cpython\n",
    "  \n",
    "  <https://realpython.com/cpython-source-code-guide/>\n",
    "\n",
    "  <https://habr.com/ru/companies/yandex/articles/511972/>\n",
    "  \n",
    "  <https://www.python.org/>\n",
    "  \n",
    "  <https://github.com/python/cpython>\n",
    "* PyPy\n",
    "\n",
    "  <https://doc.pypy.org/en/latest/>\n",
    "\n",
    "* GraalPy\n",
    "\n",
    "  <https://www.graalvm.org/>\n",
    "\n",
    "  <https://www.graalvm.org/latest/reference-manual/python/>\n",
    "\n",
    "  <https://habr.com/ru/companies/otus/articles/743318/>\n",
    "\n",
    "* Micropython\n",
    "  \n",
    "  <https://micropython.org/>\n",
    "\n",
    "  <https://wokwi.com/> (Если хочется посмотреть как работают микроконтроллеры и пописать что-то)"
   ]
  }
 ],
 "metadata": {
  "language_info": {
   "name": "python"
  }
 },
 "nbformat": 4,
 "nbformat_minor": 5
}
