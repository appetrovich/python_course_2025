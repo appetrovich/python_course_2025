{
 "cells": [
  {
   "cell_type": "markdown",
   "id": "d23c32b8",
   "metadata": {},
   "source": [
    "# Доклад \"Команды и оркестрация: Команда, Наблюдатель, Посредник, Цепочка обязанностей\n",
    "### Command and Orchestration Patterns: Command, Observer, Mediator, Chain of Responsibility\n",
    "\n",
    "\n",
    "\n",
    "Ахмадимасуд Мобина, Б83\n",
    "\n",
    "---"
   ]
  },
  {
   "cell_type": "markdown",
   "id": "5a5516e9",
   "metadata": {},
   "source": [
    "## Introduction — What are Orchestration Patterns? / Введение — Что такое Паттерны оркестровки?\n",
    "\n",
    "**English**\n",
    "\n",
    "Orchestration patterns are structural and behavioral design patterns that help organize how objects and components interact to achieve complex workflows. They focus on *who controls* operations, *how responsibilities are delegated*, and *how communication is coordinated* between parts of a system. The four patterns in this notebook demonstrate common approaches:\n",
    "\n",
    "- **Command**: encapsulates operations as objects (useful for undo, queuing, and logging).\n",
    "- **Observer**: allows objects to subscribe to and receive updates from another object (publish–subscribe style).\n",
    "- **Mediator**: centralizes complex communication between components in a single place to reduce coupling.\n",
    "- **Chain of Responsibility**: passes requests along a chain of handlers until one handles it.\n",
    "\n",
    "**Russian (Русский)**\n",
    "\n",
    "Паттерны оркестровки — это структурные и поведенческие шаблоны проектирования, которые помогают организовать взаимодействие объектов и компонентов для выполнения сложных рабочих процессов. Они определяют, **кто управляет** операциями, **как делегируются обязанности** и **как координируется общение** между частями системы. Четыре паттерна в этом блокноте показывают распространённые подходы:\n",
    "\n",
    "- **Command (Команда)**: инкапсулирует операции как объекты (полезно для отмены, очередей и логирования).\n",
    "- **Observer (Наблюдатель)**: позволяет объектам подписываться и получать обновления от другого объекта (паттерн издатель–подписчик).\n",
    "- **Mediator (Посредник)**: централизует сложную коммуникацию между компонентами в одном месте, снижая связанность.\n",
    "- **Chain of Responsibility (Цепочка ответственности)**: передаёт запрос по цепочке обработчиков, пока один из них не обработает запрос.\n",
    "---"
   ]
  },
  {
   "cell_type": "markdown",
   "id": "af8f8171",
   "metadata": {},
   "source": [
    "## Command Pattern / Команда\n",
    "\n",
    "**English — Concept**\n",
    "\n",
    "The Command pattern turns a request into a stand-alone object that contains all information about the request. This decouples the object that invokes the operation from the one that knows how to perform it. Common uses: queues, undo/redo, logging, transactional operations.\n",
    "\n",
    "**Russian — Концепция**\n",
    "\n",
    "Паттерн Команда превращает запрос в самостоятельный объект, который содержит всю информацию о запросе. Это разделяет объект, который вызывает операцию, и тот, кто её выполняет. Типичные применения: очереди, отмена/повтор, логирование, транзакции.\n"
   ]
  },
  {
   "cell_type": "markdown",
   "id": "5ecc14a7",
   "metadata": {},
   "source": [
    "**English:**  \n",
    "In this example, we create commands (`WriteCommand`) that know how to perform and undo an action on a `Document`.  \n",
    "The `Editor` acts as the invoker — it executes and stores commands, allowing undo operations.  \n",
    "This separates the logic of performing actions from the logic of managing them.\n",
    "\n",
    "**Русский:**  \n",
    "В этом примере создаются команды (`WriteCommand`), которые знают, как выполнить и отменить действие над объектом `Document`.  \n",
    "`Editor` выступает как вызывающий объект — он выполняет и сохраняет команды, что позволяет отменять действия.  \n",
    "Это разделяет логику выполнения действий и управления ими.\n"
   ]
  },
  {
   "cell_type": "code",
   "execution_count": 1,
   "id": "81fbd95f",
   "metadata": {},
   "outputs": [
    {
     "name": "stdout",
     "output_type": "stream",
     "text": [
      "After writes: Hello World\n",
      "After undo: Hello\n"
     ]
    }
   ],
   "source": [
    "# Command pattern — simple example: Text editor commands with undo\n",
    "from abc import ABC, abstractmethod\n",
    "\n",
    "class Command(ABC):\n",
    "    @abstractmethod\n",
    "    def execute(self): pass\n",
    "    @abstractmethod\n",
    "    def undo(self): pass\n",
    "\n",
    "# Receiver\n",
    "class Document:\n",
    "    def __init__(self):\n",
    "        self.text = \"\"\n",
    "\n",
    "    def write(self, s):\n",
    "        self.text += s\n",
    "\n",
    "    def erase(self, count):\n",
    "        if count > 0:\n",
    "            self.text = self.text[:-count]\n",
    "\n",
    "# Concrete commands\n",
    "class WriteCommand(Command):\n",
    "    def __init__(self, doc, text):\n",
    "        self.doc = doc\n",
    "        self.text = text\n",
    "\n",
    "    def execute(self):\n",
    "        self.doc.write(self.text)\n",
    "\n",
    "    def undo(self):\n",
    "        self.doc.erase(len(self.text))\n",
    "\n",
    "# Invoker\n",
    "class Editor:\n",
    "    def __init__(self):\n",
    "        self.history = []\n",
    "\n",
    "    def do(self, command: Command):\n",
    "        command.execute()\n",
    "        self.history.append(command)\n",
    "\n",
    "    def undo(self):\n",
    "        if self.history:\n",
    "            cmd = self.history.pop()\n",
    "            cmd.undo()\n",
    "\n",
    "# Demo\n",
    "doc = Document()\n",
    "editor = Editor()\n",
    "\n",
    "cmd1 = WriteCommand(doc, \"Hello\")\n",
    "editor.do(cmd1)\n",
    "cmd2 = WriteCommand(doc, \" World\")\n",
    "editor.do(cmd2)\n",
    "\n",
    "print(\"After writes:\", doc.text)  # English: After writes: Hello World\n",
    "editor.undo()\n",
    "print(\"After undo:\", doc.text)    # English: After undo: Hello\n",
    "\n",
    "# Russian comments:\n",
    "# Демонстрация: выполняем две команды записи, затем отменяем последнюю.\n",
    "\n"
   ]
  },
  {
   "cell_type": "markdown",
   "id": "273fb077",
   "metadata": {},
   "source": [
    "## Observer Pattern / Наблюдатель\n",
    "\n",
    "**English — Concept**\n",
    "\n",
    "Observer (publish–subscribe) defines a one-to-many dependency so that when one object changes state, all its dependents are notified and updated automatically. Useful for GUIs, event systems, and reactive programming.\n",
    "\n",
    "**Russian — Концепция**\n",
    "\n",
    "Наблюдатель (издатель–подписчик) определяет зависимость «один-ко-многим», чтобы при изменении состояния одного объекта все зависимые объекты автоматически уведомлялись и обновлялись. Полезно для GUI, систем событий и реактивного программирования.\n"
   ]
  },
  {
   "cell_type": "markdown",
   "id": "5f1e56a5",
   "metadata": {},
   "source": [
    "**English:**  \n",
    "`WeatherStation` keeps a list of observers (subscribers) and notifies them when its state (temperature) changes.  \n",
    "Each `Display` object implements an `update()` method that reacts to these changes.  \n",
    "This allows loose coupling — the station doesn’t need to know how each observer works.\n",
    "\n",
    "**Русский:**  \n",
    "`WeatherStation` хранит список наблюдателей (подписчиков) и уведомляет их при изменении состояния (температуры).  \n",
    "Каждый объект `Display` реализует метод `update()`, который реагирует на изменения.  \n",
    "Это обеспечивает слабую связанность — станция не знает, как именно работает каждый наблюдатель.\n"
   ]
  },
  {
   "cell_type": "code",
   "execution_count": 2,
   "id": "6d28f025",
   "metadata": {},
   "outputs": [
    {
     "name": "stdout",
     "output_type": "stream",
     "text": [
      "[Lobby] Temperature updated to 22.5°C\n",
      "[ServerRoom] Temperature updated to 22.5°C\n",
      "[Lobby] Temperature updated to 23.0°C\n",
      "[ServerRoom] Temperature updated to 23.0°C\n"
     ]
    }
   ],
   "source": [
    "# Observer pattern — simple example: Weather station notifying observers\n",
    "from typing import List, Protocol\n",
    "\n",
    "class Observer(Protocol):\n",
    "    def update(self, temp: float): ...\n",
    "\n",
    "class WeatherStation:\n",
    "    def __init__(self):\n",
    "        self._observers: List[Observer] = []\n",
    "        self._temp = None\n",
    "\n",
    "    def subscribe(self, obs: Observer):\n",
    "        self._observers.append(obs)\n",
    "\n",
    "    def unsubscribe(self, obs: Observer):\n",
    "        self._observers.remove(obs)\n",
    "\n",
    "    def set_temp(self, value: float):\n",
    "        self._temp = value\n",
    "        for obs in list(self._observers):\n",
    "            obs.update(value)\n",
    "\n",
    "# Concrete observers\n",
    "class Display:\n",
    "    def __init__(self, name):\n",
    "        self.name = name\n",
    "\n",
    "    def update(self, temp: float):\n",
    "        print(f\"[{self.name}] Temperature updated to {temp}°C\")\n",
    "\n",
    "ws = WeatherStation()\n",
    "d1 = Display(\"Lobby\")\n",
    "d2 = Display(\"ServerRoom\")\n",
    "ws.subscribe(d1)\n",
    "ws.subscribe(d2)\n",
    "\n",
    "ws.set_temp(22.5)\n",
    "ws.set_temp(23.0)\n",
    "\n",
    "# Russian comments:\n",
    "# Пример: метеостанция оповещает несколько дисплеев об изменении температуры.\n"
   ]
  },
  {
   "cell_type": "markdown",
   "id": "28fcf73c",
   "metadata": {},
   "source": [
    "## Mediator Pattern / Посредник\n",
    "\n",
    "**English — Concept**\n",
    "\n",
    "Mediator centralizes complex interactions between multiple objects by having them communicate through a single mediator object. This reduces direct references between colleagues and lowers coupling.\n",
    "\n",
    "**Russian — Концепция**\n",
    "\n",
    "Посредник централизует сложные взаимодействия между объектами, заставляя их общаться через единый объект-посредник. Это уменьшает прямые ссылки между компонентами и снижает связанность.\n"
   ]
  },
  {
   "cell_type": "markdown",
   "id": "1e2781f7",
   "metadata": {},
   "source": [
    "**English:**  \n",
    "The `ChatRoom` acts as a mediator — all participants communicate through it instead of directly with each other.  \n",
    "When one participant sends a message, the mediator delivers it to all others.  \n",
    "This reduces coupling between participants and centralizes communication.\n",
    "\n",
    "**Русский:**  \n",
    "`ChatRoom` выступает как посредник — все участники общаются через него, а не напрямую друг с другом.  \n",
    "Когда один участник отправляет сообщение, посредник доставляет его всем остальным.  \n",
    "Это снижает связанность между участниками и централизует коммуникацию.\n"
   ]
  },
  {
   "cell_type": "code",
   "execution_count": 3,
   "id": "3026b106",
   "metadata": {},
   "outputs": [
    {
     "name": "stdout",
     "output_type": "stream",
     "text": [
      "Bob received from Alice: Hi Bob!\n",
      "Alice received from Bob: Hello Alice!\n"
     ]
    }
   ],
   "source": [
    "# Mediator pattern — simple chatroom mediator\n",
    "from abc import ABC, abstractmethod\n",
    "\n",
    "class Mediator(ABC):\n",
    "    @abstractmethod\n",
    "    def send(self, message: str, sender): pass\n",
    "\n",
    "class ChatRoom(Mediator):\n",
    "    def __init__(self):\n",
    "        self.participants = []\n",
    "\n",
    "    def register(self, participant):\n",
    "        self.participants.append(participant)\n",
    "        participant.mediator = self\n",
    "\n",
    "    def send(self, message: str, sender):\n",
    "        for p in self.participants:\n",
    "            if p is not sender:\n",
    "                p.receive(message, sender)\n",
    "\n",
    "class Participant:\n",
    "    def __init__(self, name):\n",
    "        self.name = name\n",
    "        self.mediator: Mediator | None = None\n",
    "\n",
    "    def send(self, message: str):\n",
    "        if self.mediator:\n",
    "            self.mediator.send(message, self)\n",
    "\n",
    "    def receive(self, message: str, sender):\n",
    "        print(f\"{self.name} received from {sender.name}: {message}\")\n",
    "\n",
    "# Demo\n",
    "room = ChatRoom()\n",
    "alice = Participant(\"Alice\")\n",
    "bob = Participant(\"Bob\")\n",
    "room.register(alice)\n",
    "room.register(bob)\n",
    "\n",
    "alice.send(\"Hi Bob!\")\n",
    "bob.send(\"Hello Alice!\")\n",
    "\n",
    "# Russian comments:\n",
    "# Пример: чат-комната как посредник между участниками.\n"
   ]
  },
  {
   "cell_type": "markdown",
   "id": "92392fcf",
   "metadata": {},
   "source": [
    "## Chain of Responsibility Pattern / Цепочка обязанностей\n",
    "\n",
    "**English — Concept**\n",
    "\n",
    "Chain of Responsibility passes a request along a chain of handlers. Each handler can either process the request or pass it to the next handler. Useful for layered validation, logging, or pipelines.\n",
    "\n",
    "**Russian — Концепция**\n",
    "\n",
    "Цепочка ответственности передаёт запрос по цепочке обработчиков. Каждый обработчик либо обрабатывает запрос, либо передаёт его дальше. Полезно для пошаговой валидации, логирования или конвейеров обработки.\n"
   ]
  },
  {
   "cell_type": "markdown",
   "id": "1ed6035c",
   "metadata": {},
   "source": [
    "**English:**  \n",
    "The request passes through a chain of handlers (`AuthHandler → ValidationHandler → ProcessingHandler`).  \n",
    "Each handler checks if it can handle the request; if not, it passes it to the next one.  \n",
    "This allows flexible request processing and avoids hardcoded conditional logic.\n",
    "\n",
    "**Русский:**  \n",
    "Запрос проходит через цепочку обработчиков (`AuthHandler → ValidationHandler → ProcessingHandler`).  \n",
    "Каждый обработчик проверяет, может ли он обработать запрос; если нет — передаёт его дальше.  \n",
    "Это позволяет гибко обрабатывать запросы без жёстких условий в коде.\n"
   ]
  },
  {
   "cell_type": "code",
   "execution_count": 4,
   "id": "e1f5ef58",
   "metadata": {},
   "outputs": [
    {
     "name": "stdout",
     "output_type": "stream",
     "text": [
      "Processed data: payload\n",
      "Auth failed\n",
      "Validation failed\n"
     ]
    }
   ],
   "source": [
    "# Chain of Responsibility — simple example: request handling with multiple handlers\n",
    "from abc import ABC, abstractmethod\n",
    "\n",
    "class Handler(ABC):\n",
    "    def __init__(self, successor=None):\n",
    "        self._successor = successor\n",
    "\n",
    "    @abstractmethod\n",
    "    def handle(self, request): pass\n",
    "\n",
    "class AuthHandler(Handler):\n",
    "    def handle(self, request):\n",
    "        if not request.get(\"user\"):\n",
    "            return \"Auth failed\"\n",
    "        if self._successor:\n",
    "            return self._successor.handle(request)\n",
    "        return \"Auth passed\"\n",
    "\n",
    "class ValidationHandler(Handler):\n",
    "    def handle(self, request):\n",
    "        if \"data\" not in request:\n",
    "            return \"Validation failed\"\n",
    "        if self._successor:\n",
    "            return self._successor.handle(request)\n",
    "        return \"Validation passed\"\n",
    "\n",
    "class ProcessingHandler(Handler):\n",
    "    def handle(self, request):\n",
    "        # process request\n",
    "        return f\"Processed data: {request.get('data')}\"\n",
    "\n",
    "# Build chain: Auth -> Validation -> Processing\n",
    "chain = AuthHandler(ValidationHandler(ProcessingHandler()))\n",
    "\n",
    "print(chain.handle({\"user\": \"alice\", \"data\": \"payload\"}))  # processed\n",
    "print(chain.handle({\"data\": \"payload\"}))                  # auth failed\n",
    "print(chain.handle({\"user\": \"bob\"}))                      # validation failed\n",
    "\n",
    "# Russian comments:\n",
    "# Пример: цепочка обработчиков для аутентификации, валидации и обработки.\n"
   ]
  },
  {
   "cell_type": "markdown",
   "id": "d3918522",
   "metadata": {},
   "source": [
    "### 📋 Pattern Comparison Overview / Обзор сравнения паттернов\n",
    "\n",
    "**English:**  \n",
    "The table below summarizes the key similarities and differences between four orchestration patterns — Command, Observer, Mediator, and Chain of Responsibility.  \n",
    "It highlights their main ideas, participants, communication structures, and typical use cases.\n",
    "\n",
    "**Русский:**  \n",
    "В таблице ниже приведено сравнение четырёх паттернов оркестровки — Команда, Наблюдатель, Посредник и Цепочка ответственности.  \n",
    "Показаны их основные идеи, участники, типы взаимодействия и типичные области применения.\n"
   ]
  },
  {
   "cell_type": "markdown",
   "id": "b4de7238",
   "metadata": {},
   "source": [
    "### 🧩 Comparison Table — Orchestration Patterns\n",
    "\n",
    "| **Pattern** | **Main Idea (English)** | **Main Idea (Русский)** | **Key Participants** | **Communication Type** | **Typical Use Cases** |\n",
    "|--------------|-------------------------|--------------------------|----------------------|------------------------|-----------------------|\n",
    "| **Command** | Encapsulate a request as an object, allowing to parameterize clients, queue, log, or undo operations. | Инкапсулирует запрос как объект, что позволяет параметризовать клиентов, ставить команды в очередь, логировать или отменять операции. | Invoker, Command, Receiver | One-to-one (Invoker → Command → Receiver) | Undo/Redo, Queues, Macro commands |\n",
    "| **Observer** | Define a one-to-many dependency between objects so that when one changes, others are notified. | Определяет зависимость «один-ко-многим» между объектами: при изменении одного другие уведомляются. | Subject, Observer(s) | One-to-many (Publisher → Subscribers) | Event systems, GUIs, Data binding |\n",
    "| **Mediator** | Centralize complex communication between multiple objects using a mediator object. | Централизует взаимодействие между несколькими объектами через посредника. | Mediator, Colleague(s) | Many-to-many (through Mediator) | Chat systems, GUI dialogs, Message routing |\n",
    "| **Chain of Responsibility** | Pass a request along a chain of handlers until one handles it. | Передаёт запрос по цепочке обработчиков, пока один не обработает его. | Handler, Concrete Handlers | Sequential (Handler1 → Handler2 → …) | Validation pipelines, Logging, Request filtering |\n"
   ]
  },
  {
   "cell_type": "markdown",
   "id": "420cf614",
   "metadata": {},
   "source": [
    "## Summary / Краткое содержание\n",
    "\n",
    "**English**\n",
    "\n",
    "- These patterns help structure control flow and communication in applications.\n",
    "- Command: encapsulate requests; good for undo and queuing.\n",
    "- Observer: decouple publishers and subscribers for event-driven systems.\n",
    "- Mediator: centralize interactions to reduce coupling.\n",
    "- Chain of Responsibility: chain handlers to process requests step-by-step.\n",
    "\n",
    "**Russian (Русский)**\n",
    "\n",
    "- Эти паттерны помогают структурировать управление и коммуникацию в приложениях.\n",
    "- Command: инкапсулирует запросы; полезен для отмены и очередей.\n",
    "- Observer: разделяет издателей и подписчиков для событийных систем.\n",
    "- Mediator: централизует взаимодействие, снижая связанность.\n",
    "- Chain of Responsibility: цепочка обработчиков для пошаговой обработки запросов.\n",
    "\n",
    "---\n"
   ]
  },
  {
   "cell_type": "markdown",
   "id": "b24dec97",
   "metadata": {},
   "source": [
    "## 📚 References / Список литературы\n",
    "\n",
    "**English Sources:**\n",
    "1. Gamma, E., Helm, R., Johnson, R., & Vlissides, J. (1994). *Design Patterns: Elements of Reusable Object-Oriented Software.* Addison-Wesley.  \n",
    "   → The classic “Gang of Four” book introducing Command, Observer, Mediator, and Chain of Responsibility patterns.\n",
    "2. Freeman, E., Freeman, E., Bates, B., & Sierra, K. (2004). *Head First Design Patterns.* O'Reilly Media.  \n",
    "   → A beginner-friendly, visual explanation of design patterns with examples in Java and Python.\n",
    "3. Refactoring.Guru — *Design Patterns Explained Simply.*  \n",
    "   [https://refactoring.guru/design-patterns](https://refactoring.guru/design-patterns)  \n",
    "   → Excellent resource with clear illustrations and Python examples.\n",
    "\n",
    "**Russian Sources / Русскоязычные источники:**\n",
    "1. Гамма Э., Хелм Р., Джонсон Р., Влиссидес Дж. *Приемы объектно-ориентированного проектирования. Паттерны проектирования.* — СПб: Питер, 2021.  \n",
    "   → Русский перевод классической книги “Gang of Four”.\n",
    "2. Refactoring.Guru (на русском):  \n",
    "   [https://refactoring.guru/ru/design-patterns](https://refactoring.guru/ru/design-patterns)  \n",
    "   → Очень доступные объяснения паттернов с примерами кода.\n",
    "3. Хабр — статьи по паттернам проектирования:  \n",
    "   [https://habr.com/ru/search/?q=паттерны%20проектирования](https://habr.com/ru/search/?q=паттерны%20проектирования)  \n",
    "   → Обзоры, примеры и обсуждения для практикующих программистов.\n",
    "\n",
    "---\n",
    "\n"
   ]
  }
 ],
 "metadata": {
  "kernelspec": {
   "display_name": "Python 3",
   "language": "python",
   "name": "python3"
  },
  "language_info": {
   "codemirror_mode": {
    "name": "ipython",
    "version": 3
   },
   "file_extension": ".py",
   "mimetype": "text/x-python",
   "name": "python",
   "nbconvert_exporter": "python",
   "pygments_lexer": "ipython3",
   "version": "3.13.7"
  }
 },
 "nbformat": 4,
 "nbformat_minor": 5
}
