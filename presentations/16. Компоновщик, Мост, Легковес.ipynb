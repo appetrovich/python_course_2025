{
  "cells": [
    {
      "cell_type": "markdown",
      "metadata": {
        "id": "es0cj8mdaTvP"
      },
      "source": [
        "# Доклад: Структурные паттерны — Компоновщик, Мост, Легковес\n",
        "\n",
        "**Структурные паттерны** отвечают за построение удобных и расширяемых иерархий классов и объектов. Сегодня мы рассмотрим три мощных паттерна, которые решают разные задачи, связанные с композицией объектов:\n",
        "\n",
        "*   **Компоновщик (Composite):** Позволяет работать с древовидной структурой объектов так, как если бы это был единичный объект.\n",
        "*   **Мост (Bridge):** Разделяет большую иерархию классов на две независимые, позволяя им развиваться по-отдельности.\n",
        "*   **Легковес (Flyweight):** Экономит память, позволяя разделять общее состояние между множеством объектов.\n",
        "\n",
        "Давайте разберем каждый из них на примерах с исполняемым кодом."
      ]
    },
    {
      "cell_type": "markdown",
      "metadata": {
        "id": "WxYmsBfRaTvQ"
      },
      "source": [
        "## 1. Паттерн \"Компоновщик\" (Composite)\n",
        "**Суть:** *Позволяет клиентам единообразно обращаться как к отдельным объектам, так и к их группам.*\n",
        "\n",
        "**Аналогия:** Папка в файловой системе. Вы можете узнать размер как одного файла (простой объект), так и всей папки (составной объект, размер которого — сумма размеров всего содержимого). Операция одна и та же."
      ]
    },
    {
      "cell_type": "markdown",
      "metadata": {
        "id": "ckLUIn7XaTvR"
      },
      "source": [
        "### Пример на Python"
      ]
    },
    {
      "cell_type": "code",
      "execution_count": null,
      "metadata": {
        "colab": {
          "base_uri": "https://localhost:8080/"
        },
        "id": "IV-_yZalaTvR",
        "outputId": "bdfa0cfe-827d-4ab3-d0fb-cb0abab3f0a9"
      },
      "outputs": [
        {
          "output_type": "stream",
          "name": "stdout",
          "text": [
            "--- Рисуем составную фигуру 'Вся страница' ---\n",
            "  Рисуем точку 'Точка 1'\n",
            "  Рисуем круг 'Круг 1'\n",
            "--- Рисуем составную фигуру 'Группа фигур' ---\n",
            "  Рисуем круг 'Внутренний круг'\n",
            "  Рисуем точку 'Внутренняя точка'\n",
            "--- Конец фигуры 'Группа фигур' ---\n",
            "--- Конец фигуры 'Вся страница' ---\n"
          ]
        }
      ],
      "source": [
        "from abc import ABC, abstractmethod\n",
        "from typing import List\n",
        "\n",
        "class Graphic(ABC):\n",
        "    @abstractmethod\n",
        "    def draw(self):\n",
        "        pass\n",
        "\n",
        "class Circle(Graphic):\n",
        "    def __init__(self, name):\n",
        "        self.name = name\n",
        "\n",
        "    def draw(self):\n",
        "        print(f\"  Рисуем круг '{self.name}'\")\n",
        "\n",
        "class Dot(Graphic):\n",
        "    def __init__(self, name):\n",
        "        self.name = name\n",
        "\n",
        "    def draw(self):\n",
        "        print(f\"  Рисуем точку '{self.name}'\")\n",
        "\n",
        "class CompoundGraphic(Graphic):\n",
        "    def __init__(self, name):\n",
        "        self.name = name\n",
        "        self._children: List[Graphic] = []\n",
        "\n",
        "    def add(self, child: Graphic):\n",
        "        self._children.append(child)\n",
        "\n",
        "    def remove(self, child: Graphic):\n",
        "        self._children.remove(child)\n",
        "\n",
        "    def draw(self):\n",
        "        print(f\"--- Рисуем составную фигуру '{self.name}' ---\")\n",
        "        for child in self._children:\n",
        "            child.draw()\n",
        "        print(f\"--- Конец фигуры '{self.name}' ---\")\n",
        "\n",
        "if __name__ == \"__main__\":\n",
        "    all_graphics = CompoundGraphic(\"Вся страница\")\n",
        "    all_graphics.add(Dot(\"Точка 1\"))\n",
        "    all_graphics.add(Circle(\"Круг 1\"))\n",
        "\n",
        "    group = CompoundGraphic(\"Группа фигур\")\n",
        "    group.add(Circle(\"Внутренний круг\"))\n",
        "    group.add(Dot(\"Внутренняя точка\"))\n",
        "\n",
        "    all_graphics.add(group)\n",
        "\n",
        "    all_graphics.draw()"
      ]
    },
    {
      "cell_type": "markdown",
      "metadata": {
        "id": "IL9BVPZuaTvT"
      },
      "source": [
        "### Разбор кода\n",
        "\n",
        "Ключевой момент — и `Circle`, и `CompoundGraphic` наследуют `Graphic`. Это позволяет класть один `CompoundGraphic` внутрь другого, создавая **древовидную структуру объектов**:\n",
        "\n",
        "```\n",
        "all_graphics (\"Вся страница\")\n",
        "│\n",
        "├── Dot (\"Точка 1\")\n",
        "├── Circle (\"Круг 1\")\n",
        "└── group (\"Группа фигур\")\n",
        "    │\n",
        "    ├── Circle (\"Внутренний круг\")\n",
        "    └── Dot (\"Внутренняя точка\")\n",
        "```\n",
        "Благодаря общему интерфейсу `Graphic`, клиентский код работает со всей этой сложной структурой так же просто, как с одним объектом."
      ]
    },
    {
      "cell_type": "markdown",
      "metadata": {
        "id": "Kggm6RVjaTvT"
      },
      "source": [
        "## 2. Паттерн \"Мост\" (Bridge)\n",
        "\n",
        "**Суть:** *Разделяет один или несколько классов на две отдельные иерархии (абстракцию и реализацию), что позволяет изменять их независимо друг от друга.*\n",
        "\n",
        "**Аналогия:** Пульт и устройство. Есть разные пульты (простой, продвинутый) и разные устройства (ТВ, радио). Вместо того чтобы делать `ПродвинутыйПультДляТВ`, мы делаем `ПродвинутыйПульт`, который может работать с любым `Устройством`."
      ]
    },
    {
      "cell_type": "markdown",
      "metadata": {
        "id": "qvSKLYP6aTvU"
      },
      "source": [
        "### Пример на Python"
      ]
    },
    {
      "cell_type": "code",
      "execution_count": null,
      "metadata": {
        "colab": {
          "base_uri": "https://localhost:8080/"
        },
        "id": "EwcSmKZjaTvV",
        "outputId": "99d58c94-0ca7-4b34-9361-84d6e4502f2d"
      },
      "outputs": [
        {
          "output_type": "stream",
          "name": "stdout",
          "text": [
            "--- Сценарий 1: Простой пульт с телевизором ---\n",
            "Нажата кнопка питания.\n",
            "Телевизор включен\n",
            "\n",
            "--- Сценарий 2: Продвинутый пульт с радио ---\n",
            "Нажата кнопка питания.\n",
            "Радио включено\n",
            "Нажата кнопка 'Mute'.\n",
            "Громкость радио: 0%\n"
          ]
        }
      ],
      "source": [
        "from abc import ABC, abstractmethod\n",
        "\n",
        "# Иерархия 2: Реализации (Устройства)\n",
        "class Device(ABC):\n",
        "    @abstractmethod\n",
        "    def turn_on(self): pass\n",
        "    @abstractmethod\n",
        "    def turn_off(self): pass\n",
        "    @abstractmethod\n",
        "    def set_volume(self, percent: int): pass\n",
        "\n",
        "class Tv(Device):\n",
        "    def turn_on(self): print(\"Телевизор включен\")\n",
        "    def turn_off(self): print(\"Телевизор выключен\")\n",
        "    def set_volume(self, percent: int): print(f\"Громкость ТВ: {percent}%\")\n",
        "\n",
        "class Radio(Device):\n",
        "    def turn_on(self): print(\"Радио включено\")\n",
        "    def turn_off(self): print(\"Радио выключено\")\n",
        "    def set_volume(self, percent: int): print(f\"Громкость радио: {percent}%\")\n",
        "\n",
        "\n",
        "# Иерархия 1: Абстракции (Пульты)\n",
        "class RemoteControl:\n",
        "    def __init__(self, device: Device):\n",
        "        self._device = device  # <-- Вот он, МОСТ!\n",
        "\n",
        "    def toggle_power(self):\n",
        "        print(\"Нажата кнопка питания.\")\n",
        "        self._device.turn_on()\n",
        "\n",
        "class AdvancedRemoteControl(RemoteControl):\n",
        "    def mute(self):\n",
        "        print(\"Нажата кнопка 'Mute'.\")\n",
        "        self._device.set_volume(0)\n",
        "\n",
        "# Клиентский код\n",
        "if __name__ == \"__main__\":\n",
        "    tv = Tv()\n",
        "    radio = Radio()\n",
        "\n",
        "    print(\"--- Сценарий 1: Простой пульт с телевизором ---\")\n",
        "    remote_for_tv = RemoteControl(tv)\n",
        "    remote_for_tv.toggle_power()\n",
        "    print()\n",
        "\n",
        "    print(\"--- Сценарий 2: Продвинутый пульт с радио ---\")\n",
        "    advanced_remote_for_radio = AdvancedRemoteControl(radio)\n",
        "    advanced_remote_for_radio.toggle_power()\n",
        "    advanced_remote_for_radio.mute()"
      ]
    },
    {
      "cell_type": "markdown",
      "metadata": {
        "id": "I-U0RuWUaTvW"
      },
      "source": [
        "### Разбор кода\n",
        "\n",
        "Ключевая идея — **предпочитать композицию наследованию**. Вместо того чтобы `AdvancedTVRemote` наследовался от `TVRemote`, у нас есть две независимые ветки:\n",
        "1.  **Пульты:** `RemoteControl` -> `AdvancedRemoteControl`.\n",
        "2.  **Устройства:** `Device` -> `Tv`, `Radio`.\n",
        "\n",
        "Класс `RemoteControl` **содержит** в себе объект `Device` и делегирует ему вызовы. Это позволяет нам независимо добавлять новые пульты и новые устройства, а затем свободно комбинировать их при создании объектов."
      ]
    },
    {
      "cell_type": "markdown",
      "metadata": {
        "id": "fY1Bu8RfaTvW"
      },
      "source": [
        "## 3. Паттерн \"Легковес\" (Flyweight)\n",
        "\n",
        "**Суть:** *Позволяет вместить бóльшее количество объектов в отведённую оперативную память, разделяя общее состояние между ними.*\n",
        "\n",
        "**Аналогия:** Буквы в текстовом редакторе. Чтобы отобразить текст из миллиона символов \"а\", не нужно создавать миллион объектов \"буква 'а'\". Достаточно создать один объект \"буква 'а'\" и затем миллион раз отрисовать его в разных координатах."
      ]
    },
    {
      "cell_type": "markdown",
      "metadata": {
        "id": "LOpb1mrsaTvW"
      },
      "source": [
        "### Пример на Python"
      ]
    },
    {
      "cell_type": "code",
      "execution_count": null,
      "metadata": {
        "colab": {
          "base_uri": "https://localhost:8080/"
        },
        "id": "bmu4TKx2aTvX",
        "outputId": "eca169be-5def-47d1-d0c6-5997bb4e5118"
      },
      "outputs": [
        {
          "output_type": "stream",
          "name": "stdout",
          "text": [
            "Создан новый, тяжелый объект TreeType: Береза, белый\n",
            "Создан новый, тяжелый объект TreeType: Ель, зеленый\n",
            "--> Используем существующий объект TreeType: Береза, белый\n",
            "--> Используем существующий объект TreeType: Береза, белый\n",
            "\n",
            "Всего деревьев в лесу: 4\n",
            "Всего создано тяжелых объектов (легковесов): 2\n",
            "\n",
            "--- Рендеринг леса ---\n",
            "Рисуем дерево 'Береза' в (10, 20)\n",
            "Рисуем дерево 'Ель' в (50, 80)\n",
            "Рисуем дерево 'Береза' в (100, 150)\n",
            "Рисуем дерево 'Береза' в (200, 210)\n"
          ]
        }
      ],
      "source": [
        "import json\n",
        "\n",
        "class TreeType:\n",
        "    def __init__(self, name: str, color: str, texture: str):\n",
        "        print(f\"Создан новый, тяжелый объект TreeType: {name}, {color}\")\n",
        "        self._name = name\n",
        "        self._color = color\n",
        "        self._texture = texture # Представим, что это \"тяжелые\" данные\n",
        "\n",
        "    def draw(self, x, y):\n",
        "        print(f\"Рисуем дерево '{self._name}' в ({x}, {y})\")\n",
        "\n",
        "class TreeFactory:\n",
        "    _tree_types = {}\n",
        "    @classmethod\n",
        "    def get_tree_type(cls, name: str, color: str, texture: str) -> TreeType:\n",
        "        key = (name, color, texture)\n",
        "        if key not in cls._tree_types:\n",
        "            cls._tree_types[key] = TreeType(name, color, texture)\n",
        "        else:\n",
        "            print(f\"--> Используем существующий объект TreeType: {name}, {color}\")\n",
        "\n",
        "        return cls._tree_types[key]\n",
        "\n",
        "class Tree:\n",
        "    def __init__(self, x: int, y: int, tree_type: TreeType):\n",
        "        self.x = x\n",
        "        self.y = y\n",
        "        self.tree_type = tree_type\n",
        "\n",
        "    def draw(self):\n",
        "        self.tree_type.draw(self.x, self.y)\n",
        "\n",
        "class Forest:\n",
        "    def __init__(self):\n",
        "        self._trees: List[Tree] = []\n",
        "\n",
        "    def plant_tree(self, x: int, y: int, name: str, color: str, texture: str):\n",
        "        tree_type = TreeFactory.get_tree_type(name, color, texture)\n",
        "        tree = Tree(x, y, tree_type)\n",
        "        self._trees.append(tree)\n",
        "\n",
        "    def draw(self):\n",
        "        for tree in self._trees:\n",
        "            tree.draw()\n",
        "\n",
        "if __name__ == \"__main__\":\n",
        "    forest = Forest()\n",
        "\n",
        "    forest.plant_tree(10, 20, \"Береза\", \"белый\", \"birch.png\")\n",
        "    forest.plant_tree(50, 80, \"Ель\", \"зеленый\", \"spruce.png\")\n",
        "    forest.plant_tree(100, 150, \"Береза\", \"белый\", \"birch.png\")\n",
        "    forest.plant_tree(200, 210, \"Береза\", \"белый\", \"birch.png\")\n",
        "\n",
        "    print(f\"\\nВсего деревьев в лесу: {len(forest._trees)}\")\n",
        "    print(f\"Всего создано тяжелых объектов (легковесов): {len(TreeFactory._tree_types)}\\n\")\n",
        "\n",
        "    print(\"--- Рендеринг леса ---\")\n",
        "    forest.draw()"
      ]
    },
    {
      "cell_type": "markdown",
      "metadata": {
        "id": "h-g--hu0aTvX"
      },
      "source": [
        "### Разбор кода\n",
        "\n",
        "Несмотря на то, что мы посадили 4 дерева, в памяти было создано всего 2 \"тяжелых\" объекта `TreeType`. Остальные деревья просто хранят свои уникальные координаты (`x`, `y`) и ссылку на общий объект. Это позволяет экономить огромное количество памяти, когда речь идет о миллионах объектов."
      ]
    },
    {
      "cell_type": "markdown",
      "metadata": {
        "id": "I4TvzLAuaTvX"
      },
      "source": [
        "## Заключение: Сравнительная таблица\n",
        "\n",
        "| Паттерн | Цель | Ключевая идея | Структура |\n",
        "| :--- | :--- | :--- | :--- |\n",
        "| **Компоновщик** | Построить древовидную иерархию и работать с ней как с единым целым. | **Единообразие.** Клиент не различает простые и составные объекты. | Общий интерфейс для листьев и контейнеров. |\n",
        "| **Мост** | Разделить большую иерархию классов на две независимые, чтобы избежать \"комбинаторного взрыва\". | **Разделение.** Абстракция отделена от реализации. | Две отдельные иерархии, связанные через композицию. |\n",
        "| **Легковес** | Эффективно использовать память при работе с большим числом однотипных объектов. | **Разделение общего состояния.** Объекты переиспользуются. | Фабрика, управляющая пулом объектов с общим состоянием. |\n",
        "\n",
        "### Спасибо за внимание!"
      ]
    }
  ],
  "metadata": {
    "kernelspec": {
      "display_name": "Python 3",
      "language": "python",
      "name": "python3"
    },
    "language_info": {
      "codemirror_mode": {
        "name": "ipython",
        "version": 3
      },
      "file_extension": ".py",
      "mimetype": "text/x-python",
      "name": "python",
      "nbconvert_exporter": "python",
      "pygments_lexer": "ipython3",
      "version": "3.9.7"
    },
    "colab": {
      "provenance": []
    }
  },
  "nbformat": 4,
  "nbformat_minor": 0
}