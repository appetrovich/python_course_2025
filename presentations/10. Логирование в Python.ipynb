{
 "cells": [
  {
   "cell_type": "markdown",
   "id": "6b711d02",
   "metadata": {},
   "source": [
    "# Лoгирование в Python: модуль logging и аналоги\n",
    "# Автор: Мокобиа Джейн Чидима\n",
    "# Группа: 24.б83"
   ]
  },
  {
   "cell_type": "markdown",
   "id": "f33e77bc",
   "metadata": {},
   "source": [
    "## 1. Введение\n",
    "Логирование — это процесс записи информации о работе программы. Оно помогает:\n",
    "- Отслеживать ошибки и исключения\n",
    "- Понимать поведение программы\n",
    "- Профилировать и анализировать работу кода\n",
    "\n",
    "В Python основной инструмент для этого — модуль logging."
   ]
  },
  {
   "cell_type": "markdown",
   "id": "9769c59a",
   "metadata": {},
   "source": [
    "## 2. Модуль logging\n",
    "Модуль logging — встроенный инструмент Python для ведения логов.  \n",
    "Он поддерживает:\n",
    "- Разные уровни логов (DEBUG, INFO, WARNING, ERROR, CRITICAL)\n",
    "- Настройку формата сообщений\n",
    "- Запись в файл или вывод на консоль"
   ]
  },
  {
   "cell_type": "code",
   "execution_count": 8,
   "id": "9d39b568",
   "metadata": {},
   "outputs": [],
   "source": [
    "import logging\n",
    "\n",
    "# Настройка логирования\n",
    "logging.basicConfig(\n",
    "    level=logging.DEBUG,\n",
    "    format='%(asctime)s - %(levelname)s - %(message)s',\n",
    "    filename='example.log',  # записываем в файл\n",
    "    filemode='w'\n",
    ")\n",
    "\n",
    "# Разные уровни логирования\n",
    "logging.debug(\"Это DEBUG сообщение\")\n",
    "logging.info(\"Это INFO сообщение\")\n",
    "logging.warning(\"Это WARNING сообщение\")\n",
    "logging.error(\"Это ERROR сообщение\")\n",
    "logging.critical(\"Это CRITICAL сообщение\")"
   ]
  },
  {
   "cell_type": "markdown",
   "id": "229509c2",
   "metadata": {},
   "source": [
    "## 3. Консоль и файл\n",
    "Вы можете вести логи одновременно в консоль и файл."
   ]
  },
  {
   "cell_type": "code",
   "execution_count": 9,
   "id": "9093f949",
   "metadata": {},
   "outputs": [
    {
     "name": "stderr",
     "output_type": "stream",
     "text": [
      "my_logger - INFO - Информационное сообщение\n",
      "my_logger - INFO - Информационное сообщение\n",
      "my_logger - WARNING - Предупреждение\n",
      "my_logger - WARNING - Предупреждение\n",
      "my_logger - ERROR - Ошибка\n",
      "my_logger - ERROR - Ошибка\n",
      "my_logger - CRITICAL - Критическая ошибка\n",
      "my_logger - CRITICAL - Критическая ошибка\n"
     ]
    }
   ],
   "source": [
    "# Создание логгера\n",
    "logger = logging.getLogger('my_logger')\n",
    "logger.setLevel(logging.DEBUG)\n",
    "\n",
    "# Хэндлер для консоли\n",
    "console_handler = logging.StreamHandler()\n",
    "console_handler.setLevel(logging.INFO)\n",
    "\n",
    "# Хэндлер для файла\n",
    "file_handler = logging.FileHandler('my_log.log')\n",
    "file_handler.setLevel(logging.DEBUG)\n",
    "\n",
    "# Формат сообщений\n",
    "formatter = logging.Formatter('%(name)s - %(levelname)s - %(message)s')\n",
    "console_handler.setFormatter(formatter)\n",
    "file_handler.setFormatter(formatter)\n",
    "\n",
    "# Добавляем хэндлеры в логгер\n",
    "logger.addHandler(console_handler)\n",
    "logger.addHandler(file_handler)\n",
    "\n",
    "# Примеры логов\n",
    "logger.debug(\"Отладочное сообщение\")\n",
    "logger.info(\"Информационное сообщение\")\n",
    "logger.warning(\"Предупреждение\")\n",
    "logger.error(\"Ошибка\")\n",
    "logger.critical(\"Критическая ошибка\")"
   ]
  },
  {
   "cell_type": "markdown",
   "id": "10186263",
   "metadata": {},
   "source": [
    "## 4. Аналоги logging\n",
    "Существуют сторонние библиотеки для логирования, которые могут быть удобнее для больших проектов:\n",
    "- loguru — простая настройка, автоматически красиво форматирует логи\n",
    "- structlog — логирование в структурированном виде (например, JSON), удобно для микросервисов\n",
    "- coloredlogs — цветные логи для удобного визуального восприятия"
   ]
  },
  {
   "cell_type": "code",
   "execution_count": 10,
   "id": "a8868ef1",
   "metadata": {},
   "outputs": [
    {
     "name": "stderr",
     "output_type": "stream",
     "text": [
      "\u001b[32m2025-10-18 09:55:32.084\u001b[0m | \u001b[34m\u001b[1mDEBUG   \u001b[0m | \u001b[36m__main__\u001b[0m:\u001b[36m<module>\u001b[0m:\u001b[36m4\u001b[0m - \u001b[34m\u001b[1mОтладка через loguru\u001b[0m\n",
      "\u001b[32m2025-10-18 09:55:32.095\u001b[0m | \u001b[1mINFO    \u001b[0m | \u001b[36m__main__\u001b[0m:\u001b[36m<module>\u001b[0m:\u001b[36m5\u001b[0m - \u001b[1mИнформация через loguru\u001b[0m\n",
      "\u001b[32m2025-10-18 09:55:32.103\u001b[0m | \u001b[33m\u001b[1mWARNING \u001b[0m | \u001b[36m__main__\u001b[0m:\u001b[36m<module>\u001b[0m:\u001b[36m6\u001b[0m - \u001b[33m\u001b[1mПредупреждение через loguru\u001b[0m\n",
      "\u001b[32m2025-10-18 09:55:32.112\u001b[0m | \u001b[31m\u001b[1mERROR   \u001b[0m | \u001b[36m__main__\u001b[0m:\u001b[36m<module>\u001b[0m:\u001b[36m7\u001b[0m - \u001b[31m\u001b[1mОшибка через loguru\u001b[0m\n",
      "\u001b[32m2025-10-18 09:55:32.119\u001b[0m | \u001b[41m\u001b[1mCRITICAL\u001b[0m | \u001b[36m__main__\u001b[0m:\u001b[36m<module>\u001b[0m:\u001b[36m8\u001b[0m - \u001b[41m\u001b[1mКритическая ошибка через loguru\u001b[0m\n"
     ]
    }
   ],
   "source": [
    "from loguru import logger\n",
    "\n",
    "logger.add(\"loguru_example.log\", rotation=\"1 MB\")  # Новый файл после 1 МБ\n",
    "logger.debug(\"Отладка через loguru\")\n",
    "logger.info(\"Информация через loguru\")\n",
    "logger.warning(\"Предупреждение через loguru\")\n",
    "logger.error(\"Ошибка через loguru\")\n",
    "logger.critical(\"Критическая ошибка через loguru\")"
   ]
  },
  {
   "cell_type": "markdown",
   "id": "33336c31",
   "metadata": {},
   "source": [
    "## 5. Советы\n",
    "1. Не используйте print() для ошибок и важных событий.\n",
    "2. Разделяйте уровни логов: DEBUG для разработки, INFO для общего мониторинга.\n",
    "3. Используйте отдельные лог-файлы для разных частей приложения.\n",
    "4. Настраивайте ротацию файлов, чтобы логи не занимали много места.\n",
    "5. Для веб-приложений или микросервисов удобны структурированные логи (JSON)."
   ]
  },
  {
   "cell_type": "markdown",
   "id": "89e21a70",
   "metadata": {},
   "source": [
    "## 6. Заключение\n",
    "- Логирование — важный инструмент для разработки и поддержки приложений.  \n",
    "- Python предоставляет гибкий встроенный модуль logging и несколько удобных аналогов.  \n",
    "- Правильное использование логов повышает надежность и понятность вашего кода."
   ]
  },
  {
   "cell_type": "code",
   "execution_count": 14,
   "id": "ec80a97c",
   "metadata": {},
   "outputs": [
    {
     "name": "stdout",
     "output_type": "stream",
     "text": [
      "5.0\n",
      "None\n"
     ]
    }
   ],
   "source": [
    "# Пример интерактивного логирования\n",
    "import logging\n",
    "\n",
    "logging.basicConfig(level=logging.INFO)\n",
    "\n",
    "def divide(a, b):\n",
    "    logging.info(f\"Делим {a} на {b}\")\n",
    "    try:\n",
    "        result = a / b\n",
    "        logging.info(f\"Результат: {result}\")\n",
    "        return result\n",
    "    except ZeroDivisionError:\n",
    "        logging.error(\"Ошибка: деление на ноль!\")\n",
    "        return None\n",
    "\n",
    "print(divide(10, 2))\n",
    "print(divide(5, 0))"
   ]
  }
 ],
 "metadata": {
  "kernelspec": {
   "display_name": "pyenv (3.12.3)",
   "language": "python",
   "name": "python3"
  },
  "language_info": {
   "codemirror_mode": {
    "name": "ipython",
    "version": 3
   },
   "file_extension": ".py",
   "mimetype": "text/x-python",
   "name": "python",
   "nbconvert_exporter": "python",
   "pygments_lexer": "ipython3",
   "version": "3.12.3"
  }
 },
 "nbformat": 4,
 "nbformat_minor": 5
}
