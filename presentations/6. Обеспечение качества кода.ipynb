{
 "cells": [
  {
   "cell_type": "markdown",
   "id": "0ba80a08",
   "metadata": {},
   "source": [
    "# Обеспечение качества кода: pre-commit, GitHub Actions, CI как quality gate "
   ]
  },
  {
   "cell_type": "markdown",
   "id": "08a95df7",
   "metadata": {},
   "source": [
    "## Quality Gates: Как не дать плохому коду убить ваш проект\n",
    "    \n",
    "В реальном мире качество кода — не «опция». Это **инфраструктурная необходимость**. Сегодня мы рассмотрим три уровня автоматической защиты:\n",
    "\n",
    "1. **Pre-commit** \n",
    "    \n",
    "2. **CI (GitHub Actions)** \n",
    "\n",
    "3. **Branch Protection Rules**\n",
    "    \n",
    "Вместе они образуют **Quality Gate** — систему, которая физически не позволяет плохому коду попасть в `main`.\n",
    "   "
   ]
  },
  {
   "cell_type": "markdown",
   "id": "adeaec32",
   "metadata": {},
   "source": [
    "## 1. Pre-commit\n",
    "    \n",
    "Pre-commit — это фреймворк для запуска проверок **перед каждым коммитом**. Он работает локально, но использует те же правила, что и CI.\n",
    "\n",
    "### Установка:\n",
    "```bash\n",
    "    pip install pre-commit\n",
    "    pre-commit install \n",
    "```\n",
    "\n",
    "Теперь любой `git commit` запустит проверки.\n",
    "  "
   ]
  },
  {
   "cell_type": "code",
   "execution_count": null,
   "id": "1106c6e3",
   "metadata": {},
   "outputs": [],
   "source": [
    "# Пример: .pre-commit-config.yaml\n",
    "%%writefile .pre-commit-config.yaml\n",
    "\n",
    "minimum_pre_commit_version: 3.0.0\n",
    "\n",
    "repos:\n",
    "  # ───────────────────────────────────────\n",
    "  # 1. Стандартные хуки от pre-commit\n",
    "  # ───────────────────────────────────────\n",
    "  - repo: https://github.com/pre-commit/pre-commit-hooks\n",
    "    rev: v4.5.0\n",
    "    hooks:\n",
    "      - id: trailing-whitespace        # Удаляет пробелы в конце строк\n",
    "      - id: end-of-file-fixer          # Гарантирует пустую строку в конце файла\n",
    "      - id: check-yaml                 # Проверяет синтаксис .yaml\n",
    "      - id: check-json                 # Проверяет синтаксис .json\n",
    "      - id: debug-statements           # Ловит случайные print в продакшене\n",
    "\n",
    "  # ───────────────────────────────────────\n",
    "  # 2. Ruff — всё в одном: линтер + форматтер\n",
    "  # ───────────────────────────────────────\n",
    "  - repo: https://github.com/astral-sh/ruff-pre-commit\n",
    "    rev: v0.4.10  # ← ВСЕГДА проверяйте последнюю версию на GitHub!\n",
    "    hooks:\n",
    "      # Линтинг \n",
    "      - id: ruff\n",
    "        args: [--fix, --exit-non-zero-on-fix]  # Исправляем автоматически, но требуем чистоты\n",
    "      # Форматирование \n",
    "      - id: ruff-format\n",
    "\n",
    "  # ───────────────────────────────────────\n",
    "  # 3. Статическая типизация — ваша страховка от багов\n",
    "  # ───────────────────────────────────────\n",
    "  - repo: https://github.com/pre-commit/mirrors-mypy\n",
    "    rev: v1.8.0  # ← Соответствует версии mypy в requirements-dev.txt\n",
    "    hooks:\n",
    "      - id: mypy\n",
    "        # Указываем корневую директорию кода (замените на свою)\n",
    "        args: [--strict]\n"
   ]
  },
  {
   "cell_type": "markdown",
   "id": "efb9570d",
   "metadata": {},
   "source": [
    "Обратите внимание — мы не просто «запускаем линтеры». Мы **гарантируем единообразие**: форматирование, стиль, типы. Это экономит часы ревью."
   ]
  },
  {
   "cell_type": "markdown",
   "id": "286954b7",
   "metadata": {},
   "source": [
    "##  2. GitHub Actions: CI как Quality Gate\n",
    "\n",
    "Pre-commit — это хорошо, но недостаточно. Поэтому мы используем **CI** — Continuous Integration.\n",
    "    \n",
    "В GitHub Actions мы описываем pipeline, который запускается при каждом Pull Request.\"\n",
    "   "
   ]
  },
  {
   "cell_type": "code",
   "execution_count": null,
   "id": "e99a67f8",
   "metadata": {},
   "outputs": [],
   "source": [
    "# Пример: .github/workflows/ci.yml\n",
    "%%writefile .github/workflows/ci.yml\n",
    "name: CI\n",
    "    on:\n",
    "      pull_request:\n",
    "        branches: [ main ]\n",
    "\n",
    "    jobs:\n",
    "      quality:\n",
    "        runs-on: ubuntu-latest\n",
    "        steps:\n",
    "          - uses: actions/checkout@v4\n",
    "    \n",
    "          - name: Set up Python\n",
    "            uses: actions/setup-python@v5\n",
    "            with:\n",
    "              python-version: \"3.11\"\n",
    "\n",
    "          - name: Install dependencies\n",
    "            run: |\n",
    "              python -m pip install --upgrade pip\n",
    "              pip install ruff mypy pytest\n",
    "\n",
    "          - name: Lint with Ruff\n",
    "            run: ruff check .\n",
    "\n",
    "          - name: Check formatting with Ruff\n",
    "            run: ruff format --check .\n",
    "\n",
    "          - name: Type check with mypy\n",
    "            run: mypy .\n",
    "\n",
    "          - name: Run tests with pytest\n",
    "            run: pytest "
   ]
  },
  {
   "cell_type": "markdown",
   "id": "58c9155c",
   "metadata": {},
   "source": [
    "Этот pipeline — **ваш контракт с командой**. Если он зелёный — код можно ревьюить. Если красный — даже не тратьте время на ревью."
   ]
  },
  {
   "cell_type": "markdown",
   "id": "7fc10b2a",
   "metadata": {},
   "source": [
    "##  3. Branch Protection Rules \n",
    "\n",
    "Даже самый строгий CI бесполезен, если можно просто запушить в `main` напрямую.\n",
    "\n",
    "Поэтому в GitHub:\n",
    "\n",
    "1. Перейдите в **Settings → Branches**\n",
    "2. Создайте правило для `main`\n",
    "3. Включите:\n",
    "    -  Require pull request reviews before merging\n",
    "    -  Require status checks to pass before merging\n",
    "    -  Require branches to be up to date before merging\n",
    "    -  Include administrators\n",
    "\n"
   ]
  },
  {
   "cell_type": "markdown",
   "id": "432c155e",
   "metadata": {},
   "source": [
    "##  Почему это работает?\n",
    "\n",
    "Потому что мы **автоматизируем доверие**:\n",
    "\n",
    "- Pre-commit → доверие к себе\n",
    "- CI → доверие к команде\n",
    "- Branch protection → доверие к процессу\n",
    "\n",
    "    Это не «накладные расходы». Это **ускорение разработки** за счёт предотвращения багов до их появления.\n"
   ]
  },
  {
   "cell_type": "markdown",
   "id": "70e2ae29",
   "metadata": {},
   "source": [
    "## Полезные ссылки\n",
    "\n",
    "### CI:\n",
    "\n",
    "<https://habr.com/ru/articles/508216/>\n",
    "\n",
    "<https://habr.com/ru/articles/498436/>\n",
    "\n",
    "<https://docs.gitlab.com/ci/>\n",
    "\n",
    "<https://www.atlassian.com/continuous-delivery/continuous-integration>\n",
    "\n",
    "### Pre-commit\n",
    "\n",
    "<https://habr.com/ru/articles/498436/>\n",
    "\n",
    "<https://blog.deepschool.ru/data/pre-commit-hook/>\n",
    "\n",
    "<https://habr.com/ru/companies/nixys/articles/682612/>\n",
    "\n",
    "<https://stefaniemolin.com/articles/devx/pre-commit/setup-guide/>"
   ]
  }
 ],
 "metadata": {
  "kernelspec": {
   "display_name": "Python 3",
   "language": "python",
   "name": "python3"
  },
  "language_info": {
   "name": "python",
   "version": "3.13.2"
  }
 },
 "nbformat": 4,
 "nbformat_minor": 5
}
