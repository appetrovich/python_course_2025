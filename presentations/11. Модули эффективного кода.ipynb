{
 "cells": [
  {
   "cell_type": "markdown",
   "id": "75f5cf28",
   "metadata": {},
   "source": [
    "### Модули эффективного кода: functools, itertools, operator, dataclasses \n",
    "\n",
    "Модуль functools в Python — это стандартный модуль, содержащий утилиты для работы с функциями и функциями высшего порядка (т.е. функциями, которые принимают или возвращают другие функции).\n",
    "\n",
    "Он очень часто используется для оптимизации, мемоизации, частичного применения аргументов и декорирования.\n",
    "\n",
    "\n",
    "1. functools.lru_cache\n",
    "Позволяет кэшировать результаты функции, чтобы при повторных вызовах с теми же аргументами не пересчитывать заново.\n",
    "\n",
    "lru_cache — декоратор, который кэширует результаты функции по аргументам. Если кэш заполнен, выбрасывает (evict) наименее недавно использованный (LRU) элемент.\n",
    "\n",
    "cache — то же самое, что lru_cache(maxsize=None): неограниченный кэш (без вытеснения)."
   ]
  },
  {
   "cell_type": "code",
   "execution_count": 38,
   "id": "9918e256",
   "metadata": {},
   "outputs": [
    {
     "name": "stdout",
     "output_type": "stream",
     "text": [
      "354224848179261915075\n",
      "CacheInfo(hits=98, misses=101, maxsize=256, currsize=101)\n",
      "{'maxsize': 256, 'typed': False}\n",
      "354224848179261915075\n",
      "None\n",
      "CacheInfo(hits=0, misses=2, maxsize=128, currsize=2)\n",
      "{'maxsize': 128, 'typed': True}\n"
     ]
    }
   ],
   "source": [
    "from functools import lru_cache, cache\n",
    "\n",
    "# @cache\n",
    "@lru_cache(maxsize=2**8)\n",
    "def fib(n):\n",
    "    if n < 2:\n",
    "        return n\n",
    "    return fib(n-1) + fib(n-2)\n",
    "\n",
    "\n",
    "print(fib(100))\n",
    "print(fib.cache_info())\n",
    "print(fib.cache_parameters())\n",
    "print(fib.__wrapped__(100))\n",
    "print(fib.cache_clear())\n",
    "\n",
    "@lru_cache(typed=True)\n",
    "def f(x):\n",
    "    return x * 2\n",
    "\n",
    "f(1)\n",
    "f(1.0)\n",
    "print(f.cache_info())\n",
    "print(f.cache_parameters())"
   ]
  },
  {
   "cell_type": "markdown",
   "id": "e0c429f9",
   "metadata": {},
   "source": [
    "2. functools.partial\n",
    "\n",
    "Создаёт новую функцию с заранее подставленными аргументами."
   ]
  },
  {
   "cell_type": "code",
   "execution_count": null,
   "id": "a73206a1",
   "metadata": {},
   "outputs": [
    {
     "name": "stdout",
     "output_type": "stream",
     "text": [
      "36\n",
      "9\n",
      "25\n"
     ]
    }
   ],
   "source": [
    "from functools import partial\n",
    "\n",
    "def power(base, degree):\n",
    "    return base**degree\n",
    "\n",
    "square = partial(power, degree=2, base=6)\n",
    "cube = partial(power, 3)\n",
    "chetvorka = partial(power, base=5)\n",
    "\n",
    "print(square())\n",
    "print(cube(2))\n",
    "print(chetvorka(degree=2))"
   ]
  },
  {
   "cell_type": "markdown",
   "id": "d287a3b0",
   "metadata": {},
   "source": [
    "functools.reduce()\n",
    "\n",
    "Назначение:\n",
    "Постепенно «сворачивает» (reduce = «свернуть») последовательность в одно значение, применяя заданную функцию к элементам по очереди.\n",
    "\n",
    "Синтаксис:\n",
    "```python\n",
    "from functools import reduce\n",
    "reduce(function, iterable[, initializer])\n",
    "```\n",
    "\n",
    "function — функция, которая принимает два аргумента (например, lambda x, y: x + y).\n",
    "\n",
    "iterable — последовательность (список, кортеж и т.д.).\n",
    "\n",
    "initializer (необязательно) — начальное значение аккумулятора."
   ]
  },
  {
   "cell_type": "code",
   "execution_count": null,
   "id": "a9830c60",
   "metadata": {},
   "outputs": [
    {
     "name": "stdout",
     "output_type": "stream",
     "text": [
      "96\n"
     ]
    }
   ],
   "source": [
    "from functools import reduce\n",
    "\n",
    "numbers = [1, 2, 3, 4]\n",
    "result = reduce(lambda a, b: a * b, numbers, 4)\n",
    "print(result)  # 96 (4*1*2*3*4)"
   ]
  },
  {
   "cell_type": "markdown",
   "id": "8e4b416b",
   "metadata": {},
   "source": [
    "\n",
    "functools.wraps — это удобный декоратор в Python, который используется при написании собственных декораторов. Его основная задача — сохранять метаданные исходной функции (например, имя, документацию, аннотации), когда вы оборачиваете её другим декоратором. Без wraps обернутая функция теряет свои оригинальные свойства и вместо этого принимает имя и документацию обёртки."
   ]
  },
  {
   "cell_type": "code",
   "execution_count": 42,
   "id": "4860de01",
   "metadata": {},
   "outputs": [
    {
     "name": "stdout",
     "output_type": "stream",
     "text": [
      "greet\n",
      "Приветствие пользователя\n",
      "wrapper\n",
      "None\n"
     ]
    }
   ],
   "source": [
    "from functools import wraps\n",
    "\n",
    "def my_decorator(func):\n",
    "    @wraps(func)\n",
    "    def wrapper(*args, **kwargs):\n",
    "        print(\"Вызов функции\")\n",
    "        return func(*args, **kwargs)\n",
    "    return wrapper\n",
    "\n",
    "@my_decorator\n",
    "def greet(name):\n",
    "    \"\"\"Приветствие пользователя\"\"\"\n",
    "    return f\"Hello, {name}!\"\n",
    "\n",
    "print(greet.__name__)  # greet\n",
    "print(greet.__doc__)   # Приветствие пользователя\n",
    "\n",
    "\n",
    "def my_decorator2(func):\n",
    "    def wrapper(*args, **kwargs):\n",
    "        print(\"Вызов функции\")\n",
    "        return func(*args, **kwargs)\n",
    "    return wrapper\n",
    "\n",
    "@my_decorator2\n",
    "def greet2(name):\n",
    "    \"\"\"Приветствие пользователя\"\"\"\n",
    "    return f\"Hello, {name}!\"\n",
    "\n",
    "print(greet2.__name__)  # wrapper\n",
    "print(greet2.__doc__)   # None\n"
   ]
  },
  {
   "cell_type": "markdown",
   "id": "4adeb4c4",
   "metadata": {},
   "source": [
    "Проблема, которую решает cmp_to_key\n",
    "\n",
    "В Python 2 функции сортировки (sorted(), list.sort()) принимали параметр cmp — то есть функцию сравнения двух элементов:"
   ]
  },
  {
   "cell_type": "code",
   "execution_count": 46,
   "id": "5cb0e147",
   "metadata": {},
   "outputs": [
    {
     "name": "stdout",
     "output_type": "stream",
     "text": [
      "[-2, -1, 1, 1, 2, 2, 5, 9, 10, 11]\n"
     ]
    }
   ],
   "source": [
    "from functools import cmp_to_key\n",
    "\n",
    "def compare(a, b):\n",
    "    if a > b:\n",
    "        return 1\n",
    "    if a < b:\n",
    "        return -1\n",
    "    return 0\n",
    "\n",
    "numbers = [5, 2, 9, 1, 10, 11, -1, -2, 1, 2]\n",
    "sorted_numbers = sorted(numbers, key=cmp_to_key(compare))\n",
    "print(sorted_numbers)  # [1, 2, 5, 9]\n"
   ]
  },
  {
   "cell_type": "markdown",
   "id": "fb15248e",
   "metadata": {},
   "source": [
    "singledispatch реализует generic function на базе типа первого аргумента. Ты объявляешь одну «общую» функцию, а потом регистрируешь для неё реализации для конкретных типов. При вызове singledispatch выбирает самую подходящую реализацию по типу первого аргумента (с учётом наследования)."
   ]
  },
  {
   "cell_type": "code",
   "execution_count": 50,
   "id": "de43a765",
   "metadata": {},
   "outputs": [
    {
     "name": "stdout",
     "output_type": "stream",
     "text": [
      "Это число: 10\n",
      "Это список: [1, 2, 3]\n",
      "Объект: текст\n",
      "some animal sound\n",
      "woof\n",
      "meow\n",
      "woof\n"
     ]
    }
   ],
   "source": [
    "from functools import singledispatch\n",
    "\n",
    "@singledispatch\n",
    "def show(obj):\n",
    "    print(\"Объект:\", obj)\n",
    "\n",
    "@show.register(int)\n",
    "def _(obj):\n",
    "    print(\"Это число:\", obj)\n",
    "\n",
    "@show.register(list)\n",
    "def _(obj):\n",
    "    print(\"Это список:\", obj)\n",
    "\n",
    "show(10)        # Это число: 10\n",
    "show([1, 2, 3]) # Это список: [1, 2, 3]\n",
    "show(\"текст\")   # Объект: текст\n",
    "\n",
    "\n",
    "class Animal: pass\n",
    "class Dog(Animal): pass\n",
    "class Cat(Animal): pass\n",
    "class Bulldog(Dog): pass\n",
    "\n",
    "\n",
    "@singledispatch\n",
    "def sound(x):\n",
    "    print(\"generic animal\")\n",
    "\n",
    "@sound.register(Animal)\n",
    "def _(x):\n",
    "    print(\"some animal sound\")\n",
    "\n",
    "@sound.register(Dog)\n",
    "def _(x):\n",
    "    print(\"woof\")\n",
    "\n",
    "@sound.register(Cat)\n",
    "def _(x):\n",
    "    print(\"meow\")\n",
    "\n",
    "\n",
    "sound(Animal())   # some animal sound\n",
    "sound(Dog())      # woof\n",
    "sound(Cat())      # meow\n",
    "sound(Bulldog())  # woof потому что Dog - родительский класс Bulldog (ближайший)\n",
    "#никаких множественных наследований"
   ]
  },
  {
   "cell_type": "markdown",
   "id": "7b16e5b5",
   "metadata": {},
   "source": [
    "Модуль itertools в Python — это стандартная библиотека, которая содержит функции для работы с итераторами, позволяя создавать эффективные, компактные и ленивые (lazy) последовательности данных.\n",
    "\n",
    "Ключевые особенности:\n",
    "\n",
    "- Генерирует элементы по мере необходимости, что экономит память.\n",
    "\n",
    "- Содержит как бесконечные итераторы, так и функции для комбинирования, фильтрации и группировки элементов.\n",
    "\n",
    "- Позволяет писать короткий и выразительный код для перебора и обработки последовательностей.\n",
    "\n",
    "**Infinite iterators:**"
   ]
  },
  {
   "cell_type": "code",
   "execution_count": 63,
   "id": "b1b78374",
   "metadata": {},
   "outputs": [
    {
     "name": "stdout",
     "output_type": "stream",
     "text": [
      "10\n",
      "12\n",
      "14\n",
      "16\n",
      "18\n",
      "20\n",
      "22\n",
      "red\n",
      "green\n",
      "blue\n",
      "red\n",
      "green\n",
      "blue\n",
      "hello\n",
      "hello\n",
      "hello\n",
      "hello\n",
      "hello\n"
     ]
    }
   ],
   "source": [
    "from itertools import cycle, count, repeat\n",
    "\n",
    "\n",
    "for i in count(start=10, step=2):\n",
    "    print(i)\n",
    "    if i > 20:\n",
    "        break\n",
    "\n",
    "colors = ['red', 'green', 'blue']\n",
    "col = cycle(colors)\n",
    "for _ in range(6):\n",
    "    print(next(col))\n",
    "\n",
    "\n",
    "for i in repeat('hello', 5):\n",
    "    print(i)\n",
    "    "
   ]
  },
  {
   "cell_type": "markdown",
   "id": "dc82d5d6",
   "metadata": {},
   "source": [
    "Итераторы, работающие с входными данными"
   ]
  },
  {
   "cell_type": "code",
   "execution_count": 2,
   "id": "ba304144",
   "metadata": {},
   "outputs": [
    {
     "name": "stdout",
     "output_type": "stream",
     "text": [
      "1\n",
      "2\n",
      "3\n",
      "4\n",
      "5\n",
      "1\n",
      "3\n",
      "6\n",
      "10\n",
      "15\n"
     ]
    }
   ],
   "source": [
    "import itertools\n",
    "\n",
    "\n",
    "for i in itertools.accumulate([1, 2, 3, 4, 5], max):\n",
    "    print(i)\n",
    "\n",
    "for i in itertools.accumulate([1, 2, 3, 4, 5]):\n",
    "    print(i)\n",
    "# создаёт последовательность накопленных значений.\n",
    "# По умолчанию суммирует элементы. Можно использовать любую бинарную функцию (operator.mul, max и т.д.).\n",
    "\n"
   ]
  },
  {
   "cell_type": "code",
   "execution_count": null,
   "id": "40aa94dc",
   "metadata": {},
   "outputs": [
    {
     "name": "stdout",
     "output_type": "stream",
     "text": [
      "['A', 'B', 'C', 'F', 'D', 'D', 'S', 'F', 'G']\n",
      "['A', 'B', 'C', 'D', 'E', 'F']\n"
     ]
    }
   ],
   "source": [
    "a = list(itertools.chain(\"ABCFD\", \"DSFG\"))\n",
    "print(a) # объединяет несколько итерируемых объектов в один поток.\n",
    "\n",
    "data = ['ABC', 'DEF'] # как chain, но принимает один итерируемый объект,\n",
    "# содержащий другие итерируемые объекты.\n",
    "print(list(itertools.chain.from_iterable(data)))"
   ]
  },
  {
   "cell_type": "code",
   "execution_count": 74,
   "id": "23d0de8e",
   "metadata": {},
   "outputs": [
    {
     "name": "stdout",
     "output_type": "stream",
     "text": [
      "['A', 'C', 'E', 'F']\n"
     ]
    }
   ],
   "source": [
    "# фильтрует элементы из data, оставляя только те,\n",
    "# где соответствующий элемент selectors равен True (или 1).\n",
    "\n",
    "data = 'ABCDEF'\n",
    "selectors = [1, 0, 1, 0, 1, 1]\n",
    "print(list(itertools.compress(data, selectors)))"
   ]
  },
  {
   "cell_type": "code",
   "execution_count": null,
   "id": "b4da5c00",
   "metadata": {},
   "outputs": [
    {
     "name": "stdout",
     "output_type": "stream",
     "text": [
      "[6, 3, 8]\n",
      "[6, 8]\n"
     ]
    }
   ],
   "source": [
    "# пропускает элементы пока predicate возвращает True, потом выдаёт все оставшиеся элементы.\n",
    "data = [1, 4, 6, 3, 8]\n",
    "result = list(itertools.dropwhile(lambda x: x < 5, data))\n",
    "print(result)\n",
    "\n",
    "data = [1, 4, 6, 3, 8] # оставляет только элементы, где predicate ложь\n",
    "result = list(itertools.filterfalse(lambda x: x < 5, data))\n",
    "print(result)"
   ]
  },
  {
   "cell_type": "code",
   "execution_count": 2,
   "id": "a54ffbcd",
   "metadata": {},
   "outputs": [
    {
     "name": "stdout",
     "output_type": "stream",
     "text": [
      "1 [1, 1]\n",
      "2 [2, 2, 2]\n",
      "3 [3]\n",
      "1 [1]\n",
      "\n",
      "1 [1, 1, 1]\n",
      "2 [2, 2, 2]\n",
      "3 [3]\n"
     ]
    }
   ],
   "source": [
    "import itertools\n",
    "\n",
    "data = [1, 1, 2, 2, 2, 3, 1] # Группирует соседние элементы итератора,\n",
    "# у которых одинаковое значение (по какому-то критерию).\n",
    "for key, group in itertools.groupby(data):\n",
    "    print(key, list(group)) # groupby() группирует только подряд идущие одинаковые элементы!\n",
    "\n",
    "print()\n",
    "\n",
    "data = [1, 1, 2, 2, 2, 3, 1]\n",
    "for key, group in itertools.groupby(sorted(data)):\n",
    "    print(key, list(group))\n"
   ]
  },
  {
   "cell_type": "code",
   "execution_count": 9,
   "id": "435d534a",
   "metadata": {},
   "outputs": [
    {
     "name": "stdout",
     "output_type": "stream",
     "text": [
      "a ['ant', 'apple']\n",
      "b ['banana', 'bear']\n",
      "c ['cherry']\n",
      "\n",
      "3 ['abd']\n",
      "2 ['ed']\n",
      "1 ['w']\n",
      "4 ['efef']\n",
      "3 ['eff', 'qww']\n",
      "1 ['q']\n"
     ]
    }
   ],
   "source": [
    "words = [\"apple\", \"ant\", \"banana\", \"bear\", \"cherry\"]\n",
    "for key, group in itertools.groupby(sorted(words), key=lambda w: w[0]):\n",
    "    print(key, list(group))\n",
    "\n",
    "print()\n",
    "\n",
    "words = ['abd', 'ed', 'w', 'efef', 'eff', 'qww', 'q']\n",
    "for key, group in itertools.groupby(words, key=len):\n",
    "    print(key, list(group))"
   ]
  },
  {
   "cell_type": "code",
   "execution_count": 22,
   "id": "afb7ed9d",
   "metadata": {},
   "outputs": [
    {
     "name": "stdout",
     "output_type": "stream",
     "text": [
      "['C', 'E']\n",
      "12\n",
      "14\n",
      "16\n",
      "18\n"
     ]
    }
   ],
   "source": [
    "data = 'ABCDEFG'\n",
    "print(list(itertools.islice(data, 2, 6, 2))) # срез элементов, \n",
    "# как seq[start:stop:step], но для любого итератора.\n",
    "\n",
    "for x in itertools.islice(itertools.count(10, 2), 1, 5):\n",
    "    print(x)"
   ]
  },
  {
   "cell_type": "code",
   "execution_count": null,
   "id": "24dd0ca0",
   "metadata": {},
   "outputs": [
    {
     "name": "stdout",
     "output_type": "stream",
     "text": [
      "[(1, 2), (2, 3), (3, 4), (4, 5)]\n"
     ]
    }
   ],
   "source": [
    "nums = [1, 2, 3, 4, 5] # Создаёт пары соседних элементов из последовательности.\n",
    "print(list(itertools.pairwise(nums)))"
   ]
  },
  {
   "cell_type": "code",
   "execution_count": null,
   "id": "1841820c",
   "metadata": {},
   "outputs": [
    {
     "name": "stdout",
     "output_type": "stream",
     "text": [
      "[12, 6]\n"
     ]
    }
   ],
   "source": [
    "def sum_3(a, b, c):\n",
    "    return a + b + c\n",
    "\n",
    "posl = [(3, 4, 5), (1, 2, 3)]\n",
    "# itertools.starmap - это функция, которая применяет другую функцию к элементам итерируемого объекта, \n",
    "# \"распаковывая\" каждый элемент как аргументы.\n",
    "a = list(itertools.starmap(sum_3, posl))\n",
    "print(a)"
   ]
  },
  {
   "cell_type": "code",
   "execution_count": 3,
   "id": "61b56909",
   "metadata": {},
   "outputs": [
    {
     "name": "stdout",
     "output_type": "stream",
     "text": [
      "[5, 3, 1]\n"
     ]
    }
   ],
   "source": [
    "# takewhile - это функция, которая возвращает элементы из итерируемого объекта, пока условие истинно.\n",
    "#  Как только условие становится ложным, итерация останавливается.\n",
    "\n",
    "numbers2 = [5, 3, 1, -2, 4, 6]\n",
    "result2 = itertools.takewhile(lambda x: x > 0, numbers2)\n",
    "print(list(result2))"
   ]
  },
  {
   "cell_type": "code",
   "execution_count": null,
   "id": "1ad316bc",
   "metadata": {},
   "outputs": [
    {
     "name": "stdout",
     "output_type": "stream",
     "text": [
      "[10, 20, 30, 40]\n",
      "[10, 20, 30, 40]\n",
      "[10, 20, 30, 40]\n"
     ]
    }
   ],
   "source": [
    "numbers = [10, 20, 30, 40]\n",
    "\n",
    "# tee создает несколько независимых итераторов из одного исходного итерируемого объекта.\n",
    "iter1, iter2, iter3 = itertools.tee(numbers, 3)\n",
    "\n",
    "print(list(iter1))\n",
    "print(list(iter2))\n",
    "print(list(iter3))"
   ]
  },
  {
   "cell_type": "code",
   "execution_count": 5,
   "id": "91e8ce78",
   "metadata": {},
   "outputs": [
    {
     "name": "stdout",
     "output_type": "stream",
     "text": [
      "[('Alice', 25, 'NYC'), ('Bob', 30, 'LA'), ('Unknown', 35, 'Chicago'), ('Unknown', 'Unknown', 'Miami')]\n"
     ]
    }
   ],
   "source": [
    "# zip_longest объединяет элементы из нескольких итерируемых объектов, \n",
    "# заполняя недостающие значения указанным заполнителем.\n",
    "\n",
    "names = [\"Alice\", \"Bob\"]\n",
    "ages = [25, 30, 35]\n",
    "cities = [\"NYC\", \"LA\", \"Chicago\", \"Miami\"]\n",
    "\n",
    "result = itertools.zip_longest(names, ages, cities, fillvalue=\"Unknown\")\n",
    "print(list(result))"
   ]
  },
  {
   "cell_type": "markdown",
   "id": "1a51690c",
   "metadata": {},
   "source": [
    "Комбинаторные итераторы"
   ]
  },
  {
   "cell_type": "code",
   "execution_count": 7,
   "id": "3c5b5a74",
   "metadata": {},
   "outputs": [
    {
     "name": "stdout",
     "output_type": "stream",
     "text": [
      "[('A', 1, 3), ('A', 1, 4), ('A', 2, 3), ('A', 2, 4), ('B', 1, 3), ('B', 1, 4), ('B', 2, 3), ('B', 2, 4)]\n"
     ]
    }
   ],
   "source": [
    "# Декартово произведение двух или более множеств\n",
    "list1 = ['A', 'B']\n",
    "list2 = [1, 2]\n",
    "list3 = [3, 4]\n",
    "result = itertools.product(list1, list2, list3)\n",
    "print(list(result))"
   ]
  },
  {
   "cell_type": "code",
   "execution_count": 8,
   "id": "b4c39ad8",
   "metadata": {},
   "outputs": [
    {
     "name": "stdout",
     "output_type": "stream",
     "text": [
      "[('A', 'B'), ('A', 'C'), ('B', 'A'), ('B', 'C'), ('C', 'A'), ('C', 'B')]\n"
     ]
    }
   ],
   "source": [
    "# Генерирует все возможные перестановки элементов заданной длины.\n",
    "items = ['A', 'B', 'C']\n",
    "result = itertools.permutations(items, 2)\n",
    "print(list(result))"
   ]
  },
  {
   "cell_type": "code",
   "execution_count": null,
   "id": "8735acf5",
   "metadata": {},
   "outputs": [
    {
     "name": "stdout",
     "output_type": "stream",
     "text": [
      "[('A', 'B'), ('A', 'C'), ('A', 'D'), ('B', 'C'), ('B', 'D'), ('C', 'D')]\n"
     ]
    }
   ],
   "source": [
    "# Генерирует все возможные комбинации элементов заданной длины (без повторений).\n",
    "items = ['A', 'B', 'C', 'D']\n",
    "result = itertools.combinations(items, 2)\n",
    "print(list(result))"
   ]
  },
  {
   "cell_type": "code",
   "execution_count": 10,
   "id": "53f0f3b5",
   "metadata": {},
   "outputs": [
    {
     "name": "stdout",
     "output_type": "stream",
     "text": [
      "[('A', 'A'), ('A', 'B'), ('A', 'C'), ('B', 'B'), ('B', 'C'), ('C', 'C')]\n"
     ]
    }
   ],
   "source": [
    "# Генерирует комбинации, где элементы могут повторяться.\n",
    "items = ['A', 'B', 'C']\n",
    "result = itertools.combinations_with_replacement(items, 2)\n",
    "print(list(result))"
   ]
  },
  {
   "cell_type": "markdown",
   "id": "0650d973",
   "metadata": {},
   "source": [
    "Библиотека operator позволяет использовать операции Python (+, -, *, >, < и т.д.) в виде функций, что особенно полезно в функциональном программировании."
   ]
  },
  {
   "cell_type": "code",
   "execution_count": 11,
   "id": "ad7f5166",
   "metadata": {},
   "outputs": [],
   "source": [
    "import operator"
   ]
  },
  {
   "cell_type": "code",
   "execution_count": 12,
   "id": "ba253ffe",
   "metadata": {},
   "outputs": [
    {
     "name": "stdout",
     "output_type": "stream",
     "text": [
      "8\n",
      "6\n",
      "12\n",
      "3.3333333333333335\n",
      "3\n",
      "1\n",
      "8\n",
      "-5\n",
      "-3\n",
      "10\n"
     ]
    }
   ],
   "source": [
    "# Базовые арифметические операции\n",
    "print(operator.add(5, 3))       # 8 - сложение\n",
    "print(operator.sub(10, 4))      # 6 - вычитание  \n",
    "print(operator.mul(3, 4))       # 12 - умножение\n",
    "print(operator.truediv(10, 3))  # 3.333... - деление\n",
    "print(operator.floordiv(10, 3)) # 3 - целочисленное деление\n",
    "print(operator.mod(10, 3))      # 1 - остаток от деления\n",
    "print(operator.pow(2, 3))       # 8 - возведение в степень\n",
    "\n",
    "# Унарные операции\n",
    "print(operator.neg(5))          # -5 - смена знака\n",
    "print(operator.pos(-3))         # -3 - унарный плюс\n",
    "print(operator.abs(-10))        # 10 - модуль"
   ]
  },
  {
   "cell_type": "code",
   "execution_count": 13,
   "id": "2eefa29b",
   "metadata": {},
   "outputs": [
    {
     "name": "stdout",
     "output_type": "stream",
     "text": [
      "True\n",
      "True\n",
      "True\n",
      "True\n",
      "True\n",
      "True\n",
      "False\n",
      "True\n",
      "True\n"
     ]
    }
   ],
   "source": [
    "# Все операторы сравнения\n",
    "print(operator.eq(5, 5))        # True - равно ==\n",
    "print(operator.ne(5, 3))        # True - не равно !=\n",
    "print(operator.lt(3, 5))        # True - меньше <\n",
    "print(operator.le(3, 3))        # True - меньше или равно <=\n",
    "print(operator.gt(5, 3))        # True - больше >\n",
    "print(operator.ge(5, 5))        # True - больше или равно >=\n",
    "\n",
    "# Проверка идентичности объектов\n",
    "a = [1, 2]\n",
    "b = [1, 2]\n",
    "c = a\n",
    "print(operator.is_(a, b))       # False - тот же объект?\n",
    "print(operator.is_(a, c))       # True\n",
    "print(operator.is_not(a, b))    # True - не тот же объект?"
   ]
  },
  {
   "cell_type": "code",
   "execution_count": null,
   "id": "23d4d5c8",
   "metadata": {},
   "outputs": [
    {
     "name": "stdout",
     "output_type": "stream",
     "text": [
      "False\n",
      "False\n",
      "True\n",
      "False\n",
      "True\n"
     ]
    }
   ],
   "source": [
    "# Логические операторы\n",
    "print(operator.not_(True))      # False - логическое НЕ\n",
    "print(operator.and_(True, False)) # False - логическое И\n",
    "print(operator.or_(True, False))  # True - логическое ИЛИ\n",
    "print(operator.xor(True, True))   # False - исключающее ИЛИ\n",
    "\n",
    "# Операторы с образцом\n",
    "data = {\"name\": \"John\", \"age\": 30}\n",
    "print(operator.contains(data, \"name\"))  # True - проверка вхождения"
   ]
  },
  {
   "cell_type": "code",
   "execution_count": null,
   "id": "431cf42b",
   "metadata": {},
   "outputs": [
    {
     "name": "stdout",
     "output_type": "stream",
     "text": [
      "3\n",
      "[1, 2, 99, 4, 5]\n",
      "[1, 2, 4, 5]\n",
      "[1, 2, 3, 4]\n",
      "True\n"
     ]
    }
   ],
   "source": [
    "my_list = [1, 2, 3, 4, 5]\n",
    "\n",
    "# Получение элемента по индексу\n",
    "print(operator.getitem(my_list, 2))     # 3 - эквивалент my_list[2]\n",
    "\n",
    "# Установка элемента по индексу\n",
    "operator.setitem(my_list, 2, 99)\n",
    "print(my_list)                         # [1, 2, 99, 4, 5]\n",
    "\n",
    "# Удаление элемента по индексу\n",
    "operator.delitem(my_list, 2)\n",
    "print(my_list)                     # [1, 2, 4, 5]\n",
    "\n",
    "# Конкатенация и повторение\n",
    "print(operator.concat([1, 2], [3, 4]))  # [1, 2, 3, 4]  a + b"
   ]
  },
  {
   "cell_type": "markdown",
   "id": "47a3297b",
   "metadata": {},
   "source": [
    "Dataclasses (классы данных) — это декоратор и модуль в Python, которые автоматически генерируют специальные методы для классов, что значительно сокращает шаблонный код."
   ]
  },
  {
   "cell_type": "code",
   "execution_count": 19,
   "id": "375a42f6",
   "metadata": {},
   "outputs": [
    {
     "name": "stdout",
     "output_type": "stream",
     "text": [
      "Person(name='name', age=22, email='c@gmail')\n"
     ]
    }
   ],
   "source": [
    "class Person:\n",
    "    def __init__(self, name, age, email):\n",
    "        self.name = name\n",
    "        self.age = age\n",
    "        self.email = email\n",
    "    \n",
    "    def __repr__(self):\n",
    "        return f\"Person(name='{self.name}', age={self.age}, email='{self.email}')\"\n",
    "    \n",
    "    def __eq__(self, other):\n",
    "        if not isinstance(other, Person):\n",
    "            return False\n",
    "        return (self.name, self.age, self.email) == (other.name, other.age, other.email)\n",
    "\n",
    "print(Person('name', 22, 'c@gmail'))"
   ]
  },
  {
   "cell_type": "code",
   "execution_count": 23,
   "id": "de4b9110",
   "metadata": {},
   "outputs": [
    {
     "name": "stdout",
     "output_type": "stream",
     "text": [
      "Person(name='name', age=22, email='None')\n"
     ]
    }
   ],
   "source": [
    "import dataclasses\n",
    "\n",
    "@dataclasses.dataclass\n",
    "class Person:\n",
    "    name: str\n",
    "    age: int\n",
    "    email: str = 'None'\n",
    "\n",
    "print(Person('name', 22))"
   ]
  },
  {
   "cell_type": "markdown",
   "id": "a1120942",
   "metadata": {},
   "source": [
    "Параметры декоратора @dataclass\n",
    "init=True - генерировать __init__ (по умолчанию True)\n",
    "\n",
    "repr=True - генерировать __repr__ (по умолчанию True)\n",
    "\n",
    "eq=True - генерировать __eq__ (по умолчанию True)\n",
    "\n",
    "order=False - генерировать методы сравнения (<, >, <=, >=)\n",
    "\n",
    "frozen=False - сделать экземпляры неизменяемыми\n",
    "\n",
    "slots=False - использовать __slots__ для оптимизации памяти"
   ]
  },
  {
   "cell_type": "code",
   "execution_count": null,
   "id": "e5abd2c2",
   "metadata": {},
   "outputs": [
    {
     "ename": "FrozenInstanceError",
     "evalue": "cannot assign to field 'name'",
     "output_type": "error",
     "traceback": [
      "\u001b[0;31m---------------------------------------------------------------------------\u001b[0m",
      "\u001b[0;31mFrozenInstanceError\u001b[0m                       Traceback (most recent call last)",
      "Cell \u001b[0;32mIn[31], line 8\u001b[0m\n\u001b[1;32m      5\u001b[0m     email: \u001b[38;5;28mstr\u001b[39m \u001b[38;5;241m=\u001b[39m \u001b[38;5;124m'\u001b[39m\u001b[38;5;124mNone\u001b[39m\u001b[38;5;124m'\u001b[39m\n\u001b[1;32m      7\u001b[0m pers \u001b[38;5;241m=\u001b[39m Person(\u001b[38;5;124m'\u001b[39m\u001b[38;5;124mBob\u001b[39m\u001b[38;5;124m'\u001b[39m, \u001b[38;5;241m22\u001b[39m, \u001b[38;5;124m'\u001b[39m\u001b[38;5;124msmf@mail\u001b[39m\u001b[38;5;124m'\u001b[39m)\n\u001b[0;32m----> 8\u001b[0m \u001b[43mpers\u001b[49m\u001b[38;5;241;43m.\u001b[39;49m\u001b[43mname\u001b[49m \u001b[38;5;241m=\u001b[39m \u001b[38;5;124m\"\u001b[39m\u001b[38;5;124mNonBob\u001b[39m\u001b[38;5;124m\"\u001b[39m\n\u001b[1;32m      9\u001b[0m \u001b[38;5;28mprint\u001b[39m(pers)\n",
      "File \u001b[0;32m<string>:4\u001b[0m, in \u001b[0;36m__setattr__\u001b[0;34m(self, name, value)\u001b[0m\n",
      "\u001b[0;31mFrozenInstanceError\u001b[0m: cannot assign to field 'name'"
     ]
    }
   ],
   "source": [
    "@dataclasses.dataclass(slots=True, order=True, frozen=True)\n",
    "class Person:\n",
    "    name: str\n",
    "    age: int\n",
    "    email: str = 'None'\n",
    "\n",
    "pers = Person('Bob', 22, 'smf@mail')\n",
    "pers.name = \"NonBob\"\n"
   ]
  },
  {
   "cell_type": "code",
   "execution_count": 36,
   "id": "f92fa088",
   "metadata": {},
   "outputs": [
    {
     "name": "stdout",
     "output_type": "stream",
     "text": [
      "Inventory(items=['apple', 'banana'], max_capacity=100)\n",
      "('Bob', 22, 'smf@mail')\n",
      "{'name': 'Bob', 'age': 22, 'email': 'smf@mail'}\n"
     ]
    }
   ],
   "source": [
    "from typing import List\n",
    "\n",
    "\n",
    "@dataclasses.dataclass\n",
    "class Inventory:\n",
    "    items: List[str] = dataclasses.field(default_factory=list)\n",
    "    max_capacity: int = dataclasses.field(default=100, compare=False)  # не участвует в сравнении\n",
    "    created_at: str = dataclasses.field(init=False, repr=False)  # не включать в __init__\n",
    "    \n",
    "\n",
    "inv = Inventory([\"apple\", \"banana\"])\n",
    "\n",
    "print(inv)\n",
    "\n",
    "print(dataclasses.astuple(pers))\n",
    "print(dataclasses.asdict(pers))"
   ]
  }
 ],
 "metadata": {
  "kernelspec": {
   "display_name": ".venv",
   "language": "python",
   "name": "python3"
  },
  "language_info": {
   "codemirror_mode": {
    "name": "ipython",
    "version": 3
   },
   "file_extension": ".py",
   "mimetype": "text/x-python",
   "name": "python",
   "nbconvert_exporter": "python",
   "pygments_lexer": "ipython3",
   "version": "3.10.12"
  }
 },
 "nbformat": 4,
 "nbformat_minor": 5
}
