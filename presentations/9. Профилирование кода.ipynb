{
 "cells": [
  {
   "cell_type": "markdown",
   "id": "45c7889e",
   "metadata": {},
   "source": [
    "\n",
    "# Профилирование кода: `timeit`, `cProfile`, `line_profiler`\n"
   ]
  },
  {
   "cell_type": "markdown",
   "id": "c9d4f60e",
   "metadata": {},
   "source": [
    "\n",
    "## Что такое профилирование\n",
    "\n",
    "**Профилирование** — это процесс анализа производительности программы.  \n",
    "Оно помогает определить, какие части кода требуют оптимизации.\n",
    "\n",
    "**Основные задачи профилирования:**\n",
    "- Измерение времени выполнения кода.\n",
    "- Определение узких мест (bottlenecks).\n",
    "- Сравнение эффективности разных реализаций алгоритмов.\n"
   ]
  },
  {
   "cell_type": "markdown",
   "id": "c4163c55",
   "metadata": {},
   "source": [
    "\n",
    "## 1. Модуль `timeit`\n",
    "\n",
    "`timeit` — стандартный инструмент Python для измерения времени выполнения небольших фрагментов кода.\n",
    "\n",
    "Он автоматически выполняет код несколько раз и усредняет результаты, чтобы исключить случайные колебания.\n",
    "\n",
    "\n"
   ]
  },
  {
   "cell_type": "code",
   "execution_count": 2,
   "id": "727045df-2a1a-481a-b72b-7b93379e44a5",
   "metadata": {},
   "outputs": [
    {
     "name": "stdout",
     "output_type": "stream",
     "text": [
      "List comprehension: 0.13731 сек\n",
      "list(range()): 0.06406 сек\n"
     ]
    }
   ],
   "source": [
    "\n",
    "import timeit\n",
    "\n",
    "setup_code = \"pass\"\n",
    "code_1 = \"[i for i in range(1000)]\"\n",
    "code_2 = \"list(range(1000))\"\n",
    "\n",
    "time1 = timeit.timeit(stmt=code_1, setup=setup_code, number=10000)\n",
    "time2 = timeit.timeit(stmt=code_2, setup=setup_code, number=10000)\n",
    "\n",
    "print(f\"List comprehension: {time1:.5f} сек\")\n",
    "print(f\"list(range()): {time2:.5f} сек\")\n"
   ]
  },
  {
   "cell_type": "markdown",
   "id": "283e8349-775c-41db-924d-9dd97ba98cdd",
   "metadata": {},
   "source": [
    "\n",
    "## 1. Параметр setup\n",
    "\n",
    "    Нужен для частей кода, которые компилируются единоразово:\n",
    "\n",
    "    1. Импорта модулей и функций\n",
    "\n",
    "    2. Создания тестовых данных\n",
    "\n",
    "    3. Инициализации переменных\n",
    "\n",
    "\n"
   ]
  },
  {
   "cell_type": "code",
   "execution_count": 5,
   "id": "629435d2-5b67-4ccf-9bae-3f93e73d8264",
   "metadata": {},
   "outputs": [
    {
     "name": "stdout",
     "output_type": "stream",
     "text": [
      "Без setup: 0.002253 сек\n",
      "С setup:   0.000720 сек\n",
      "Разница:   0.001534\n"
     ]
    }
   ],
   "source": [
    "\n",
    "import timeit\n",
    "\n",
    "\n",
    "time_bad = timeit.timeit(\n",
    "    stmt='import math; math.sqrt(144)',\n",
    "    number=10000\n",
    ")\n",
    "\n",
    "\n",
    "time_good = timeit.timeit(\n",
    "    setup='import math',\n",
    "    stmt='math.sqrt(144)',\n",
    "    number=10000\n",
    ")\n",
    "\n",
    "print(f\"Без setup: {time_bad:.6f} сек\")\n",
    "print(f\"С setup:   {time_good:.6f} сек\")\n",
    "print(f\"Разница:   {time_bad - time_good:.6f}\")\n"
   ]
  },
  {
   "cell_type": "markdown",
   "id": "988c6709",
   "metadata": {},
   "source": [
    "\n",
    "### Основные функции и классы `timeit`\n",
    "\n",
    "| Команда | Назначение |\n",
    "|----------|------------|\n",
    "| `timeit.timeit(stmt, setup, number)` | Выполняет одно измерение времени выполнения кода. |\n",
    "| `timeit.repeat(stmt, setup, repeat, number)` | Проводит несколько серий измерений, возвращает список времен. |\n",
    "| `timeit.Timer` | Класс для продвинутого управления измерениями и многократного запуска. |\n",
    "| `timeit.default_timer()` | Возвращает наиболее точный таймер для данной платформы. (учитывает версию питона, операционной системы) |\n",
    "| `Timer.autorange()` | Автоматически подбирает количество итераций для стабильного результата. |\n"
   ]
  },
  {
   "cell_type": "code",
   "execution_count": 4,
   "id": "958b3e1f-69bd-423c-b4ca-d538226ec1b0",
   "metadata": {},
   "outputs": [
    {
     "name": "stdout",
     "output_type": "stream",
     "text": [
      "Результаты повторов: [0.01891169999998965, 0.02390739999998459, 0.01810879999993631, 0.01692460000003848, 0.0177513999999519]\n",
      "Автоматический подбор количества итераций: (500000, 0.44537350000007336)\n",
      "Время (default_timer): 0.019340 сек\n"
     ]
    }
   ],
   "source": [
    "import timeit\n",
    "\n",
    "times = timeit.repeat(\"sum(range(1000))\", repeat=5, number=1000)\n",
    "print(\"Результаты повторов:\", times)\n",
    "\n",
    "timer = timeit.Timer(\"sum(range(100))\") # дальше с ним возможно использовать так и timeit repeat и другие функции\n",
    "print(\"Автоматический подбор количества итераций:\", timer.autorange())\n",
    "\n",
    "start = timeit.default_timer()\n",
    "sum(range(1000000))\n",
    "end = timeit.default_timer()\n",
    "print(f\"Время (default_timer): {end - start:.6f} сек\")\n"
   ]
  },
  {
   "cell_type": "markdown",
   "id": "42a4c4c0",
   "metadata": {},
   "source": [
    "\n",
    "### Недостатки `timeit`\n",
    "- Только общее время выполнения.\n",
    "- Не показывает, где именно код замедляется. Что делает неудобным для больших програм\n"
   ]
  },
  {
   "cell_type": "markdown",
   "id": "4727ad73",
   "metadata": {},
   "source": [
    "\n",
    "## 2. Модуль `cProfile`\n",
    "\n",
    "`cProfile` — встроенный профайлер Python для анализа времени выполнения функций и количества их вызовов.\n"
   ]
  },
  {
   "cell_type": "markdown",
   "id": "ef7ed895",
   "metadata": {},
   "source": [
    "\n",
    "### Основные функции и классы `cProfile`\n",
    "\n",
    "| Команда | Назначение |\n",
    "|----------|------------|\n",
    "| `cProfile.run(cmd)` | Быстрое профилирование одной команды (строки кода). |\n",
    "| `cProfile.runctx(cmd, globals, locals)` | Профилирование с передачей контекста (переменных окружения). |\n",
    "| `cProfile.Profile()` | Класс для ручного управления профилированием. |\n",
    "| `enable()` / `disable()` | Включение/выключение профилирования вручную. |\n"
   ]
  },
  {
   "cell_type": "code",
   "execution_count": 5,
   "id": "4dee3f05-cb25-49b6-a1fb-fa5c9f1ad8bf",
   "metadata": {},
   "outputs": [
    {
     "name": "stdout",
     "output_type": "stream",
     "text": [
      "         4 function calls in 0.008 seconds\n",
      "\n",
      "   Ordered by: standard name\n",
      "\n",
      "   ncalls  tottime  percall  cumtime  percall filename:lineno(function)\n",
      "        1    0.008    0.008    0.008    0.008 1077826651.py:3(compute)\n",
      "        1    0.000    0.000    0.008    0.008 <string>:1(<module>)\n",
      "        1    0.000    0.000    0.008    0.008 {built-in method builtins.exec}\n",
      "        1    0.000    0.000    0.000    0.000 {method 'disable' of '_lsprof.Profiler' objects}\n",
      "\n",
      "\n",
      "         89 function calls in 0.001 seconds\n",
      "\n",
      "   Ordered by: standard name\n",
      "\n",
      "   ncalls  tottime  percall  cumtime  percall filename:lineno(function)\n",
      "        1    0.001    0.001    0.001    0.001 1077826651.py:3(compute)\n",
      "        1    0.000    0.000    0.001    0.001 <string>:1(<module>)\n",
      "        6    0.000    0.000    0.000    0.000 enum.py:1156(__new__)\n",
      "       18    0.000    0.000    0.000    0.000 enum.py:1589(_get_value)\n",
      "        6    0.000    0.000    0.000    0.000 enum.py:1596(__or__)\n",
      "        6    0.000    0.000    0.000    0.000 enum.py:695(__call__)\n",
      "        1    0.000    0.000    0.000    0.000 iostream.py:213(_is_master_process)\n",
      "        1    0.000    0.000    0.000    0.000 iostream.py:216(_check_mp_mode)\n",
      "        1    0.000    0.000    0.000    0.000 iostream.py:255(closed)\n",
      "        1    0.000    0.000    0.001    0.001 iostream.py:276(<lambda>)\n",
      "        6    0.000    0.000    0.000    0.000 socket.py:623(send)\n",
      "        1    0.000    0.000    0.001    0.001 {built-in method builtins.exec}\n",
      "       37    0.000    0.000    0.000    0.000 {built-in method builtins.isinstance}\n",
      "        1    0.000    0.000    0.000    0.000 {built-in method nt.getpid}\n",
      "        1    0.000    0.000    0.000    0.000 {method 'disable' of '_lsprof.Profiler' objects}\n",
      "        1    0.000    0.000    0.000    0.000 {method 'popleft' of 'collections.deque' objects}\n",
      "\n",
      "\n",
      "         47 function calls in 0.008 seconds\n",
      "\n",
      "   Ordered by: internal time\n",
      "   List reduced from 21 to 5 due to restriction <5>\n",
      "\n",
      "   ncalls  tottime  percall  cumtime  percall filename:lineno(function)\n",
      "        1    0.008    0.008    0.008    0.008 C:\\Users\\Lenovo\\AppData\\Local\\Temp\\ipykernel_18780\\1077826651.py:3(compute)\n",
      "        1    0.000    0.000    0.000    0.000 {method 'disable' of '_lsprof.Profiler' objects}\n",
      "        2    0.000    0.000    0.000    0.000 {built-in method builtins.compile}\n",
      "        2    0.000    0.000    0.000    0.000 C:\\Users\\Lenovo\\AppData\\Local\\Programs\\Python\\Python313\\Lib\\codeop.py:113(__call__)\n",
      "        2    0.000    0.000    0.008    0.004 C:\\Users\\Lenovo\\AppData\\Local\\Programs\\Python\\Python313\\Lib\\site-packages\\IPython\\core\\interactiveshell.py:3663(run_code)\n",
      "\n",
      "\n"
     ]
    },
    {
     "data": {
      "text/plain": [
       "<pstats.Stats at 0x211302956d0>"
      ]
     },
     "execution_count": 5,
     "metadata": {},
     "output_type": "execute_result"
    }
   ],
   "source": [
    "\n",
    "import cProfile, pstats\n",
    "\n",
    "def compute():\n",
    "    s = 0\n",
    "    for i in range(500):\n",
    "        for j in range(500):\n",
    "            s += i * j\n",
    "    return s\n",
    "\n",
    "#метод 1\n",
    "cProfile.run('compute()')\n",
    "\n",
    "#метод 2\n",
    "context = {\"compute\": compute}\n",
    "cProfile.runctx('compute()', globals(), context)\n",
    "\n",
    "#метод 3\n",
    "prof = cProfile.Profile() # Создание профилировщика\n",
    "prof.enable() # включаем ручной контроль\n",
    "compute() \n",
    "prof.disable() # выключаем ручной контроль\n",
    "\n",
    "stats = pstats.Stats(prof)\n",
    "stats.sort_stats(pstats.SortKey.TIME).print_stats(5)\n"
   ]
  },
  {
   "cell_type": "markdown",
   "id": "c6c040e6",
   "metadata": {},
   "source": [
    "\n",
    "### Недостатки `cProfile`\n",
    "- Показатели усреднены по функциям, а не по строкам.\n",
    "- Неудобно искать конкретные медленные строки.\n"
   ]
  },
  {
   "cell_type": "markdown",
   "id": "09c2da1d",
   "metadata": {},
   "source": [
    "\n",
    "## 3. Модуль `line_profiler`\n",
    "\n",
    "`line_profiler` — инструмент для **построчного анализа** времени выполнения функций.\n",
    "\n",
    "Устанавливается отдельно:\n",
    "```\n",
    "pip install line_profiler\n",
    "```\n"
   ]
  },
  {
   "cell_type": "markdown",
   "id": "093485c8",
   "metadata": {},
   "source": [
    "\n",
    "### Основные элементы `line_profiler`\n",
    "\n",
    "| Команда | Назначение |\n",
    "|----------|------------|\n",
    "| `@profile` | Декоратор для профилирования через утилиту `kernprof`. |\n",
    "| `LineProfiler()` | Основной класс для ручного профилирования. |\n",
    "| `add_function(func)` | Добавление функций для анализа. |\n",
    "| `enable_by_count()` / `disable_by_count()` | Управление активностью профайлера. |\n",
    "| `print_stats()` | Вывод статистики в консоль. |\n",
    "| `get_stats()` | Получение «сырых» данных о времени выполнения. |\n"
   ]
  },
  {
   "cell_type": "code",
   "execution_count": 4,
   "id": "bc914009",
   "metadata": {},
   "outputs": [
    {
     "name": "stdout",
     "output_type": "stream",
     "text": [
      "Timer unit: 1e-07 s\n",
      "\n",
      "Total time: 0.560883 s\n",
      "File: C:\\Users\\Lenovo\\AppData\\Local\\Temp\\ipykernel_10952\\1192547859.py\n",
      "Function: slow_function at line 3\n",
      "\n",
      "Line #      Hits         Time  Per Hit   % Time  Line Contents\n",
      "==============================================================\n",
      "     3                                           def slow_function():\n",
      "     4         1          8.0      8.0      0.0      total = 0\n",
      "     5      1001       2825.0      2.8      0.1      for i in range(1000):\n",
      "     6   1001000    2781075.0      2.8     49.6          for j in range(1000):\n",
      "     7   1000000    2824905.0      2.8     50.4              total += (i * j) % 7\n",
      "     8         1         18.0     18.0      0.0      return total\n",
      "\n"
     ]
    }
   ],
   "source": [
    "\n",
    "from line_profiler import LineProfiler\n",
    "\n",
    "def slow_function():\n",
    "    total = 0\n",
    "    for i in range(1000):\n",
    "        for j in range(1000):\n",
    "            total += (i * j) % 7\n",
    "    return total\n",
    "\n",
    "prof = LineProfiler()\n",
    "prof.add_function(slow_function)\n",
    "prof.enable_by_count()\n",
    "slow_function()\n",
    "prof.disable_by_count()\n",
    "prof.print_stats()\n"
   ]
  },
  {
   "cell_type": "markdown",
   "id": "62239344",
   "metadata": {
    "jp-MarkdownHeadingCollapsed": true
   },
   "source": [
    "\n",
    "### Использование декоратора `@profile`\n",
    "\n",
    "```python\n",
    "@profile\n",
    "def slow_function():\n",
    "    total = 0\n",
    "    for i in range(1000):\n",
    "        for j in range(1000):\n",
    "            total += (i * j) % 7\n",
    "    return total\n",
    "```\n",
    "\n",
    "Запуск через консоль:\n",
    "```\n",
    "kernprof -l -v script.py\n",
    "```\n"
   ]
  },
  {
   "cell_type": "markdown",
   "id": "8e089c8c",
   "metadata": {},
   "source": [
    "\n",
    "### Недостатки `line_profiler`\n",
    "- Не входит в стандартную библиотеку Python.\n",
    "- Требует отдельного запуска или настройки расширений.\n",
    "- Медленнее других методов из-за построчного анализа.\n"
   ]
  },
  {
   "cell_type": "markdown",
   "id": "ff4b472e",
   "metadata": {},
   "source": [
    "\n",
    "## 4. Сравнение инструментов профилирования\n",
    "\n",
    "| Инструмент | Уровень детализации | Простота использования | Встроен в Python | Основное применение |\n",
    "|-------------|----------------------|-------------------------|------------------|----------------------|\n",
    "| `timeit` | Измеряет общее время выполнения блока кода | Очень прост | ✅ Да | Сравнение небольших фрагментов |\n",
    "| `cProfile` | Анализ по функциям | Средний | ✅ Да | Профилирование больших программ |\n",
    "| `line_profiler` | Построчный анализ | Чуть выше среднего | ❌ Нет | Оптимизация конкретных функций |\n"
   ]
  },
  {
   "cell_type": "markdown",
   "id": "75ef899a",
   "metadata": {},
   "source": [
    "\n",
    "## Итоги\n",
    "\n",
    "- **`timeit`** — лучший выбор для коротких участков кода и сравнения алгоритмов.  \n",
    "- **`cProfile`** — оптимален для комплексного анализа больших программ.  \n",
    "- **`line_profiler`** — незаменим при необходимости найти медленные строки в конкретных функциях.\n"
   ]
  }
 ],
 "metadata": {
  "kernelspec": {
   "display_name": "Python 3 (ipykernel)",
   "language": "python",
   "name": "python3"
  },
  "language_info": {
   "codemirror_mode": {
    "name": "ipython",
    "version": 3
   },
   "file_extension": ".py",
   "mimetype": "text/x-python",
   "name": "python",
   "nbconvert_exporter": "python",
   "pygments_lexer": "ipython3",
   "version": "3.13.7"
  }
 },
 "nbformat": 4,
 "nbformat_minor": 5
}
