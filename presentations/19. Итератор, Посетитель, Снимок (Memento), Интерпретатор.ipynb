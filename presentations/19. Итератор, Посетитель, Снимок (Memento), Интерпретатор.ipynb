{
 "cells": [
  {
   "cell_type": "markdown",
   "id": "b9146a56-f12a-4821-a798-ec928d40fcb6",
   "metadata": {},
   "source": [
    "# ВВЕДЕНИЕ\n",
    "Паттерн проектирования — это часто встречающееся решение определённой проблемы при проектировании архитектуры программ.\n",
    "\n",
    "В отличие от готовых функций или библиотек, паттерн нельзя просто взять и скопировать в программу. Паттерн представляет собой не какой-то конкретный код, а общую концепцию решения той или иной проблемы, которую нужно будет ещё подстроить под нужды вашей программы.\n",
    "\n",
    "Паттерны часто путают с алгоритмами, ведь оба понятия описывают типовые решения каких-то известных проблем. Но если алгоритм — это чёткий набор действий, то паттерн — это высокоуровневое описание решения, реализация которого может отличаться в двух разных программах.\n",
    "\n",
    "Если привести аналогии, то алгоритм — это кулинарный рецепт с чёткими шагами, а паттерн — инженерный чертёж, на котором нарисовано решение, но не конкретные шаги его реализации.\n",
    "\n",
    "### Из чего состоит паттерн?\n",
    "\n",
    "Описания паттернов обычно очень формальны и чаще всего состоят из таких пунктов:\n",
    "- проблема, которую решает паттерн;\n",
    "- мотивации к решению проблемы способом, который предлагает паттерн;\n",
    "- структуры классов, составляющих решение;\n",
    "- примера на одном из языков программирования;\n",
    "- особенностей реализации в различных контекстах;\n",
    "- связей с другими паттернами."
   ]
  },
  {
   "cell_type": "markdown",
   "id": "5a076c61-896c-40b4-b132-507f5baa2fa7",
   "metadata": {},
   "source": [
    "## Поведенческие паттерны проектирования\n",
    "**решают задачи эффективного и безопасного взаимодействия между объектами программы. Они помогают определить, как объекты взаимодействуют и распределяют ответственность между собой.**\n",
    "\n",
    "*Итератор* - Даёт возможность последовательно обходить элементы составных объектов, не раскрывая их внутреннего представления. \n",
    "\n",
    "*Посетитель (Visitor)* - Позволяет добавлять в программу новые операции, не изменяя классы объектов, над которыми эти операции могут выполняться.\n",
    "\n",
    "*Снимок (Memento)* - Позволяет сохранять и восстанавливать прошлые состояния объектов, не раскрывая подробностей их реализации.\n",
    "\n",
    "*Интерпретатор* - Используется для определения грамматики языка и предоставления интерпретатора для обработки утверждений на этом языке. Он полезен для парсинга и исполнения выражений или команд в системе."
   ]
  },
  {
   "cell_type": "markdown",
   "id": "33fd75a7-b73c-41b7-a522-3f18da6145ec",
   "metadata": {},
   "source": [
    "# **Iterator**\n",
    "Коллекции — самая распространённая структура данных, которую вы можете встретить в программировании. Это набор объектов, собранный в одну кучу по каким-то критериям.\n",
    "\n",
    "Большинство коллекций выглядят как обычный список элементов. Но есть и построенные на основе деревьев, графов и других сложных структур данных. Но как бы ни была структурирована коллекция, пользователь должен иметь возможность последовательно обходить её элементы, чтобы проделывать с ними какие-то действия.\n",
    "\n",
    "Но каким способом следует перемещаться по сложной структуре данных? Например, сегодня может быть достаточным обход дерева в глубину, но завтра потребуется возможность перемещаться по дереву в ширину. А на следующей неделе и того хуже — понадобится обход коллекции в случайном порядке.\n",
    "\n",
    "Добавляя всё новые алгоритмы в код коллекции, вы понемногу размываете её основную задачу, которая заключается в эффективном хранении данных. Некоторые алгоритмы могут быть и вовсе слишком «заточены» под определённое приложение и смотреться дико в общем классе коллекции.\n",
    "\n",
    "Идея паттерна Итератор состоит в том, чтобы вынести поведение обхода коллекции из самой коллекции в отдельный класс.\n",
    "\n",
    "Объект-итератор будет отслеживать состояние обхода, текущую позицию в коллекции и сколько элементов ещё осталось обойти. Одну и ту же коллекцию смогут одновременно обходить различные итераторы, а сама коллекция не будет даже знать об этом.\n",
    "\n",
    "К тому же, если вам понадобится добавить новый способ обхода, вы сможете создать отдельный класс итератора, не изменяя существующий код коллекции.\n",
    "\n",
    "Рассмотрим пример:"
   ]
  },
  {
   "cell_type": "code",
   "execution_count": 34,
   "id": "20542900-70b6-454c-b737-9b8121be7b6e",
   "metadata": {},
   "outputs": [
    {
     "name": "stdout",
     "output_type": "stream",
     "text": [
      "[1, 4, 9, 16, 25]\n",
      "[]\n"
     ]
    }
   ],
   "source": [
    "numbers = [1,2,3,4,5]\n",
    "squared_numbers = (number**2 for number in numbers)\n",
    "print(list(squared_numbers))\n",
    "print(list(squared_numbers))"
   ]
  },
  {
   "cell_type": "markdown",
   "id": "527789b7-5d30-4856-a39c-a652e01dacd4",
   "metadata": {},
   "source": [
    "## Последовательности и итерируемые объекты\n",
    "\n",
    "По-сути, вся разница, между последовательностями и итерируемымыи объектами, заключается в том, что в последовательностях элементы индексируются.\n",
    "\n",
    "Так, последовательностями являются: списки, кортежи и даже строки."
   ]
  },
  {
   "cell_type": "code",
   "execution_count": 36,
   "id": "9b1edd73-13a8-4e0a-bb10-4658a3e5f54a",
   "metadata": {},
   "outputs": [
    {
     "name": "stdout",
     "output_type": "stream",
     "text": [
      "2 c 1984\n"
     ]
    }
   ],
   "source": [
    "numbers = [1,2,3,4,5]\n",
    "letters = ('a','b','c') \n",
    "characters = 'Greek1984Grid'\n",
    "print(numbers[1], letters[2], characters[5:9])"
   ]
  },
  {
   "cell_type": "markdown",
   "id": "d0837eb9-f0b8-4266-8081-7624dde5b5db",
   "metadata": {},
   "source": [
    "Итерируемые объекты же, напротив, не имеют индексации, но, тем не менее, могут быть использованы там, где требуется итерация: цикл for, генераторные выражения, списковые включения (comprehensions) — как примеры."
   ]
  },
  {
   "cell_type": "code",
   "execution_count": 37,
   "id": "586d8386-f5a0-4796-939d-4e4df826a6c0",
   "metadata": {},
   "outputs": [
    {
     "ename": "TypeError",
     "evalue": "'set' object is not subscriptable",
     "output_type": "error",
     "traceback": [
      "\u001b[31m---------------------------------------------------------------------------\u001b[39m",
      "\u001b[31mTypeError\u001b[39m                                 Traceback (most recent call last)",
      "\u001b[36mCell\u001b[39m\u001b[36m \u001b[39m\u001b[32mIn[37]\u001b[39m\u001b[32m, line 2\u001b[39m\n\u001b[32m      1\u001b[39m unordered_numbers = {\u001b[32m1\u001b[39m,\u001b[32m2\u001b[39m,\u001b[32m3\u001b[39m}\n\u001b[32m----> \u001b[39m\u001b[32m2\u001b[39m \u001b[43munordered_numbers\u001b[49m\u001b[43m[\u001b[49m\u001b[32;43m1\u001b[39;49m\u001b[43m]\u001b[49m\n",
      "\u001b[31mTypeError\u001b[39m: 'set' object is not subscriptable"
     ]
    }
   ],
   "source": [
    "unordered_numbers = {1,2,3}\n",
    ">>> unordered_numbers[1]"
   ]
  },
  {
   "cell_type": "code",
   "execution_count": 38,
   "id": "635e482e-6238-42e2-8f66-6a5738b2fe98",
   "metadata": {},
   "outputs": [
    {
     "ename": "KeyError",
     "evalue": "1",
     "output_type": "error",
     "traceback": [
      "\u001b[31m---------------------------------------------------------------------------\u001b[39m",
      "\u001b[31mKeyError\u001b[39m                                  Traceback (most recent call last)",
      "\u001b[36mCell\u001b[39m\u001b[36m \u001b[39m\u001b[32mIn[38]\u001b[39m\u001b[32m, line 2\u001b[39m\n\u001b[32m      1\u001b[39m users = {\u001b[33m'\u001b[39m\u001b[33mmales\u001b[39m\u001b[33m'\u001b[39m: \u001b[32m23\u001b[39m, \u001b[33m'\u001b[39m\u001b[33mfemales\u001b[39m\u001b[33m'\u001b[39m: \u001b[32m32\u001b[39m}\n\u001b[32m----> \u001b[39m\u001b[32m2\u001b[39m \u001b[43musers\u001b[49m\u001b[43m[\u001b[49m\u001b[32;43m1\u001b[39;49m\u001b[43m]\u001b[49m\n",
      "\u001b[31mKeyError\u001b[39m: 1"
     ]
    }
   ],
   "source": [
    "users = {'males': 23, 'females': 32}\n",
    ">>> users[1]"
   ]
  },
  {
   "cell_type": "code",
   "execution_count": 39,
   "id": "02d6576c-e5d1-43f0-9941-8228ce0f0359",
   "metadata": {},
   "outputs": [
    {
     "data": {
      "text/plain": [
       "[1, 4, 9]"
      ]
     },
     "execution_count": 39,
     "metadata": {},
     "output_type": "execute_result"
    }
   ],
   "source": [
    "# Can be used as sequence\n",
    ">>> [number**2 for number in unordered_numbers]"
   ]
  },
  {
   "cell_type": "code",
   "execution_count": 40,
   "id": "ef9e79af-267e-481e-ab70-39d915540ea2",
   "metadata": {},
   "outputs": [
    {
     "name": "stdout",
     "output_type": "stream",
     "text": [
      "males\n",
      "females\n"
     ]
    }
   ],
   "source": [
    ">>> for user in users:\n",
    "...     print(user)"
   ]
  },
  {
   "cell_type": "markdown",
   "id": "f941dd5d-7c38-436b-ae5d-c771ce5fab3c",
   "metadata": {},
   "source": [
    "## Отличия цикла for в Python от других языков\n",
    "**Цикл for использует итераторы.**\n",
    "Если же, мы перепишем цикл for с помощью цикла while, используя индексы, то работать такой подход будет только с последовательностями:"
   ]
  },
  {
   "cell_type": "code",
   "execution_count": 41,
   "id": "4a8dfbe4-4f25-4f2b-85d8-114fe44a0c12",
   "metadata": {},
   "outputs": [
    {
     "name": "stdout",
     "output_type": "stream",
     "text": [
      "1\n",
      "2\n",
      "3\n"
     ]
    }
   ],
   "source": [
    ">>> list_of_numbers = [1,2,3]\n",
    ">>> index = 0\n",
    ">>> while index < len(list_of_numbers):\n",
    "...     print(list_of_numbers[index])\n",
    "...     index += 1"
   ]
  },
  {
   "cell_type": "code",
   "execution_count": 42,
   "id": "1211e95e-bc50-4324-83ea-699945195835",
   "metadata": {},
   "outputs": [
    {
     "ename": "TypeError",
     "evalue": "'set' object is not subscriptable",
     "output_type": "error",
     "traceback": [
      "\u001b[31m---------------------------------------------------------------------------\u001b[39m",
      "\u001b[31mTypeError\u001b[39m                                 Traceback (most recent call last)",
      "\u001b[36mCell\u001b[39m\u001b[36m \u001b[39m\u001b[32mIn[42]\u001b[39m\u001b[32m, line 4\u001b[39m\n\u001b[32m      2\u001b[39m index = \u001b[32m0\u001b[39m \n\u001b[32m      3\u001b[39m \u001b[38;5;28;01mwhile\u001b[39;00m index < \u001b[38;5;28mlen\u001b[39m(set_of_numbers):\n\u001b[32m----> \u001b[39m\u001b[32m4\u001b[39m     \u001b[38;5;28mprint\u001b[39m(\u001b[43mset_of_numbers\u001b[49m\u001b[43m[\u001b[49m\u001b[43mindex\u001b[49m\u001b[43m]\u001b[49m)\n\u001b[32m      5\u001b[39m     index += \u001b[32m1\u001b[39m\n",
      "\u001b[31mTypeError\u001b[39m: 'set' object is not subscriptable"
     ]
    }
   ],
   "source": [
    ">>> set_of_numbers = {1,2,3}\n",
    ">>> index = 0 \n",
    ">>> while index < len(set_of_numbers):\n",
    "...     print(set_of_numbers[index])\n",
    "...     index += 1"
   ]
  },
  {
   "cell_type": "markdown",
   "id": "3a817dfb-9253-43a4-8580-6d982d6d309f",
   "metadata": {},
   "source": [
    "Получить итератор мы можем из любого итерируемого объекта. \n",
    "\n",
    "Для этого нужно передать итерируемый объект во встроенную функцию iter:"
   ]
  },
  {
   "cell_type": "code",
   "execution_count": 46,
   "id": "34f438b9-fd02-4aca-8401-7d776df6baa7",
   "metadata": {},
   "outputs": [
    {
     "name": "stdout",
     "output_type": "stream",
     "text": [
      "<set_iterator object at 0x10cf27980> <list_iterator object at 0x10c97b460> <str_ascii_iterator object at 0x10c97b370>\n"
     ]
    }
   ],
   "source": [
    "set_of_numbers = {1,2,3}\n",
    "list_of_numbers = [1,2,3]\n",
    "string_of_numbers = '123'\n",
    "print(iter(set_of_numbers), iter(list_of_numbers), iter(string_of_numbers))"
   ]
  },
  {
   "cell_type": "markdown",
   "id": "b79c2b5f-17ac-42e2-8164-74716f3dc46a",
   "metadata": {},
   "source": [
    "После того, как мы получили итератор, мы можем передать его встроенной функции next.\n",
    "\n",
    "При каждом новом вызове, функция отдаёт один элемент. Если же в итераторе элементов больше не осталось, то функция next породит исключение StopIteration."
   ]
  },
  {
   "cell_type": "code",
   "execution_count": 50,
   "id": "ab967568-c2fd-4dc2-b51a-d6dc07c2af51",
   "metadata": {},
   "outputs": [
    {
     "name": "stdout",
     "output_type": "stream",
     "text": [
      "1\n",
      "2\n",
      "3\n"
     ]
    },
    {
     "ename": "StopIteration",
     "evalue": "",
     "output_type": "error",
     "traceback": [
      "\u001b[31m---------------------------------------------------------------------------\u001b[39m",
      "\u001b[31mStopIteration\u001b[39m                             Traceback (most recent call last)",
      "\u001b[36mCell\u001b[39m\u001b[36m \u001b[39m\u001b[32mIn[50]\u001b[39m\u001b[32m, line 5\u001b[39m\n\u001b[32m      3\u001b[39m \u001b[38;5;28mprint\u001b[39m(\u001b[38;5;28mnext\u001b[39m(numbers_iterator))\n\u001b[32m      4\u001b[39m \u001b[38;5;28mprint\u001b[39m(\u001b[38;5;28mnext\u001b[39m(numbers_iterator))\n\u001b[32m----> \u001b[39m\u001b[32m5\u001b[39m \u001b[38;5;28mprint\u001b[39m(\u001b[38;5;28;43mnext\u001b[39;49m\u001b[43m(\u001b[49m\u001b[43mnumbers_iterator\u001b[49m\u001b[43m)\u001b[49m)\n",
      "\u001b[31mStopIteration\u001b[39m: "
     ]
    }
   ],
   "source": [
    "numbers_iterator = iter(set_of_numbers)\n",
    "print(next(numbers_iterator))\n",
    "print(next(numbers_iterator))\n",
    "print(next(numbers_iterator))\n",
    "print(next(numbers_iterator))"
   ]
  },
  {
   "cell_type": "markdown",
   "id": "2b0b9010-457b-442f-a969-e0bfe5247995",
   "metadata": {},
   "source": [
    "По-сути, это единственное, что мы можем сделать с итератором: передать его функции next.\n",
    "Как только итератор становится пустым и порождается исключение StopIteration, он становится совершенно бесполезным."
   ]
  },
  {
   "cell_type": "markdown",
   "id": "a3638bd0-4f91-4d21-9dc4-eaccb9c4f982",
   "metadata": {},
   "source": [
    "### Реализация цикла for с помощью функции и цикла while\n",
    "Используя полученные знания, мы можем написать цикл for, не пользуясь самим циклом for. \n",
    "\n",
    "Чтобы сделать это, нам нужно:\n",
    "1. Получить итератор из итерируемого объекта.\n",
    "2. Вызвать функцию next.\n",
    "3. Выполнить 'тело цикла'.\n",
    "4. Закончить цикл, когда будет получено исключение StopIteration."
   ]
  },
  {
   "cell_type": "code",
   "execution_count": 47,
   "id": "be015ca8-b853-448d-b71c-89ced0a3eb72",
   "metadata": {},
   "outputs": [],
   "source": [
    "def for_loop(iterable, loop_body_func):\n",
    "    iterator = iter(iterable)\n",
    "    next_element_exist = True\n",
    "    while next_element_exist:\n",
    "        try:\n",
    "            element_from_iterator = next(iterator)\n",
    "        except StopIteration:\n",
    "            next_element_exist = False\n",
    "        else:\n",
    "            loop_body_func(element_from_iterator)"
   ]
  },
  {
   "cell_type": "markdown",
   "id": "efa60461-78d0-4105-85b8-fb81eb5a38d0",
   "metadata": {},
   "source": [
    "Теперь мы знакомы с *протоколом итератора*.\n",
    "А, говоря простым языком — с тем, как работает итерация в Python.\n",
    "Функции iter и next этот протокол формализуют. Механизм везде один и тот же. Будь то пресловутый цикл for или генераторное выражение. Даже распаковка и \"звёздочка\" используют протокол итератора:"
   ]
  },
  {
   "cell_type": "code",
   "execution_count": 51,
   "id": "0dcb9388-9583-4d90-911c-48dcaad350a1",
   "metadata": {
    "collapsed": true,
    "jupyter": {
     "outputs_hidden": true
    },
    "scrolled": true
   },
   "outputs": [
    {
     "name": "stdout",
     "output_type": "stream",
     "text": [
      "1 2 3 4 5\n"
     ]
    }
   ],
   "source": [
    "coordinates = [1,2,3]\n",
    "x, y, z = coordinates\n",
    "\n",
    "numbers = [1,2,3,4,5]\n",
    "a,b, *rest = numbers\n",
    "\n",
    "print(*numbers)"
   ]
  },
  {
   "cell_type": "markdown",
   "id": "fd13512d-06be-4623-911f-dbf34816556f",
   "metadata": {},
   "source": [
    "## Генераторы — это тоже итераторы"
   ]
  },
  {
   "cell_type": "code",
   "execution_count": 78,
   "id": "87b1f3dc-8b36-4b1d-82ba-775be170e4e7",
   "metadata": {},
   "outputs": [
    {
     "name": "stdout",
     "output_type": "stream",
     "text": [
      "0\n",
      "1\n",
      "2\n"
     ]
    },
    {
     "ename": "StopIteration",
     "evalue": "",
     "output_type": "error",
     "traceback": [
      "\u001b[31m---------------------------------------------------------------------------\u001b[39m",
      "\u001b[31mStopIteration\u001b[39m                             Traceback (most recent call last)",
      "\u001b[36mCell\u001b[39m\u001b[36m \u001b[39m\u001b[32mIn[78]\u001b[39m\u001b[32m, line 10\u001b[39m\n\u001b[32m      8\u001b[39m \u001b[38;5;28mprint\u001b[39m(\u001b[38;5;28mnext\u001b[39m(range_of_two))\n\u001b[32m      9\u001b[39m \u001b[38;5;28mprint\u001b[39m(\u001b[38;5;28mnext\u001b[39m(range_of_two))\n\u001b[32m---> \u001b[39m\u001b[32m10\u001b[39m \u001b[38;5;28mprint\u001b[39m(\u001b[38;5;28;43mnext\u001b[39;49m\u001b[43m(\u001b[49m\u001b[43mrange_of_two\u001b[49m\u001b[43m)\u001b[49m)\n",
      "\u001b[31mStopIteration\u001b[39m: "
     ]
    }
   ],
   "source": [
    "def custom_range(number):\n",
    "    index = 0 \n",
    "    while index < number:\n",
    "        yield index\n",
    "        index += 1\n",
    "range_of_two = custom_range(3)\n",
    "print(next(range_of_two))\n",
    "print(next(range_of_two))\n",
    "print(next(range_of_two))\n",
    "print(next(range_of_two))"
   ]
  },
  {
   "cell_type": "markdown",
   "id": "31d1811b-60a8-47e0-94a1-d7e61c33c296",
   "metadata": {},
   "source": [
    "В случае, если мы передаём в iter итератор, то получаем тот же самый итератор"
   ]
  },
  {
   "cell_type": "code",
   "execution_count": 56,
   "id": "2c038f08-2376-4ce2-9082-5551a19593c3",
   "metadata": {},
   "outputs": [
    {
     "name": "stdout",
     "output_type": "stream",
     "text": [
      "1\n",
      "2\n",
      "True\n"
     ]
    }
   ],
   "source": [
    "numbers = [1,2,3,4,5]\n",
    "iter1 = iter(numbers)\n",
    "iter2 = iter(iter1)\n",
    "print(next(iter1))\n",
    "print(next(iter2))\n",
    "print(iter1 is iter2)"
   ]
  },
  {
   "cell_type": "markdown",
   "id": "fb5c0890-b167-4fde-a33a-0a82c7d8a25d",
   "metadata": {},
   "source": [
    "## Плюсы и минусы итераторов:\n",
    "\n",
    "- ✓ Итераторы работают \"лениво\" (en. lazy). А это значит, что они не выполняют какой-либо работы, до тех пор, пока мы их об этом не попросим.\n",
    "- ✓ Таким образом, мы можем оптимизировать потребление ресурсов ОЗУ и CPU, а так же создавать бесконечные последовательности.\n",
    "- ✓ Сокрытие устройства коллекции и ослабление связности.\n",
    "- ✗ Не оправдан, если можно обойтись простым циклом."
   ]
  },
  {
   "cell_type": "markdown",
   "id": "04e2a82c-5307-4e7a-9092-22ed3e06ec60",
   "metadata": {},
   "source": [
    "## Многие встроенные функции являются итераторами."
   ]
  },
  {
   "cell_type": "code",
   "execution_count": 58,
   "id": "5df2915f-f642-4095-a980-5e4f3dd133a7",
   "metadata": {},
   "outputs": [
    {
     "name": "stdout",
     "output_type": "stream",
     "text": [
      "<enumerate object at 0x10d1c2c50> <zip object at 0x10d2d67c0>\n"
     ]
    }
   ],
   "source": [
    "numbers = [1,2,3]\n",
    "letters = ['a','b','c']\n",
    "enumerate_var = enumerate(numbers)\n",
    "z = zip(letters, numbers)\n",
    "print(enumerate_var, z)"
   ]
  },
  {
   "cell_type": "markdown",
   "id": "fc9a779c-9754-4152-aad8-cadedbea7982",
   "metadata": {},
   "source": [
    "И даже open()"
   ]
  },
  {
   "cell_type": "markdown",
   "id": "045b9142-5713-45ab-aca4-bc1c77d21aad",
   "metadata": {},
   "source": [
    "## Создание собственного итератора"
   ]
  },
  {
   "cell_type": "code",
   "execution_count": 75,
   "id": "820aa622-cd6c-48dd-9797-1eff6abdd4af",
   "metadata": {},
   "outputs": [
    {
     "name": "stdout",
     "output_type": "stream",
     "text": [
      "36\n",
      "1296\n",
      "1679616\n",
      "2821109907456\n",
      "True\n"
     ]
    }
   ],
   "source": [
    "class InfiniteSquaring:\n",
    "    \"\"\"Класс обеспечивает бесконечное последовательное возведение в квадрат заданного числа.\"\"\"\n",
    "    def __init__(self, initial_number):\n",
    "        # Здесь хранится промежуточное значение\n",
    "        self.number_to_square = initial_number\n",
    "\n",
    "    def __next__(self):\n",
    "        # Здесь мы обновляем значение и возвращаем результат\n",
    "        self.number_to_square = self.number_to_square ** 2\n",
    "        return self.number_to_square\n",
    "\n",
    "    def __iter__(self):\n",
    "        \"\"\"Этот метод позволяет при передаче объекта функции iter возвращать самого себя, \n",
    "            тем самым в точности реализуя протокол итератора.\"\"\"\n",
    "        return self\n",
    "\n",
    "squaring_of_six = InfiniteSquaring(6)\n",
    "print(next(squaring_of_six))\n",
    "print(next(squaring_of_six))\n",
    "print(next(squaring_of_six))\n",
    "print(next(squaring_of_six))\n",
    "# И так до бесконечности...\n",
    "print(iter(squaring_of_six) is squaring_of_six)"
   ]
  },
  {
   "cell_type": "markdown",
   "id": "df3a4433-7cbf-4593-bf57-1d3238705536",
   "metadata": {},
   "source": [
    "## Особенности:\n",
    "\n",
    "- Любой объект, передаваемый функции iter без исключения TypeError — итерируемый объект.\n",
    "- Любой объект, передаваемый функции next без исключения TypeError — итератор.\n",
    "- Любой объект, передаваемый функции iter и возвращающий сам себя — итератор.\n",
    "\n",
    "### 1. Использование генератора дважды "
   ]
  },
  {
   "cell_type": "code",
   "execution_count": 63,
   "id": "869fa098-3784-4a82-87e1-24a5b745b87d",
   "metadata": {},
   "outputs": [],
   "source": [
    "numbers = [1,2,3,4,5]\n",
    "squared_numbers = (number**2 for number in numbers)"
   ]
  },
  {
   "cell_type": "markdown",
   "id": "be25cdaf-2d91-4cf1-9386-c00020619984",
   "metadata": {},
   "source": [
    "В данном примере, список будет содержать элементы только в первом случае, потому что генераторное выражение — это итератор, а итераторы, как мы уже знаем — сущности одноразовые. И при повторном использовании не будут отдавать никаких элементов."
   ]
  },
  {
   "cell_type": "code",
   "execution_count": 64,
   "id": "5dc4b99d-edf1-4183-9175-4f925c9cdd3a",
   "metadata": {},
   "outputs": [
    {
     "name": "stdout",
     "output_type": "stream",
     "text": [
      "[1, 4, 9, 16, 25]\n",
      "[]\n"
     ]
    }
   ],
   "source": [
    "print(list(squared_numbers))\n",
    "print(list(squared_numbers))"
   ]
  },
  {
   "cell_type": "markdown",
   "id": "a995661e-eaf2-492b-924e-3df4ffd603be",
   "metadata": {},
   "source": [
    "### 2. Проверка вхождения элемента в генератор\n",
    "\n",
    "В данном примере, элемент будет входить в последовательность только 1 раз, по причине того, что проверка на вхождение проверяется путем перебора всех элементов последовательности последовательно, и как только элемент обнаружен, поиск прекращается. Для наглядности приведу пример:"
   ]
  },
  {
   "cell_type": "code",
   "execution_count": 66,
   "id": "b2a449c9-882d-4aa4-88bc-f8abaa8ca52e",
   "metadata": {},
   "outputs": [
    {
     "name": "stdout",
     "output_type": "stream",
     "text": [
      "True\n",
      "False\n"
     ]
    }
   ],
   "source": [
    "numbers = [1,2,3,4,5]\n",
    "squared_numbers = (number**2 for number in numbers)\n",
    "\n",
    "print(4 in squared_numbers)\n",
    "print(4 in squared_numbers)"
   ]
  },
  {
   "cell_type": "code",
   "execution_count": 67,
   "id": "cbbd6d30-1744-4728-aa43-533a0f98a44d",
   "metadata": {},
   "outputs": [
    {
     "name": "stdout",
     "output_type": "stream",
     "text": [
      "True\n",
      "[9, 16, 25]\n",
      "[]\n"
     ]
    }
   ],
   "source": [
    "numbers = [1,2,3,4,5]\n",
    "squared_numbers = (number**2 for number in numbers)\n",
    "\n",
    "print(4 in squared_numbers)\n",
    "print(list(squared_numbers))\n",
    "print(list(squared_numbers))"
   ]
  },
  {
   "cell_type": "markdown",
   "id": "78927f42-512b-4db8-bacf-5f3582491373",
   "metadata": {},
   "source": [
    "### 3. Распаковка словаря\n",
    "При использовании в цикле for, словарь будет отдавать ключи. Так как распаковка опирается на тот же протокол итератора, то и в переменных оказываются именно ключи:"
   ]
  },
  {
   "cell_type": "code",
   "execution_count": 69,
   "id": "6ee57364-830b-4b83-b54e-c978a2f204d5",
   "metadata": {},
   "outputs": [
    {
     "name": "stdout",
     "output_type": "stream",
     "text": [
      "apples\n",
      "bananas\n",
      "x = apples, y = bananas\n"
     ]
    }
   ],
   "source": [
    "fruits_amount = {'apples': 2, 'bananas': 5}\n",
    "for fruit_name in fruits_amount:\n",
    "    print(fruit_name) \n",
    "x, y = fruits_amount\n",
    "print(f'x = {x}, y = {y}')"
   ]
  },
  {
   "cell_type": "markdown",
   "id": "622aced3-b678-4028-afea-90f411569a52",
   "metadata": {},
   "source": [
    "## Отношения с другими паттернами\n",
    "- Можно обходить дерево Компоновщика, используя Итератор.\n",
    "- Фабричный метод можно использовать вместе с Итератором, чтобы подклассы коллекций могли создавать подходящие им итераторы."
   ]
  },
  {
   "cell_type": "markdown",
   "id": "dabe69b4-c40a-4722-ae63-5034c93da2df",
   "metadata": {},
   "source": [
    "## *Выводы*\n",
    "\n",
    "- Последовательности — итерируемые объекты, но не все итерируемые объекты — последовательности.\n",
    "- Итераторы — самая простая форма итерируемых объектов в Python.\n",
    "- Итераторы упрощают классы хранения данных и позволяют реализовать различные способы обхода структуры данных\n",
    "- Любой итерируемый объект реализует протокол итератора. Понимание этого протокола — ключ к пониманию любых итераций в Python."
   ]
  },
  {
   "cell_type": "markdown",
   "id": "54096bb3-d656-4d09-90e0-c06083a5cdbf",
   "metadata": {},
   "source": [
    "# **Interpreter**"
   ]
  },
  {
   "cell_type": "markdown",
   "id": "e5da9080-c9ed-442b-a3dc-8f38a6a29ded",
   "metadata": {},
   "source": [
    "## Проблема\n",
    "\n",
    "Определенный класс проблем повторяется в четко определенной и хорошо понятной области. Если бы эта область характеризовалась «языком», то проблемы можно было бы легко решать с помощью «движка» интерпретации."
   ]
  },
  {
   "cell_type": "markdown",
   "id": "9538e823-5295-44b0-890f-ce75152bfe00",
   "metadata": {},
   "source": [
    "## Решение\n",
    "\n",
    "В шаблоне «Интерпретатор» обсуждаются следующие вопросы: определение языка домена (т.е. характеристика проблемы) в виде простой грамматики языка, представление правил домена в виде предложений языка и интерпретация этих предложений для решения проблемы. В паттерне используется класс для представления каждого грамматического правила. А поскольку грамматика обычно имеет иерархическую структуру, иерархия наследования классов правил хорошо отображает это."
   ]
  },
  {
   "cell_type": "markdown",
   "id": "a88e9f75-55e3-48df-bbb7-7f19847271e4",
   "metadata": {},
   "source": [
    "## Ключевые понятия\n",
    "\n",
    "- Грамматика: набор правил, определяющих структуру правильных предложений в языке.\n",
    "- Терминальные выражения: основные элементы грамматики, которые не могут быть разбиты на более мелкие части.\n",
    "- Нетерминальные выражения: комбинации терминальных и/или других нетерминальных выражений.\n",
    "- Контекст: содержит глобальную информацию, необходимую во время интерпретации, такую как значения переменных."
   ]
  },
  {
   "cell_type": "markdown",
   "id": "295e36ee-1845-4b4e-8500-90b95e958bbe",
   "metadata": {},
   "source": [
    "## Определение грамматических правил и соответствующих классов\n",
    "Чтобы реализовать паттерн интерпретатора, нам сначала нужно определить грамматические правила для языка, который мы хотим интерпретировать. Рассмотрим простой язык математических выражений, поддерживающий сложение и умножение.\n",
    "\n",
    "Грамматика нашего языка может быть определена следующим образом:\n",
    "\n",
    "$\n",
    "\\begin{aligned}\n",
    "expression &= term \\ | \\ expression '+' term \\\\\n",
    "term       &= factor \\ |  \\ term '*' factor \\\\\n",
    "factor     &= number \\ | \\ '(' expression ')' \\\\\n",
    "number     &= digit+ \\\\\n",
    "digit      &= '0' \\ | \\ '1' \\ | \\ ... \\ | \\ '9' \\\\\n",
    "\\end{aligned}\n",
    "$\n",
    "\n",
    "Эта грамматика допускает выражения типа $3 + 5 * (2 + 4)$."
   ]
  },
  {
   "cell_type": "code",
   "execution_count": 103,
   "id": "041f16f9-8c43-4499-a256-e862b9bbd2de",
   "metadata": {},
   "outputs": [],
   "source": [
    "from abc import ABC, abstractmethod\n",
    "\n",
    "'''AbstractExpression (Expression) — предоставляет общий интерфейс для всех выражений, \n",
    "                                            обеспечивая реализацию метода interpret.'''\n",
    "class Expression(ABC):\n",
    "    @abstractmethod\n",
    "    def interpret(self, context):\n",
    "        pass\n",
    "\n",
    "'''TerminalExpression (Number) — представляет постоянные значения в выражении. \n",
    "                                Возвращает свое значение при интерпретации.'''\n",
    "class Number(Expression):\n",
    "    def __init__(self, number):\n",
    "        self.number = number\n",
    "\n",
    "    def interpret(self, context):\n",
    "        return self.number\n",
    "\n",
    "'''NonTerminalExpression (сложение и вычитание) — представляет операторы, которые объединяют другие выводы, \n",
    "                                имеющие подвыводы, которые некоторые интерпретируют перед их объединением.'''\n",
    "class Add(Expression):\n",
    "    def __init__(self, left, right):\n",
    "        self.left = left\n",
    "        self.right = right\n",
    "\n",
    "    def interpret(self, context):\n",
    "        return self.left.interpret(context) + self.right.interpret(context)\n",
    "\n",
    "class Multiply(Expression):\n",
    "    def __init__(self, left, right):\n",
    "        self.left = left\n",
    "        self.right = right\n",
    "\n",
    "    def interpret(self, context):\n",
    "        return self.left.interpret(context) * self.right.interpret(context)"
   ]
  },
  {
   "cell_type": "markdown",
   "id": "a3235a6e-a99a-466b-9506-ea6556b45d70",
   "metadata": {},
   "source": [
    "**Класс Context** хранит глобальную информацию, необходимую во время интерпретации, такую как значения переменных. В нашем примере контекст относительно прост, но в более сложных языках он может хранить cвязанные переменные, определения функций или другую информацию о состоянии.\n",
    "\n",
    "**Клиент** cоздает синтаксическое дерево и интерпретирует выражение (дерево можно представить отдельно в виде класса Parser)."
   ]
  },
  {
   "cell_type": "code",
   "execution_count": 99,
   "id": "e8158afb-1d45-4043-bc71-20fa00df2663",
   "metadata": {},
   "outputs": [
    {
     "name": "stdout",
     "output_type": "stream",
     "text": [
      "The result of the expression is: 24\n"
     ]
    }
   ],
   "source": [
    "class Context:\n",
    "    def __init__(self):\n",
    "        self.variables = {}\n",
    "        \n",
    "# Клиент\n",
    "def main():\n",
    "    # Выражение для примера: (5 + 3) * (2 + 1)\n",
    "    context = Context()\n",
    "\n",
    "    # Строим дерево\n",
    "    expr = Multiply(\n",
    "        Add(Number(5), Number(3)),\n",
    "        Add(Number(2), Number(1))\n",
    "    )\n",
    "\n",
    "    # Интерпретация выражения\n",
    "    result = expr.interpret(context)\n",
    "    print(f\"The result of the expression is: {result}\")\n",
    "\n",
    "if __name__ == \"__main__\":\n",
    "    main()"
   ]
  },
  {
   "cell_type": "markdown",
   "id": "c5fac8b7-f390-4aa9-af87-552c9078bac0",
   "metadata": {},
   "source": [
    "#### Примечания:\n",
    "Перегрузка операторов могут улучшить реализацию паттерна интерпретатора (может использоваться для определения пользовательского поведения).\n",
    "\n",
    "Абстрактное синтаксическое дерево Interpreter является композицией (поэтому Iterator и Visitor также применимы).\n",
    "\n",
    "Интерпретатор может использовать State для определения контекстов синтаксического анализа (parsing).\n",
    "\n",
    "TerminalExpression в абстрактном синтаксическом дереве интерпретатора могут быть совместно использованы с Flyweight (Легковес).\n",
    "\n",
    "**Data classes** могут упростить определение классов выражений, автоматически генерируя шаблонный код, такой как __init__."
   ]
  },
  {
   "cell_type": "code",
   "execution_count": 102,
   "id": "89fcac90-294e-4dd5-80fd-1e6a0fc73aa1",
   "metadata": {},
   "outputs": [],
   "source": [
    "from dataclasses import dataclass\n",
    "\n",
    "@dataclass\n",
    "class Number(Expression):\n",
    "    value: int\n",
    "\n",
    "    def interpret(self, context):\n",
    "        return self.value"
   ]
  },
  {
   "cell_type": "markdown",
   "id": "cade7e7e-9cc0-4202-ba0d-59812f29d406",
   "metadata": {},
   "source": [
    "## Когда следует и не следует использовать паттерн интерпретатора в Python\n",
    "Следует, если:\n",
    "- Нужно повторно интерпретировать или оценивать выражения, а грамматика языка стабильна и не слишком сложна.\n",
    "- Вы хотите представить простую грамматику языка и ее разбор непосредственно в коде.\n",
    "- Требуется создать простой процессор команд или скриптовый язык.\n",
    "\n",
    "Не следует, если:\n",
    "- Грамматика языка может быть довольно сложной и часто меняется, поскольку иногда она может стать неуправляемой.\n",
    "- Интерпретируемые языки, как известно, работают медленнее по сравнению с компилируемыми, поскольку производительность имеет большое значение.\n",
    "- Такой дизайн может оказаться сложным для предотвращения ошибок и ускорения процессов при работе с таким языком."
   ]
  },
  {
   "cell_type": "markdown",
   "id": "b3315869-fd44-447f-81bd-3858f2b2ae2f",
   "metadata": {},
   "source": [
    "# **Memento**"
   ]
  },
  {
   "cell_type": "markdown",
   "id": "a3ae48dc-d3e4-4695-9fdf-f8a237524947",
   "metadata": {},
   "source": [
    "## Проблема\n",
    "Предположим, что вы пишете программу текстового редактора. Помимо обычного редактирования, ваш редактор позволяет менять форматирование текста, вставлять картинки и прочее.\n",
    "\n",
    "В какой-то момент вы решили сделать все эти действия отменяемыми. Для этого вам нужно сохранять текущее состояние редактора перед тем, как выполнить любое действие. Если потом пользователь решит отменить своё действие, вы достанете копию состояния из истории и восстановите старое состояние редактора.\n",
    "\n",
    "Чтобы сделать копию состояния объекта, достаточно скопировать значение его полей. Таким образом, если вы сделали класс редактора достаточно открытым, то любой другой класс сможет заглянуть внутрь, чтобы скопировать его состояние. \n",
    "\n",
    "Но такой наивный подход обеспечит вам уйму проблем в будущем. Ведь если вы решите провести рефакторинг — убрать или добавить парочку полей в класс редактора — то придётся менять код всех классов, которые могли копировать состояние редактора. Более того, чтобы сделать копию состояния, вам нужно записать значения всех полей в некий «контейнер».\n",
    "\n",
    "Скорее всего, вам понадобится хранить массу таких контейнеров в качестве истории операций, поэтому удобнее всего сделать их объектами одного класса. Этот класс должен иметь много полей, но практически никаких методов. Чтобы другие объекты могли записывать и читать из него данные, вам придётся сделать его поля публичными. Но это приведёт к той же проблеме, что и с открытым классом редактора.\n",
    "\n",
    "Получается, нам придётся либо открыть классы для всех желающих, испытывая массу хлопот с поддержкой кода, либо оставить классы закрытыми, отказавшись от идеи отмены операций. Нет ли какого-то другого пути?"
   ]
  },
  {
   "cell_type": "markdown",
   "id": "a9fc8eee-8a90-4b2d-ba8e-3c2ae87614c6",
   "metadata": {},
   "source": [
    "## Решение\n",
    "\n",
    "Все проблемы, описанные выше, возникают из-за нарушения инкапсуляции.\n",
    "\n",
    "Паттерн Снимок поручает создание копии состояния объекта самому объекту, который этим состоянием владеет. Вместо того, чтобы делать снимок «извне», наш редактор сам сделает копию своих полей, ведь ему доступны все поля, даже приватные.\n",
    "\n",
    "Паттерн предлагает держать копию состояния в специальном объекте-снимке с ограниченным интерфейсом, позволяющим, например, узнать дату изготовления или название снимка. Но, с другой стороны, снимок должен быть открыт для своего создателя, позволяя прочесть и восстановить его внутреннее состояние."
   ]
  },
  {
   "cell_type": "markdown",
   "id": "393785af-3762-4c9b-b466-e6cfc5686f43",
   "metadata": {},
   "source": [
    "## Структура\n",
    "Шаблон Memento включает в себя три ключевых компонента:\n",
    "- Создатель (Originator): объект, состояние которого необходимо сохранить и восстановить.\n",
    "- Снимок (Memento): снимок состояния инициатора.\n",
    "- Опекун (Caretaker): управляет Memento и облегчает восстановление состояния."
   ]
  },
  {
   "cell_type": "markdown",
   "id": "66b6572c-9afd-462a-9587-cfae7aeeb913",
   "metadata": {},
   "source": [
    "## Реализация\n",
    "### 1. Создание класса Originator\n",
    "\n",
    "Класс Originator отвечает за создание снимков и восстановление своего состояния из них. Он должен иметь методы для сохранения и восстановления своего состояния."
   ]
  },
  {
   "cell_type": "code",
   "execution_count": 110,
   "id": "da224664-3f36-46a4-945d-b69ce6aa5b01",
   "metadata": {},
   "outputs": [],
   "source": [
    "class Originator:\n",
    "    def __init__(self, state):\n",
    "        self._state = state\n",
    "\n",
    "    # Захватывает текущее состояние и возвращает Memento\n",
    "    def create_memento(self):\n",
    "        return Memento(self._state)\n",
    "\n",
    "    # Восстанавливает состояние из заданного Memento\n",
    "    def restore(self, memento):\n",
    "        self._state = memento.get_state()\n",
    "\n",
    "    def set_state(self, state):\n",
    "        self._state = state\n",
    "\n",
    "    def get_state(self):\n",
    "        return self._state\n",
    "\n",
    "    def __str__(self):\n",
    "        return f\"Originator's state: {self._state}\""
   ]
  },
  {
   "cell_type": "markdown",
   "id": "8e5bd517-a4f1-4fcb-8e86-51e787855ef2",
   "metadata": {},
   "source": [
    "### 2. Определение класса Memento\n",
    "Класс Memento хранит состояние Originator. Он не должен раскрывать внутреннюю структуру Originator. Mementos обычно являются неизменяемыми, чтобы гарантировать, что состояние не может быть изменено после его фиксации."
   ]
  },
  {
   "cell_type": "code",
   "execution_count": 109,
   "id": "270f0ca3-c8e7-4563-9491-e3e50160f9e9",
   "metadata": {},
   "outputs": [],
   "source": [
    "class Memento:\n",
    "    def __init__(self, state):\n",
    "        self._state = state\n",
    "\n",
    "    def get_state(self):\n",
    "        return self._state"
   ]
  },
  {
   "cell_type": "markdown",
   "id": "b6468175-15d9-4b28-acd3-258abb3c132c",
   "metadata": {},
   "source": [
    "### 3. Реализация Caretaker\n",
    "Caretaker отвечает за управление Mementos. Он хранит Mementos и может восстанавливать состояние Originator при необходимости."
   ]
  },
  {
   "cell_type": "code",
   "execution_count": 111,
   "id": "4bfebe5b-603b-4f80-8574-b7be5c6b9d23",
   "metadata": {},
   "outputs": [],
   "source": [
    "class Caretaker:\n",
    "    def __init__(self):\n",
    "        self._mementos = []\n",
    "\n",
    "    # Добавляет Memento в список\n",
    "    def save_state(self, memento):\n",
    "        self._mementos.append(memento)\n",
    "\n",
    "    # Извлекает Memento по индексу\n",
    "    def restore_state(self, index):\n",
    "        return self._mementos[index]\n",
    "\n",
    "    # Отображает все сохраненные состояния\n",
    "    def show_history(self):\n",
    "        for i, memento in enumerate(self._mementos):\n",
    "            print(f\"State {i}: {memento.get_state()}\")"
   ]
  },
  {
   "cell_type": "markdown",
   "id": "8b271603-6f86-4ce5-b0f8-49ddec0ba52a",
   "metadata": {},
   "source": [
    "Теперь посмотрим, как эти компоненты работают вместе, чтобы захватить и восстановить состояние Создателя."
   ]
  },
  {
   "cell_type": "code",
   "execution_count": 112,
   "id": "8fc5be41-7077-460a-b5ec-35bf08e1889d",
   "metadata": {},
   "outputs": [
    {
     "name": "stdout",
     "output_type": "stream",
     "text": [
      "Originator's state: State1\n",
      "Originator's state: State2\n",
      "Originator's state: State1\n",
      "State 0: State1\n",
      "State 1: State2\n"
     ]
    }
   ],
   "source": [
    "originator = Originator(\"State1\")\n",
    "print(originator)\n",
    "\n",
    "caretaker = Caretaker()\n",
    "\n",
    "caretaker.save_state(originator.create_memento())\n",
    "\n",
    "originator.set_state(\"State2\")\n",
    "print(originator)\n",
    "\n",
    "caretaker.save_state(originator.create_memento())\n",
    "\n",
    "originator.restore(caretaker.restore_state(0))\n",
    "print(originator)\n",
    "\n",
    "caretaker.show_history()"
   ]
  },
  {
   "cell_type": "markdown",
   "id": "8018a99b-73eb-4734-843b-6388a5cf7c41",
   "metadata": {},
   "source": [
    "В некоторых случаях может потребоваться сериализация состояния для его постоянного хранения. Для этой цели можно использовать модуль pickle. Однако следует быть осторожным при использовании pickle с конфиденциальными данными, так как он может выполнять произвольный код во время десериализации."
   ]
  },
  {
   "cell_type": "code",
   "execution_count": 113,
   "id": "0c14d1c3-3bcb-4f1a-aada-14cbb8e26404",
   "metadata": {},
   "outputs": [
    {
     "name": "stdout",
     "output_type": "stream",
     "text": [
      "Originator's state: State1\n"
     ]
    }
   ],
   "source": [
    "import pickle\n",
    "\n",
    "memento = originator.create_memento()\n",
    "serialized_memento = pickle.dumps(memento)\n",
    "\n",
    "deserialized_memento = pickle.loads(serialized_memento)\n",
    "originator.restore(deserialized_memento)\n",
    "print(originator)"
   ]
  },
  {
   "cell_type": "markdown",
   "id": "3e0c27dd-9a68-41b2-949f-d3183820cc58",
   "metadata": {},
   "source": [
    "## Плюсы и минусы Memento\n",
    "- ✓ Не нарушает инкапсуляции исходного объекта.\n",
    "- ✓ Упрощает структуру исходного объекта. Ему не нужно хранить историю версий своего состояния.\n",
    "- ✗ Требует много памяти, если клиенты слишком часто создают снимки.\n",
    "- ✗ Может повлечь дополнительные издержки памяти, если объекты, хранящие историю, не освобождают ресурсы, занятые устаревшими снимками.\n",
    "- ✗ В некоторых языках (например, PHP, Python, JavaScript) сложно гарантировать, чтобы только исходный объект имел доступ к состоянию снимка из-за их динамической структуры."
   ]
  },
  {
   "cell_type": "markdown",
   "id": "e6fa8a4e-c8fd-45ef-b2e9-b90520746a1e",
   "metadata": {},
   "source": [
    "## Отношения с другими паттернами\n",
    "- Команду и Снимок можно использовать сообща для реализации отмены операций. В этом случае объекты команд будут отвечать за выполнение действия над объектом, а снимки будут хранить резервную копию состояния этого объекта, сделанную перед самым запуском команды.\n",
    "- Снимок можно использовать вместе с Итератором, чтобы сохранить текущее состояние обхода структуры данных и вернуться к нему в будущем, если потребуется.\n",
    "- Снимок иногда можно заменить Прототипом, если объект, состояние которого требуется сохранять в истории, довольно простой, не имеет активных ссылок на внешние ресурсы либо их можно легко восстановить.\n",
    "- Паттерны Состояние и Снимок направлены на управление состояниями объектов, но их подходы различаются. Снимок фиксирует и сохраняет состояние объекта для восстановления, в основном используется для функционала «снимка». В отличие от него, паттерн «Состояние» фокусируется на том, чтобы объект мог изменять свое поведение по мере изменения своего внутреннего состояния."
   ]
  },
  {
   "cell_type": "markdown",
   "id": "ddf3a607-a2d0-43d1-9b33-fad9e5ae3d99",
   "metadata": {},
   "source": [
    "## Лучшие практики\n",
    "При хранении Mementos учитывайте следующие вопросы безопасности:\n",
    "- Контроль доступа: убедитесь, что доступ к Mementos имеют только авторизованные компоненты.\n",
    "- Шифрование данных: шифруйте конфиденциальные данные перед их хранением в Mementos.\n",
    "- Безопасное хранение: используйте безопасные механизмы хранения для предотвращения несанкционированного доступа."
   ]
  },
  {
   "cell_type": "markdown",
   "id": "26279768-b6ef-4f17-9005-13266e56398d",
   "metadata": {},
   "source": [
    "# **Visitor**"
   ]
  },
  {
   "attachments": {},
   "cell_type": "markdown",
   "id": "3b1665ae-150b-4fa3-9264-b05f02d573c4",
   "metadata": {},
   "source": [
    "## Проблема\n",
    "Ваша команда разрабатывает приложение, работающее с геоданными в виде графа. Узлами графа являются городские локации: памятники, театры, рестораны, важные предприятия и прочее. Каждый узел имеет ссылки на другие, ближайшие к нему узлы. Каждому типу узлов соответствует свой класс, а каждый узел представлен отдельным объектом.\n",
    "\n",
    "Ваша задача — сделать экспорт этого графа в XML. Дело было бы плёвым, если бы вы могли редактировать классы узлов. Достаточно было бы добавить метод экспорта в каждый тип узла, а затем, перебирая узлы графа, вызывать этот метод для каждого узла. Благодаря полиморфизму, решение получилось бы изящным, так как вам не пришлось бы привязываться к конкретным классам узлов.\n",
    "\n",
    "Но, к сожалению, классы узлов вам изменить не удалось. Системный архитектор сослался на то, что код классов узлов сейчас очень стабилен, и от него многое зависит, поэтому он не хочет рисковать и позволять кому-либо его трогать.\n",
    "\n",
    "К тому же он сомневался в том, что экспорт в XML вообще уместен в рамках этих классов. Их основная задача была связана с геоданными, а экспорт выглядит в рамках этих классов чужеродно.\n",
    "\n",
    "Была и ещё одна причина запрета. Если на следующей неделе вам бы понадобился экспорт в какой-то другой формат данных, то эти классы снова пришлось бы менять.\n",
    "\n",
    "## Структура и Решение\n",
    "Паттерн Посетитель предлагает разместить новое поведение в отдельном классе, вместо того чтобы множить его сразу в нескольких классах. Объекты, с которыми должно было быть связано поведение, не будут выполнять его самостоятельно. Вместо этого вы будете передавать эти объекты в методы посетителя.\n",
    "\n",
    "- Клиент: Класс «Клиент» выступает в качестве потребителя классов шаблона проектирования «Посетитель». Он может получать доступ к объектам структуры данных и давать им указания принять посетителя для дальнейшей обработки.\n",
    "- Посетитель: Абстрактный класс, который используется для объявления операций посещения для всех классов, доступных для посещения.\n",
    "- Конкретные Посетители: каждый посетитель будет отвечать за различные операции. Для каждого типа посетителя должны быть реализованы все методы посещения, объявленные в абстрактном посетителе.\n",
    "- Посещаемый/Элемент: операции принятия объявляются этим классом. Он также выступает в качестве точки входа, которая позволяет объекту быть посещенным посетителем.\n",
    "- Конкретный Посещаемый/Элемент: эти классы реализуют класс «Посещаемый» и определяют операцию принятия. Объект посетителя передается этому объекту с помощью операции принятия."
   ]
  },
  {
   "cell_type": "code",
   "execution_count": 126,
   "id": "4ce6eb71-1cd5-4137-a13a-0ef64a8a8923",
   "metadata": {},
   "outputs": [
    {
     "name": "stdout",
     "output_type": "stream",
     "text": [
      "The client code works with all visitors via the base Visitor interface:\n",
      "A + ConcreteVisitor1\n",
      "B + ConcreteVisitor1\n",
      "It allows the same client code to work with different types of visitors:\n",
      "A + ConcreteVisitor2\n",
      "B + ConcreteVisitor2\n"
     ]
    }
   ],
   "source": [
    "from __future__ import annotations\n",
    "from abc import ABC, abstractmethod\n",
    "from typing import List\n",
    "\n",
    "\n",
    "class Component(ABC):\n",
    "    \"\"\"\n",
    "    Интерфейс Компонента объявляет метод accept, который в качестве аргумента\n",
    "    может получать любой объект, реализующий интерфейс посетителя.\n",
    "    \"\"\"\n",
    "\n",
    "    @abstractmethod\n",
    "    def accept(self, visitor: Visitor) -> None:\n",
    "        pass\n",
    "\n",
    "\n",
    "class ConcreteComponentA(Component):\n",
    "    \"\"\"\n",
    "    Каждый Конкретный Компонент должен реализовать метод accept таким образом,\n",
    "    чтобы он вызывал метод посетителя, соответствующий классу компонента.\n",
    "    \"\"\"\n",
    "\n",
    "    def accept(self, visitor: Visitor) -> None:\n",
    "        \"\"\"\n",
    "        Обратите внимание, мы вызываем visitConcreteComponentA, что\n",
    "        соответствует названию текущего класса. Таким образом мы позволяем\n",
    "        посетителю узнать, с каким классом компонента он работает.\n",
    "        \"\"\"\n",
    "\n",
    "        visitor.visit_concrete_component_a(self)\n",
    "\n",
    "    def exclusive_method_of_concrete_component_a(self) -> str:\n",
    "        \"\"\"\n",
    "        Конкретные Компоненты могут иметь особые методы, не объявленные в их\n",
    "        базовом классе или интерфейсе. Посетитель всё же может использовать эти\n",
    "        методы, поскольку он знает о конкретном классе компонента.\n",
    "        \"\"\"\n",
    "\n",
    "        return \"A\"\n",
    "\n",
    "class ConcreteComponentB(Component):\n",
    "\n",
    "    def accept(self, visitor: Visitor):\n",
    "        visitor.visit_concrete_component_b(self)\n",
    "\n",
    "    def special_method_of_concrete_component_b(self) -> str:\n",
    "        return \"B\"\n",
    "\n",
    "\n",
    "class Visitor(ABC):\n",
    "    \"\"\"\n",
    "    Интерфейс Посетителя объявляет набор методов посещения, соответствующих\n",
    "    классам компонентов. Сигнатура метода посещения позволяет посетителю\n",
    "    определить конкретный класс компонента, с которым он имеет дело.\n",
    "    \"\"\"\n",
    "\n",
    "    @abstractmethod\n",
    "    def visit_concrete_component_a(self, element: ConcreteComponentA) -> None:\n",
    "        pass\n",
    "\n",
    "    @abstractmethod\n",
    "    def visit_concrete_component_b(self, element: ConcreteComponentB) -> None:\n",
    "        pass\n",
    "\n",
    "\n",
    "\"\"\"\n",
    "Конкретные Посетители реализуют несколько версий одного и того же алгоритма,\n",
    "которые могут работать со всеми классами конкретных компонентов.\n",
    "\"\"\"\n",
    "class ConcreteVisitor1(Visitor):\n",
    "    def visit_concrete_component_a(self, element) -> None:\n",
    "        print(f\"{element.exclusive_method_of_concrete_component_a()} + ConcreteVisitor1\")\n",
    "\n",
    "    def visit_concrete_component_b(self, element) -> None:\n",
    "        print(f\"{element.special_method_of_concrete_component_b()} + ConcreteVisitor1\")\n",
    "\n",
    "\n",
    "class ConcreteVisitor2(Visitor):\n",
    "    def visit_concrete_component_a(self, element) -> None:\n",
    "        print(f\"{element.exclusive_method_of_concrete_component_a()} + ConcreteVisitor2\")\n",
    "\n",
    "    def visit_concrete_component_b(self, element) -> None:\n",
    "        print(f\"{element.special_method_of_concrete_component_b()} + ConcreteVisitor2\")\n",
    "\n",
    "\n",
    "def client_code(components: List[Component], visitor: Visitor) -> None:\n",
    "    \"\"\"\n",
    "    Клиентский код может выполнять операции посетителя над любым набором\n",
    "    элементов, не выясняя их конкретных классов. Операция принятия направляет\n",
    "    вызов к соответствующей операции в объекте посетителя.\n",
    "    \"\"\"\n",
    "\n",
    "    # ...\n",
    "    for component in components:\n",
    "        component.accept(visitor)\n",
    "    # ...\n",
    "\n",
    "\n",
    "if __name__ == \"__main__\":\n",
    "    components = [ConcreteComponentA(), ConcreteComponentB()]\n",
    "\n",
    "    print(\"The client code works with all visitors via the base Visitor interface:\")\n",
    "    visitor1 = ConcreteVisitor1()\n",
    "    client_code(components, visitor1)\n",
    "\n",
    "    print(\"It allows the same client code to work with different types of visitors:\")\n",
    "    visitor2 = ConcreteVisitor2()\n",
    "    client_code(components, visitor2)"
   ]
  },
  {
   "cell_type": "markdown",
   "id": "28fc51c9-54e6-4c2b-a1bd-d19840e0c9c8",
   "metadata": {},
   "source": [
    "#### Другой пример:"
   ]
  },
  {
   "cell_type": "code",
   "execution_count": 133,
   "id": "8b798e85-a3f4-4c0e-b0d3-7456bb347cc8",
   "metadata": {},
   "outputs": [
    {
     "name": "stdout",
     "output_type": "stream",
     "text": [
      "SDE Taught by  Instructor\n",
      "SDE studied by  Student\n",
      "STL Taught by  Instructor\n",
      "STL studied by  Student\n",
      "DSA Taught by  Instructor\n",
      "DSA studied by  Student\n"
     ]
    }
   ],
   "source": [
    "class Courses:\n",
    "\n",
    "    def accept(self, visitor):\n",
    "        visitor.visit(self)\n",
    "\n",
    "    def teaching(self, visitor):\n",
    "        print(self, \"Taught by \", visitor)\n",
    "\n",
    "    def studying(self, visitor):\n",
    "        print(self, \"studied by \", visitor)\n",
    "\n",
    "\n",
    "    def __str__(self):\n",
    "        return self.__class__.__name__\n",
    "\n",
    "\n",
    "class SDE(Courses): pass\n",
    "\n",
    "class STL(Courses): pass\n",
    "\n",
    "class DSA(Courses): pass\n",
    "\n",
    "\n",
    "class Visitor:\n",
    "\n",
    "    def __str__(self):\n",
    "        return self.__class__.__name__\n",
    "\n",
    "\n",
    "class Instructor(Visitor):\n",
    "    def visit(self, crop):\n",
    "        crop.teaching(self)\n",
    "\n",
    "class Student(Visitor):\n",
    "    def visit(self, crop):\n",
    "        crop.studying(self)\n",
    "\n",
    "\n",
    "\"\"\"creating objects for concrete classes\"\"\"\n",
    "sde = SDE()\n",
    "stl = STL()\n",
    "dsa = DSA()\n",
    "\n",
    "\"\"\"Creating Visitors\"\"\"\n",
    "instructor = Instructor()\n",
    "student = Student()\n",
    "\n",
    "\"\"\"Visitors visiting courses\"\"\"\n",
    "sde.accept(instructor)\n",
    "sde.accept(student)\n",
    "\n",
    "stl.accept(instructor)\n",
    "stl.accept(student)\n",
    "\n",
    "dsa.accept(instructor)\n",
    "dsa.accept(student)"
   ]
  },
  {
   "cell_type": "markdown",
   "id": "0deab942-0f19-4fbc-b9e6-3b60111fdb77",
   "metadata": {},
   "source": [
    "## Применимость\n",
    "- Когда вам нужно выполнить какую-то операцию над всеми элементами сложной структуры объектов, например, деревом. Посетитель позволяет применять одну и ту же операцию к объектам различных классов.\n",
    "- Когда над объектами сложной структуры объектов надо выполнять некоторые не связанные между собой операции, но вы не хотите «засорять» классы такими операциями.\n",
    "- Когда новое поведение имеет смысл только для некоторых классов из существующей иерархии."
   ]
  },
  {
   "cell_type": "markdown",
   "id": "2a066675-0c18-415f-b054-93e91def283b",
   "metadata": {},
   "source": [
    "## Плюсы и минусы Visitor\n",
    "- ✓ Упрощает добавление операций, работающих со сложными структурами объектов.\n",
    "- ✓ Объединяет родственные операции в одном классе.\n",
    "- ✓ Посетитель может накапливать состояние при обходе структуры элементов.\n",
    "- ✗ Может привести к нарушению инкапсуляции элементов.\n",
    "- ✗ Паттерн не оправдан, если иерархия элементов часто меняется."
   ]
  },
  {
   "cell_type": "markdown",
   "id": "70ad831d-17b3-4828-af23-3ac957c454c8",
   "metadata": {},
   "source": [
    "## Отношения с другими паттернами\n",
    "- Посетитель можно рассматривать как расширенный аналог Команды, который способен работать сразу с несколькими видами получателей.\n",
    "- Вы можете выполнить какое-то действие над всем деревом Компоновщика при помощи Посетителя.\n",
    "- Посетитель можно использовать совместно с Итератором. Итератор будет отвечать за обход структуры данных, а Посетитель — за выполнение действий над каждым её компонентом."
   ]
  }
 ],
 "metadata": {
  "kernelspec": {
   "display_name": "Python 3.13 (venv)",
   "language": "python",
   "name": "py313-venv"
  },
  "language_info": {
   "codemirror_mode": {
    "name": "ipython",
    "version": 3
   },
   "file_extension": ".py",
   "mimetype": "text/x-python",
   "name": "python",
   "nbconvert_exporter": "python",
   "pygments_lexer": "ipython3",
   "version": "3.13.7"
  }
 },
 "nbformat": 4,
 "nbformat_minor": 5
}
