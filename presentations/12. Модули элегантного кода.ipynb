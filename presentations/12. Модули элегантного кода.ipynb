{
 "cells": [
  {
   "cell_type": "markdown",
   "id": "78eec1af",
   "metadata": {},
   "source": [
    "### Доклад №2 \"Модули элегантного кода: typing, enum, pathlib, contextlib, dataclasses\"\n",
    "Лысенко Л.М. B82"
   ]
  },
  {
   "cell_type": "markdown",
   "id": "dcfee14c",
   "metadata": {},
   "source": [
    "> #### Введение"
   ]
  },
  {
   "cell_type": "markdown",
   "id": "266b885d",
   "metadata": {},
   "source": [
    "В современной разработке на Python важно не только написать работающий код, но и сделать его понятным, безопасным и легко расширяемым. Модули **typing**, **enum**, **pathlib**, **contextlib** и **dataclasses** — это инструменты, которые помогают достичь этих целей. Они позволяют разработчикам писать код, который не только выполняет свою функцию, но и делает это элегантно и предсказуемо."
   ]
  },
  {
   "cell_type": "markdown",
   "id": "bc58e8a2",
   "metadata": {},
   "source": [
    "> ### Модуль **typing**"
   ]
  },
  {
   "cell_type": "markdown",
   "id": "e0342b93",
   "metadata": {},
   "source": [
    "Рассмотрим пример:"
   ]
  },
  {
   "cell_type": "code",
   "execution_count": null,
   "id": "3bce3684",
   "metadata": {},
   "outputs": [],
   "source": [
    "def process_data(data):\n",
    "    items = data.get(\"items\")\n",
    "    if items is not None:\n",
    "        return items[0].name\n",
    "    return \"\""
   ]
  },
  {
   "cell_type": "markdown",
   "id": "97a71187",
   "metadata": {},
   "source": [
    "**Мы можем задаться вполне логичными вопросами:**\n",
    ">\n",
    "Что такое **data**? Словарь?\n",
    ">\n",
    "У него точно есть метод **.get()**?\n",
    ">\n",
    "Что возвращает **data.get(\"items\")**? Список?\n",
    ">\n",
    "У элемента этого списка есть атрибут **.name**?\n"
   ]
  },
  {
   "cell_type": "markdown",
   "id": "502eac66",
   "metadata": {},
   "source": [
    "**Вывод**: Чтобы это понять, приходится искать, где эта функция вызывается и что в нее передается. Это медленно и ведет к ошибкам."
   ]
  },
  {
   "cell_type": "markdown",
   "id": "9e978188",
   "metadata": {},
   "source": [
    "---"
   ]
  },
  {
   "cell_type": "markdown",
   "id": "1b31a9c0",
   "metadata": {},
   "source": [
    "Модуль **typing** обеспечивает поддержку выполнения аннотации типов.\n",
    ">\n",
    "**Аннотация типов** – это способ явно указать тип данных для переменной, аргумента функции или возвращаемого значения. Это не влияет на выполнение программы, но помогает статическим анализаторам кода проверять соответствие и выявлять потенциальные ошибки."
   ]
  },
  {
   "cell_type": "markdown",
   "id": "3040bd8f",
   "metadata": {},
   "source": [
    "Мы можем сделать аннотацию для **переменных**:"
   ]
  },
  {
   "cell_type": "code",
   "execution_count": null,
   "id": "1c54d036",
   "metadata": {},
   "outputs": [],
   "source": [
    "name: str = \"Leonardo DiCaprio\"\n",
    "count: int = 100\n",
    "is_active: bool = True"
   ]
  },
  {
   "cell_type": "markdown",
   "id": "15bbc64b",
   "metadata": {},
   "source": [
    "Также можем сделать аннотацию для **функций**:"
   ]
  },
  {
   "cell_type": "code",
   "execution_count": null,
   "id": "42006259",
   "metadata": {},
   "outputs": [],
   "source": [
    "def greet(name: str) -> str:\n",
    "    return f\"Hello, {name}\"\n",
    "\n",
    "# name: str — аргумент name должен быть строкой.\n",
    "# -> str — функция возвращает строку."
   ]
  },
  {
   "cell_type": "markdown",
   "id": "064b9491",
   "metadata": {},
   "source": [
    "Вернемся к начальному примеру:"
   ]
  },
  {
   "cell_type": "code",
   "execution_count": null,
   "id": "d9047b46",
   "metadata": {},
   "outputs": [],
   "source": [
    "# Было непонятно:\n",
    "def process_data(data):\n",
    "    items = data.get(\"items\")\n",
    "    if items is not None:\n",
    "        return items[0].name\n",
    "    return \"\""
   ]
  },
  {
   "cell_type": "code",
   "execution_count": 3,
   "id": "224e5478",
   "metadata": {},
   "outputs": [],
   "source": [
    "# Стало ясно:\n",
    "def process_data(data: dict) -> str:\n",
    "    items = data.get(\"items\")\n",
    "    if items is not None:\n",
    "        return items[0].name\n",
    "    return \"\"\n"
   ]
  },
  {
   "cell_type": "markdown",
   "id": "fe085c62",
   "metadata": {},
   "source": [
    "Рассмотрим некоторые из наиболее часто используемых аннотаций:"
   ]
  },
  {
   "cell_type": "markdown",
   "id": "b84485e4",
   "metadata": {},
   "source": [
    "> #### List[T]\n",
    "Списки описываются с использованием аннтоциии **List[T]**, где **T** – элементов списка."
   ]
  },
  {
   "cell_type": "code",
   "execution_count": 7,
   "id": "120b8afb",
   "metadata": {},
   "outputs": [],
   "source": [
    "from typing import List\n",
    "\n",
    "def process_list(numbers: List[int]) -> None:\n",
    "    for num in numbers:\n",
    "        print(num)"
   ]
  },
  {
   "cell_type": "markdown",
   "id": "56cdf6f9",
   "metadata": {},
   "source": [
    "Без аннотации **List[int]** Python не знает, что **numbers** должен быть списком чисел."
   ]
  },
  {
   "cell_type": "markdown",
   "id": "b27ffeb3",
   "metadata": {},
   "source": [
    "> #### Set[T]\n",
    "\n",
    "Множества описываются с использованием аннотации **Set[T]**, где **T** – элементов множества. "
   ]
  },
  {
   "cell_type": "code",
   "execution_count": null,
   "id": "e25b98df",
   "metadata": {},
   "outputs": [],
   "source": [
    "from typing import Set\n",
    "\n",
    "def unique_elements(items: Set[int]) -> None:\n",
    "    for item in items:\n",
    "        print(item)"
   ]
  },
  {
   "cell_type": "markdown",
   "id": "666a9340",
   "metadata": {},
   "source": [
    "Множества гарантируют уникальность элементов. Аннотация **Set[int]** говорит, что **items** — это множество чисел, а не список или кортеж."
   ]
  },
  {
   "cell_type": "markdown",
   "id": "141d59b4",
   "metadata": {},
   "source": [
    "> #### Dict[K, V]\n",
    "\n",
    "Словари описываются с использованием аннотации **Dict[K, V]**, где **K** – тип ключей, а **V** – тип значений."
   ]
  },
  {
   "cell_type": "code",
   "execution_count": 11,
   "id": "a55809aa",
   "metadata": {},
   "outputs": [],
   "source": [
    "from typing import Dict\n",
    "\n",
    "def count_occurrences(words: Dict[str, int]) -> int:\n",
    "    total_count = 0\n",
    "    for word, count in words.items():\n",
    "        total_count += count\n",
    "    return total_count"
   ]
  },
  {
   "cell_type": "markdown",
   "id": "4c6b7fea",
   "metadata": {},
   "source": [
    "Аннотация **Dict[str, int]** говорит, что **words** – это словарь, где **ключи** – строки, а **значения** – целые числа."
   ]
  },
  {
   "cell_type": "markdown",
   "id": "60685008",
   "metadata": {},
   "source": [
    "> #### Union[A, B]\n",
    "\n",
    "Описывает объединение двух или более типов. Значение может быть любым из указанных."
   ]
  },
  {
   "cell_type": "code",
   "execution_count": 13,
   "id": "c066107f",
   "metadata": {},
   "outputs": [],
   "source": [
    "from typing import Union\n",
    "\n",
    "def handle_value(value: Union[int, float]) -> None:\n",
    "    if isinstance(value, int):\n",
    "        print(\"Integer\")\n",
    "    else:\n",
    "        print(\"Float\")"
   ]
  },
  {
   "cell_type": "markdown",
   "id": "88bf2320",
   "metadata": {},
   "source": [
    "Альтернативная запись:"
   ]
  },
  {
   "cell_type": "code",
   "execution_count": 16,
   "id": "0ff1998a",
   "metadata": {},
   "outputs": [],
   "source": [
    "def handle_value(value: int | float) -> None:\n",
    "    if isinstance(value, int):\n",
    "        print(\"Integer\")\n",
    "    else:\n",
    "        print(\"Float\")"
   ]
  },
  {
   "cell_type": "markdown",
   "id": "4cff2cb3",
   "metadata": {},
   "source": [
    "Здесь **value** может быть или **int**, или **float**."
   ]
  },
  {
   "cell_type": "markdown",
   "id": "a945aeb9",
   "metadata": {},
   "source": [
    "> #### Optional[T]\n",
    "\n",
    "\n",
    "Указывает, что значение может быть либо типом **T**, либо **None**."
   ]
  },
  {
   "cell_type": "code",
   "execution_count": 4,
   "id": "40af7914",
   "metadata": {},
   "outputs": [],
   "source": [
    "from typing import Optional\n",
    "\n",
    "def divide(a: int, b: int) -> Optional[float]: # можно, кстати сделать и так: -> Union[float, None]\n",
    "    if b == 0:\n",
    "        return None\n",
    "    return a / b"
   ]
  },
  {
   "cell_type": "markdown",
   "id": "7a7e487d",
   "metadata": {},
   "source": [
    "Альтернативная запись:"
   ]
  },
  {
   "cell_type": "code",
   "execution_count": 15,
   "id": "92454328",
   "metadata": {},
   "outputs": [],
   "source": [
    "def divide(a: int, b: int) -> float | None:\n",
    "    if b == 0:\n",
    "        return None\n",
    "    return a / b"
   ]
  },
  {
   "cell_type": "markdown",
   "id": "4e57193e",
   "metadata": {},
   "source": [
    "> #### Any\n",
    "\n",
    "**Any** – тип, который означает \"любой тип\". Отключает проверку типов для переменной или параметра. "
   ]
  },
  {
   "cell_type": "code",
   "execution_count": 9,
   "id": "221ee6c3",
   "metadata": {},
   "outputs": [],
   "source": [
    "from typing import Any\n",
    "\n",
    "def process_data(data: Any) -> None:\n",
    "    print(data + 10)  # Статический анализатор не будет ругаться!"
   ]
  },
  {
   "cell_type": "markdown",
   "id": "4a56cf05",
   "metadata": {},
   "source": [
    "Используется, когда тип данных заранее неизвестен или может быть любым.\n",
    ">\n",
    "__*НО! Код с Any труднее анализировать и тестировать.*__\n",
    "\n",
    "Также стоит отметить, что все функции *без возвращаемого типа или типов* параметров неявно по умолчанию будут использовать Any."
   ]
  },
  {
   "cell_type": "markdown",
   "id": "8ef41657",
   "metadata": {},
   "source": [
    "> #### Callable[[ArgTypes...], ReturnType]\n",
    "\n",
    "Тип **Callable** описывает функцию с определенными аргументами и возвращаемым значением. Это удобно, когда нужно передавать функции в качестве аргументов."
   ]
  },
  {
   "cell_type": "code",
   "execution_count": 10,
   "id": "481432e8",
   "metadata": {},
   "outputs": [],
   "source": [
    "from typing import Callable\n",
    "\n",
    "def apply_function(func: Callable[[int, int], int], a: int, b: int) -> int:\n",
    "    return func(a, b)"
   ]
  },
  {
   "cell_type": "markdown",
   "id": "1f631a68",
   "metadata": {},
   "source": [
    "Разберемся более подробно с **func: Callable[[int, int], int], a: int, b: int**. Как это читается?\n",
    ">\n",
    "Функция **apply_function** принимает **3 аргумента**: \n",
    "> Функция **func**, которая принимает два аргумента типа **int** и возвращает значение типа **int**\n",
    ">\n",
    "> **a** и **b** — два целых числа."
   ]
  },
  {
   "cell_type": "markdown",
   "id": "b23a20c2",
   "metadata": {},
   "source": [
    "---"
   ]
  },
  {
   "cell_type": "markdown",
   "id": "2353c337",
   "metadata": {},
   "source": [
    "> ### Модуль **enum**"
   ]
  },
  {
   "cell_type": "markdown",
   "id": "221c91ed",
   "metadata": {},
   "source": [
    "Рассмторим статусы заказов в интернет-магазине <span style=\"color: #7D256F; background-color: white; border-radius: 5px; font-size: 20px; font-weight: bold; padding-left: 5px; padding-right: 5px;\">Wildberries</span> :\n",
    ">\n",
    "1 - оформлен\n",
    ">\n",
    "2 - оплачен\n",
    ">\n",
    "3 - отправлен\n",
    ">\n",
    "4 - получен"
   ]
  },
  {
   "cell_type": "code",
   "execution_count": 18,
   "id": "3e4725f0",
   "metadata": {},
   "outputs": [
    {
     "name": "stdout",
     "output_type": "stream",
     "text": [
      "Заказ оплачен, можно собирать.\n"
     ]
    }
   ],
   "source": [
    "order_status = 2\n",
    "\n",
    "if order_status == 2:\n",
    "    print(\"Заказ оплачен, можно собирать.\")\n",
    "elif order_status == 4:\n",
    "    print(\"Заказ завершен.\")"
   ]
  },
  {
   "cell_type": "markdown",
   "id": "b8449cc8",
   "metadata": {},
   "source": [
    "Но что означает цифра 2? А цифра 4?\n",
    ">\n",
    "Чтобы это понять, нужно искать комментарий или документацию. Это неудобно, код плохо читается, да и в целом легко ошибиться!"
   ]
  },
  {
   "cell_type": "markdown",
   "id": "0a493764",
   "metadata": {},
   "source": [
    "Первое, что приходит на ум – использование строк."
   ]
  },
  {
   "cell_type": "code",
   "execution_count": 19,
   "id": "cd62c13a",
   "metadata": {},
   "outputs": [],
   "source": [
    "order_status = \"paid\""
   ]
  },
  {
   "cell_type": "markdown",
   "id": "d6606363",
   "metadata": {},
   "source": [
    "Лучше? Да, но все равно есть риски: опечатки (\"paid\" vs \"paied\"), сложность автоматического завершения кода."
   ]
  },
  {
   "cell_type": "markdown",
   "id": "3090ceb6",
   "metadata": {},
   "source": [
    "Также можно использовать константы:"
   ]
  },
  {
   "cell_type": "code",
   "execution_count": 20,
   "id": "50e0073c",
   "metadata": {},
   "outputs": [
    {
     "name": "stdout",
     "output_type": "stream",
     "text": [
      "Заказ оплачен, можно собирать.\n"
     ]
    }
   ],
   "source": [
    "ORDER_PROCESSING = 1\n",
    "ORDER_PAID = 2\n",
    "ORDER_SHIPPED = 3\n",
    "ORDER_DELIVERED = 4\n",
    "\n",
    "order_status = ORDER_PAID\n",
    "\n",
    "if order_status == ORDER_PAID:\n",
    "    print(\"Заказ оплачен, можно собирать.\")"
   ]
  },
  {
   "cell_type": "markdown",
   "id": "95f9ddbf",
   "metadata": {},
   "source": [
    "Лучше! Но есть недостатки. Например то, что **константы** — это просто переменные. Ничто не мешает им быть любым числом или даже строкой. А также нет единого пространства имен. Фактически все константы \"*валяются*\" в глобальной области видимости."
   ]
  },
  {
   "attachments": {
    "image.png": {
     "image/png": "[encoded data removed]"
    }
   },
   "cell_type": "markdown",
   "id": "52fe2bec",
   "metadata": {},
   "source": [
    "![image.png](attachment:image.png)"
   ]
  },
  {
   "cell_type": "markdown",
   "id": "ee396e5a",
   "metadata": {},
   "source": [
    "Нам на помощь приходит модуль **enum**!"
   ]
  },
  {
   "cell_type": "markdown",
   "id": "c4d4b7a7",
   "metadata": {},
   "source": [
    "**Перечисления (enum)** – это структура данных, используемая для создания именованных констант.\n",
    ">\n",
    "В Python они помогают организовать код, сделать его более читаемым и избежать ошибок, связанных с использованием \"магических чисел\" или строк. \n",
    ">\n",
    "Этот инструмент особенно полезен при разработке сложных приложений, где требуется упорядочить фиксированные значения, такие как статусы задач, роли пользователей или режимы работы системы."
   ]
  },
  {
   "cell_type": "markdown",
   "id": "5af6ab61",
   "metadata": {},
   "source": [
    "Перепишем наш пример со статусами заказа:"
   ]
  },
  {
   "cell_type": "code",
   "execution_count": 5,
   "id": "f50e6ec0",
   "metadata": {},
   "outputs": [
    {
     "name": "stdout",
     "output_type": "stream",
     "text": [
      "Заказ оплачен, можно собирать!\n",
      "OrderStatus.PAID\n",
      "PAID\n",
      "2\n"
     ]
    }
   ],
   "source": [
    "from enum import Enum\n",
    "\n",
    "class OrderStatus(Enum):\n",
    "    PROCESSING = 1\n",
    "    PAID = 2\n",
    "    SHIPPED = 3\n",
    "    DELIVERED = 4\n",
    "\n",
    "# Создаем переменную с определенным статусом\n",
    "current_status = OrderStatus.PAID\n",
    "\n",
    "# Проверяем статус\n",
    "if current_status == OrderStatus.PAID:\n",
    "    print(\"Заказ оплачен, можно собирать!\")\n",
    "\n",
    "# Выводим на печать\n",
    "print(current_status)\n",
    "print(current_status.name)\n",
    "print(current_status.value)"
   ]
  },
  {
   "cell_type": "markdown",
   "id": "cd9f932f",
   "metadata": {},
   "source": [
    "> #### Рассмотрим основные возможности **enum**:\n",
    "\n",
    "Каждое значение **уникально** и **неизменно**.\n",
    ">\n",
    "Каждый элемент имеет **имя (name)** и **значение (value)**, что делает код **самодокументируемым**.\n",
    ">\n",
    "Перечисления **можно использовать в условиях и проверках**, упрощая сложные конструкции.\n",
    ">\n",
    "Поддержка итерации позволяет легко **перебирать все элементы перечисления**.\n",
    ">\n",
    "Возможность работы с **разными типами данных** (например, строки, числа), что делает **enum** гибким инструментом для различных задач."
   ]
  },
  {
   "cell_type": "markdown",
   "id": "4de384b2",
   "metadata": {},
   "source": [
    "> #### Методы и атрибуты **enum**\n",
    "Методы и атрибуты данной структуры делают работу с перечислениями более удобной и интуитивной. С их помощью можно обращаться к значениям элементов, их именам и структуре, а также выполнять сложные проверки и операции. Они позволяют упростить код, улучшить его читаемость и обеспечивают строгую типизацию.\n",
    "\n",
    "В Python **перечисления** обладают рядом встроенных возможностей, которые упрощают их использование:\n"
   ]
  },
  {
   "cell_type": "markdown",
   "id": "0e2cdf32",
   "metadata": {},
   "source": [
    "Атрибут **name**. Позволяет получить название члена перечисления."
   ]
  },
  {
   "cell_type": "code",
   "execution_count": 53,
   "id": "8e5f3d6c",
   "metadata": {},
   "outputs": [
    {
     "name": "stdout",
     "output_type": "stream",
     "text": [
      "RED\n",
      "GREEN\n"
     ]
    }
   ],
   "source": [
    "class Color(Enum):\n",
    "    RED = 1\n",
    "    GREEN = 2\n",
    "    BLUE = 3\n",
    "\n",
    "print(Color.RED.name)\n",
    "print(Color.GREEN.name)\n"
   ]
  },
  {
   "cell_type": "markdown",
   "id": "992b972b",
   "metadata": {},
   "source": [
    "Атрибут **value**. Содержит значение, присвоенное элементу."
   ]
  },
  {
   "cell_type": "code",
   "execution_count": 28,
   "id": "33673e94",
   "metadata": {},
   "outputs": [
    {
     "name": "stdout",
     "output_type": "stream",
     "text": [
      "1\n",
      "3\n"
     ]
    }
   ],
   "source": [
    "print(Color.RED.value)\n",
    "print(Color.BLUE.value)\n"
   ]
  },
  {
   "cell_type": "markdown",
   "id": "da9617df",
   "metadata": {},
   "source": [
    "Получение доступа к членам перечисления:"
   ]
  },
  {
   "cell_type": "code",
   "execution_count": 46,
   "id": "474c9726",
   "metadata": {},
   "outputs": [
    {
     "name": "stdout",
     "output_type": "stream",
     "text": [
      "Color.RED\n",
      "Color.GREEN\n"
     ]
    }
   ],
   "source": [
    "print(Color(1))\n",
    "print(Color(2))"
   ]
  },
  {
   "cell_type": "code",
   "execution_count": 45,
   "id": "f9499c09",
   "metadata": {},
   "outputs": [
    {
     "name": "stdout",
     "output_type": "stream",
     "text": [
      "Color.RED\n",
      "Color.BLUE\n"
     ]
    }
   ],
   "source": [
    "print(Color['RED'])\n",
    "print(Color['BLUE'])"
   ]
  },
  {
   "cell_type": "markdown",
   "id": "38d27429",
   "metadata": {},
   "source": [
    "**Итерация**. Enum можно перебрать в цикле для получения всех доступных значений."
   ]
  },
  {
   "cell_type": "code",
   "execution_count": 29,
   "id": "3362c76d",
   "metadata": {},
   "outputs": [
    {
     "name": "stdout",
     "output_type": "stream",
     "text": [
      "Color.RED\n",
      "Color.GREEN\n",
      "Color.BLUE\n"
     ]
    }
   ],
   "source": [
    "class Color(Enum):\n",
    "    RED = 1\n",
    "    GREEN = 2\n",
    "    BLUE = 3\n",
    "\n",
    "for color in Color:\n",
    "    print(color)\n"
   ]
  },
  {
   "cell_type": "markdown",
   "id": "4311fd90",
   "metadata": {},
   "source": [
    "**Сравнение**. Члены перечисления можно сравнивать между собой."
   ]
  },
  {
   "cell_type": "code",
   "execution_count": 16,
   "id": "cb791dbc",
   "metadata": {},
   "outputs": [
    {
     "name": "stdout",
     "output_type": "stream",
     "text": [
      "False\n",
      "True\n",
      "True\n"
     ]
    }
   ],
   "source": [
    "from enum import IntEnum # Члены Enum не ведут себя как целые числа и не могут участвовать в целочисленных операциях.\n",
    "\n",
    "class Color(IntEnum):\n",
    "    RED = 1\n",
    "    GREEN = 2\n",
    "    BLUE = 3\n",
    "\n",
    "print(Color.RED == Color.GREEN)  # False\n",
    "print(Color.RED < Color.BLUE)    # True (1 < 3)\n",
    "print(Color.GREEN != Color.BLUE) # True\n"
   ]
  },
  {
   "cell_type": "markdown",
   "id": "60442288",
   "metadata": {},
   "source": [
    "**Приведение к списку**. Enum легко преобразуется в список для удобного доступа ко всем элементам."
   ]
  },
  {
   "cell_type": "code",
   "execution_count": 44,
   "id": "fb65c4d3",
   "metadata": {},
   "outputs": [
    {
     "data": {
      "text/plain": [
       "[<Color.RED: 1>, <Color.GREEN: 2>, <Color.BLUE: 3>]"
      ]
     },
     "execution_count": 44,
     "metadata": {},
     "output_type": "execute_result"
    }
   ],
   "source": [
    "class Color(Enum):\n",
    "    RED = 1\n",
    "    GREEN = 2\n",
    "    BLUE = 3\n",
    "\n",
    "colors_list = list(Color)\n",
    "\n",
    "colors_list"
   ]
  },
  {
   "cell_type": "markdown",
   "id": "13f990de",
   "metadata": {},
   "source": [
    "---"
   ]
  },
  {
   "cell_type": "markdown",
   "id": "20bc1373",
   "metadata": {},
   "source": [
    "Когда точное значение членов перечисления **Enum** не важно, но нужно, чтобы у каждого члена было уникальное значение, можно использовать **enum.auto()**"
   ]
  },
  {
   "cell_type": "markdown",
   "id": "52b8aab6",
   "metadata": {},
   "source": [
    "**Как работает auto()?**\n",
    ">\n",
    "**auto()** — это специальный маркер, который  \"*говорит*\" **Enum**: \"Присвой этому члену следующее доступное значение.\"\n",
    ">\n",
    "По умолчанию значения начинаются с **1** и увеличиваются на **1** для каждого следующего члена."
   ]
  },
  {
   "cell_type": "code",
   "execution_count": 34,
   "id": "2fbc0cf4",
   "metadata": {},
   "outputs": [
    {
     "name": "stdout",
     "output_type": "stream",
     "text": [
      "The value of BLACK is -2\n",
      "The value of RED is -1\n",
      "The value of GREEN is 0\n",
      "The value of BLUE is 1\n"
     ]
    }
   ],
   "source": [
    "from enum import Enum, auto\n",
    "\n",
    "class Color(Enum):\n",
    "    BLACK = -2\n",
    "    RED = auto()    # Значение: -1\n",
    "    GREEN = auto()  # Значение: 0\n",
    "    BLUE = auto()   # Значение: 1\n",
    "\n",
    "for color in Color:\n",
    "    print(f'The value of {color.name} is {color.value}')"
   ]
  },
  {
   "cell_type": "code",
   "execution_count": 46,
   "id": "80487119",
   "metadata": {},
   "outputs": [
    {
     "ename": "TypeError",
     "evalue": "'color' already defined as 'RED'",
     "output_type": "error",
     "traceback": [
      "\u001b[1;31m---------------------------------------------------------------------------\u001b[0m",
      "\u001b[1;31mTypeError\u001b[0m                                 Traceback (most recent call last)",
      "Cell \u001b[1;32mIn[46], line 6\u001b[0m\n\u001b[0;32m      2\u001b[0m \u001b[38;5;28;01mfrom\u001b[39;00m \u001b[38;5;21;01menum\u001b[39;00m \u001b[38;5;28;01mimport\u001b[39;00m Enum, auto\n\u001b[0;32m      4\u001b[0m colors \u001b[38;5;241m=\u001b[39m [\u001b[38;5;124m\"\u001b[39m\u001b[38;5;124mRED\u001b[39m\u001b[38;5;124m\"\u001b[39m, \u001b[38;5;124m\"\u001b[39m\u001b[38;5;124mGREEN\u001b[39m\u001b[38;5;124m\"\u001b[39m, \u001b[38;5;124m\"\u001b[39m\u001b[38;5;124mBLUE\u001b[39m\u001b[38;5;124m\"\u001b[39m]\n\u001b[1;32m----> 6\u001b[0m \u001b[38;5;28;43;01mclass\u001b[39;49;00m\u001b[43m \u001b[49m\u001b[38;5;21;43;01mColor\u001b[39;49;00m\u001b[43m(\u001b[49m\u001b[43mEnum\u001b[49m\u001b[43m)\u001b[49m\u001b[43m:\u001b[49m\n\u001b[0;32m      7\u001b[0m \u001b[43m    \u001b[49m\u001b[38;5;28;43;01mfor\u001b[39;49;00m\u001b[43m \u001b[49m\u001b[43mcolor\u001b[49m\u001b[43m \u001b[49m\u001b[38;5;129;43;01min\u001b[39;49;00m\u001b[43m \u001b[49m\u001b[43mcolors\u001b[49m\u001b[43m:\u001b[49m\u001b[43m \u001b[49m\u001b[38;5;66;43;03m# Ошибка: цикл внутри тела класса\u001b[39;49;00m\n\u001b[0;32m      8\u001b[0m \u001b[43m        \u001b[49m\u001b[43mcolor\u001b[49m\u001b[43m \u001b[49m\u001b[38;5;241;43m=\u001b[39;49m\u001b[43m \u001b[49m\u001b[43mauto\u001b[49m\u001b[43m(\u001b[49m\u001b[43m)\u001b[49m\n",
      "Cell \u001b[1;32mIn[46], line 8\u001b[0m, in \u001b[0;36mColor\u001b[1;34m()\u001b[0m\n\u001b[0;32m      6\u001b[0m \u001b[38;5;28;01mclass\u001b[39;00m \u001b[38;5;21;01mColor\u001b[39;00m(Enum):\n\u001b[0;32m      7\u001b[0m     \u001b[38;5;28;01mfor\u001b[39;00m color \u001b[38;5;129;01min\u001b[39;00m colors: \u001b[38;5;66;03m# Ошибка: цикл внутри тела класса\u001b[39;00m\n\u001b[1;32m----> 8\u001b[0m         \u001b[43mcolor\u001b[49m \u001b[38;5;241m=\u001b[39m auto()\n",
      "File \u001b[1;32mC:\\Program Files\\WindowsApps\\PythonSoftwareFoundation.Python.3.12_3.12.2800.0_x64__qbz5n2kfra8p0\\Lib\\enum.py:443\u001b[0m, in \u001b[0;36m_EnumDict.__setitem__\u001b[1;34m(self, key, value)\u001b[0m\n\u001b[0;32m    440\u001b[0m         key \u001b[38;5;241m=\u001b[39m \u001b[38;5;124m'\u001b[39m\u001b[38;5;124m_order_\u001b[39m\u001b[38;5;124m'\u001b[39m\n\u001b[0;32m    441\u001b[0m \u001b[38;5;28;01melif\u001b[39;00m key \u001b[38;5;129;01min\u001b[39;00m \u001b[38;5;28mself\u001b[39m\u001b[38;5;241m.\u001b[39m_member_names:\n\u001b[0;32m    442\u001b[0m     \u001b[38;5;66;03m# descriptor overwriting an enum?\u001b[39;00m\n\u001b[1;32m--> 443\u001b[0m     \u001b[38;5;28;01mraise\u001b[39;00m \u001b[38;5;167;01mTypeError\u001b[39;00m(\u001b[38;5;124m'\u001b[39m\u001b[38;5;132;01m%r\u001b[39;00m\u001b[38;5;124m already defined as \u001b[39m\u001b[38;5;132;01m%r\u001b[39;00m\u001b[38;5;124m'\u001b[39m \u001b[38;5;241m%\u001b[39m (key, \u001b[38;5;28mself\u001b[39m[key]))\n\u001b[0;32m    444\u001b[0m \u001b[38;5;28;01melif\u001b[39;00m key \u001b[38;5;129;01min\u001b[39;00m \u001b[38;5;28mself\u001b[39m\u001b[38;5;241m.\u001b[39m_ignore:\n\u001b[0;32m    445\u001b[0m     \u001b[38;5;28;01mpass\u001b[39;00m\n",
      "\u001b[1;31mTypeError\u001b[0m: 'color' already defined as 'RED'"
     ]
    }
   ],
   "source": [
    "# предложенный слушателями пример\n",
    "from enum import Enum, auto\n",
    "\n",
    "colors = [\"RED\", \"GREEN\", \"BLUE\"]\n",
    "\n",
    "class Color(Enum):\n",
    "    for color in colors: # Ошибка: цикл внутри тела класса\n",
    "        color = auto()"
   ]
  },
  {
   "cell_type": "markdown",
   "id": "c105ad4b",
   "metadata": {},
   "source": [
    "Python интерпретирует color = auto() как попытку переопределить имя элемента перечисления (например, RED), что запрещено."
   ]
  },
  {
   "cell_type": "markdown",
   "id": "780cdd32",
   "metadata": {},
   "source": [
    "Пример создания enum с auto() с использованием for"
   ]
  },
  {
   "cell_type": "code",
   "execution_count": 32,
   "id": "21a8d0bb",
   "metadata": {},
   "outputs": [
    {
     "name": "stdout",
     "output_type": "stream",
     "text": [
      "The value of RED is 1\n",
      "The value of GREEN is 2\n",
      "The value of BLUE is 3\n"
     ]
    }
   ],
   "source": [
    "from enum import Enum, auto\n",
    "\n",
    "colors = [\"RED\", \"GREEN\", \"BLUE\"]\n",
    "Color = Enum(value='Color', names=dict((name, auto()) for name in colors))\n",
    "\n",
    "for color in Color:\n",
    "    print(f'The value of {color.name} is {color.value}')\n"
   ]
  },
  {
   "cell_type": "markdown",
   "id": "4c66755d",
   "metadata": {},
   "source": [
    "Мы можем также добиться того, чтобы значения членов перечисления enum с auto() шли с интервалом:"
   ]
  },
  {
   "cell_type": "markdown",
   "id": "1350b9b7",
   "metadata": {},
   "source": [
    "https://docs.python.org/3/library/enum.html#enum.auto"
   ]
  },
  {
   "cell_type": "markdown",
   "id": "f27a727c",
   "metadata": {},
   "source": [
    "для этого переопределяют метод generate_next_value()"
   ]
  },
  {
   "cell_type": "markdown",
   "id": "ff8ccec0",
   "metadata": {},
   "source": [
    "https://docs.python.org/3/library/enum.html#enum.Enum._generate_next_value_"
   ]
  },
  {
   "cell_type": "code",
   "execution_count": 44,
   "id": "f7c55d96",
   "metadata": {},
   "outputs": [
    {
     "name": "stdout",
     "output_type": "stream",
     "text": [
      "The value of RED is 2\n",
      "The value of GREEN is 4\n",
      "The value of BLUe is 6\n"
     ]
    }
   ],
   "source": [
    "from enum import Enum, auto\n",
    "\n",
    "class Color(Enum):\n",
    "    def _generate_next_value_(name, start, count, last_values):\n",
    "        return (count + 1) * 2  # Начнем с 2, далее 4, 6 и т.д.\n",
    "    RED = auto()\n",
    "    GREEN = auto()\n",
    "    BLUe = auto()\n",
    "\n",
    "for color in Color:\n",
    "    print(f'The value of {color.name} is {color.value}')\n"
   ]
  },
  {
   "cell_type": "markdown",
   "id": "3581dfc6",
   "metadata": {},
   "source": [
    "> Параметры метода\n",
    "\n",
    "- name: имя текущего элемента перечисления (например, \"RED\").\n",
    ">\n",
    "- start: значение, с которого начинается отсчёт (обычно 1).\n",
    ">\n",
    "- count: порядковый номер текущего элемента (начинается с 0).\n",
    ">\n",
    "- last_values: список значений, присвоенных предыдущим элементам."
   ]
  },
  {
   "cell_type": "markdown",
   "id": "c842da4a",
   "metadata": {},
   "source": [
    "> ### Модуль **pathlib**"
   ]
  },
  {
   "cell_type": "markdown",
   "id": "c5987ec7",
   "metadata": {},
   "source": [
    "Вообще для получения доступа к функциям операционной системы существует модуль **os**, который входит в состав стандартной библиотеки Python.\n",
    ">\n",
    "С его помощью можно выполнять разнообразные операции с файлами и каталогами, такие как создание, удаление, копирование, перемещение и многое другое."
   ]
  },
  {
   "cell_type": "markdown",
   "id": "7d418bdf",
   "metadata": {},
   "source": [
    "Рассмотрим пример:"
   ]
  },
  {
   "cell_type": "code",
   "execution_count": 6,
   "id": "fc1abc0c",
   "metadata": {},
   "outputs": [],
   "source": [
    "import os\n",
    "\n",
    "# Создание пути\n",
    "path = os.path.join('folder', 'subfolder', 'file.txt') # 'folder\\\\subfolder\\\\file.txt'\n",
    "\n",
    "# Проверка существования\n",
    "if os.path.exists(path):\n",
    "    # Получение имени файла\n",
    "    filename = os.path.basename(path)\n",
    "    # Получение директории\n",
    "    directory = os.path.dirname(path)\n",
    "    # Проверка, это файл или папка?\n",
    "    if os.path.isfile(path):\n",
    "        print(f\"Это файл: {filename}\")"
   ]
  },
  {
   "cell_type": "code",
   "execution_count": 7,
   "id": "fc6ca042",
   "metadata": {},
   "outputs": [
    {
     "name": "stdout",
     "output_type": "stream",
     "text": [
      "<class 'str'>\n"
     ]
    }
   ],
   "source": [
    "print(type(path))"
   ]
  },
  {
   "cell_type": "markdown",
   "id": "7a7da84a",
   "metadata": {},
   "source": [
    "##### Кажется, а что тут еще выдумывать?"
   ]
  },
  {
   "cell_type": "markdown",
   "id": "6976c280",
   "metadata": {},
   "source": [
    "Но на деле существуют проблемы такого подхода:\n",
    ">\n",
    "- **Строковый подход**: Пути — это просто строки => легко ошибиться\n",
    ">\n",
    "- **Сложности с кроссплатформенностью**: Хотя **os** абстрагируется от ОС, работа с путями может быть неудобной из-за различий в форматировании разделителей каталогов\n",
    ">\n",
    "- **Неочевидность**: Модуль **os** предоставляет базовые функции для работы с операционной системой, но многие связанные задачи требуют подключения других модулей, например **os.path**"
   ]
  },
  {
   "cell_type": "markdown",
   "id": "4c69059c",
   "metadata": {},
   "source": [
    "---"
   ]
  },
  {
   "cell_type": "markdown",
   "id": "0065f740",
   "metadata": {},
   "source": [
    "Модуль **pathlib** в Python предоставляет объектно-ориентированный способ работы с путями файловой системы, заменяя традиционную обработку путей с помощью строк.\n",
    ">\n",
    "Основная идея, заключается в том, что *путь — это не строка, а объект с методами*."
   ]
  },
  {
   "cell_type": "code",
   "execution_count": null,
   "id": "5a5e0671",
   "metadata": {},
   "outputs": [],
   "source": [
    "from pathlib import Path\n",
    "\n",
    "# Создание объекта пути\n",
    "path = Path('folder') / 'subfolder' / 'file.txt'\n",
    "\n",
    "# Работа методами объекта\n",
    "if path.exists():\n",
    "    if path.is_file():\n",
    "        print(f\"Это файл: {path.name}\")"
   ]
  },
  {
   "cell_type": "code",
   "execution_count": 5,
   "id": "531c0b96",
   "metadata": {},
   "outputs": [
    {
     "name": "stdout",
     "output_type": "stream",
     "text": [
      "<class 'pathlib.WindowsPath'>\n"
     ]
    }
   ],
   "source": [
    "print(type(path))"
   ]
  },
  {
   "cell_type": "markdown",
   "id": "e9a6c0cf",
   "metadata": {},
   "source": [
    "Модуль **pathlib** позволяет пользоваться более естественным синтаксисом, делает автоматическая правильную конкатенацию для текущей ОС и самостоятельно определяет нужные разделители."
   ]
  },
  {
   "cell_type": "code",
   "execution_count": 29,
   "id": "d561a864",
   "metadata": {},
   "outputs": [
    {
     "name": "stdout",
     "output_type": "stream",
     "text": [
      "project\\src\\main.py\n"
     ]
    }
   ],
   "source": [
    "# Вместо os.path.join(...)\n",
    "path = Path('project') / 'src' / 'main.py'\n",
    "print(path) "
   ]
  },
  {
   "cell_type": "code",
   "execution_count": 22,
   "id": "9c214999",
   "metadata": {},
   "outputs": [
    {
     "name": "stdout",
     "output_type": "stream",
     "text": [
      "\\home\\user\\documents\\report.pdf\n"
     ]
    }
   ],
   "source": [
    "# Можно комбинировать разными способами\n",
    "base = Path('/home/user')\n",
    "full_path = base / 'documents' / 'report.pdf'\n",
    "print(full_path)"
   ]
  },
  {
   "cell_type": "markdown",
   "id": "dcbd89a5",
   "metadata": {},
   "source": [
    "> #### Основные свойства объекта **Path**:"
   ]
  },
  {
   "cell_type": "code",
   "execution_count": 2,
   "id": "4da5902c",
   "metadata": {},
   "outputs": [
    {
     "name": "stdout",
     "output_type": "stream",
     "text": [
      "report.pdf\n",
      "report\n",
      ".pdf\n",
      "\\home\\user\\documents\n",
      "('\\\\', 'home', 'user', 'documents', 'report.pdf')\n"
     ]
    }
   ],
   "source": [
    "path = Path('/home/user/documents/report.pdf')\n",
    "\n",
    "print(path.name)\n",
    "print(path.stem)        # имя без расширения\n",
    "print(path.suffix)      # расширение\n",
    "print(path.parent)      # родительский каталог\n",
    "print(path.parts)       # ('/', 'home', 'user', 'documents', 'report.pdf') - кортеж"
   ]
  },
  {
   "cell_type": "code",
   "execution_count": 42,
   "id": "0e144371",
   "metadata": {},
   "outputs": [],
   "source": [
    "# Текущая директория\n",
    "current = Path()\n",
    "\n",
    "# Относительный путь\n",
    "relative_path = Path('folder/file.txt')\n",
    "\n",
    "# Абсолютный путь\n",
    "absolute_windows = Path('C:/Users/Documents/file.txt')\n",
    "\n",
    "# Домашняя директория пользователя\n",
    "home_dir = Path.home()\n",
    "\n",
    "# Текущий рабочий каталог\n",
    "work_dir = Path.cwd()"
   ]
  },
  {
   "cell_type": "markdown",
   "id": "d7b8f42f",
   "metadata": {},
   "source": [
    "Преимущества **pathlib** перед модулем **os** в Python включают объектно-ориентированный подход, делающий код более читаемым и интуитивным, встроенную поддержку кроссплатформенности за счёт автоматической адаптации разделителей пути."
   ]
  },
  {
   "cell_type": "markdown",
   "id": "37e1cf5e",
   "metadata": {},
   "source": [
    "> ### Модуль **contextlib**"
   ]
  },
  {
   "cell_type": "markdown",
   "id": "a8280240",
   "metadata": {},
   "source": [
    "> ##### Что такое **контекст** и **контекстный менеджер**?\n",
    "**Контекст** – это \"окружение\" выполнения кода, сохраняющее состояние, чтобы можно было прервать выполнение и затем продолжить с того же места.\n",
    "> \n",
    "**Контекстный менеджер** – это объект, который управляет этим контекстом, предоставляя методы **__ enter __()** (для входа в контекст) и **__ exit __()** (для выхода из контекста). "
   ]
  },
  {
   "cell_type": "markdown",
   "metadata": {},
   "source": [
    "Расмотрим пример:"
   ]
  },
  {
   "cell_type": "markdown",
   "id": "136ef92d",
   "metadata": {},
   "source": [
    "- Открыли файл -> Поработали с ним -> Закрыли файл"
   ]
  },
  {
   "cell_type": "markdown",
   "metadata": {},
   "source": [
    "Но может возникнуть проблема: можно забыть \"закрыть\" то, что \"открыли\""
   ]
  },
  {
   "cell_type": "code",
   "execution_count": null,
   "id": "41e28991",
   "metadata": {},
   "outputs": [],
   "source": [
    "# Плохо: можно забыть закрыть файл\n",
    "file = open('data.txt')\n",
    "data = file.read()\n",
    "# ... а закрыть? file.close()"
   ]
  },
  {
   "cell_type": "markdown",
   "metadata": {},
   "source": [
    "##### Можно воспользоваться оператором **with**! \n",
    ">\n",
    "Это ключевое слово в Python, используемое **для работы с менеджерами контекста**, которые автоматизируют управление ресурсами, такими как открытие/закрытие файлов или блокировка доступа. Оператор **with** гарантирует, что методы **__ enter __** и **__ exit __** менеджера контекста будут вызваны автоматически, обеспечивая корректное выделение и освобождение ресурсов, даже в случае возникновения ошибок. "
   ]
  },
  {
   "cell_type": "code",
   "execution_count": null,
   "id": "6c624d9e",
   "metadata": {},
   "outputs": [],
   "source": [
    "# Файл закроется автоматически\n",
    "with open('data.txt') as file:\n",
    "    data = file.read()\n",
    "# файл уже закрыт!"
   ]
  },
  {
   "cell_type": "markdown",
   "id": "5dcd59b8",
   "metadata": {},
   "source": [
    "Модуль Python **contextlib** предоставляет инструменты для создания и управления менеджерами контекста, которые упрощают работу с ресурсами, требующими корректного выделения и освобождения, а также для обработки исключений."
   ]
  },
  {
   "cell_type": "markdown",
   "id": "09fcb22e",
   "metadata": {},
   "source": [
    "Главный инструмент: **contextlib.contextmanager** - декоратор в Python, который позволяет превратить функцию-генератор в полноценный менеджер контекста для оператора **with**."
   ]
  },
  {
   "cell_type": "code",
   "execution_count": 56,
   "id": "6644afb9",
   "metadata": {},
   "outputs": [
    {
     "name": "stdout",
     "output_type": "stream",
     "text": [
      "Начало\n",
      "Работаем внутри\n",
      "Конец\n"
     ]
    }
   ],
   "source": [
    "from contextlib import contextmanager\n",
    "\n",
    "@contextmanager\n",
    "def my_context():\n",
    "    # ДЕЛАЕМ что-то ДО (как открыли файл)\n",
    "    print(\"Начало\")\n",
    "    \n",
    "    yield  # здесь выполняется код внутри with\n",
    "    \n",
    "    # ДЕЛАЕМ что-то ПОСЛЕ (как закрыли файл)\n",
    "    print(\"Конец\")\n",
    "\n",
    "# Использование\n",
    "with my_context():\n",
    "    print(\"Работаем внутри\")"
   ]
  },
  {
   "cell_type": "markdown",
   "id": "3a52f85c",
   "metadata": {},
   "source": [
    "> ##### Более понятным языком:\n",
    "\n",
    "Декоратор **@contextmanager** позволяет создавать контекстные менеджеры без написания класса с методами **__ enter __** и **__ exit __**.\n",
    "Вместо этого мы пишем генератор, который использует **yield** для разделения кода на две части:\n",
    "\n",
    "- До **yield** — код, который выполняется перед блоком with (аналог **__ enter __** ).\n",
    ">\n",
    "- После **yield** — код, который выполняется после блока with (аналог **__ exit __** ).\n",
    "\n"
   ]
  },
  {
   "cell_type": "markdown",
   "id": "1ed6b1d9",
   "metadata": {},
   "source": [
    "---"
   ]
  },
  {
   "cell_type": "markdown",
   "id": "02ce35c6",
   "metadata": {},
   "source": [
    "> **Что происходит в примере выше?**\n",
    "\n",
    "Вызов **my_context()** создаёт генератор.\n",
    ">\n",
    "Оператор **with** вызывает генератор, который выполняет код до **yield** (печатает \"Начало\").\n",
    ">\n",
    "Управление передаётся блоку **with** (печатается \"Работаем внутри\").\n",
    ">\n",
    "После завершения блока **with** выполнение продолжается после **yield** (печатается \"Конец\")."
   ]
  },
  {
   "cell_type": "markdown",
   "id": "af8402d2",
   "metadata": {},
   "source": [
    "> #### Другие полезные инструменты **contextlib**"
   ]
  },
  {
   "cell_type": "markdown",
   "id": "abd5eb03",
   "metadata": {},
   "source": [
    "> **suppress** — игнорирование исключений"
   ]
  },
  {
   "cell_type": "code",
   "execution_count": 57,
   "id": "c6e58001",
   "metadata": {},
   "outputs": [],
   "source": [
    "from contextlib import suppress\n",
    "\n",
    "# Вместо try-except-pass\n",
    "with suppress(FileNotFoundError):\n",
    "    os.remove('some_file.txt')\n",
    "    print(\"Файл удален, если существовал\")\n",
    "\n",
    "# Эквивалентно:\n",
    "try:\n",
    "    os.remove('some_file.txt')\n",
    "except FileNotFoundError:\n",
    "    pass"
   ]
  },
  {
   "cell_type": "code",
   "execution_count": 35,
   "id": "e5ea6710",
   "metadata": {},
   "outputs": [],
   "source": [
    "# реализация suppress\n",
    "from contextlib import contextmanager\n",
    "\n",
    "@contextmanager\n",
    "def suppress(*exceptions):\n",
    "    try:\n",
    "        yield  # Выполняется код внутри with\n",
    "    except exceptions:  # Ловим только указанные исключения\n",
    "        pass  # Игнорируем их\n"
   ]
  },
  {
   "cell_type": "markdown",
   "id": "518fb8db",
   "metadata": {},
   "source": [
    "> **closing** — для объектов с close()"
   ]
  },
  {
   "cell_type": "code",
   "execution_count": 59,
   "id": "c02418fe",
   "metadata": {},
   "outputs": [],
   "source": [
    "from contextlib import closing\n",
    "from urllib.request import urlopen\n",
    "\n",
    "# Объект имеет метод close(), но не поддерживает with\n",
    "with closing(urlopen('http://example.com')) as page:\n",
    "    content = page.read()\n",
    "    # page автоматически закроется\n",
    "\n",
    "\n",
    "# Объект, возвращаемый urllib.request.urlopen, имеет метод close(),\n",
    "# но не реализует протокол контекстного менеджера (у него нет методов __enter__ и __exit__).\n",
    "# Поэтому его нельзя напрямую использовать с оператором with"
   ]
  },
  {
   "cell_type": "markdown",
   "id": "1f6ecb56",
   "metadata": {},
   "source": [
    "> Что происходит по шагам?\n",
    "\n",
    "\n",
    "- urlopen('http://example.com')\n",
    ">\n",
    "Открывает HTTP-соединение и возвращает объект HTTPResponse, у которого есть метод close().\n",
    ">\n",
    "- closing(urlopen('http://example.com'))\n",
    ">\n",
    "Функция closing берёт объект HTTPResponse и создаёт для него контекстный менеджер.\n",
    ">\n",
    "- with ... as page:\n",
    ">\n",
    "Оператор with вызывает метод __enter__ контекстного менеджера, который возвращает сам объект HTTPResponse (теперь он доступен как page).\n",
    ">\n",
    "- content = page.read()\n",
    ">\n",
    "Внутри блока with вы читаете содержимое страницы.\n",
    ">\n",
    "- Завершение блока with\n",
    ">\n",
    "После завершения блока with оператор with автоматически вызывает метод __exit__ контекстного менеджера, который в свою очередь вызывает page.close()."
   ]
  },
  {
   "cell_type": "code",
   "execution_count": 34,
   "id": "c4b45242",
   "metadata": {},
   "outputs": [],
   "source": [
    "# реализация closing()\n",
    "from contextlib import contextmanager\n",
    "\n",
    "@contextmanager\n",
    "def closing(obj):\n",
    "    try:\n",
    "        yield obj  # Возвращаем объект при входе в with\n",
    "    finally:\n",
    "        obj.close()  # Закрываем объект при выходе из with\n"
   ]
  },
  {
   "cell_type": "markdown",
   "id": "ccce60ef",
   "metadata": {},
   "source": [
    "> ### Модуль **dataclasses**"
   ]
  },
  {
   "cell_type": "markdown",
   "id": "7ba73bdc",
   "metadata": {},
   "source": [
    "Рассмторим пример:"
   ]
  },
  {
   "cell_type": "code",
   "execution_count": 62,
   "id": "55a31e4b",
   "metadata": {},
   "outputs": [],
   "source": [
    "# Часто приходится писать такие классы:\n",
    "class Point:\n",
    "    def __init__(self, x, y):\n",
    "        self.x = x\n",
    "        self.y = y\n",
    "\n",
    "class Person:\n",
    "    def __init__(self, name, age, email):\n",
    "        self.name = name\n",
    "        self.age = age\n",
    "        self.email = email"
   ]
  },
  {
   "cell_type": "code",
   "execution_count": 64,
   "id": "69cca4d4",
   "metadata": {},
   "outputs": [
    {
     "name": "stdout",
     "output_type": "stream",
     "text": [
      "Leonardo_DiCaprio\n",
      "\n",
      "50\n",
      "\n",
      "leodicap@.email.com\n"
     ]
    }
   ],
   "source": [
    "actor = Person(\"Leonardo_DiCaprio\", 50, \"leodicap@.email.com\")\n",
    "\n",
    "print(actor.name, actor.age, actor.email, sep='\\n\\n')"
   ]
  },
  {
   "cell_type": "markdown",
   "id": "f707f6ab",
   "metadata": {},
   "source": [
    "Но есть неудобство: здесь много \"шаблонного\" кода...\n"
   ]
  },
  {
   "cell_type": "markdown",
   "id": "32429e82",
   "metadata": {},
   "source": [
    "Для каждого класса часто приходится писать:\n",
    "\n",
    "- __ init __ метод\n",
    ">\n",
    "- __ repr __ для красивого вывода\n",
    ">\n",
    "- __ eq __ для сравнения\n",
    "\n",
    "И многое другое..."
   ]
  },
  {
   "cell_type": "markdown",
   "id": "ae42163c",
   "metadata": {},
   "source": [
    "Модуль **dataclasses** предоставляет декоратор **dataclass**, который позволяет создавать **data-классы**. Они позволяют значительно сократить шаблонный код классов. Как правило, такие классы предназначены для хранения некоторого состояния, некоторых данных и когда не требуется какое-то поведение в виде функций."
   ]
  },
  {
   "cell_type": "code",
   "execution_count": 40,
   "id": "03523fad",
   "metadata": {},
   "outputs": [],
   "source": [
    "from dataclasses import dataclass\n",
    "\n",
    "@dataclass\n",
    "class Person:\n",
    "    name: str\n",
    "    age: int\n",
    "    email: str"
   ]
  },
  {
   "cell_type": "code",
   "execution_count": 41,
   "id": "93aef2b9",
   "metadata": {},
   "outputs": [
    {
     "name": "stdout",
     "output_type": "stream",
     "text": [
      "Leonardo_DiCaprio\n",
      "\n",
      "50\n",
      "\n",
      "leodicap@.email.com\n"
     ]
    }
   ],
   "source": [
    "actor = Person(\"Leonardo_DiCaprio\", 50, \"leodicap@.email.com\")\n",
    "\n",
    "print(actor.name, actor.age, actor.email, sep='\\n\\n')"
   ]
  },
  {
   "cell_type": "markdown",
   "id": "278c3c94",
   "metadata": {},
   "source": [
    " И в этом случае в самом классе нам уже не надо указывать конструктор - функцию **__ init __**. Мы просто указываем атрибуты. А Python потом сам сгенерирует конструктор, в который также мы можем передать значения для атрибутов объекта."
   ]
  },
  {
   "cell_type": "markdown",
   "id": "6a0018ea",
   "metadata": {},
   "source": [
    "> ##### Что мы получаем \"бесплатно\"?"
   ]
  },
  {
   "cell_type": "markdown",
   "id": "fd99d2dd",
   "metadata": {},
   "source": [
    "Поймем на примере:"
   ]
  },
  {
   "cell_type": "code",
   "execution_count": 69,
   "id": "5de7bb13",
   "metadata": {},
   "outputs": [
    {
     "name": "stdout",
     "output_type": "stream",
     "text": [
      "Book(title='Python', author='Гвидо', pages=300)\n",
      "True\n",
      "Python\n"
     ]
    }
   ],
   "source": [
    "@dataclass\n",
    "class Book:\n",
    "    title: str\n",
    "    author: str\n",
    "    pages: int\n",
    "\n",
    "book = Book(\"Python\", \"Гвидо\", 300)\n",
    "\n",
    "# 1. __init__ - создание объектов\n",
    "book = Book(\"Python\", \"Гвидо\", 300)\n",
    "\n",
    "# 2. __repr__ - читаемое представление\n",
    "print(book)\n",
    "\n",
    "# 3. __eq__ - сравнение объектов\n",
    "book2 = Book(\"Python\", \"Гвидо\", 300)\n",
    "print(book == book2)\n",
    "\n",
    "# 4. Доступ к атрибутам\n",
    "print(book.title)"
   ]
  },
  {
   "cell_type": "markdown",
   "id": "3b7eaaa5",
   "metadata": {},
   "source": [
    "> Можно использовать значения по умолчанию:"
   ]
  },
  {
   "cell_type": "code",
   "execution_count": 71,
   "id": "95d34f04",
   "metadata": {},
   "outputs": [
    {
     "name": "stdout",
     "output_type": "stream",
     "text": [
      "Config(host='localhost', port=8080, debug=True)\n"
     ]
    }
   ],
   "source": [
    "@dataclass\n",
    "class Config:\n",
    "    host: str = \"localhost\"\n",
    "    port: int = 8080\n",
    "    debug: bool = True\n",
    "\n",
    "config = Config()  # использует значения по умолчанию\n",
    "print(config)"
   ]
  },
  {
   "cell_type": "markdown",
   "id": "abd3338a",
   "metadata": {},
   "source": [
    "> Можно делать неизменяемые объекты!"
   ]
  },
  {
   "cell_type": "code",
   "execution_count": 73,
   "id": "da0dd2b2",
   "metadata": {},
   "outputs": [
    {
     "ename": "FrozenInstanceError",
     "evalue": "cannot assign to field 'red'",
     "output_type": "error",
     "traceback": [
      "\u001b[1;31m---------------------------------------------------------------------------\u001b[0m",
      "\u001b[1;31mFrozenInstanceError\u001b[0m                       Traceback (most recent call last)",
      "Cell \u001b[1;32mIn[73], line 9\u001b[0m\n\u001b[0;32m      5\u001b[0m     blue: \u001b[38;5;28mint\u001b[39m\n\u001b[0;32m      7\u001b[0m color \u001b[38;5;241m=\u001b[39m Color(\u001b[38;5;241m255\u001b[39m, \u001b[38;5;241m0\u001b[39m, \u001b[38;5;241m0\u001b[39m)\n\u001b[1;32m----> 9\u001b[0m \u001b[43mcolor\u001b[49m\u001b[38;5;241;43m.\u001b[39;49m\u001b[43mred\u001b[49m \u001b[38;5;241m=\u001b[39m \u001b[38;5;241m200\u001b[39m  \u001b[38;5;66;03m# Ошибка! Объект нельзя изменить\u001b[39;00m\n",
      "File \u001b[1;32m<string>:4\u001b[0m, in \u001b[0;36m__setattr__\u001b[1;34m(self, name, value)\u001b[0m\n",
      "\u001b[1;31mFrozenInstanceError\u001b[0m: cannot assign to field 'red'"
     ]
    }
   ],
   "source": [
    "@dataclass(frozen=True)\n",
    "class Color:\n",
    "    red: int\n",
    "    green: int\n",
    "    blue: int\n",
    "\n",
    "color = Color(255, 0, 0)\n",
    "\n",
    "color.red = 200  # Ошибка! Объект нельзя изменить"
   ]
  },
  {
   "cell_type": "markdown",
   "id": "1e29b125",
   "metadata": {},
   "source": [
    "> Порядок важен:"
   ]
  },
  {
   "cell_type": "code",
   "execution_count": 46,
   "id": "141cd885",
   "metadata": {},
   "outputs": [
    {
     "name": "stdout",
     "output_type": "stream",
     "text": [
      "True\n"
     ]
    }
   ],
   "source": [
    "@dataclass(order=True)\n",
    "class Person:\n",
    "    name: str\n",
    "    age: int\n",
    "\n",
    "p1 = Person(\"Анна\", 25)\n",
    "p2 = Person(\"Борис\", 30)\n",
    "print(p1 < p2)  # сравнивает по полям по порядку"
   ]
  },
  {
   "cell_type": "markdown",
   "id": "df03791f",
   "metadata": {},
   "source": [
    "> Хотя **data-классы** предназначены прежде всего для хранения различных данных, но также в них можно определять поведение с помощью дополнительных функций:"
   ]
  },
  {
   "cell_type": "code",
   "execution_count": 75,
   "id": "25796b10",
   "metadata": {},
   "outputs": [
    {
     "name": "stdout",
     "output_type": "stream",
     "text": [
      "Tom says hello\n"
     ]
    }
   ],
   "source": [
    "@dataclass\n",
    "class Person:\n",
    "    name: str\n",
    "    age: int\n",
    " \n",
    "    def say_hello(self):\n",
    "        print(f\"{self.name} says hello\")\n",
    " \n",
    " \n",
    "tom = Person(\"Tom\", 38)\n",
    "tom.say_hello()     # Tom says hello"
   ]
  },
  {
   "cell_type": "markdown",
   "id": "d578a094",
   "metadata": {},
   "source": [
    ">\n",
    ">\n",
    ">\n",
    ">\n",
    ">\n",
    ">\n",
    ">\n",
    ">\n",
    "---"
   ]
  },
  {
   "cell_type": "markdown",
   "id": "ff2ac172",
   "metadata": {},
   "source": [
    "#### Список литературы:\n",
    "\n",
    "> **Модуль typing**\n",
    "\n",
    "https://kedu.ru/press-center/articles/info-prog-annotatsii-tipov-v-python-ispolzovanie-modulya-typing/\n",
    ">\n",
    "https://docs-python.ru/standart-library/modul-typing-python/\n",
    "\n",
    "> **Модуль enum**\n",
    "\n",
    "https://kedu.ru/press-center/articles/info-prakticheskoe-rukovodstvo-po-enum-v-python/\n",
    "\n",
    "> **Модуль pathlib**\n",
    "\n",
    "https://django.fun/docs/python/3.11/library/pathlib/\n",
    "\n",
    "> **Модуль contextlib**\n",
    "\n",
    "https://digitology.tech/docs/python_3/library/contextlib.html\n",
    ">\n",
    "https://docs-python.ru/standart-library/modul-contextlib-python/\n",
    "\n",
    "> **Модуль dataclasses**\n",
    "\n",
    "https://metanit.com/python/tutorial/6.5.php\n"
   ]
  }
 ],
 "metadata": {
  "kernelspec": {
   "display_name": "Python 3",
   "language": "python",
   "name": "python3"
  },
  "language_info": {
   "codemirror_mode": {
    "name": "ipython",
    "version": 3
   },
   "file_extension": ".py",
   "mimetype": "text/x-python",
   "name": "python",
   "nbconvert_exporter": "python",
   "pygments_lexer": "ipython3",
   "version": "3.12.10"
  }
 },
 "nbformat": 4,
 "nbformat_minor": 5
}
