{
 "cells": [
  {
   "cell_type": "markdown",
   "id": "0fa90e43",
   "metadata": {},
   "source": [
    "# Интеграция и контроль доступа: Adapter, Decorator, Facade, Proxy\n",
    "\n",
    "## 1. Введение\n",
    "\n",
    "В программной инженерии шаблоны проектирования :это проверенные решения повторяющихся проблем проектирования.  \n",
    "Среди **структурных шаблонов** особое значение имеют **Adapter (Адаптер)**, **Decorator (Декоратор)**, **Facade (Фасад)** и **Proxy (Прокси)**.  \n",
    "Они обеспечивают **интеграцию компонентов** и **контроль доступа** к объектам, делая системы более гибкими, расширяемыми и легко поддерживаемыми.\n",
    "\n",
    "Эти шаблоны способствуют реализации принципов ООП, таких как **инкапсуляция**, **абстракция** и **открытость для расширения**.\n"
   ]
  },
  {
   "cell_type": "markdown",
   "id": "b81523ef",
   "metadata": {},
   "source": [
    "## 2. Шаблон Adapter (Адаптер)\n",
    "\n",
    "### Определение\n",
    "**Adapter** позволяет объектам с несовместимыми интерфейсами работать вместе.  \n",
    "\n",
    "Используется, когда нужно интегрировать новый компонент в существующую систему, не изменяя её код.\n",
    "\n",
    "### Цель\n",
    "Преобразовать интерфейс одного класса в интерфейс, ожидаемый клиентом.\n"
   ]
  },
  {
   "cell_type": "code",
   "execution_count": 5,
   "id": "3479d5ba",
   "metadata": {},
   "outputs": [
    {
     "name": "stdout",
     "output_type": "stream",
     "text": [
      "Sending XML data: <data>{'name': 'Hafid'}</data>\n"
     ]
    }
   ],
   "source": [
    "class XMLService:\n",
    "    def send_xml(self, xml_data):\n",
    "        print(f\"Sending XML data: {xml_data}\")\n",
    "\n",
    "class JSONAdapter:\n",
    "    def __init__(self, service):\n",
    "        self.service = service\n",
    "\n",
    "    def send_json(self, json_data):\n",
    "        xml_data = self._convert_to_xml(json_data)\n",
    "        self.service.send_xml(xml_data)\n",
    "\n",
    "    def _convert_to_xml(self, json_data):\n",
    "        return f\"<data>{json_data}</data>\"\n",
    "\n",
    "# Usage\n",
    "xml_service = XMLService()\n",
    "adapter = JSONAdapter(xml_service)\n",
    "adapter.send_json(\"{'name': 'Hafid'}\")\n"
   ]
  },
  {
   "cell_type": "markdown",
   "id": "04dd87af",
   "metadata": {},
   "source": [
    "## 3. Шаблон Decorator (Декоратор)\n",
    "\n",
    "### Определение\n",
    "**Decorator** добавляет новое поведение объекту **динамически**, не изменяя его класс.  \n",
    "Он оборачивает объект внутри другого объекта, который добавляет функциональность.\n",
    "\n",
    "Поддерживает **принцип открытости/закрытости** классы открыты для расширения, но закрыты для модификации.\n",
    "\n",
    "### Цель\n",
    "Динамически добавлять дополнительные обязанности объекту.\n"
   ]
  },
  {
   "cell_type": "code",
   "execution_count": 8,
   "id": "bcb7e123",
   "metadata": {},
   "outputs": [
    {
     "name": "stdout",
     "output_type": "stream",
     "text": [
      "Sending: ***difaH olleH***\n"
     ]
    }
   ],
   "source": [
    "class MessageSender:\n",
    "    def send(self, message):\n",
    "        print(f\"Sending: {message}\")\n",
    "\n",
    "class EncryptionDecorator:\n",
    "    def __init__(self, sender):\n",
    "        self.sender = sender\n",
    "\n",
    "    def send(self, message):\n",
    "        encrypted = self._encrypt(message)\n",
    "        self.sender.send(encrypted)\n",
    "\n",
    "    def _encrypt(self, message):\n",
    "        return f\"***{message[::-1]}***\"\n",
    "\n",
    "# Usage\n",
    "sender = MessageSender()\n",
    "encrypted_sender = EncryptionDecorator(sender)\n",
    "encrypted_sender.send(\"Hello Hafid\")\n"
   ]
  },
  {
   "cell_type": "markdown",
   "id": "24d8f6cd",
   "metadata": {},
   "source": [
    "## 4. Шаблон Facade (Фасад)\n",
    "\n",
    "### Определение\n",
    "**Facade** предоставляет **упрощённый интерфейс** к сложной системе.  \n",
    "Вместо взаимодействия с множеством классов, клиент использует единый объект фасада.\n",
    "\n",
    "Такой подход упрощает интеграцию и уменьшает зависимость между компонентами.\n",
    "\n",
    "### Цель\n",
    "Предоставить единый интерфейс для набора взаимосвязанных интерфейсов подсистемы.\n"
   ]
  },
  {
   "cell_type": "code",
   "execution_count": 1,
   "id": "ced6547b",
   "metadata": {},
   "outputs": [
    {
     "name": "stdout",
     "output_type": "stream",
     "text": [
      "CPU started\n",
      "Memory loaded\n",
      "Disk read successful\n",
      "Computer started successfully\n"
     ]
    }
   ],
   "source": [
    "class CPU:\n",
    "    def start(self):\n",
    "        print(\"CPU started\")\n",
    "\n",
    "class Memory:\n",
    "    def load(self):\n",
    "        print(\"Memory loaded\")\n",
    "\n",
    "class Disk:\n",
    "    def read(self):\n",
    "        print(\"Disk read successful\")\n",
    "\n",
    "class ComputerFacade:\n",
    "    def __init__(self):\n",
    "        self.cpu = CPU()\n",
    "        self.memory = Memory()\n",
    "        self.disk = Disk()\n",
    "\n",
    "    def start_computer(self):\n",
    "        self.cpu.start()\n",
    "        self.memory.load()\n",
    "        self.disk.read()\n",
    "        print(\"Computer started successfully\")\n",
    "\n",
    "# Usage\n",
    "computer = ComputerFacade()\n",
    "computer.start_computer()\n"
   ]
  },
  {
   "cell_type": "markdown",
   "id": "04bcbbf2",
   "metadata": {},
   "source": [
    "## 5. Шаблон Proxy (Прокси)\n",
    "\n",
    "### Определение\n",
    "**Proxy** предоставляет **заместителя** или **замену** другого объекта для контроля доступа к нему.  \n",
    "Часто используется для безопасности, ленивой инициализации, кэширования или удалённого доступа.\n",
    "\n",
    "### Цель\n",
    "Контролировать доступ к объекту с помощью посредника.\n"
   ]
  },
  {
   "cell_type": "code",
   "execution_count": null,
   "id": "f133d37d",
   "metadata": {},
   "outputs": [
    {
     "name": "stdout",
     "output_type": "stream",
     "text": [
      "Request processed\n"
     ]
    }
   ],
   "source": [
    "class Server:\n",
    "    def request(self):\n",
    "        print(\"Request processed\")\n",
    "\n",
    "class ProxyServer:\n",
    "    def __init__(self, server, authorized):\n",
    "        self.server = server\n",
    "        self.authorized = authorized\n",
    "\n",
    "    def request(self):\n",
    "        if self.authorized:\n",
    "            self.server.request()\n",
    "        else:\n",
    "            print(\"Access denied\")\n",
    "\n",
    "# --- \n",
    "access = input(\"Do you have access? (yes/no): \").strip().lower()\n",
    "\n",
    "# (True  False)\n",
    "is_authorized = access == \"yes\"\n",
    "\n",
    "# proxy\n",
    "server = Server()\n",
    "proxy = ProxyServer(server, is_authorized)\n",
    "\n",
    "# \n",
    "proxy.request()\n"
   ]
  },
  {
   "cell_type": "markdown",
   "id": "3c1871b3",
   "metadata": {},
   "source": [
    "## 6. Сравнительная таблица\n",
    "\n",
    "| Шаблон      | Назначение | Пример использования |\n",
    "|--------------|-------------|----------------------|\n",
    "| **Adapter**  | Интеграция несовместимых интерфейсов |Using the old API |\n",
    "| **Decorator**| Динамическое добавление поведения |Adding encryption and logging |\n",
    "| **Facade**   | Упрощение сложной подсистемы | Easy system startup |\n",
    "| **Proxy**    | Контроль доступа | Lazy loading, security |\n"
   ]
  },
  {
   "cell_type": "markdown",
   "id": "d8d5b27c",
   "metadata": {},
   "source": [
    "## 7. Заключение\n",
    "\n",
    "\n",
    "- **Adapter** обеспечивает совместимость интерфейсов.  \n",
    "- **Decorator** добавляет функциональность без изменения кода.  \n",
    "- **Facade** упрощает взаимодействие с системой.  \n",
    "- **Proxy** управляет доступом и оптимизирует ресурсы.\n",
    "\n"
   ]
  }
 ],
 "metadata": {
  "kernelspec": {
   "display_name": "Python 3",
   "language": "python",
   "name": "python3"
  },
  "language_info": {
   "codemirror_mode": {
    "name": "ipython",
    "version": 3
   },
   "file_extension": ".py",
   "mimetype": "text/x-python",
   "name": "python",
   "nbconvert_exporter": "python",
   "pygments_lexer": "ipython3",
   "version": "3.13.5"
  }
 },
 "nbformat": 4,
 "nbformat_minor": 5
}
