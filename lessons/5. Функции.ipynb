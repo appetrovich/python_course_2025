{
 "cells": [
  {
   "cell_type": "markdown",
   "metadata": {},
   "source": [
    "# Функции в Python"
   ]
  },
  {
   "cell_type": "markdown",
   "metadata": {},
   "source": [
    "### Основы функций в Python\n",
    "```markdown\n",
    "- Функция — это именованный блок кода, который можно многократно вызывать.  \n",
    "- Функции позволяют задавать параметры (входные данные), возвращать результаты и переиспользовать код.  \n",
    "- Использование функций предотвращает дублирование кода (альтернатива \"копировать-вставить\").  \n",
    "- Функции помогают разбивать сложные системы на управляемые части.  \n",
    "- Этот принцип часто называют *divide and conquer* («разделяй и властвуй»).  \n",
    "- Функции могут выступать как основа для реализации **методов объектов (object methods)** в классах.  \n",
    "- Ключевые инструменты, связанные с функциями:  \n",
    "  - вызов функции (call expressions)  \n",
    "  - создание функций (`def`, `lambda`)  \n",
    "  - управление областями видимости (`global`, `nonlocal`)  \n",
    "  - возврат результата (`return`, `yield`)  \n",
    "  - асинхронные вызовы (`async`, `await`)  \n"
   ]
  },
  {
   "cell_type": "code",
   "execution_count": 1,
   "metadata": {},
   "outputs": [
    {
     "name": "stdout",
     "output_type": "stream",
     "text": [
      "Hello Python\n"
     ]
    }
   ],
   "source": [
    "# Обычная функция с параметром\n",
    "def printer(message):\n",
    "    print(\"Hello\", message)\n",
    "\n",
    "printer(\"Python\")"
   ]
  },
  {
   "cell_type": "code",
   "execution_count": 2,
   "metadata": {},
   "outputs": [
    {
     "name": "stdout",
     "output_type": "stream",
     "text": [
      "3\n",
      "9\n"
     ]
    }
   ],
   "source": [
    "# Функция с возвратом результата\n",
    "def adder(a, b=1, *c):\n",
    "    return a + b + (c[0] if c else 0)\n",
    "\n",
    "print(adder(2))       # 3\n",
    "print(adder(2, 3, 4)) # 9"
   ]
  },
  {
   "cell_type": "code",
   "execution_count": 3,
   "metadata": {},
   "outputs": [
    {
     "name": "stdout",
     "output_type": "stream",
     "text": [
      "[<function <lambda> at 0x1054434c0>, <function <lambda> at 0x105443880>] [<function <lambda> at 0x1054434c0>, <function <lambda> at 0x105443880>]\n"
     ]
    }
   ],
   "source": [
    "# lambda-функция\n",
    "funcs = [lambda x: x**2, lambda x: x**3]\n",
    "print(funcs , funcs )  # 9 27"
   ]
  },
  {
   "cell_type": "code",
   "execution_count": 4,
   "metadata": {},
   "outputs": [
    {
     "name": "stdout",
     "output_type": "stream",
     "text": [
      "new\n"
     ]
    }
   ],
   "source": [
    "# Использование global\n",
    "x = \"old\"\n",
    "def changer_global():\n",
    "    global x\n",
    "    x = \"new\"\n",
    "changer_global()\n",
    "print(x)"
   ]
  },
  {
   "cell_type": "code",
   "execution_count": 5,
   "metadata": {},
   "outputs": [
    {
     "name": "stdout",
     "output_type": "stream",
     "text": [
      "new\n"
     ]
    }
   ],
   "source": [
    "# Использование nonlocal\n",
    "def outer():\n",
    "    x = \"old\"\n",
    "    def changer_nonlocal():\n",
    "        nonlocal x\n",
    "        x = \"new\"\n",
    "    changer_nonlocal()\n",
    "    return x\n",
    "print(outer())"
   ]
  },
  {
   "cell_type": "code",
   "execution_count": 6,
   "metadata": {},
   "outputs": [
    {
     "name": "stdout",
     "output_type": "stream",
     "text": [
      "[0, 1, 4, 9, 16]\n"
     ]
    }
   ],
   "source": [
    "# yield для генератора\n",
    "def squares(n):\n",
    "    for i in range(n):\n",
    "        yield i**2\n",
    "print(list(squares(5)))"
   ]
  },
  {
   "cell_type": "code",
   "execution_count": 7,
   "metadata": {},
   "outputs": [],
   "source": [
    "# async/await (упрощённый пример)\n",
    "import asyncio\n",
    "async def producer(x):\n",
    "    await asyncio.sleep(1)\n",
    "    return x * 2"
   ]
  },
  {
   "cell_type": "code",
   "execution_count": null,
   "metadata": {},
   "outputs": [],
   "source": [
    "async def consumer(a, b):\n",
    "    result = await producer(b)\n",
    "    print(a + result)\n",
    "\n",
    "# asyncio.run(consumer(1, 2))  "
   ]
  },
  {
   "cell_type": "markdown",
   "metadata": {},
   "source": [
    "### Важные концепции\n",
    "```markdown\n",
    "  - Аргументы передаются **по объектной ссылке**.  \n",
    "  - Аргументы по умолчанию передаются **по позиции**, также можно использовать `name=value`, `*args`, `**kwargs`.  \n",
    "  - В Python нет объявлений типов и сигнатур — функции принимают и возвращают объекты любых типов.  \n",
    "  - Дополнительно можно использовать атрибуты, аннотации (type hints) и **декораторы (@decorator)** для расширенной логики.  "
   ]
  },
  {
   "cell_type": "markdown",
   "metadata": {},
   "source": [
    "### def и return в функциях\n",
    "```markdown\n",
    "- `def` создаёт объект функции и присваивает его имени.  \n",
    "- Заголовок (`def name(args):`) + тело (внутренний блок).  \n",
    "- Вызов: `name(values)` — запускает тело функции.  \n",
    "- Аргументы в заголовке связываются со значениями при вызове.  \n",
    "- `return` завершает работу функции и возвращает результат.  \n",
    "- Если `return` отсутствует → функция возвращает `None`.  \n"
   ]
  },
  {
   "cell_type": "code",
   "execution_count": 8,
   "metadata": {},
   "outputs": [
    {
     "name": "stdout",
     "output_type": "stream",
     "text": [
      "Hello, Alice\n"
     ]
    }
   ],
   "source": [
    "def greet(name):\n",
    "    print(\"Hello,\", name)\n",
    "\n",
    "greet(\"Alice\")"
   ]
  },
  {
   "cell_type": "code",
   "execution_count": 9,
   "metadata": {},
   "outputs": [
    {
     "name": "stdout",
     "output_type": "stream",
     "text": [
      "Квадрат числа: 25\n"
     ]
    }
   ],
   "source": [
    "# Функция с return\n",
    "def square(x):\n",
    "    return x ** 2\n",
    "\n",
    "result = square(5)\n",
    "print(\"Квадрат числа:\", result)"
   ]
  },
  {
   "cell_type": "code",
   "execution_count": 10,
   "metadata": {},
   "outputs": [
    {
     "name": "stdout",
     "output_type": "stream",
     "text": [
      "Message: Hi\n",
      "Возвращаемое значение: None\n"
     ]
    }
   ],
   "source": [
    "# Функция без return (возвращает None)\n",
    "def printer(msg):\n",
    "    print(\"Message:\", msg)\n",
    "\n",
    "val = printer(\"Hi\")\n",
    "print(\"Возвращаемое значение:\", val)"
   ]
  },
  {
   "cell_type": "markdown",
   "metadata": {},
   "source": [
    "### Выполнение `def` и выражение `lambda`\n",
    "```markdown\n",
    "- `def` — это **исполняемый оператор**: при достижении строки с `def` создаётся объект функции и связывается с именем.  \n",
    "- Можно определять функции не только на верхнем уровне, но и внутри `if`, циклов или даже других функций.  \n",
    "- Имя функции — это всего лишь ссылка на объект. Можно присвоить функцию другой переменной и вызывать её через новое имя.  \n",
    "- К функциям можно добавлять произвольные атрибуты.  \n",
    "- Функции — **объекты первого класса**: их можно хранить в переменных, передавать как аргументы и возвращать как результаты.  \n",
    "- `lambda` создаёт **анонимную функцию** (без имени).  \n",
    "  - Синтаксис: \n",
    "    name = lambda args: expression \n",
    "    - Тело — это одно выражение, результат которого возвращается неявно.  \n",
    "    - Обычно используется для коротких встроенных функций.  \n"
   ]
  },
  {
   "cell_type": "code",
   "execution_count": 11,
   "metadata": {},
   "outputs": [
    {
     "name": "stdout",
     "output_type": "stream",
     "text": [
      "Версия 1\n",
      "Версия 1\n"
     ]
    }
   ],
   "source": [
    "# def выполняется при достижении оператора\n",
    "test = True\n",
    "if test:\n",
    "    def func():\n",
    "        return \"Версия 1\"\n",
    "else:\n",
    "    def func():\n",
    "        return \"Версия 2\"\n",
    "    \n",
    "print(func())  \n",
    "\n",
    "# Имя функции — просто ссылка\n",
    "other = func\n",
    "print(other()) "
   ]
  },
  {
   "cell_type": "code",
   "execution_count": 12,
   "metadata": {},
   "outputs": [
    {
     "name": "stdout",
     "output_type": "stream",
     "text": [
      "данные\n"
     ]
    }
   ],
   "source": [
    "# Атрибуты у функции\n",
    "func.attr = \"данные\"\n",
    "print(func.attr)"
   ]
  },
  {
   "cell_type": "code",
   "execution_count": 13,
   "metadata": {},
   "outputs": [
    {
     "name": "stdout",
     "output_type": "stream",
     "text": [
      "25\n"
     ]
    }
   ],
   "source": [
    "# lambda создаёт анонимную функцию\n",
    "square = lambda x: x ** 2\n",
    "print(square(5))"
   ]
  },
  {
   "cell_type": "code",
   "execution_count": 14,
   "metadata": {},
   "outputs": [
    {
     "name": "stdout",
     "output_type": "stream",
     "text": [
      "[1, 8, 27, 64]\n"
     ]
    }
   ],
   "source": [
    "# можно использовать без имени\n",
    "nums = [1, 2, 3, 4]\n",
    "cubes = list(map(lambda n: n**3, nums))\n",
    "print(cubes)"
   ]
  },
  {
   "cell_type": "markdown",
   "metadata": {},
   "source": [
    "### Определение и вызовы функций\n",
    "```markdown\n",
    "- Определение функции: `def` или `lambda` создают объект функции, но **не вызывают её**.  \n",
    "- Вызов функции: добавляем скобки `()` с аргументами — выполняется тело функции.  \n",
    "- Аргументы передаются **по присваиванию**: имена в заголовке связываются с переданными объектами.  \n",
    "- Функции в Python не ограничены типами аргументов: одна и та же функция может работать с разными объектами.    "
   ]
  },
  {
   "cell_type": "code",
   "execution_count": 16,
   "metadata": {},
   "outputs": [
    {
     "name": "stdout",
     "output_type": "stream",
     "text": [
      "8\n",
      "12.56\n",
      "8\n"
     ]
    }
   ],
   "source": [
    "# Определение через def\n",
    "def times(x, y):\n",
    "    return x * y\n",
    "\n",
    "print(times(2, 4))       # 8\n",
    "print(times(3.14, 4))    # 12.56\n",
    "\n",
    "# Определение через lambda\n",
    "times_lambda = lambda x, y: x * y\n",
    "print(times_lambda(2, 4))  # 8"
   ]
  },
  {
   "cell_type": "markdown",
   "metadata": {},
   "source": [
    "### Полиморфизм в Python\n",
    "```markdown\n",
    "- Полиморфизм — это зависимость результата операции от типов объектов, с которыми она выполняется.  \n",
    "- В Python **каждая операция полиморфна**: `*`, `print`, индексирование, арифметика и т. д.  \n",
    "- Оператор или функция работают, если объекты поддерживают ожидаемый интерфейс (протокол).   \n",
    "- Если объекты не поддерживают ожидаемую операцию, возникает исключение `TypeError`.  "
   ]
  },
  {
   "cell_type": "code",
   "execution_count": 18,
   "metadata": {},
   "outputs": [
    {
     "name": "stdout",
     "output_type": "stream",
     "text": [
      "12\n",
      "PyPyPy\n",
      "Ошибка: can't multiply sequence by non-int of type 'str'\n"
     ]
    }
   ],
   "source": [
    "def times(x, y):\n",
    "    return x * y\n",
    "\n",
    "# Полиморфизм в действии\n",
    "print(times(3, 4))        \n",
    "print(times(\"Py\", 3))     \n",
    "\n",
    "# Ошибка, если объекты не поддерживают операцию\n",
    "try:\n",
    "    print(times(\"not\", \"quite\"))\n",
    "except TypeError as e:\n",
    "    print(\"Ошибка:\", e)"
   ]
  }
 ],
 "metadata": {
  "kernelspec": {
   "display_name": ".venv",
   "language": "python",
   "name": "python3"
  },
  "language_info": {
   "codemirror_mode": {
    "name": "ipython",
    "version": 3
   },
   "file_extension": ".py",
   "mimetype": "text/x-python",
   "name": "python",
   "nbconvert_exporter": "python",
   "pygments_lexer": "ipython3",
   "version": "3.13.7"
  }
 },
 "nbformat": 4,
 "nbformat_minor": 2
}
