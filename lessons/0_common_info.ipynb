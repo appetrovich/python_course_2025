{
 "cells": [
  {
   "cell_type": "markdown",
   "metadata": {},
   "source": [
    "# Занятие 0. Организационные моменты"
   ]
  },
  {
   "cell_type": "markdown",
   "metadata": {},
   "source": [
    "## Коммуникация в рамках курса"
   ]
  },
  {
   "cell_type": "markdown",
   "metadata": {
    "vscode": {
     "languageId": "html"
    }
   },
   "source": [
    "``` markdown\n",
    "Telegram: \n",
    "- В ЛС: @appetrovich1\n",
    "- В беседе: https://t.me/+2Hwmz3j9GGU3Yjdi"
   ]
  },
  {
   "cell_type": "markdown",
   "metadata": {},
   "source": [
    "## Система оценивания"
   ]
  },
  {
   "cell_type": "markdown",
   "metadata": {},
   "source": [
    "``` markdown\n",
    "Итоговая оценка за курс складывается из следующего вида активностей:\n",
    "\n",
    "* Выполнение домашних заданий \n",
    "  - наличие дедлайнов\n",
    "  - после дедлайна 0 баллов за ДЗ\n",
    "* Подготовка докладов \n",
    "  - не менее докладов 2 за семестр\n",
    "  - не менее 15 минут\n",
    "  - наличие практических примеров\n",
    "* Проектная работа\n",
    "  - реализация pet-проекта на Python\n",
    "  - индивидуальная или в команде (до 3 человек)\n",
    "* Устное собеседование\n",
    "  - зачетное мероприятие по материалу курса\n",
    "  - возможно получение автомата\n",
    "* Прочие активности \n",
    "  - Прохождение онлайн-курсов\n",
    "  - Участие в хакатонах"
   ]
  },
  {
   "cell_type": "markdown",
   "metadata": {},
   "source": [
    "# План курса"
   ]
  },
  {
   "cell_type": "markdown",
   "metadata": {},
   "source": [
    "``` markdown\n",
    "* Введение в Python\n",
    "* Основы Python\n",
    "   - Типы данных, функции\n",
    "   - Объектно-ориентированное программирование\n",
    "   - Ассинхронность/многопоточность \n",
    "* Python в Data Science: \n",
    "   - Визуализация и анализ данных \n",
    "   - Машинное и глубокое обучение \n",
    "   - Анализ естественного языка\n",
    "* Разработка сервисов на Python:\n",
    "   - Работа с базами данных\n",
    "   - Backend разработка \n",
    "   - Frontend разработка"
   ]
  }
 ],
 "metadata": {
  "kernelspec": {
   "display_name": "3.10.8",
   "language": "python",
   "name": "python3"
  },
  "language_info": {
   "codemirror_mode": {
    "name": "ipython",
    "version": 3
   },
   "file_extension": ".py",
   "mimetype": "text/x-python",
   "name": "python",
   "nbconvert_exporter": "python",
   "pygments_lexer": "ipython3",
   "version": "3.10.8"
  }
 },
 "nbformat": 4,
 "nbformat_minor": 2
}
