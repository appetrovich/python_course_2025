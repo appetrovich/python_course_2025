{
 "cells": [
  {
   "cell_type": "markdown",
   "metadata": {},
   "source": [
    "# Объекты в Python"
   ]
  },
  {
   "cell_type": "markdown",
   "metadata": {},
   "source": [
    "### Введение в объекты Python\n",
    "```markdown\n",
    "- В Python всё строится вокруг **объектов**  \n",
    "- **Объекты** — данные (числа, строки, списки и т. д.)  \n",
    "- **Операции** — действия над объектами (сложение, объединение и т. п.)  \n",
    "- Даже простые числа — это объекты со значением и набором операций  "
   ]
  },
  {
   "cell_type": "markdown",
   "metadata": {},
   "source": [
    "### Иерархия Python-программ\n",
    "```markdown\n",
    "1. Программы состоят из **модулей**  \n",
    "2. Модули содержат **инструкции (statements)**  \n",
    "3. Инструкции содержат **выражения (expressions)**  \n",
    "4. Выражения создают и обрабатывают **объекты (objects)**"
   ]
  },
  {
   "cell_type": "code",
   "execution_count": 5,
   "metadata": {},
   "outputs": [
    {
     "name": "stdout",
     "output_type": "stream",
     "text": [
      "13\n",
      "HelloHelloHello\n",
      "Hi, Python!\n"
     ]
    }
   ],
   "source": [
    "# примеры объектов\n",
    "a = 10\n",
    "b = 3\n",
    "print(a + b)  \n",
    "\n",
    "s = \"Hello\"\n",
    "print(s * 3)   # операция умножения повторяет строку\n",
    "\n",
    "def greet(name):\n",
    "    return f\"Hi, {name}!\"\n",
    "\n",
    "print(greet(\"Python\"))"
   ]
  },
  {
   "cell_type": "code",
   "execution_count": 6,
   "metadata": {},
   "outputs": [
    {
     "name": "stdout",
     "output_type": "stream",
     "text": [
      "[1, 2, 3, 4, 5]\n",
      "3\n",
      "Ivan\n",
      "{'name': 'Ivan', 'age': 26}\n"
     ]
    }
   ],
   "source": [
    "# Список — упорядоченная коллекция объектов\n",
    "numbers = [1, 2, 3, 4]\n",
    "numbers.append(5)     # добавляем элемент\n",
    "print(numbers)\n",
    "print(numbers[2])     # обращение к элементу по индексу\n",
    "\n",
    "# Словарь — коллекция пар \"ключ: значение\"\n",
    "person = {\"name\": \"Ivan\", \"age\": 25}\n",
    "print(person[\"name\"]) # доступ к значению по ключу\n",
    "person[\"age\"] = 26    # изменение значения\n",
    "print(person)"
   ]
  },
  {
   "cell_type": "markdown",
   "metadata": {},
   "source": [
    "### Зачем нужны встроенные объекты?\n",
    "```markdown\n",
    "- Встроенные объекты позволяют быстро решать задачи без лишнего кода.  \n",
    "- Многие структуры данных (например, стек) можно построить на их основе.  \n",
    "- Они реализованы эффективно (часто на C) и работают быстрее самописных.  \n"
   ]
  },
  {
   "cell_type": "markdown",
   "metadata": {},
   "source": [
    "### Пример: стек на базе списка\n",
    "```markdown\n",
    "- **Стек (LIFO)**: последний вошёл — первый вышел  \n",
    "- Операции: `push` (добавить), `pop` (снять), `peek` (смотреть верх)  \n",
    "- В Python: `list.append(x)` и `list.pop()` ≈ **O(1)**   \n",
    "- Не используйте `pop(0)` — это **O(n)** (сдвиг элементов)  \n"
   ]
  },
  {
   "cell_type": "code",
   "execution_count": 7,
   "metadata": {},
   "outputs": [
    {
     "name": "stdout",
     "output_type": "stream",
     "text": [
      "pop: 30\n",
      "stack: [10, 20]\n",
      "peek: 20\n",
      "4\n",
      "3\n",
      "3\n",
      "Stack([1, 2, 3])\n"
     ]
    }
   ],
   "source": [
    "# Вариант 1: быстрый стек на \"голом\" списке\n",
    "stack = []\n",
    "stack.append(10)     # push\n",
    "stack.append(20)\n",
    "stack.append(30)\n",
    "top = stack.pop()    # pop -> 30\n",
    "print(\"pop:\", top)\n",
    "print(\"stack:\", stack)\n",
    "print(\"peek:\", stack[-1])  # верхний элемент (не снимаем)\n",
    "\n",
    "# Вариант 2: класс-обёртка поверх списка\n",
    "class Stack:\n",
    "    def __init__(self, iterable=None):\n",
    "        self._data = []\n",
    "        if iterable:\n",
    "            for x in iterable:\n",
    "                self.push(x)\n",
    "\n",
    "    def push(self, x):\n",
    "        self._data.append(x)\n",
    "\n",
    "    def pop(self):\n",
    "        if not self._data:\n",
    "            raise IndexError(\"pop from empty stack\") \n",
    "        return self._data.pop()\n",
    "\n",
    "    def peek(self):\n",
    "        if not self._data:\n",
    "            raise IndexError(\"peek from empty stack\")\n",
    "        return self._data[-1]\n",
    "\n",
    "    def is_empty(self):\n",
    "        return not self._data\n",
    "\n",
    "    def __len__(self):\n",
    "        return len(self._data)\n",
    "\n",
    "    def __repr__(self):\n",
    "        return f\"Stack({self._data!r})\"\n",
    "\n",
    "s = Stack([1, 2, 3])\n",
    "s.push(4)\n",
    "print(s.pop())   # 4\n",
    "print(s.peek())  # 3\n",
    "print(len(s))    # 3\n",
    "print(s)         # Stack([1, 2, 3])\n"
   ]
  },
  {
   "cell_type": "markdown",
   "metadata": {},
   "source": [
    "### Основные встроенные типы объектов Python\n",
    "```markdown\n",
    "- Есть **базовые (core) типы**, встроенные в язык:  \n",
    "  - **Числа**: `1234`, `3.1415`, `0b111`, `3+4j`  \n",
    "  - **Строки**: `'hello'`, `\"app's\"`, `b'a\\x01c'`  \n",
    "  - **Списки**: `[1, 2, 3]`, `list(range(5))`  \n",
    "  - **Словари**: `{'ключ': 'значение'}`, `dict(a=1)`  \n",
    "  - **Кортежи**: `(1, 'a', 3)`, `tuple('abc')`  \n",
    "  - **Файлы**: `open('data.txt')`  \n",
    "  - **Множества**: `{'a', 'b'}`, `set('abc')`  \n",
    "  - **Прочие**: `True`, `False`, `None` \n",
    "- Программные единицы тоже объекты: функции, классы, модули.  \n",
    "- Python — язык **динамически типизированный** (тип хранится в объекте, а не в переменной) и **строго типизированный** (операции можно выполнять только допустимые для данного типа).  "
   ]
  },
  {
   "cell_type": "markdown",
   "metadata": {},
   "source": [
    "### Числа в Python\n",
    "```markdown\n",
    "- Поддерживаются разные числовые типы:  \n",
    "  - **int** — целые числа (например, `42`, `-7`)  \n",
    "  - **float** — вещественные числа с плавающей точкой (`3.14`, `-0.5`)  \n",
    "  - **complex** — комплексные числа (`3+4j`)  \n",
    "  - Дополнительно: **Decimal**, **Fraction** (из стандартной библиотеки)  \n",
    "\n",
    "- Обычные операции:  \n",
    "  - `+` — сложение  \n",
    "  - `-` — вычитание  \n",
    "  - `*` — умножение  \n",
    "  - `/` — деление  \n",
    "  - `**` — возведение в степень  \n",
    "\n",
    "- Целые числа не ограничены фиксированным размером (можно считать 2^10000).  \n",
    "\n",
    "- Есть встроенные модули для работы с числами:  \n",
    "  - `math` — математические функции (π, √ и др.)  \n",
    "  - `random` — генерация случайных чисел и выбор случайных элементов  \n",
    "\n",
    "- Python автоматически выбирает подходящий тип числа и управляет памятью.  \n"
   ]
  },
  {
   "cell_type": "code",
   "execution_count": 103,
   "metadata": {},
   "outputs": [
    {
     "name": "stdout",
     "output_type": "stream",
     "text": [
      "345\n",
      "6.0\n",
      "1024\n",
      "3.141592653589793\n",
      "9.219544457292887\n",
      "0.9492913512164308\n",
      "4\n"
     ]
    }
   ],
   "source": [
    "# Примеры работы с числами\n",
    "print(123 + 222)       # сложение\n",
    "print(1.5 * 4)         # умножение с плавающей точкой\n",
    "print(2 ** 10)         # возведение в степень\n",
    "\n",
    "# использование модулей\n",
    "import math, random\n",
    "print(math.pi)         # число π\n",
    "print(math.sqrt(85))   # квадратный корень\n",
    "print(random.random()) # случайное число от 0 до 1\n",
    "print(random.choice([1, 2, 3, 4]))  # случайный выбор из списка\n"
   ]
  },
  {
   "cell_type": "markdown",
   "metadata": {},
   "source": [
    "### Строки в Python\n",
    "```markdown\n",
    "- **Строка (string)** — это упорядоченная последовательность символов.  \n",
    "- Строки можно:  \n",
    "  - индексировать (`S[0]`, `S[-1]`)  \n",
    "  - брать срезы (`S[1:3]`, `S[:-1]`)  \n",
    "  - объединять (`+`)  \n",
    "  - повторять (`*`)  \n",
    "\n",
    "- Индексация:  \n",
    "  - начинается с 0 (первый символ)  \n",
    "  - отрицательные индексы идут с конца  \n",
    "\n",
    "- Срезы (`S[I:J]`):  \n",
    "  - берут подстроку с позиции `I` до позиции `J-1`  \n",
    "  - границы можно опускать (`S[:3]`, `S[2:]`, `S[:]`)  \n",
    "\n",
    "- Строки неизменяемы: операции создают новые объекты.  \n"
   ]
  },
  {
   "cell_type": "code",
   "execution_count": 7,
   "metadata": {},
   "outputs": [
    {
     "name": "stdout",
     "output_type": "stream",
     "text": [
      "4\n",
      "C\n",
      "e\n",
      "od\n",
      "Cod\n",
      "Codexyz\n",
      "CodeCodeCode\n"
     ]
    }
   ],
   "source": [
    "# Работа со строками\n",
    "S = \"Code\"\n",
    "print(len(S))     # длина строки\n",
    "print(S[0])       # первый символ\n",
    "print(S[-1])      # последний символ\n",
    "print(S[1:3])     # срез: символы с индексами 1 и 2\n",
    "print(S[:3])      # срез от начала до 2-го индекса\n",
    "print(S + \"xyz\")  # конкатенация\n",
    "print(S * 3)      # повторение"
   ]
  },
  {
   "cell_type": "markdown",
   "metadata": {},
   "source": [
    "### Неизменяемость и методы строк\n",
    "```markdown\n",
    "- **Строки неизменяемы (immutable)**  \n",
    "  - нельзя изменить символ по индексу: `S[0] = 'z'` → ошибка  \n",
    "  - можно создать новую строку: `'Z' + S[1:]`  \n",
    "\n",
    "- **Иммутабельность в Python**  \n",
    "  - неизменяемые объекты: числа, строки, кортежи  \n",
    "  - изменяемые объекты: списки, словари, множества  \n",
    "\n",
    "- **Обход ограничений**  \n",
    "  - превратить строку в список → изменить символы → собрать обратно через `\"\".join(L)`  \n",
    "  - использовать `bytearray` для изменения байтовых строк  \n",
    "\n",
    "- **Методы строк** (возвращают новые строки, исходная не меняется):  \n",
    "  - `find(sub)` — поиск подстроки  \n",
    "  - `replace(old, new)` — замена подстроки  \n",
    "  - `split(delim)` — разбиение строки  \n",
    "  - `upper()`, `lower()` — смена регистра  \n",
    "  - `isalpha()`, `isdigit()` — проверки содержимого  \n",
    "  - `rstrip()` — обрезка пробелов/символов справа  \n",
    "  - **форматирование строк**:  \n",
    "    - старый стиль: `'%.2f' % 3.1415`  \n",
    "    - метод `.format`: `'{} {}'.format(a, b)`  \n",
    "    - f-строки: `f\"{a} {b}\"`  \n"
   ]
  },
  {
   "cell_type": "code",
   "execution_count": 12,
   "metadata": {},
   "outputs": [
    {
     "name": "stdout",
     "output_type": "stream",
     "text": [
      "Ошибка: 'str' object does not support item assignment\n",
      "Zode\n",
      "['aaa', 'bbb', 'ccccc', 'dd']\n",
      "CODE\n",
      "True\n",
      "СOde\n",
      "Using Python version 3.13\n",
      "Using Python version 3.13\n",
      "Using Python version 3.13\n"
     ]
    }
   ],
   "source": [
    "# Иммутабельность\n",
    "S = \"Code\"\n",
    "try:\n",
    "    S[0] = \"z\"  # Ошибка\n",
    "except TypeError as e:\n",
    "    print(\"Ошибка:\", e)\n",
    "\n",
    "# Создание новой строки\n",
    "S = \"Z\" + S[1:]\n",
    "print(S)\n",
    "\n",
    "# Методы строк\n",
    "line = \"aaa,bbb,ccccc,dd\\n\"\n",
    "print(line.rstrip().split(\",\"))  # ['aaa', 'bbb', 'ccccc', 'dd']\n",
    "\n",
    "S = \"code\"\n",
    "print(S.upper())       # 'CODE'\n",
    "print(S.isalpha())     # True\n",
    "print(S.replace(\"co\", \"СO\"))  \n",
    "\n",
    "# Форматирование\n",
    "tool, major, minor = \"Python\", 3, 4\n",
    "print(\"Using %s version %s.%s\" % (tool, major, minor + 9))     # старый стиль\n",
    "print(\"Using {} version {}.{}\".format(tool, major, minor + 9)) # .format\n",
    "print(f\"Using {tool} version {major}.{minor + 9}\")             # f-строка\n"
   ]
  },
  {
   "cell_type": "markdown",
   "metadata": {},
   "source": [
    "### Получение справки в Python\n",
    "```markdown\n",
    "- **Функция `dir(obj)`**  \n",
    "  - показывает все атрибуты объекта (включая методы)  \n",
    "  - пример: `dir(\"Code\")` → длинный список методов строк  \n",
    "\n",
    "- **Методы со спецсимволами `__...__`**  \n",
    "  - это внутренние методы (например, `__add__` реализует сложение строк)  \n",
    "  - обычно напрямую не используются  \n",
    "\n",
    "- **Функция `help(obj)`**  \n",
    "  - даёт описание объекта или метода  \n",
    "  - пример: `help(str.replace)` → объяснение работы метода `replace`  \n",
    "\n",
    "- **`type(obj)`**  \n",
    "  - возвращает тип объекта → можно использовать вместе с `help`  \n",
    "  - пример: `help(type(\"Code\"))`  \n",
    "\n",
    "- **Система Pydoc**  \n",
    "  - встроенная документация Python, к которой обращаются `help` и `dir`  \n",
    "  - может работать и в HTML-режиме  \n",
    "\n",
    "`dir` помогает найти доступные методы, а `help` — понять, что они делают.  \n"
   ]
  },
  {
   "cell_type": "code",
   "execution_count": 13,
   "metadata": {},
   "outputs": [
    {
     "name": "stdout",
     "output_type": "stream",
     "text": [
      "['__add__', '__class__', '__contains__', '__delattr__', '__dir__', '__doc__', '__eq__', '__format__', '__ge__', '__getattribute__'] ...\n"
     ]
    }
   ],
   "source": [
    "S = \"Code\"\n",
    "\n",
    "# Список всех методов и атрибутов строки\n",
    "print(dir(S)[:10], \"...\")  # часть списка\n"
   ]
  },
  {
   "cell_type": "code",
   "execution_count": 14,
   "metadata": {},
   "outputs": [
    {
     "name": "stdout",
     "output_type": "stream",
     "text": [
      "Codehead!\n"
     ]
    }
   ],
   "source": [
    "# Вызов скрытого метода напрямую (обычно так не делают)\n",
    "print(S.__add__(\"head!\"))  # 'Codehead!'"
   ]
  },
  {
   "cell_type": "code",
   "execution_count": 15,
   "metadata": {},
   "outputs": [
    {
     "name": "stdout",
     "output_type": "stream",
     "text": [
      "Help on built-in function replace:\n",
      "\n",
      "replace(old, new, /, count=-1) method of builtins.str instance\n",
      "    Return a copy with all occurrences of substring old replaced by new.\n",
      "\n",
      "      count\n",
      "        Maximum number of occurrences to replace.\n",
      "        -1 (the default value) means replace all occurrences.\n",
      "\n",
      "    If the optional argument count is given, only the first count occurrences are\n",
      "    replaced.\n",
      "\n"
     ]
    }
   ],
   "source": [
    "# Получение справки по методу\n",
    "help(S.replace)"
   ]
  },
  {
   "cell_type": "code",
   "execution_count": 16,
   "metadata": {},
   "outputs": [
    {
     "name": "stdout",
     "output_type": "stream",
     "text": [
      "Help on class str in module builtins:\n",
      "\n",
      "class str(object)\n",
      " |  str(object='') -> str\n",
      " |  str(bytes_or_buffer[, encoding[, errors]]) -> str\n",
      " |\n",
      " |  Create a new string object from the given object. If encoding or\n",
      " |  errors is specified, then the object must expose a data buffer\n",
      " |  that will be decoded using the given encoding and error handler.\n",
      " |  Otherwise, returns the result of object.__str__() (if defined)\n",
      " |  or repr(object).\n",
      " |  encoding defaults to 'utf-8'.\n",
      " |  errors defaults to 'strict'.\n",
      " |\n",
      " |  Methods defined here:\n",
      " |\n",
      " |  __add__(self, value, /)\n",
      " |      Return self+value.\n",
      " |\n",
      " |  __contains__(self, key, /)\n",
      " |      Return bool(key in self).\n",
      " |\n",
      " |  __eq__(self, value, /)\n",
      " |      Return self==value.\n",
      " |\n",
      " |  __format__(self, format_spec, /)\n",
      " |      Return a formatted version of the string as described by format_spec.\n",
      " |\n",
      " |  __ge__(self, value, /)\n",
      " |      Return self>=value.\n",
      " |\n",
      " |  __getitem__(self, key, /)\n",
      " |      Return self[key].\n",
      " |\n",
      " |  __getnewargs__(self, /)\n",
      " |\n",
      " |  __gt__(self, value, /)\n",
      " |      Return self>value.\n",
      " |\n",
      " |  __hash__(self, /)\n",
      " |      Return hash(self).\n",
      " |\n",
      " |  __iter__(self, /)\n",
      " |      Implement iter(self).\n",
      " |\n",
      " |  __le__(self, value, /)\n",
      " |      Return self<=value.\n",
      " |\n",
      " |  __len__(self, /)\n",
      " |      Return len(self).\n",
      " |\n",
      " |  __lt__(self, value, /)\n",
      " |      Return self<value.\n",
      " |\n",
      " |  __mod__(self, value, /)\n",
      " |      Return self%value.\n",
      " |\n",
      " |  __mul__(self, value, /)\n",
      " |      Return self*value.\n",
      " |\n",
      " |  __ne__(self, value, /)\n",
      " |      Return self!=value.\n",
      " |\n",
      " |  __repr__(self, /)\n",
      " |      Return repr(self).\n",
      " |\n",
      " |  __rmod__(self, value, /)\n",
      " |      Return value%self.\n",
      " |\n",
      " |  __rmul__(self, value, /)\n",
      " |      Return value*self.\n",
      " |\n",
      " |  __sizeof__(self, /)\n",
      " |      Return the size of the string in memory, in bytes.\n",
      " |\n",
      " |  __str__(self, /)\n",
      " |      Return str(self).\n",
      " |\n",
      " |  capitalize(self, /)\n",
      " |      Return a capitalized version of the string.\n",
      " |\n",
      " |      More specifically, make the first character have upper case and the rest lower\n",
      " |      case.\n",
      " |\n",
      " |  casefold(self, /)\n",
      " |      Return a version of the string suitable for caseless comparisons.\n",
      " |\n",
      " |  center(self, width, fillchar=' ', /)\n",
      " |      Return a centered string of length width.\n",
      " |\n",
      " |      Padding is done using the specified fill character (default is a space).\n",
      " |\n",
      " |  count(self, sub[, start[, end]], /)\n",
      " |      Return the number of non-overlapping occurrences of substring sub in string S[start:end].\n",
      " |\n",
      " |      Optional arguments start and end are interpreted as in slice notation.\n",
      " |\n",
      " |  encode(self, /, encoding='utf-8', errors='strict')\n",
      " |      Encode the string using the codec registered for encoding.\n",
      " |\n",
      " |      encoding\n",
      " |        The encoding in which to encode the string.\n",
      " |      errors\n",
      " |        The error handling scheme to use for encoding errors.\n",
      " |        The default is 'strict' meaning that encoding errors raise a\n",
      " |        UnicodeEncodeError.  Other possible values are 'ignore', 'replace' and\n",
      " |        'xmlcharrefreplace' as well as any other name registered with\n",
      " |        codecs.register_error that can handle UnicodeEncodeErrors.\n",
      " |\n",
      " |  endswith(self, suffix[, start[, end]], /)\n",
      " |      Return True if the string ends with the specified suffix, False otherwise.\n",
      " |\n",
      " |      suffix\n",
      " |        A string or a tuple of strings to try.\n",
      " |      start\n",
      " |        Optional start position. Default: start of the string.\n",
      " |      end\n",
      " |        Optional stop position. Default: end of the string.\n",
      " |\n",
      " |  expandtabs(self, /, tabsize=8)\n",
      " |      Return a copy where all tab characters are expanded using spaces.\n",
      " |\n",
      " |      If tabsize is not given, a tab size of 8 characters is assumed.\n",
      " |\n",
      " |  find(self, sub[, start[, end]], /)\n",
      " |      Return the lowest index in S where substring sub is found, such that sub is contained within S[start:end].\n",
      " |\n",
      " |      Optional arguments start and end are interpreted as in slice notation.\n",
      " |      Return -1 on failure.\n",
      " |\n",
      " |  format(self, /, *args, **kwargs)\n",
      " |      Return a formatted version of the string, using substitutions from args and kwargs.\n",
      " |      The substitutions are identified by braces ('{' and '}').\n",
      " |\n",
      " |  format_map(self, mapping, /)\n",
      " |      Return a formatted version of the string, using substitutions from mapping.\n",
      " |      The substitutions are identified by braces ('{' and '}').\n",
      " |\n",
      " |  index(self, sub[, start[, end]], /)\n",
      " |      Return the lowest index in S where substring sub is found, such that sub is contained within S[start:end].\n",
      " |\n",
      " |      Optional arguments start and end are interpreted as in slice notation.\n",
      " |      Raises ValueError when the substring is not found.\n",
      " |\n",
      " |  isalnum(self, /)\n",
      " |      Return True if the string is an alpha-numeric string, False otherwise.\n",
      " |\n",
      " |      A string is alpha-numeric if all characters in the string are alpha-numeric and\n",
      " |      there is at least one character in the string.\n",
      " |\n",
      " |  isalpha(self, /)\n",
      " |      Return True if the string is an alphabetic string, False otherwise.\n",
      " |\n",
      " |      A string is alphabetic if all characters in the string are alphabetic and there\n",
      " |      is at least one character in the string.\n",
      " |\n",
      " |  isascii(self, /)\n",
      " |      Return True if all characters in the string are ASCII, False otherwise.\n",
      " |\n",
      " |      ASCII characters have code points in the range U+0000-U+007F.\n",
      " |      Empty string is ASCII too.\n",
      " |\n",
      " |  isdecimal(self, /)\n",
      " |      Return True if the string is a decimal string, False otherwise.\n",
      " |\n",
      " |      A string is a decimal string if all characters in the string are decimal and\n",
      " |      there is at least one character in the string.\n",
      " |\n",
      " |  isdigit(self, /)\n",
      " |      Return True if the string is a digit string, False otherwise.\n",
      " |\n",
      " |      A string is a digit string if all characters in the string are digits and there\n",
      " |      is at least one character in the string.\n",
      " |\n",
      " |  isidentifier(self, /)\n",
      " |      Return True if the string is a valid Python identifier, False otherwise.\n",
      " |\n",
      " |      Call keyword.iskeyword(s) to test whether string s is a reserved identifier,\n",
      " |      such as \"def\" or \"class\".\n",
      " |\n",
      " |  islower(self, /)\n",
      " |      Return True if the string is a lowercase string, False otherwise.\n",
      " |\n",
      " |      A string is lowercase if all cased characters in the string are lowercase and\n",
      " |      there is at least one cased character in the string.\n",
      " |\n",
      " |  isnumeric(self, /)\n",
      " |      Return True if the string is a numeric string, False otherwise.\n",
      " |\n",
      " |      A string is numeric if all characters in the string are numeric and there is at\n",
      " |      least one character in the string.\n",
      " |\n",
      " |  isprintable(self, /)\n",
      " |      Return True if all characters in the string are printable, False otherwise.\n",
      " |\n",
      " |      A character is printable if repr() may use it in its output.\n",
      " |\n",
      " |  isspace(self, /)\n",
      " |      Return True if the string is a whitespace string, False otherwise.\n",
      " |\n",
      " |      A string is whitespace if all characters in the string are whitespace and there\n",
      " |      is at least one character in the string.\n",
      " |\n",
      " |  istitle(self, /)\n",
      " |      Return True if the string is a title-cased string, False otherwise.\n",
      " |\n",
      " |      In a title-cased string, upper- and title-case characters may only\n",
      " |      follow uncased characters and lowercase characters only cased ones.\n",
      " |\n",
      " |  isupper(self, /)\n",
      " |      Return True if the string is an uppercase string, False otherwise.\n",
      " |\n",
      " |      A string is uppercase if all cased characters in the string are uppercase and\n",
      " |      there is at least one cased character in the string.\n",
      " |\n",
      " |  join(self, iterable, /)\n",
      " |      Concatenate any number of strings.\n",
      " |\n",
      " |      The string whose method is called is inserted in between each given string.\n",
      " |      The result is returned as a new string.\n",
      " |\n",
      " |      Example: '.'.join(['ab', 'pq', 'rs']) -> 'ab.pq.rs'\n",
      " |\n",
      " |  ljust(self, width, fillchar=' ', /)\n",
      " |      Return a left-justified string of length width.\n",
      " |\n",
      " |      Padding is done using the specified fill character (default is a space).\n",
      " |\n",
      " |  lower(self, /)\n",
      " |      Return a copy of the string converted to lowercase.\n",
      " |\n",
      " |  lstrip(self, chars=None, /)\n",
      " |      Return a copy of the string with leading whitespace removed.\n",
      " |\n",
      " |      If chars is given and not None, remove characters in chars instead.\n",
      " |\n",
      " |  partition(self, sep, /)\n",
      " |      Partition the string into three parts using the given separator.\n",
      " |\n",
      " |      This will search for the separator in the string.  If the separator is found,\n",
      " |      returns a 3-tuple containing the part before the separator, the separator\n",
      " |      itself, and the part after it.\n",
      " |\n",
      " |      If the separator is not found, returns a 3-tuple containing the original string\n",
      " |      and two empty strings.\n",
      " |\n",
      " |  removeprefix(self, prefix, /)\n",
      " |      Return a str with the given prefix string removed if present.\n",
      " |\n",
      " |      If the string starts with the prefix string, return string[len(prefix):].\n",
      " |      Otherwise, return a copy of the original string.\n",
      " |\n",
      " |  removesuffix(self, suffix, /)\n",
      " |      Return a str with the given suffix string removed if present.\n",
      " |\n",
      " |      If the string ends with the suffix string and that suffix is not empty,\n",
      " |      return string[:-len(suffix)]. Otherwise, return a copy of the original\n",
      " |      string.\n",
      " |\n",
      " |  replace(self, old, new, /, count=-1)\n",
      " |      Return a copy with all occurrences of substring old replaced by new.\n",
      " |\n",
      " |        count\n",
      " |          Maximum number of occurrences to replace.\n",
      " |          -1 (the default value) means replace all occurrences.\n",
      " |\n",
      " |      If the optional argument count is given, only the first count occurrences are\n",
      " |      replaced.\n",
      " |\n",
      " |  rfind(self, sub[, start[, end]], /)\n",
      " |      Return the highest index in S where substring sub is found, such that sub is contained within S[start:end].\n",
      " |\n",
      " |      Optional arguments start and end are interpreted as in slice notation.\n",
      " |      Return -1 on failure.\n",
      " |\n",
      " |  rindex(self, sub[, start[, end]], /)\n",
      " |      Return the highest index in S where substring sub is found, such that sub is contained within S[start:end].\n",
      " |\n",
      " |      Optional arguments start and end are interpreted as in slice notation.\n",
      " |      Raises ValueError when the substring is not found.\n",
      " |\n",
      " |  rjust(self, width, fillchar=' ', /)\n",
      " |      Return a right-justified string of length width.\n",
      " |\n",
      " |      Padding is done using the specified fill character (default is a space).\n",
      " |\n",
      " |  rpartition(self, sep, /)\n",
      " |      Partition the string into three parts using the given separator.\n",
      " |\n",
      " |      This will search for the separator in the string, starting at the end. If\n",
      " |      the separator is found, returns a 3-tuple containing the part before the\n",
      " |      separator, the separator itself, and the part after it.\n",
      " |\n",
      " |      If the separator is not found, returns a 3-tuple containing two empty strings\n",
      " |      and the original string.\n",
      " |\n",
      " |  rsplit(self, /, sep=None, maxsplit=-1)\n",
      " |      Return a list of the substrings in the string, using sep as the separator string.\n",
      " |\n",
      " |        sep\n",
      " |          The separator used to split the string.\n",
      " |\n",
      " |          When set to None (the default value), will split on any whitespace\n",
      " |          character (including \\n \\r \\t \\f and spaces) and will discard\n",
      " |          empty strings from the result.\n",
      " |        maxsplit\n",
      " |          Maximum number of splits.\n",
      " |          -1 (the default value) means no limit.\n",
      " |\n",
      " |      Splitting starts at the end of the string and works to the front.\n",
      " |\n",
      " |  rstrip(self, chars=None, /)\n",
      " |      Return a copy of the string with trailing whitespace removed.\n",
      " |\n",
      " |      If chars is given and not None, remove characters in chars instead.\n",
      " |\n",
      " |  split(self, /, sep=None, maxsplit=-1)\n",
      " |      Return a list of the substrings in the string, using sep as the separator string.\n",
      " |\n",
      " |        sep\n",
      " |          The separator used to split the string.\n",
      " |\n",
      " |          When set to None (the default value), will split on any whitespace\n",
      " |          character (including \\n \\r \\t \\f and spaces) and will discard\n",
      " |          empty strings from the result.\n",
      " |        maxsplit\n",
      " |          Maximum number of splits.\n",
      " |          -1 (the default value) means no limit.\n",
      " |\n",
      " |      Splitting starts at the front of the string and works to the end.\n",
      " |\n",
      " |      Note, str.split() is mainly useful for data that has been intentionally\n",
      " |      delimited.  With natural text that includes punctuation, consider using\n",
      " |      the regular expression module.\n",
      " |\n",
      " |  splitlines(self, /, keepends=False)\n",
      " |      Return a list of the lines in the string, breaking at line boundaries.\n",
      " |\n",
      " |      Line breaks are not included in the resulting list unless keepends is given and\n",
      " |      true.\n",
      " |\n",
      " |  startswith(self, prefix[, start[, end]], /)\n",
      " |      Return True if the string starts with the specified prefix, False otherwise.\n",
      " |\n",
      " |      prefix\n",
      " |        A string or a tuple of strings to try.\n",
      " |      start\n",
      " |        Optional start position. Default: start of the string.\n",
      " |      end\n",
      " |        Optional stop position. Default: end of the string.\n",
      " |\n",
      " |  strip(self, chars=None, /)\n",
      " |      Return a copy of the string with leading and trailing whitespace removed.\n",
      " |\n",
      " |      If chars is given and not None, remove characters in chars instead.\n",
      " |\n",
      " |  swapcase(self, /)\n",
      " |      Convert uppercase characters to lowercase and lowercase characters to uppercase.\n",
      " |\n",
      " |  title(self, /)\n",
      " |      Return a version of the string where each word is titlecased.\n",
      " |\n",
      " |      More specifically, words start with uppercased characters and all remaining\n",
      " |      cased characters have lower case.\n",
      " |\n",
      " |  translate(self, table, /)\n",
      " |      Replace each character in the string using the given translation table.\n",
      " |\n",
      " |        table\n",
      " |          Translation table, which must be a mapping of Unicode ordinals to\n",
      " |          Unicode ordinals, strings, or None.\n",
      " |\n",
      " |      The table must implement lookup/indexing via __getitem__, for instance a\n",
      " |      dictionary or list.  If this operation raises LookupError, the character is\n",
      " |      left untouched.  Characters mapped to None are deleted.\n",
      " |\n",
      " |  upper(self, /)\n",
      " |      Return a copy of the string converted to uppercase.\n",
      " |\n",
      " |  zfill(self, width, /)\n",
      " |      Pad a numeric string with zeros on the left, to fill a field of the given width.\n",
      " |\n",
      " |      The string is never truncated.\n",
      " |\n",
      " |  ----------------------------------------------------------------------\n",
      " |  Static methods defined here:\n",
      " |\n",
      " |  __new__(*args, **kwargs)\n",
      " |      Create and return a new object.  See help(type) for accurate signature.\n",
      " |\n",
      " |  maketrans(x, y=<unrepresentable>, z=<unrepresentable>, /)\n",
      " |      Return a translation table usable for str.translate().\n",
      " |\n",
      " |      If there is only one argument, it must be a dictionary mapping Unicode\n",
      " |      ordinals (integers) or characters to Unicode ordinals, strings or None.\n",
      " |      Character keys will be then converted to ordinals.\n",
      " |      If there are two arguments, they must be strings of equal length, and\n",
      " |      in the resulting dictionary, each character in x will be mapped to the\n",
      " |      character at the same position in y. If there is a third argument, it\n",
      " |      must be a string, whose characters will be mapped to None in the result.\n",
      "\n"
     ]
    }
   ],
   "source": [
    "# Получение справки по типу строки\n",
    "help(str)"
   ]
  },
  {
   "cell_type": "markdown",
   "metadata": {},
   "source": [
    "### Другие способы записи строк в Python\n",
    "```markdown\n",
    "- **Экранирование символов (escape sequences)**  \n",
    "  - `\\n` — перевод строки  \n",
    "  - `\\t` — табуляция  \n",
    "  - `\\0` — нулевой байт  \n",
    "\n",
    "- **Кавычки**  \n",
    "  - можно использовать `'одинарные'` или `\"двойные\"` кавычки  \n",
    "  - это удобно, чтобы вставлять один тип кавычек внутрь другого без экранирования  \n",
    "\n",
    "- **Многострочные строки**  \n",
    "  - оформляются в `\"\"\"тройных\"\"\"` кавычках  \n",
    "  - сохраняют переносы строк, вставляя `\\n` автоматически  \n",
    "  - удобно для текста, HTML, JSON, временных комментариев  \n",
    "\n",
    "- **\"Сырые\" строки (raw strings)**  \n",
    "  - начинаются с `r'...'`  \n",
    "  - отключают обработку `\\` как управляющего символа  \n",
    "  - полезны для путей в Windows или регулярных выражений  \n"
   ]
  },
  {
   "cell_type": "code",
   "execution_count": 18,
   "metadata": {},
   "outputs": [
    {
     "name": "stdout",
     "output_type": "stream",
     "text": [
      "A\n",
      "B\tC\n",
      "5\n"
     ]
    }
   ],
   "source": [
    "# Escape-последовательности\n",
    "S = 'A\\nB\\tC'\n",
    "print(S)        \n",
    "print(len(S)) \n"
   ]
  },
  {
   "cell_type": "code",
   "execution_count": 19,
   "metadata": {},
   "outputs": [
    {
     "name": "stdout",
     "output_type": "stream",
     "text": [
      "A\u0000B\u0000C\n",
      "5\n"
     ]
    }
   ],
   "source": [
    "# Нулевой байт в строке\n",
    "S = 'A\\0B\\0C'\n",
    "print(S)        # A B C (нулевой байт не виден)\n",
    "print(len(S))   # тоже 5 символов"
   ]
  },
  {
   "cell_type": "code",
   "execution_count": 20,
   "metadata": {},
   "outputs": [
    {
     "name": "stdout",
     "output_type": "stream",
     "text": [
      "It's OK\n",
      "\"Quoted\"\n"
     ]
    }
   ],
   "source": [
    "# Разные кавычки\n",
    "print(\"It's OK\")     # можно вложить апостроф\n",
    "print('\"Quoted\"')    # можно вложить двойные кавычки"
   ]
  },
  {
   "cell_type": "code",
   "execution_count": 21,
   "metadata": {},
   "outputs": [
    {
     "name": "stdout",
     "output_type": "stream",
     "text": [
      "\n",
      "Hello\n",
      "World\n",
      "\n"
     ]
    }
   ],
   "source": [
    "# Многострочная строка\n",
    "msg = \"\"\"\n",
    "Hello\n",
    "World\n",
    "\"\"\"\n",
    "print(msg)"
   ]
  },
  {
   "cell_type": "code",
   "execution_count": 22,
   "metadata": {},
   "outputs": [
    {
     "name": "stdout",
     "output_type": "stream",
     "text": [
      "C:\\Users\\you\\code\n"
     ]
    }
   ],
   "source": [
    "# Сырая строка\n",
    "path = r'C:\\Users\\you\\code'\n",
    "print(path)"
   ]
  },
  {
   "cell_type": "markdown",
   "metadata": {},
   "source": [
    "### Юникод-строки в Python\n",
    "```markdown\n",
    "- **`str` (обычные строки)** — работают с текстом в формате Unicode (поддержка любых языков, символов и эмодзи).  \n",
    "- **`bytes` и `bytearray`** — работают с «сырыми» байтами (например, содержимое файлов, закодированный текст).  "
   ]
  },
  {
   "cell_type": "code",
   "execution_count": 26,
   "metadata": {},
   "outputs": [
    {
     "name": "stdout",
     "output_type": "stream",
     "text": [
      "hÄck\n"
     ]
    }
   ],
   "source": [
    "# str — Unicode-текст\n",
    "print('hÄck')     "
   ]
  },
  {
   "cell_type": "code",
   "execution_count": 27,
   "metadata": {},
   "outputs": [
    {
     "name": "stdout",
     "output_type": "stream",
     "text": [
      "b'a\\x01c'\n"
     ]
    }
   ],
   "source": [
    "# bytes — последовательность байтов\n",
    "print(b'a\\x01c')     "
   ]
  },
  {
   "cell_type": "code",
   "execution_count": 29,
   "metadata": {},
   "outputs": [
    {
     "name": "stdout",
     "output_type": "stream",
     "text": [
      "b'Code'\n",
      "b'\\xff\\xfeC\\x00o\\x00d\\x00e\\x00'\n"
     ]
    }
   ],
   "source": [
    "s = 'Code'\n",
    "print(s.encode('utf-8'))   \n",
    "print(s.encode('utf-16'))  "
   ]
  },
  {
   "cell_type": "markdown",
   "metadata": {},
   "source": [
    "```markdown\n",
    "- Символы в Unicode имеют кодовые точки (числовые значения).\n",
    "- Размер символа в байтах зависит от выбранной кодировки: UTF-8, UTF-16 и др."
   ]
  },
  {
   "cell_type": "code",
   "execution_count": 31,
   "metadata": {},
   "outputs": [
    {
     "name": "stdout",
     "output_type": "stream",
     "text": [
      "0x1f40d\n",
      "1\n",
      "4\n",
      "6\n"
     ]
    }
   ],
   "source": [
    "print(hex(ord('🐍')))       \n",
    "print(len('🐍'))            \n",
    "print(len('🐍'.encode('utf-8')))  \n",
    "print(len('🐍'.encode('utf-16')))  "
   ]
  },
  {
   "cell_type": "markdown",
   "metadata": {},
   "source": [
    "```markdown\n",
    "- В str все варианты интерпретируются как Unicode-символы.\n",
    "- В bytes используются только \\xNN — это не символы, а значения байтов."
   ]
  },
  {
   "cell_type": "code",
   "execution_count": 35,
   "metadata": {},
   "outputs": [
    {
     "name": "stdout",
     "output_type": "stream",
     "text": [
      "£\n",
      "b'\\xa3'\n",
      "£\n"
     ]
    }
   ],
   "source": [
    "print('\\u00A3')                      \n",
    "print('\\u00A3'.encode('latin1'))     \n",
    "print(b'\\xA3'.decode('latin1'))    "
   ]
  },
  {
   "cell_type": "markdown",
   "metadata": {},
   "source": [
    "### Списки (Lists) в Python  \n",
    "```markdown\n",
    "- **Списки** — это универсальные последовательности в Python.  \n",
    "- Могут содержать объекты **любых типов** (числа, строки, списки и т.д.).  \n",
    "- **Не имеют фиксированного размера**: можно добавлять и удалять элементы.  \n",
    "- **Мутируемые** (в отличие от строк): можно изменять элементы «на месте».  \n"
   ]
  },
  {
   "cell_type": "code",
   "execution_count": 36,
   "metadata": {},
   "outputs": [],
   "source": [
    "# Создаём список с элементами разных типов\n",
    "L = [123, 'text', 1.23]\n"
   ]
  },
  {
   "cell_type": "code",
   "execution_count": 37,
   "metadata": {},
   "outputs": [
    {
     "name": "stdout",
     "output_type": "stream",
     "text": [
      "3\n",
      "123\n",
      "[123, 'text']\n",
      "[123, 'text', 1.23, 4, 5]\n",
      "[123, 'text', 1.23, 123, 'text', 1.23]\n"
     ]
    }
   ],
   "source": [
    "print(len(L))       \n",
    "print(L[0])         \n",
    "print(L[:-1])       \n",
    "print(L + [4, 5])   \n",
    "print(L * 2)        "
   ]
  },
  {
   "cell_type": "code",
   "execution_count": 38,
   "metadata": {},
   "outputs": [
    {
     "name": "stdout",
     "output_type": "stream",
     "text": [
      "[123, 'text', 1.23, 'Py']\n",
      "[123, 'text', 'Py']\n"
     ]
    }
   ],
   "source": [
    "L.append('Py')      \n",
    "print(L)       \n",
    "     \n",
    "L.pop(2)            \n",
    "print(L)            "
   ]
  },
  {
   "cell_type": "code",
   "execution_count": 39,
   "metadata": {},
   "outputs": [
    {
     "name": "stdout",
     "output_type": "stream",
     "text": [
      "['aa', 'bb', 'cc']\n",
      "['cc', 'bb', 'aa']\n"
     ]
    }
   ],
   "source": [
    "M = ['bb', 'aa', 'cc']\n",
    "M.sort()            \n",
    "print(M)            \n",
    "\n",
    "M.reverse()         \n",
    "print(M)            "
   ]
  },
  {
   "cell_type": "markdown",
   "metadata": {},
   "source": [
    "### Проверка границ и Вложенные списки (Nesting)\n",
    "```markdown\n",
    "- В Python список **не увеличивается автоматически**, если обратиться к несуществующему элементу.  \n",
    "  Попытка доступа или присвоения по индексу вне диапазона вызовет **ошибку**.  \n",
    "- Для расширения списка используем методы (`append`, `extend`, `insert`) или создаём новый список.  \n"
   ]
  },
  {
   "cell_type": "code",
   "execution_count": 14,
   "metadata": {},
   "outputs": [
    {
     "name": "stdout",
     "output_type": "stream",
     "text": [
      "123\n",
      "[123, 'text', 'Py', 42]\n"
     ]
    }
   ],
   "source": [
    "L = [123, 'text', 'Py']\n",
    "\n",
    "print(L[0])        \n",
    "# print(L[99])     # Ошибка: IndexError\n",
    "\n",
    "# L[99] = 1       # Ошибка: нельзя присвоить \"за пределами\"\n",
    "L.append(42)       \n",
    "print(L)           "
   ]
  },
  {
   "cell_type": "markdown",
   "metadata": {},
   "source": [
    "```markdown\n",
    "- Списки и другие объекты Python можно вкладывать друг в друга без ограничений.\n",
    "- Это удобно для представления сложных структур: таблиц, матриц, JSON-подобных данных."
   ]
  },
  {
   "cell_type": "code",
   "execution_count": 15,
   "metadata": {},
   "outputs": [
    {
     "name": "stdout",
     "output_type": "stream",
     "text": [
      "[4, 5, 6]\n",
      "6\n"
     ]
    }
   ],
   "source": [
    "M = [\n",
    "    [1, 2, 3],\n",
    "    [4, 5, 6],\n",
    "    [7, 8, 9]\n",
    "]  \n",
    "\n",
    "print(M[1])      \n",
    "print(M[1][2])   \n"
   ]
  },
  {
   "cell_type": "markdown",
   "metadata": {},
   "source": [
    "### Словари (Dictionaries)\n",
    "```markdown\n",
    "- **Словарь (dict)** — это отображение (**mapping**), а не последовательность.  \n",
    "  Он хранит данные по **ключам**, а не по индексам.  \n",
    "- Словари **изменяемые** (mutable): можно добавлять, изменять и удалять элементы.  \n",
    "- Используются, когда нужно хранить коллекцию с именованными полями (например, запись о человеке).\n",
    "\n",
    "Особенности:\n",
    "- Обращение по ключу — быстрый способ поиска значения.  \n",
    "- Начиная с **Python 3.7** порядок ключей сохраняется в том порядке, в котором они были добавлены.\n"
   ]
  },
  {
   "cell_type": "code",
   "execution_count": 44,
   "metadata": {},
   "outputs": [],
   "source": [
    "# Примеры словарей\n",
    "D = {'name': 'Stepan', 'job': 'data scientist', 'age': 20}\n"
   ]
  },
  {
   "cell_type": "code",
   "execution_count": 45,
   "metadata": {},
   "outputs": [
    {
     "name": "stdout",
     "output_type": "stream",
     "text": [
      "Stepan\n",
      "{'name': 'Stepan', 'job': 'mgr', 'age': 20}\n"
     ]
    }
   ],
   "source": [
    "print(D['name'])       # 'Pat'  (доступ по ключу)\n",
    "D['job'] = 'mgr'       # изменяем значение по ключу\n",
    "print(D)               # {'name': 'Pat', 'job': 'mgr', 'age': 40}"
   ]
  },
  {
   "cell_type": "code",
   "execution_count": 48,
   "metadata": {},
   "outputs": [
    {
     "data": {
      "text/plain": [
       "{'name': 'Ivan', 'job': 'dev', 'age': 25}"
      ]
     },
     "execution_count": 48,
     "metadata": {},
     "output_type": "execute_result"
    }
   ],
   "source": [
    "# Создание пустого словаря и заполнение\n",
    "D = {}\n",
    "D['name'] = 'Ivan'\n",
    "D['job'] = 'dev'\n",
    "D['age'] = 25\n",
    "\n",
    "# Другие способы создания\n",
    "pat1 = dict(name='Ivan', job='dev', age=25)  \n",
    "pat2 = dict(zip(['name','job','age'], ['Ivan','dev',25]))\n",
    "pat2"
   ]
  },
  {
   "cell_type": "markdown",
   "metadata": {},
   "source": [
    "### Вложенные структуры\n",
    "```markdown\n",
    "- Словари и списки можно **вкладывать друг в друга**, создавая сложные структуры данных.  \n",
    "- Вложенные объекты позволяют хранить информацию любой сложности.  \n",
    "- Python автоматически управляет памятью таких структур: выделяет и очищает её при необходимости."
   ]
  },
  {
   "cell_type": "code",
   "execution_count": 49,
   "metadata": {},
   "outputs": [],
   "source": [
    "# Вложенный словарь с подсловарём и списком\n",
    "rec = {\n",
    "    'name': {'first': 'Pat', 'last': 'Smith'},\n",
    "    'jobs': ['dev', 'mgr'],\n",
    "    'age': 40.5\n",
    "}"
   ]
  },
  {
   "cell_type": "code",
   "execution_count": 50,
   "metadata": {},
   "outputs": [
    {
     "name": "stdout",
     "output_type": "stream",
     "text": [
      "{'first': 'Pat', 'last': 'Smith'}\n",
      "Smith\n",
      "['dev', 'mgr']\n",
      "mgr\n"
     ]
    }
   ],
   "source": [
    "print(rec['name'])         # доступ к вложенному словарю\n",
    "print(rec['name']['last']) # доступ к значению по ключу внутри вложенного словаря\n",
    "print(rec['jobs'])         # доступ к вложенному списку\n",
    "print(rec['jobs'][-1])     # последний элемент списка"
   ]
  },
  {
   "cell_type": "code",
   "execution_count": 51,
   "metadata": {},
   "outputs": [
    {
     "name": "stdout",
     "output_type": "stream",
     "text": [
      "{'name': {'first': 'Pat', 'last': 'Smith'}, 'jobs': ['dev', 'mgr', 'janitor'], 'age': 40.5}\n"
     ]
    }
   ],
   "source": [
    "# Добавление нового значения во вложенный список\n",
    "rec['jobs'].append('janitor')\n",
    "print(rec)\n",
    "\n",
    "# Освобождение памяти (старый объект будет удалён сборщиком мусора)\n",
    "rec = 0"
   ]
  },
  {
   "cell_type": "markdown",
   "metadata": {},
   "source": [
    "### Работа с отсутствующими ключами в словарях\n",
    "```markdown\n",
    "- В словарях **обращение к несуществующему ключу вызывает ошибку** (`KeyError`).  \n",
    "- Чтобы избежать ошибки, проверяем наличие ключа с помощью оператора `in`.  \n",
    "- Можно использовать условный оператор `if` для выбора действий.  \n",
    "- Альтернативы:  \n",
    "  - метод `get` с указанием значения по умолчанию,  \n",
    "  - тернарное выражение `X if условие else Y`,  \n",
    "  - конструкция `try/except`.  \n"
   ]
  },
  {
   "cell_type": "code",
   "execution_count": 52,
   "metadata": {},
   "outputs": [
    {
     "name": "stdout",
     "output_type": "stream",
     "text": [
      "1\n"
     ]
    }
   ],
   "source": [
    "D = {'a': 1, 'b': 2, 'c': 3}\n",
    "D['d'] = 4   # добавление нового ключа\n",
    "\n",
    "print(D['a'])      # существующий ключ\n",
    "# print(D['e'])    # Ошибка: KeyError"
   ]
  },
  {
   "cell_type": "code",
   "execution_count": 54,
   "metadata": {},
   "outputs": [
    {
     "name": "stdout",
     "output_type": "stream",
     "text": [
      "Ключ 'e' отсутствует!\n",
      "1\n",
      "missing\n"
     ]
    }
   ],
   "source": [
    "# Проверка перед доступом\n",
    "if 'e' not in D:\n",
    "    print(\"Ключ 'e' отсутствует!\")\n",
    "\n",
    "# Метод get: безопасный доступ\n",
    "print(D.get('a', 'missing')) \n",
    "print(D.get('e', 'missing')) "
   ]
  },
  {
   "cell_type": "code",
   "execution_count": 55,
   "metadata": {},
   "outputs": [
    {
     "name": "stdout",
     "output_type": "stream",
     "text": [
      "0\n"
     ]
    }
   ],
   "source": [
    "# Тернарное выражение\n",
    "value = D['e'] if 'e' in D else 0\n",
    "print(value)"
   ]
  },
  {
   "cell_type": "markdown",
   "metadata": {},
   "source": [
    "### Итерация по словарям\n",
    "```markdown\n",
    "- Словари содержат множество элементов, которые часто нужно обрабатывать по одному.  \n",
    "- Методы:  \n",
    "  - `.keys()` — возвращает ключи,  \n",
    "  - `.values()` — возвращает значения,  \n",
    "  - `.items()` — возвращает пары (ключ, значение).  \n",
    "- Эти методы возвращают **итерируемые объекты**.  \n",
    "- Чтобы превратить результат в список, используем `list(...)`.  \n",
    "- Перебирать элементы словаря можно циклом `for`:  \n",
    "  - по ключам (`for key in D:`),  \n",
    "  - по ключам явно (`for key in D.keys():`),  \n",
    "  - по парам (`for k, v in D.items():`).  \n"
   ]
  },
  {
   "cell_type": "code",
   "execution_count": 56,
   "metadata": {},
   "outputs": [
    {
     "name": "stdout",
     "output_type": "stream",
     "text": [
      "['a', 'b', 'c']\n",
      "[1, 2, 3]\n",
      "[('a', 1), ('b', 2), ('c', 3)]\n"
     ]
    }
   ],
   "source": [
    "D = dict(a=1, b=2, c=3)\n",
    "\n",
    "# Получение ключей, значений, пар\n",
    "print(list(D.keys()))    # ['a', 'b', 'c']\n",
    "print(list(D.values()))  # [1, 2, 3]\n",
    "print(list(D.items()))   # [('a', 1), ('b', 2), ('c', 3)]\n"
   ]
  },
  {
   "cell_type": "code",
   "execution_count": 58,
   "metadata": {},
   "outputs": [
    {
     "name": "stdout",
     "output_type": "stream",
     "text": [
      "a => 1\n",
      "b => 2\n",
      "c => 3\n"
     ]
    }
   ],
   "source": [
    "# Итерация по ключам\n",
    "for key in D.keys():\n",
    "    print(key, \"=>\", D[key])"
   ]
  },
  {
   "cell_type": "code",
   "execution_count": 59,
   "metadata": {},
   "outputs": [
    {
     "name": "stdout",
     "output_type": "stream",
     "text": [
      "a => 1\n",
      "b => 2\n",
      "c => 3\n"
     ]
    }
   ],
   "source": [
    "# То же самое, но короче (по умолчанию перебираются ключи)\n",
    "for key in D:\n",
    "    print(key, \"=>\", D[key])"
   ]
  },
  {
   "cell_type": "code",
   "execution_count": 60,
   "metadata": {},
   "outputs": [
    {
     "name": "stdout",
     "output_type": "stream",
     "text": [
      "a => 1\n",
      "b => 2\n",
      "c => 3\n"
     ]
    }
   ],
   "source": [
    "# Итерация по парам (ключ, значение)\n",
    "for k, v in D.items():\n",
    "    print(k, \"=>\", v)"
   ]
  },
  {
   "cell_type": "markdown",
   "metadata": {},
   "source": [
    "### Кортежи (Tuples)\n",
    "```markdown\n",
    "- Кортежи похожи на списки, но **неизменяемые**.  \n",
    "- Используются для фиксированных наборов данных.  \n",
    "- Синтаксис: круглые скобки `(1, 2, 3)` или просто перечисление через запятую.  \n",
    "- Поддерживают:  \n",
    "  - индексацию,  \n",
    "  - срезы,  \n",
    "  - конкатенацию,  \n",
    "  - вложенность,  \n",
    "  - ограниченные методы (`.index()`, `.count()`).  \n",
    "- Особенность: кортежи нельзя изменять после создания.  \n",
    "- Для одноэлементного кортежа нужен **завершающий знак запятой**: `(2,)`.  "
   ]
  },
  {
   "cell_type": "code",
   "execution_count": 66,
   "metadata": {},
   "outputs": [
    {
     "name": "stdout",
     "output_type": "stream",
     "text": [
      "<class 'int'>\n",
      "<class 'tuple'>\n"
     ]
    }
   ],
   "source": [
    "print(type((2)))\n",
    "print(type((2,)))"
   ]
  },
  {
   "cell_type": "code",
   "execution_count": 78,
   "metadata": {},
   "outputs": [
    {
     "name": "stdout",
     "output_type": "stream",
     "text": [
      "4\n",
      "(1, 2, 3, 4, 5, 6)\n",
      "1 (2, 3, 4)\n"
     ]
    }
   ],
   "source": [
    "# Создание и базовые операции\n",
    "T = (1, 2, 3, 4)\n",
    "print(len(T))          \n",
    "print(T + (5, 6))      \n",
    "print(T[0], T[1:])     \n"
   ]
  },
  {
   "cell_type": "code",
   "execution_count": 79,
   "metadata": {},
   "outputs": [
    {
     "name": "stdout",
     "output_type": "stream",
     "text": [
      "3\n",
      "1\n",
      "(2, 2, 3, 4)\n"
     ]
    }
   ],
   "source": [
    "# Методы кортежей\n",
    "print(T.index(4))      \n",
    "print(T.count(4))      \n",
    "\n",
    "T = (2,) + T[1:]\n",
    "print(T)               "
   ]
  },
  {
   "cell_type": "code",
   "execution_count": 80,
   "metadata": {},
   "outputs": [
    {
     "ename": "TypeError",
     "evalue": "'tuple' object does not support item assignment",
     "output_type": "error",
     "traceback": [
      "\u001b[31m---------------------------------------------------------------------------\u001b[39m",
      "\u001b[31mTypeError\u001b[39m                                 Traceback (most recent call last)",
      "\u001b[36mCell\u001b[39m\u001b[36m \u001b[39m\u001b[32mIn[80]\u001b[39m\u001b[32m, line 2\u001b[39m\n\u001b[32m      1\u001b[39m \u001b[38;5;66;03m# Неизменяемость\u001b[39;00m\n\u001b[32m----> \u001b[39m\u001b[32m2\u001b[39m \u001b[43mT\u001b[49m\u001b[43m[\u001b[49m\u001b[32;43m0\u001b[39;49m\u001b[43m]\u001b[49m = \u001b[32m2\u001b[39m\n",
      "\u001b[31mTypeError\u001b[39m: 'tuple' object does not support item assignment"
     ]
    }
   ],
   "source": [
    "# Неизменяемость элементов\n",
    "T[0] = 2"
   ]
  },
  {
   "cell_type": "code",
   "execution_count": 81,
   "metadata": {},
   "outputs": [
    {
     "name": "stdout",
     "output_type": "stream",
     "text": [
      "('hack', 3.0, [11, 22, 33])\n",
      "3.0\n",
      "22\n"
     ]
    }
   ],
   "source": [
    "# Кортеж с разными типами\n",
    "T = 'hack', 3.0, [11, 22, 33]\n",
    "print(T)               \n",
    "print(T[1])            \n",
    "print(T[2][1])         "
   ]
  },
  {
   "cell_type": "code",
   "execution_count": 82,
   "metadata": {},
   "outputs": [
    {
     "ename": "AttributeError",
     "evalue": "'tuple' object has no attribute 'append'",
     "output_type": "error",
     "traceback": [
      "\u001b[31m---------------------------------------------------------------------------\u001b[39m",
      "\u001b[31mAttributeError\u001b[39m                            Traceback (most recent call last)",
      "\u001b[36mCell\u001b[39m\u001b[36m \u001b[39m\u001b[32mIn[82]\u001b[39m\u001b[32m, line 2\u001b[39m\n\u001b[32m      1\u001b[39m \u001b[38;5;66;03m# Ошибка при попытке изменять\u001b[39;00m\n\u001b[32m----> \u001b[39m\u001b[32m2\u001b[39m \u001b[43mT\u001b[49m\u001b[43m.\u001b[49m\u001b[43mappend\u001b[49m(\u001b[32m4\u001b[39m)  \u001b[38;5;66;03m# AttributeError\u001b[39;00m\n",
      "\u001b[31mAttributeError\u001b[39m: 'tuple' object has no attribute 'append'"
     ]
    }
   ],
   "source": [
    "# Неизменяемость состава\n",
    "T.append(4)  # AttributeError"
   ]
  },
  {
   "cell_type": "markdown",
   "metadata": {},
   "source": [
    "### Файлы (Files)\n",
    "```markdown\n",
    "- Файлы — это основной способ работы Python с данными, сохранёнными на диске.  \n",
    "- Нет специального синтаксиса литералов для создания файла — используется функция **open()**.  \n",
    "- Основные режимы работы:  \n",
    "  - `'r'` — чтение (по умолчанию),  \n",
    "  - `'w'` — запись (создаёт новый файл или перезаписывает существующий),  \n",
    "  - `'a'` — добавление (append),  \n",
    "  - `'b'` — бинарный режим (например, `'rb'` для чтения бинарного файла).  \n",
    "- Запись всегда идёт в строковом формате (текст превращается в строку в Python).  \n",
    "- При работе с файлами важно закрывать их с помощью `.close()` или использовать конструкцию `with` (рекомендуется).  \n"
   ]
  },
  {
   "cell_type": "code",
   "execution_count": 84,
   "metadata": {},
   "outputs": [],
   "source": [
    "# Запись в файл\n",
    "f = open('data/data.txt', 'w')   # открыть для записи (создаст новый или перезапишет)\n",
    "f.write('Hello\\n')          # возвращает количество записанных символов\n",
    "f.write('world!\\n')\n",
    "f.close()                   # закрыть файл (сброс буфера)"
   ]
  },
  {
   "cell_type": "code",
   "execution_count": 85,
   "metadata": {},
   "outputs": [
    {
     "name": "stdout",
     "output_type": "stream",
     "text": [
      "Hello\n",
      "world!\n",
      "\n"
     ]
    }
   ],
   "source": [
    "# Чтение файла\n",
    "f = open('data/data.txt', 'r')   # открыть для чтения\n",
    "text = f.read()             # считать всё содержимое в строку\n",
    "f.close()\n",
    "print(text)"
   ]
  },
  {
   "cell_type": "code",
   "execution_count": 86,
   "metadata": {},
   "outputs": [
    {
     "name": "stdout",
     "output_type": "stream",
     "text": [
      "Hello\n",
      "world!\n"
     ]
    }
   ],
   "source": [
    "# Построчное чтение через цикл\n",
    "for line in open('data/data.txt'):\n",
    "    print(line.rstrip())    # .rstrip() убирает символ перевода строки"
   ]
  },
  {
   "cell_type": "markdown",
   "metadata": {},
   "source": [
    "### Работа с файлами через `with`\n",
    "```markdown\n",
    "- Конструкция `with open(...) as f:` автоматически закрывает файл после работы.  \n",
    "- Это **рекомендуемый способ** работы с файлами в Python.  \n",
    "- Исключает риск забыть вызвать `f.close()`.  \n",
    "- Делает код более читаемым и безопасным.\n"
   ]
  },
  {
   "cell_type": "code",
   "execution_count": 88,
   "metadata": {},
   "outputs": [
    {
     "name": "stdout",
     "output_type": "stream",
     "text": [
      "Первая строка\n",
      "Вторая строка\n"
     ]
    }
   ],
   "source": [
    "# Запись в файл через with\n",
    "with open('data/data2.txt', 'w') as f:\n",
    "    f.write('Первая строка\\n')\n",
    "    f.write('Вторая строка\\n')\n",
    "\n",
    "# Чтение файла через with\n",
    "with open('data/data2.txt', 'r') as f:\n",
    "    for line in f:              # файл читается построчно\n",
    "        print(line.strip())     # .strip() убирает лишние пробелы и \\n"
   ]
  },
  {
   "cell_type": "markdown",
   "metadata": {},
   "source": [
    "### Unicode и бинарные файлы\n",
    "```markdown\n",
    "- В Python различают два типа файлов:\n",
    "  - **Текстовые**: работают со строками (`str`), используют кодировки (обычно UTF-8).\n",
    "  - **Бинарные**: работают с байтами (`bytes`), содержимое читается и пишется как есть.\n",
    "\n",
    "- Текстовые файлы автоматически кодируют/декодируют строки в байты.\n",
    "- Для бинарных файлов добавляется флаг `b` к режиму открытия (`rb`, `wb`).\n",
    "- Чтобы избежать проблем с переносимостью, кодировку в текстовых файлах лучше указывать явно.\n"
   ]
  },
  {
   "cell_type": "code",
   "execution_count": 89,
   "metadata": {},
   "outputs": [
    {
     "name": "stdout",
     "output_type": "stream",
     "text": [
      "b'h\\xffa\\xeec\\xddk\\n'\n"
     ]
    }
   ],
   "source": [
    "# Работа с бинарным файлом\n",
    "with open('data/data.bin', 'wb') as bf:\n",
    "    bf.write(b'h\\xFFa\\xEEc\\xDDk\\n')   # Записываем \"сырые\" байты\n",
    "\n",
    "with open('data/data.bin', 'rb') as bf:\n",
    "    raw = bf.read()\n",
    "print(raw)   # b'h\\xffa\\xeec\\xddk\\n'\n"
   ]
  },
  {
   "cell_type": "code",
   "execution_count": 90,
   "metadata": {},
   "outputs": [
    {
     "name": "stdout",
     "output_type": "stream",
     "text": [
      "hÄck\n"
     ]
    }
   ],
   "source": [
    "# Работа с текстовым файлом с указанием кодировки\n",
    "with open('data/unidata.txt', 'w', encoding='utf-8') as tf:\n",
    "    tf.write('hÄck')  \n",
    "\n",
    "with open('data/unidata.txt', 'r', encoding='utf-8') as tf:\n",
    "    text = tf.read()\n",
    "print(text)   "
   ]
  },
  {
   "cell_type": "markdown",
   "metadata": {},
   "source": [
    "### Логические значения (Booleans) и `None`\n",
    "```markdown\n",
    "- `True`, `False` — логические значения (truth values).\n",
    "- Приведение к булеву: `bool(x)` — непустое/ненулевое → `True`, пустое/нулевое → `False`.\n",
    "- `None` — «нет значения»: инициализация, отсутствие результата.\n",
    "- Проверка на отсутствие: `is None` / `is not None`.\n",
    "- Быстрая инициализация заглушек: `[None] * N`.\n"
   ]
  },
  {
   "cell_type": "code",
   "execution_count": 1,
   "metadata": {},
   "outputs": [
    {
     "name": "stdout",
     "output_type": "stream",
     "text": [
      "False True\n"
     ]
    }
   ],
   "source": [
    "# Сравнения дают булевы значения\n",
    "a = (1 > 2)\n",
    "b = (1 < 2)\n",
    "print(a, b)"
   ]
  },
  {
   "cell_type": "code",
   "execution_count": 92,
   "metadata": {},
   "outputs": [
    {
     "name": "stdout",
     "output_type": "stream",
     "text": [
      "bool('hack'): True\n",
      "bool(''): False\n",
      "bool(0): False\n",
      "bool(42): True\n",
      "bool([]): False\n",
      "bool([1]): True\n"
     ]
    }
   ],
   "source": [
    "# Приведение разных объектов к булеву\n",
    "print(\"bool('hack'):\", bool(\"hack\"))\n",
    "print(\"bool(''):\", bool(\"\"))\n",
    "print(\"bool(0):\", bool(0))\n",
    "print(\"bool(42):\", bool(42))\n",
    "print(\"bool([]):\", bool([]))\n",
    "print(\"bool([1]):\", bool([1]))"
   ]
  },
  {
   "cell_type": "code",
   "execution_count": 95,
   "metadata": {},
   "outputs": [
    {
     "name": "stdout",
     "output_type": "stream",
     "text": [
      "X is: None\n",
      "X is None: True\n"
     ]
    }
   ],
   "source": [
    "X = None\n",
    "print(\"X is:\", X)\n",
    "print(\"X is None:\", X is None)"
   ]
  },
  {
   "cell_type": "code",
   "execution_count": 96,
   "metadata": {},
   "outputs": [
    {
     "name": "stdout",
     "output_type": "stream",
     "text": [
      "list of Nones (len): 10 sample: [None, None, None, None, None]\n"
     ]
    }
   ],
   "source": [
    "# Инициализация списка заглушками None\n",
    "L = [None] * 10\n",
    "print(\"list of Nones (len):\", len(L), \"sample:\", L[:5])"
   ]
  },
  {
   "cell_type": "markdown",
   "metadata": {},
   "source": [
    "### Объект `type`\n",
    "```markdown\n",
    "- Функция `type(obj)` возвращает **тип объекта**.  \n",
    "- Даже типы в Python сами являются объектами класса `type`.  \n",
    "- Проверка типов возможна через `type(...) == ...` или `isinstance(obj, тип)`.  \n",
    "- ! Но в Python обычно **не рекомендуют** жёстко проверять типы — это ломает гибкость кода.  \n",
    "\n",
    "Следует ориентироваться не на конкретный тип, а на то, **какие операции объект поддерживает**.\n"
   ]
  },
  {
   "cell_type": "code",
   "execution_count": 97,
   "metadata": {},
   "outputs": [
    {
     "name": "stdout",
     "output_type": "stream",
     "text": [
      "type(L): <class 'list'>\n"
     ]
    }
   ],
   "source": [
    "L = [1, 2, 3]\n",
    "\n",
    "# Получаем тип объекта\n",
    "print(\"type(L):\", type(L))"
   ]
  },
  {
   "cell_type": "code",
   "execution_count": 98,
   "metadata": {},
   "outputs": [
    {
     "name": "stdout",
     "output_type": "stream",
     "text": [
      "type(type(L)): <class 'type'>\n"
     ]
    }
   ],
   "source": [
    "# Тип самого типа\n",
    "print(\"type(type(L)):\", type(type(L)))"
   ]
  },
  {
   "cell_type": "code",
   "execution_count": 99,
   "metadata": {},
   "outputs": [
    {
     "name": "stdout",
     "output_type": "stream",
     "text": [
      "type(L) == type([]): True\n",
      "type(L) == list: True\n",
      "isinstance(L, list): True\n"
     ]
    }
   ],
   "source": [
    "# Разные способы проверки типа\n",
    "print(\"type(L) == type([]):\", type(L) == type([]))   # через другой объект\n",
    "print(\"type(L) == list:\", type(L) == list)           # напрямую\n",
    "print(\"isinstance(L, list):\", isinstance(L, list))   # «правильный» способ"
   ]
  },
  {
   "cell_type": "markdown",
   "metadata": {},
   "source": [
    "### Подсказки типов\n",
    "```markdown\n",
    "- В Python есть возможность **указывать ожидаемые типы** аргументов, возвращаемых значений, атрибутов классов и даже переменных.  \n",
    "- Эти подсказки используются только **внешними инструментами** (например, `mypy`) или IDE для анализа кода.  \n",
    "- Сам Python **игнорирует** подсказки — они не обязательны и не влияют на выполнение программы.  \n",
    "- Это скорее форма документации, чем строгая проверка.  \n"
   ]
  },
  {
   "cell_type": "code",
   "execution_count": 3,
   "metadata": {},
   "outputs": [
    {
     "data": {
      "text/plain": [
       "'anything'"
      ]
     },
     "execution_count": 3,
     "metadata": {},
     "output_type": "execute_result"
    }
   ],
   "source": [
    "# Пример с подсказками типов\n",
    "x: int = 1   # предполагается целое число\n",
    "x = \"anything\"  # Python всё равно разрешает присвоить строку\n",
    "x"
   ]
  },
  {
   "cell_type": "markdown",
   "metadata": {},
   "source": [
    "### Пользовательские объекты\n",
    "```markdown\n",
    "- Встроенные объекты покрывают большинство задач, но иногда нужны **собственные типы**.\n",
    "- Это достигается через **классы** (`class`) — они позволяют создавать объекты с атрибутами (данными) и методами (поведением).\n",
    "- Классы образуют основу **объектно-ориентированного программирования (ООП)** в Python.\n",
    "- Но по сути, пользовательские объекты используют встроенные объекты внутри (например, строки, списки, словари).\n",
    "- Подробности – позже\n"
   ]
  },
  {
   "cell_type": "code",
   "execution_count": 5,
   "metadata": {},
   "outputs": [
    {
     "name": "stdout",
     "output_type": "stream",
     "text": [
      "Ivanov\n",
      "Petrov\n",
      "66000.0\n"
     ]
    }
   ],
   "source": [
    "# Пример простого класса Worker\n",
    "class Worker:\n",
    "    def __init__(self, name, pay):\n",
    "        self.name = name\n",
    "        self.pay = pay\n",
    "    \n",
    "    def lastName(self):\n",
    "        return self.name.split()[-1]\n",
    "    \n",
    "    def giveRaise(self, percent):\n",
    "        self.pay *= (1 + percent)\n",
    "\n",
    "# Создаём объекты\n",
    "worker_1 = Worker(\"Ivan Ivanov\", 60000)\n",
    "worker_2 = Worker(\"Petr Petrov\", 50000)\n",
    "\n",
    "print(worker_1.lastName())   \n",
    "print(worker_2.lastName())   \n",
    "\n",
    "worker_1.giveRaise(.10)\n",
    "print(worker_1.pay)          "
   ]
  },
  {
   "cell_type": "markdown",
   "metadata": {},
   "source": [
    "## Обеспечение чистоты кода"
   ]
  },
  {
   "cell_type": "markdown",
   "metadata": {},
   "source": [
    "### PEP 8 — стиль кода в Python  \n",
    "```markdown\n",
    "PEP 8 — это официальный документ, который описывает правила написания читаемого и единообразного кода на Python.  \n",
    "Он нужен для того, чтобы код, написанный разными программистами, выглядел похоже и был понятен всем.  \n",
    "\n",
    "Основные рекомендации:  \n",
    "- Использовать отступ в **4 пробела**.  \n",
    "- Имена переменных и функций писать в **snake_case** (`my_function`).  \n",
    "- Имена классов писать в **CamelCase** (`MyClass`).  \n",
    "- Между функциями и классами оставлять пустые строки.  \n",
    "- Максимальная длина строки — **79 символов**.  \n",
    "- Для строк лучше использовать одинарные кавычки `'...'`, но внутри строки можно чередовать с двойными `\"...\"`.  \n",
    "- Добавлять пробелы вокруг операторов (`=`, `+`, `-`) и после запятой.  \n"
   ]
  },
  {
   "cell_type": "code",
   "execution_count": null,
   "metadata": {},
   "outputs": [],
   "source": [
    "# Пример кода по PEP 8\n",
    "\n",
    "class MyClass:\n",
    "    def __init__(self, name, age):\n",
    "        self.name = name\n",
    "        self.age = age\n",
    "\n",
    "\n",
    "def say_hello(user_name):\n",
    "    print(f\"Привет, {user_name}!\")\n",
    "\n",
    "\n",
    "# Основной блок программы\n",
    "if __name__ == \"__main__\":\n",
    "    person = MyClass(\"Иван\", 25)\n",
    "    say_hello(person.name)"
   ]
  },
  {
   "cell_type": "markdown",
   "metadata": {},
   "source": [
    "### 📝 PEP 8 — дополнительные правила оформления кода  \n",
    "```markdown\n",
    "- **Импорты**:  \n",
    "  - Сначала идут стандартные библиотеки, потом сторонние пакеты, потом ваши модули.  \n",
    "  - Каждый импорт на новой строке.  \n",
    "\n",
    "- **Комментарии**:  \n",
    "  - Комментарии должны быть понятными и описывать *зачем* написан код, а не *что он делает*.  \n",
    "  - Однострочные комментарии начинаются с `#`, после него ставится пробел.  \n",
    "  - Для длинных комментариев используют блоки.  \n",
    "\n",
    "- **Докстроки** (docstrings):  \n",
    "  - Для функций, классов и модулей принято писать строку-документацию в тройных кавычках `\"\"\" ... \"\"\"`.  \n",
    "\n",
    "- **Пробелы**:  \n",
    "  - Не ставим лишние пробелы внутри скобок или перед запятой.  \n",
    "  - Правильно: `my_list = [1, 2, 3]`  \n",
    "  - Неправильно: `my_list = [ 1 , 2 , 3 ]`  \n",
    "\n",
    "- **Булевы значения**:  \n",
    "  - Используем `if is_active:` вместо `if is_active == True:`  \n",
    "  - Используем `if not items:` вместо `if len(items) == 0:`  \n",
    "\n",
    "- **Константы**:  \n",
    "  - Записываются в UPPER_CASE (`MAX_SIZE = 100`).  \n",
    "\n",
    "- **Названия переменных**:  \n",
    "  - Избегаем однобуквенных имён, кроме счётчиков в циклах (`i`, `j`, `k`).  \n"
   ]
  },
  {
   "cell_type": "markdown",
   "metadata": {},
   "source": [
    "### Линтеры и форматтеры: зачем и какие бывают\n",
    "```markdown\n",
    "- **Что это**: инструменты, которые автоматически проверяют стиль, качество и безопасность кода и/или форматируют его по правилам (PEP 8 и др.).\n",
    "- **Ключевые инструменты**:\n",
    "  - **ruff** — очень быстрый линтер.\n",
    "  - **flake8** (+ плагины) — классический линтер PEP 8.\n",
    "  - **pylint** — строгий анализ качества/архитектуры, подсказки рефакторинга.\n",
    "  - **black** — автоформаттер (приводит стиль к единому виду).\n",
    "  - **isort** — сортирует импорты (часто используется вместе с black).\n",
    "  - **mypy** — статическая проверка типов (type hints).\n",
    "  - **pydocstyle** — проверка докстрок.\n",
    "  - **bandit** — проверка типичных уязвимостей.\n",
    "\n",
    "- **Что ловят**:\n",
    "  - Нарушения PEP 8 (отступы, длина строк, пробелы, имена).\n",
    "  - Потенциальные ошибки (неиспользуемые переменные/импорты).\n",
    "  - Проблемы кода (слишком сложные функции, дублирование логики).\n",
    "  - Проблемы безопасности (опасные вызовы, небезопасные шаблоны).\n",
    "  - Несоответствие аннотаций и фактических типов.\n",
    "\n",
    "- **Как подключать**:\n",
    "  - Локально в IDE (VS Code/PyCharm), в pre-commit hooks и в CI (GitHub Actions/GitLab CI).\n",
    "  - Типовой пайплайн: `ruff` → `black` → `isort` → `mypy` → `pytest`.\n"
   ]
  },
  {
   "cell_type": "code",
   "execution_count": null,
   "metadata": {},
   "outputs": [],
   "source": [
    "import math, os  \n",
    "\n",
    "PI=3.1415\n",
    "\n",
    "def area(r):  \n",
    "    if r == 0:\n",
    "        return 0\n",
    "    elif r == True:  \n",
    "        return 0\n",
    "    return math.pi*r*r  \n",
    "\n",
    "def BadName(x,y):  \n",
    "    total= x+y \n",
    "    if len([1,2,3,4,5,6,7,8,9,10])>0:  \n",
    "        return total\n",
    "    return None\n",
    "\n",
    "def unsafe_eval(expr: str) -> int:\n",
    "    return eval(expr)  \n",
    "\n",
    "NUMBERS = 123  "
   ]
  },
  {
   "cell_type": "code",
   "execution_count": null,
   "metadata": {},
   "outputs": [],
   "source": [
    "# Пример файла с проблемами стиля/качества (что заметят линтеры)\n",
    "\n",
    "# Секция \"ПЛОХО\" показывает типичные нарушения,\n",
    "# ниже — та же логика в версии \"ХОРОШО\".\n",
    "\n",
    "import math, os  # ruff/flake8: F401 (os не используется), E401 (несколько импортов в строке)\n",
    "\n",
    "PI=3.141592653589793  # E225: нет пробелов вокруг '='; N816 (pylint): константы UPPER_SNAKE_CASE — ок, но лучше выровнять стиль общим форматтером\n",
    "\n",
    "def area(r):  # N802: имя функции в snake_case — ок\n",
    "    if r == 0:\n",
    "        return 0\n",
    "    elif r == True:  # E712: сравнение с True; ruff S101/PYL: булево сравнение излишне\n",
    "        return 0\n",
    "    return math.pi*r*r  # E225: пробелы вокруг операторов\n",
    "\n",
    "def BadName(x,y):  # N802: имя функции не в snake_case\n",
    "    total= x+y # E225: пробелы\n",
    "    if len([1,2,3,4,5,6,7,8,9,10])>0:  # E231/E201: пробелы, и бессмысленная проверка\n",
    "        return total\n",
    "    return None\n",
    "\n",
    "def unsafe_eval(expr: str) -> int:\n",
    "    # bandit: B307 — небезопасно использовать eval на внешних данных\n",
    "    return eval(expr)  # НЕ ДЕЛАЙТЕ ТАК\n",
    "\n",
    "UNUSED = 123  # F841: неиспользуемая переменная"
   ]
  },
  {
   "cell_type": "code",
   "execution_count": null,
   "metadata": {},
   "outputs": [],
   "source": [
    "# -------------------- ХОРОШО --------------------\n",
    "\n",
    "import math as _math  # один импорт на строку; алиас допустим, если есть смысл\n",
    "\n",
    "PI = 3.141592653589793  # форматтер (black) выровняет стили пробелов/строк\n",
    "\n",
    "def circle_area(radius: float) -> float:\n",
    "    \"\"\"Вычисляет площадь круга по радиусу. Возвращает float.\"\"\"\n",
    "    # Булево условие без сравнения с True/False:\n",
    "    if not radius:  # radius == 0 → Falsey\n",
    "        return 0.0\n",
    "    # Пробелы вокруг операторов, осмысленные имена:\n",
    "    return _math.pi * (radius ** 2)\n",
    "\n",
    "def add(x: int, y: int) -> int:\n",
    "    \"\"\"Складывает два числа (иллюстрация аннотаций типов)\"\"\"\n",
    "    return x + y\n",
    "\n",
    "def safe_eval_int(expr: str) -> int | None:\n",
    "    \"\"\"Безопасный парсер: вместо eval — ограниченный парсинг целых.\"\"\"\n",
    "    expr = expr.strip()\n",
    "    if expr.lstrip(\"+-\").isdigit():\n",
    "        return int(expr)\n",
    "    return None"
   ]
  }
 ],
 "metadata": {
  "kernelspec": {
   "display_name": ".venv",
   "language": "python",
   "name": "python3"
  },
  "language_info": {
   "codemirror_mode": {
    "name": "ipython",
    "version": 3
   },
   "file_extension": ".py",
   "mimetype": "text/x-python",
   "name": "python",
   "nbconvert_exporter": "python",
   "pygments_lexer": "ipython3",
   "version": "3.13.7"
  }
 },
 "nbformat": 4,
 "nbformat_minor": 2
}
