{
 "cells": [
  {
   "cell_type": "markdown",
   "metadata": {},
   "source": [
    "# Лекция 1. Введение в Python\n"
   ]
  },
  {
   "cell_type": "markdown",
   "metadata": {},
   "source": [
    "## Обзор возможностей Python\n"
   ]
  },
  {
   "cell_type": "markdown",
   "metadata": {},
   "source": [
    "### История появления Python\n",
    "```markdown\n",
    "- Язык **Python** создан в конце 1980-х годов Гвидо ван Россумом.  \n",
    "- Первоначально задумывался как **наследник ABC** — простого языка обучения.  \n",
    "- Первая официальная версия Python 1.0 вышла в **1994 году**.  \n",
    "- Популярность выросла благодаря:  \n",
    "  - простоте синтаксиса,  \n",
    "  - кроссплатформенности,  \n",
    "  - богатой стандартной библиотеке.  \n",
    "- Сегодня Python активно используется в **веб-разработке, науке, анализе данных, искусственном интеллекте** и многих других областях.  \n"
   ]
  },
  {
   "cell_type": "code",
   "execution_count": 1,
   "metadata": {},
   "outputs": [
    {
     "name": "stdout",
     "output_type": "stream",
     "text": [
      "The Zen of Python, by Tim Peters\n",
      "\n",
      "Beautiful is better than ugly.\n",
      "Explicit is better than implicit.\n",
      "Simple is better than complex.\n",
      "Complex is better than complicated.\n",
      "Flat is better than nested.\n",
      "Sparse is better than dense.\n",
      "Readability counts.\n",
      "Special cases aren't special enough to break the rules.\n",
      "Although practicality beats purity.\n",
      "Errors should never pass silently.\n",
      "Unless explicitly silenced.\n",
      "In the face of ambiguity, refuse the temptation to guess.\n",
      "There should be one-- and preferably only one --obvious way to do it.\n",
      "Although that way may not be obvious at first unless you're Dutch.\n",
      "Now is better than never.\n",
      "Although never is often better than *right* now.\n",
      "If the implementation is hard to explain, it's a bad idea.\n",
      "If the implementation is easy to explain, it may be a good idea.\n",
      "Namespaces are one honking great idea -- let's do more of those!\n"
     ]
    }
   ],
   "source": [
    "# проверим \"официальный девиз\" Python через модуль this\n",
    "import this"
   ]
  },
  {
   "cell_type": "markdown",
   "metadata": {},
   "source": [
    "### Почему выбирают Python\n",
    "```markdown\n",
    "- Python популярен благодаря сочетанию факторов.\n",
    "- Основные причины:\n",
    "  1. Качество программного обеспечения.\n",
    "  2. Производительность разработчика.\n",
    "  3. Портируемость программ.\n",
    "  4. Поддержка приложений.\n",
    "  5. Интеграция компонентов.\n",
    "  6. Удовольствие от процесса разработки.\n",
    "```\n"
   ]
  },
  {
   "cell_type": "markdown",
   "metadata": {},
   "source": [
    "### Качество кода в Python\n",
    "```markdown\n",
    "- Простой и читаемый синтаксис.\n",
    "- Минималистичный подход: «явное лучше, чем неявное».\n",
    "- Поддержка модулей и ООП для повторного использования кода.\n",
    "```\n"
   ]
  },
  {
   "cell_type": "code",
   "execution_count": 2,
   "metadata": {},
   "outputs": [
    {
     "name": "stdout",
     "output_type": "stream",
     "text": [
      "Привет, Мир!\n"
     ]
    }
   ],
   "source": [
    "def greet(name):\n",
    "    return f\"Привет, {name}!\"\n",
    "\n",
    "print(greet(\"Мир\"))"
   ]
  },
  {
   "cell_type": "markdown",
   "metadata": {},
   "source": [
    "### Производительность разработчика\n",
    "```markdown\n",
    "- Быстрая разработка благодаря простому синтаксису.\n",
    "- Нет этапа компиляции — программа запускается сразу.\n",
    "- Меньше строк кода → меньше ошибок и меньше поддержки.\n"
   ]
  },
  {
   "cell_type": "code",
   "execution_count": 1,
   "metadata": {},
   "outputs": [
    {
     "name": "stdout",
     "output_type": "stream",
     "text": [
      "[4, 16, 36]\n"
     ]
    }
   ],
   "source": [
    "# Обработка данных в одну строку\n",
    "numbers = [1, 2, 3, 4, 5, 6]\n",
    "squared_evens = [n**2 for n in numbers if n % 2 == 0]\n",
    "print(squared_evens)"
   ]
  },
  {
   "cell_type": "markdown",
   "metadata": {},
   "source": [
    "### Портируемость программ\n",
    "```markdown\n",
    "- Python работает на всех основных платформах.\n",
    "- Часто перенос программы = просто копирование файла.\n",
    "- Есть инструменты для кроссплатформенной работы (GUI, БД, веб).\n"
   ]
  },
  {
   "cell_type": "code",
   "execution_count": 2,
   "metadata": {},
   "outputs": [
    {
     "name": "stdout",
     "output_type": "stream",
     "text": [
      "Текущая папка: /Users/petrovich/Desktop/CODE/python_course/lesson_1\n"
     ]
    }
   ],
   "source": [
    "import os\n",
    "print(\"Текущая папка:\", os.getcwd())"
   ]
  },
  {
   "cell_type": "code",
   "execution_count": 3,
   "metadata": {},
   "outputs": [
    {
     "name": "stdout",
     "output_type": "stream",
     "text": [
      "Найденные числа: ['3', '13']\n"
     ]
    }
   ],
   "source": [
    "# использование стандартной библиотеки\n",
    "import re\n",
    "\n",
    "text = \"Последняя версия Python – 3.13\"\n",
    "numbers = re.findall(r\"\\d+\", text)\n",
    "print(\"Найденные числа:\", numbers)"
   ]
  },
  {
   "cell_type": "markdown",
   "metadata": {},
   "source": [
    "### Поддержка приложений\n",
    "``` markdown\n",
    "- Большая стандартная библиотека «из коробки».\n",
    "- Тысячи сторонних библиотек и фреймворков.\n",
    "- Популярные пакеты: NumPy (математика), Django (веб), PyTorch (ИИ).\n"
   ]
  },
  {
   "cell_type": "code",
   "execution_count": 4,
   "metadata": {},
   "outputs": [
    {
     "name": "stdout",
     "output_type": "stream",
     "text": [
      "Hello from system!\n",
      "\n"
     ]
    }
   ],
   "source": [
    "# вызов системной команды\n",
    "import subprocess\n",
    "\n",
    "result = subprocess.run([\"echo\", \"Hello from system!\"], capture_output=True, text=True)\n",
    "print(result.stdout)"
   ]
  },
  {
   "cell_type": "markdown",
   "metadata": {},
   "source": [
    "### Удовольствие от разработки\n",
    "``` markdown\n",
    "- Python прост и удобен, превращает работу в удовольствие.\n",
    "- Используется и для работы, и «для души».\n",
    "- Приятный опыт → выше мотивация и продуктивность.\n"
   ]
  },
  {
   "cell_type": "markdown",
   "metadata": {},
   "source": [
    "### Python и понятие «скриптовый язык»\n",
    "``` markdown\n",
    "- Python часто называют «скриптовым языком».\n",
    "- Более точное определение: язык общего назначения,  \n",
    "  который сочетает процедурное, функциональное и объектно-ориентированное программирование.\n",
    "- Термин «скрипт» иногда используется для обозначения простого файла с кодом.\n",
    "- «Программа» обычно понимается как более сложное приложение из нескольких файлов.\n"
   ]
  },
  {
   "cell_type": "code",
   "execution_count": 10,
   "metadata": {},
   "outputs": [
    {
     "name": "stdout",
     "output_type": "stream",
     "text": [
      "Привет, Python!\n"
     ]
    }
   ],
   "source": [
    "# простой \"скрипт\"\n",
    "print(\"Привет, Python!\")\n",
    "\n",
    "# Такой файл можно запустить сразу: python hello.py "
   ]
  },
  {
   "cell_type": "markdown",
   "metadata": {},
   "source": [
    "### Python как инструмент для работы с ОС\n",
    "``` markdown\n",
    "- Скрипты Python часто запускают из командной строки.\n",
    "- Такие программы могут работать с файлами и процессами.\n"
   ]
  },
  {
   "cell_type": "code",
   "execution_count": null,
   "metadata": {},
   "outputs": [],
   "source": [
    "# скрипт для чтения файла построчно\n",
    "with open(\"example.txt\", encoding=\"utf-8\") as f:\n",
    "    for line in f:\n",
    "        print(line.strip())"
   ]
  },
  {
   "cell_type": "markdown",
   "metadata": {},
   "source": [
    "### Python как язык управления\n",
    "``` markdown\n",
    "- Python может служить «клеем» для соединения компонентов.\n",
    "- Используется для управления устройствами, вызова библиотек и расширения приложений.\n"
   ]
  },
  {
   "cell_type": "code",
   "execution_count": 6,
   "metadata": {},
   "outputs": [
    {
     "name": "stdout",
     "output_type": "stream",
     "text": [
      "PING python.org (151.101.0.223): 56 data bytes\n",
      "Request timeout for icmp_seq 0\n",
      "\n",
      "--- python.org ping statistics ---\n",
      "2 packets transmitted, 0 packets received, 100.0% packet loss\n",
      "\n"
     ]
    }
   ],
   "source": [
    "# \"скрипт\" управления другим приложением\n",
    "import subprocess\n",
    "\n",
    "# Запускаем внешнюю команду (например, ping)\n",
    "result = subprocess.run([\"ping\", \"-c\", \"2\", \"python.org\"], capture_output=True, text=True)\n",
    "print(result.stdout)"
   ]
  },
  {
   "cell_type": "markdown",
   "metadata": {},
   "source": [
    "### Python и простота \n",
    "``` markdown\n",
    "- Главное преимущество Python как «скриптового языка» — простота и скорость.\n",
    "- Подходит для быстрых экспериментов и прототипирования.\n",
    "- Но Python не ограничен простыми задачами: он масштабируется до больших систем.\n"
   ]
  },
  {
   "cell_type": "code",
   "execution_count": 8,
   "metadata": {},
   "outputs": [
    {
     "name": "stdout",
     "output_type": "stream",
     "text": [
      "Числа: [1, 2, 3, 4, 5]\n",
      "Квадраты чисел: [1, 4, 9, 16, 25]\n"
     ]
    }
   ],
   "source": [
    "data = [1, 2, 3, 4, 5]\n",
    "squares = [x**2 for x in data]\n",
    "print(\"Числа:\", data)\n",
    "print(\"Квадраты чисел:\", squares)"
   ]
  },
  {
   "cell_type": "markdown",
   "metadata": {},
   "source": [
    "### Интерпретируемый язык?\n",
    "``` markdown\n",
    "- Python часто называют интерпретируемым языком.\n",
    "- На самом деле существуют разные реализации: и интерпретаторы, и компиляторы.\n",
    "- Более точное определение: Python — язык с **динамической типизацией**.\n"
   ]
  },
  {
   "cell_type": "code",
   "execution_count": 2,
   "metadata": {},
   "outputs": [
    {
     "name": "stdout",
     "output_type": "stream",
     "text": [
      "hello\n"
     ]
    }
   ],
   "source": [
    "# динамическая типизация\n",
    "x = 10       # целое число\n",
    "x = \"hello\"  # теперь строка\n",
    "print(x)"
   ]
  },
  {
   "cell_type": "markdown",
   "metadata": {},
   "source": [
    "### Недостатки Python\n",
    "``` markdown\n",
    "- Основной недостаток: скорость выполнения ниже, чем у компилируемых языков (C, C++).\n",
    "- Python работает через байт-код (bytecode), а не напрямую в машинном коде.\n",
    "- В большинстве приложений это не проблема — скорость достаточна.\n",
    "- При «реальных» задачах (работа с файлами, интерфейсами) Python всё равно выполняет код на скорости C.\n",
    "- Для критически быстрых задач используют инструменты:\n",
    "  - **PyPy** (JIT-компиляция),\n",
    "  - **Cython** (смесь Python и C),\n",
    "  - компилируемые расширения (например, **NumPy**).\n",
    "- Важнее часто не скорость выполнения, а скорость разработки.\n"
   ]
  },
  {
   "cell_type": "code",
   "execution_count": 6,
   "metadata": {},
   "outputs": [
    {
     "name": "stdout",
     "output_type": "stream",
     "text": [
      "Сумма: 499999500000\n"
     ]
    }
   ],
   "source": [
    "# Python работает \"достаточно быстро\"\n",
    "numbers = range(1_000_000)\n",
    "total = sum(numbers)\n",
    "print(\"Сумма:\", total)"
   ]
  },
  {
   "cell_type": "markdown",
   "metadata": {},
   "source": [
    "### Python и NumPy: скорость численных расчётов\n",
    "```markdown\n",
    "- Чистый Python может быть медленнее в вычислениях.\n",
    "- NumPy использует оптимизированные C/Fortran-библиотеки.\n",
    "- Результат: скорость NumPy сравнима со скоростью C++.\n"
   ]
  },
  {
   "cell_type": "code",
   "execution_count": 9,
   "metadata": {},
   "outputs": [
    {
     "name": "stdout",
     "output_type": "stream",
     "text": [
      "Python (list comprehension): 0.446566104888916 секунд\n",
      "NumPy (vectorized): 0.01741814613342285 секунд\n"
     ]
    }
   ],
   "source": [
    "import time\n",
    "import numpy as np\n",
    "\n",
    "N = 10_000_000\n",
    "\n",
    "# Чистый Python\n",
    "start = time.time()\n",
    "data = [i**2 for i in range(N)]\n",
    "end = time.time()\n",
    "print(\"Python (list comprehension):\", end - start, \"секунд\")\n",
    "\n",
    "# NumPy\n",
    "start = time.time()\n",
    "arr = np.arange(N)\n",
    "data_np = arr**2\n",
    "end = time.time()\n",
    "print(\"NumPy (vectorized):\", end - start, \"секунд\")"
   ]
  },
  {
   "cell_type": "markdown",
   "metadata": {},
   "source": [
    "### Кто использует Python сегодня?\n",
    "```markdown\n",
    "- Python — бесплатный и открытый инструмент (**FOSS**).\n",
    "- Точный подсчёт пользователей невозможен (нет лицензий, часто встроен в Linux и macOS).\n",
    "- Python стабилен, используется уже более 30 лет.\n",
    "- Входит в топ-5 самых популярных языков (часто #1).\n",
    "- Применяется в реальных продуктах и компаниях по всему миру.\n",
    "- Используется как в стратегических, так и в тактических задачах.\n",
    "- Основной инструмент в образовании по информатике.\n"
   ]
  },
  {
   "cell_type": "markdown",
   "metadata": {},
   "source": [
    "### Что можно делать с Python?\n",
    "```markdown\n",
    "- Python — язык общего назначения, используется в самых разных сферах.\n",
    "- Области применения:\n",
    "  - системное программирование,\n",
    "  - графические интерфейсы (GUI),\n",
    "  - интернет и веб,\n",
    "  - интеграция компонентов,\n",
    "  - работа с базами данных,\n",
    "  - быстрые прототипы,\n",
    "  - научные расчёты,\n",
    "  - ИИ, игры, графика, приложения.\n"
   ]
  },
  {
   "cell_type": "markdown",
   "metadata": {},
   "source": [
    "### Системное программирование\n",
    "```markdown\n",
    "- Python умеет работать с ОС: файлы, процессы, потоки.\n",
    "- Подходит для написания утилит администрирования.\n",
    "- Большинство функций кроссплатформенные.\n"
   ]
  },
  {
   "cell_type": "code",
   "execution_count": null,
   "metadata": {},
   "outputs": [],
   "source": [
    "# поиск всех файлов в папке\n",
    "import os\n",
    "\n",
    "for root, dirs, files in os.walk(\".\"):\n",
    "    for name in files:\n",
    "        print(os.path.join(root, name))"
   ]
  },
  {
   "cell_type": "markdown",
   "metadata": {},
   "source": [
    "### Графические интерфейсы (GUI)\n",
    "```markdown\n",
    "- Встроенный модуль **Tkinter** — стандарт для GUI.\n",
    "- Кроссплатформенные библиотеки: PyQt, wxPython, Kivy, Toga.\n",
    "- Поддержка веб-интерфейсов (Flask, Django, WebAssembly).\n"
   ]
  },
  {
   "cell_type": "code",
   "execution_count": 11,
   "metadata": {},
   "outputs": [],
   "source": [
    "# brew install python-tk\n",
    "\n",
    "# простое GUI-приложение\n",
    "import tkinter as tk\n",
    "\n",
    "root = tk.Tk()\n",
    "root.title(\"Привет, Python!\")\n",
    "label = tk.Label(root, text=\"Это окно на Tkinter\")\n",
    "label.pack()\n",
    "root.mainloop()"
   ]
  },
  {
   "cell_type": "markdown",
   "metadata": {},
   "source": [
    "### Интернет и веб-разработка\n",
    "```markdown\n",
    "- Python поддерживает сетевые протоколы «из коробки».\n",
    "- Можно писать серверы, клиенты, парсеры, боты.\n",
    "- Фреймворки: **Django, Flask, FastAPI**.\n"
   ]
  },
  {
   "cell_type": "code",
   "execution_count": 12,
   "metadata": {},
   "outputs": [
    {
     "name": "stdout",
     "output_type": "stream",
     "text": [
      "Размер страницы: 11417\n"
     ]
    }
   ],
   "source": [
    "# скачивание страницы\n",
    "import urllib.request\n",
    "\n",
    "with urllib.request.urlopen(\"https://www.python.org\") as response:\n",
    "    html = response.read()\n",
    "    print(\"Размер страницы:\", len(html))"
   ]
  },
  {
   "cell_type": "markdown",
   "metadata": {},
   "source": [
    "### Работа с базами данных\n",
    "```markdown\n",
    "- Поддержка всех популярных СУБД: MySQL, PostgreSQL, Oracle, SQLite.\n",
    "- Есть стандартный API для работы с SQL.\n",
    "- Сторонние инструменты: SQLAlchemy, PyMongo, PyYAML.\n"
   ]
  },
  {
   "cell_type": "code",
   "execution_count": 8,
   "metadata": {},
   "outputs": [
    {
     "name": "stdout",
     "output_type": "stream",
     "text": [
      "[(1, 'Ivan'), (2, 'Nikita')]\n"
     ]
    }
   ],
   "source": [
    "# встроенная база SQLite\n",
    "import sqlite3\n",
    "\n",
    "conn = sqlite3.connect(\":memory:\")\n",
    "cur = conn.cursor()\n",
    "cur.execute(\"CREATE TABLE users (id INT, name TEXT)\")\n",
    "cur.execute(\"INSERT INTO users VALUES (1, 'Ivan'), (2, 'Nikita')\")\n",
    "cur.execute(\"SELECT * FROM users\")\n",
    "print(cur.fetchall())\n",
    "conn.close()"
   ]
  },
  {
   "cell_type": "markdown",
   "metadata": {},
   "source": [
    "### Быстрое прототипирование\n",
    "```markdown\n",
    "- Python позволяет быстро создавать прототипы.\n",
    "- Рабочий прототип часто становится готовым продуктом.\n",
    "- Если нужна оптимизация, можно вынести часть кода на C/C++.\n"
   ]
  },
  {
   "cell_type": "code",
   "execution_count": 13,
   "metadata": {},
   "outputs": [
    {
     "name": "stdout",
     "output_type": "stream",
     "text": [
      "8\n"
     ]
    }
   ],
   "source": [
    "# быстрый прототип калькулятора\n",
    "def calc(a, b, op):\n",
    "    if op == \"+\": return a + b\n",
    "    if op == \"-\": return a - b\n",
    "    return None\n",
    "\n",
    "print(calc(5, 3, \"+\"))"
   ]
  },
  {
   "cell_type": "markdown",
   "metadata": {},
   "source": [
    "### Научные вычисления\n",
    "```markdown\n",
    "- Python лидирует в науке и анализе данных.\n",
    "- Библиотеки: **NumPy, SciPy, pandas, matplotlib, Jupyter**.\n",
    "- Есть оптимизаторы и компиляторы: **Numba, PyThran, Cython**.\n"
   ]
  },
  {
   "cell_type": "code",
   "execution_count": 14,
   "metadata": {},
   "outputs": [
    {
     "name": "stdout",
     "output_type": "stream",
     "text": [
      "Среднее: 3.0\n"
     ]
    }
   ],
   "source": [
    "# работа с NumPy\n",
    "import numpy as np\n",
    "\n",
    "arr = np.array([1, 2, 3, 4, 5])\n",
    "print(\"Среднее:\", arr.mean())"
   ]
  },
  {
   "cell_type": "markdown",
   "metadata": {},
   "source": [
    "### ИИ, игры, графика и многое другое\n",
    "```markdown\n",
    "- Искусственный интеллект: **TensorFlow, PyTorch, Keras**.\n",
    "- Игры: **pygame, Panda3D, Kivy**.\n",
    "- Графика: **Pillow, OpenCV, PyOpenGL**.\n",
    "- Тестирование: **pytest, Selenium, unittest**.\n",
    "- Excel: **xlwings, PyXLL**.\n",
    "- Мобильные приложения: **Kivy, BeeWare**.\n",
    "- Микроконтроллеры: **MicroPython, PySerial**.\n"
   ]
  },
  {
   "cell_type": "code",
   "execution_count": 2,
   "metadata": {},
   "outputs": [
    {
     "data": {
      "image/png": "[encoded data removed]",
      "text/plain": [
       "<Figure size 640x480 with 1 Axes>"
      ]
     },
     "metadata": {},
     "output_type": "display_data"
    }
   ],
   "source": [
    "import matplotlib.pyplot as plt\n",
    "\n",
    "x = [1, 2, 3, 4, 5, 6, 7, 8]\n",
    "y = [i**2 for i in x]\n",
    "\n",
    "plt.plot(x, y, marker=\"o\")\n",
    "plt.title(\"График y = x^2\")\n",
    "plt.show()"
   ]
  },
  {
   "cell_type": "markdown",
   "metadata": {},
   "source": [
    "### Объектно-ориентированный и функциональный\n",
    "```markdown\n",
    "- Python «снизу доверху» объектно-ориентирован, но ООП — опция, а не обязанность.\n",
    "- Поддерживает полиморфизм, перегрузку операторов, множественное наследование.\n",
    "- Сочетает процедурный, ООП и функциональный стили (генераторы, comprehension, lambda, decorators).\n"
   ]
  },
  {
   "cell_type": "code",
   "execution_count": 4,
   "metadata": {},
   "outputs": [
    {
     "name": "stdout",
     "output_type": "stream",
     "text": [
      "Vec(4, 6) 5\n",
      "[4, 16]\n"
     ]
    }
   ],
   "source": [
    "# ООП + перегрузка оператора + полиморфизм\n",
    "class Vec:\n",
    "    def __init__(self, x, y): \n",
    "        self.x, self.y = x, y\n",
    "    def __add__(self, other): \n",
    "        return Vec(self.x + other.x, self.y + other.y)\n",
    "    def __repr__(self): \n",
    "        return f\"Vec({self.x}, {self.y})\"\n",
    "\n",
    "def length2(v):  # полиморфная функция (работает с любыми 'вектороподобными')\n",
    "    return v.x * v.x + v.y * v.y\n",
    "\n",
    "a, b = Vec(1, 2), Vec(3, 4)\n",
    "print(a + b, length2(a))\n",
    "\n",
    "# функциональный стиль\n",
    "nums = [1, 2, 3, 4, 5]\n",
    "squares_of_evens = [x*x for x in nums if x % 2 == 0]  # list comprehension\n",
    "print(squares_of_evens)\n"
   ]
  },
  {
   "cell_type": "markdown",
   "metadata": {},
   "source": [
    "### Бесплатный и открытый (FOSS)\n",
    "```markdown\n",
    "- Python — полностью бесплатен и открытый (исходники доступны).\n",
    "- Можно встраивать, копировать и распространять вместе с продуктами.\n",
    "- Поддержка сообщества часто быстрее, чем у коммерческих инструментов.\n"
   ]
  },
  {
   "cell_type": "code",
   "execution_count": 17,
   "metadata": {},
   "outputs": [
    {
     "name": "stdout",
     "output_type": "stream",
     "text": [
      "3.13.7 (main, Aug 14 2025, 11:12:11) [Clang 17.0.0 (clang-1700.0.13.3)]\n",
      "/Users/petrovich/Desktop/CODE/python_course/.venv/bin/python\n",
      "/Users/petrovich/Desktop/CODE/python_course/.venv/lib/python3.13/site-packages\n"
     ]
    }
   ],
   "source": [
    "# как узнать версию интерпретатора и путь до него\n",
    "import sys, sysconfig\n",
    "print(sys.version)\n",
    "print(sys.executable)\n",
    "print(sysconfig.get_paths()[\"purelib\"])"
   ]
  },
  {
   "cell_type": "markdown",
   "metadata": {},
   "source": [
    "### Портируемый\n",
    "```markdown\n",
    "- Официальная реализация написана на переносимом ANSI C.\n",
    "- Работает от смартфонов до суперкомпьютеров; стандартные модули спроектированы кроссплатформенно.\n",
    "- Байт-код Python переносим между совместимыми версиями интерпретатора.\n"
   ]
  },
  {
   "cell_type": "code",
   "execution_count": 19,
   "metadata": {},
   "outputs": [
    {
     "name": "stdout",
     "output_type": "stream",
     "text": [
      "Darwin arm64\n"
     ]
    }
   ],
   "source": [
    "import platform\n",
    "print(platform.system(), platform.machine())"
   ]
  },
  {
   "cell_type": "markdown",
   "metadata": {},
   "source": [
    "### Мощный (набор технических возможностей)\n",
    "```markdown\n",
    "- **Динамическая типизация**: нет объявлений типов — код гибче и короче.\n",
    "- **Автоматическое управление памятью**: сборка мусора, счётчик ссылок.\n",
    "- **Programming-in-the-large**: модули, пакеты, классы, исключения, типовые аннотации.\n",
    "- **Встроенные типы**: списки, словари, множества, строки — быстрые и удобные.\n",
    "- **Богатые операции**: срезы, сортировка, распаковка, итераторы, генераторы.\n",
    "- **Стандартная библиотека + экосистема PyPI**: «батарейки в комплекте» и тысячи пакетов.\n"
   ]
  },
  {
   "cell_type": "code",
   "execution_count": 20,
   "metadata": {},
   "outputs": [
    {
     "name": "stdout",
     "output_type": "stream",
     "text": [
      "head: 1 tail: 5 middle: [2, 3, 1, 4]\n"
     ]
    }
   ],
   "source": [
    "# Динамическая типизация + мощные встроенные типы и операции\n",
    "data = {\"alice\": [3, 1, 2], \"bob\": {5, 4, 4, 1}}\n",
    "data[\"alice\"].sort()\n",
    "merged = [*data[\"alice\"], *sorted(data[\"bob\"])]\n",
    "\n",
    "# Срезы и распаковка\n",
    "head, *middle, tail = merged\n",
    "print(\"head:\", head, \"tail:\", tail, \"middle:\", middle)"
   ]
  },
  {
   "cell_type": "markdown",
   "metadata": {},
   "source": [
    "## Запуск программ на Python\n"
   ]
  },
  {
   "cell_type": "markdown",
   "metadata": {},
   "source": [
    "### Как Python выполняет программы\n",
    "\n",
    "```markdown\n",
    "- Python-программы исполняются через **интерпретатор**.\n",
    "- Интерпретатор — это программа, которая выполняет другие программы.\n",
    "- Python не работает напрямую с «железом» — есть прослойка в виде интерпретатора.\n",
    "- При установке Python на компьютер добавляются:\n",
    "  - сам интерпретатор,\n",
    "  - стандартная библиотека.\n",
    "- Существуют разные реализации: на C (CPython), на Java (Jython), на .NET (IronPython).\n",
    "- Чтобы запускать код, на компьютере должен быть установлен интерпретатор Python.\n",
    "```\n"
   ]
  },
  {
   "cell_type": "markdown",
   "metadata": {},
   "source": [
    "### Знакомство с интерпретатором Python\n",
    "\n",
    "1. **Проверить, установлен ли Python**\n",
    "\n",
    "   - В командной строке (Windows, Linux, macOS) введите:\n",
    "     ```\n",
    "     python --version\n",
    "     ```\n",
    "     или\n",
    "     ```\n",
    "     python3 --version\n",
    "     ```\n",
    "\n",
    "2. **Запустить интерактивный режим (REPL)**\n",
    "\n",
    "   - Введите в терминале:\n",
    "     ```\n",
    "     python\n",
    "     ```\n",
    "     или\n",
    "     ```\n",
    "     python3\n",
    "     ```\n",
    "   - Появится приглашение `>>>`, где можно вводить команды по одной.\n",
    "\n",
    "3. **Попробовать простые выражения в REPL**\n",
    "\n",
    "   ```python\n",
    "   >>> 2 + 3\n",
    "   5\n",
    "   >>> print(\"Привет, мир!\")\n",
    "   Привет, мир!\n",
    "\n",
    "   ```\n",
    "\n",
    "4. **Выйти из интерпретатора**\n",
    "\n",
    "Введите `exit()` или нажмите `Ctrl+D` (Linux/macOS) или `Ctrl+Z` и Enter (Windows).\n"
   ]
  },
  {
   "cell_type": "markdown",
   "metadata": {},
   "source": [
    "### Выполнение программы (Program Execution)\n",
    "\n",
    "```markdown\n",
    "- Python-программа = обычный текстовый файл с командами Python.\n",
    "- По соглашению файлы называют с расширением `.py`.\n",
    "- Чтобы запустить программу, нужно передать файл интерпретатору Python.\n",
    "- Интерпретатор выполняет команды сверху вниз, построчно.\n",
    "```\n"
   ]
  },
  {
   "cell_type": "markdown",
   "metadata": {},
   "source": [
    "### Взгляд Python на выполнение программы\n",
    "\n",
    "```markdown\n",
    "- Python не выполняет код напрямую.\n",
    "- Этапы запуска:\n",
    "  1. **Компиляция** исходного кода (`.py`) в байт-код.\n",
    "  2. **Исполнение байт-кода** виртуальной машиной Python.\n",
    "- Байт-код = платформо-независимое представление кода.\n",
    "- При импорте модулей байт-код сохраняется в файлы `.pyc` внутри папки `__pycache__`.\n",
    "- Сохраняется для ускорения повторного запуска.\n",
    "- Если исходный код меняется → байт-код пересоздаётся.\n",
    "- Если используется другая версия Python → создаётся свой `.pyc`.\n",
    "- При отсутствии `.pyc` программа всё равно работает (байт-код генерируется в памяти).\n",
    "```\n"
   ]
  },
  {
   "cell_type": "markdown",
   "metadata": {},
   "source": [
    "### Python Virtual Machine (PVM)\n",
    "\n",
    "```markdown\n",
    "- После компиляции в байт-код → код передаётся **PVM** (Python Virtual Machine).\n",
    "- PVM = часть интерпретатора, «движок исполнения» Python.\n",
    "- Это цикл, который выполняет инструкции байт-кода одну за другой.\n",
    "- Программисту не нужно ничего настраивать — всё происходит автоматически.\n",
    "\n",
    "**Влияние на производительность:**\n",
    "\n",
    "- Нет отдельного шага «сборки» (build/make), код выполняется сразу.\n",
    "- Байт-код ≠ машинный код CPU → выполнение медленнее, чем на C/C++.\n",
    "\n",
    "**Влияние на разработку:**\n",
    "\n",
    "- Нет разделения на «среду разработки» и «среду исполнения» — это одно и то же.\n",
    "- Быстрый цикл: «написал → запустил → проверил».\n",
    "- Динамика: можно создавать и запускать код прямо во время работы программы (`eval`, `exec`).\n",
    "- Всё (создание функций, классов, импорт модулей) происходит **во время выполнения**.\n",
    "```"
   ]
  },
  {
   "cell_type": "markdown",
   "metadata": {},
   "source": [
    "### Execution-Model Variations\n",
    "```markdown\n",
    "- Стандартная модель выполнения Python = CPython.  \n",
    "- Реализация Python может отличаться → разные интерпретаторы.  \n",
    "- Все используют один и тот же язык, но «под капотом» работают по-разному.  \n",
    "- Популярные альтернативы: Jython, IronPython, Stackless, PyPy, Numba, Cython, MicroPython и др.  \n"
   ]
  },
  {
   "cell_type": "markdown",
   "metadata": {},
   "source": [
    "### CPython\n",
    "```markdown\n",
    "- Стандартная реализация Python.  \n",
    "- Написан на C, кроссплатформенный.  \n",
    "- Самая полная и поддерживаемая версия.  "
   ]
  },
  {
   "cell_type": "markdown",
   "metadata": {},
   "source": [
    "### Jython\n",
    "```markdown\n",
    "- Реализация Python для Java Virtual Machine (JVM).  \n",
    "- Компилирует Python-код в Java-байт-код.  \n",
    "- Удобен для интеграции с Java-приложениями.  \n"
   ]
  },
  {
   "cell_type": "markdown",
   "metadata": {},
   "source": [
    "### IronPython\n",
    "```markdown\n",
    "- Реализация Python для .NET Framework и Mono.  \n",
    "- Дает возможность интеграции Python и C#.  \n"
   ]
  },
  {
   "cell_type": "markdown",
   "metadata": {},
   "source": [
    "### Stackless Python\n",
    "```markdown\n",
    "- Версия CPython с упором на многозадачность.  \n",
    "- Упрощает работу с корутинами и параллельными задачами.  \n"
   ]
  },
  {
   "cell_type": "markdown",
   "metadata": {},
   "source": [
    "### PyPy\n",
    "```markdown\n",
    "- Реализация Python с JIT-компиляцией.  \n",
    "- Ускоряет выполнение за счёт перевода байт-кода в машинный код «на лету».  \n",
    "- Часто быстрее CPython.  \n"
   ]
  },
  {
   "cell_type": "markdown",
   "metadata": {},
   "source": [
    "### Numba\n",
    "```markdown\n",
    "- JIT-компилятор для численных расчётов.  \n",
    "- Ускоряет код с массивами NumPy и математическими циклами.  \n"
   ]
  },
  {
   "cell_type": "code",
   "execution_count": 25,
   "metadata": {},
   "outputs": [
    {
     "data": {
      "text/plain": [
       "249999750000.0"
      ]
     },
     "execution_count": 25,
     "metadata": {},
     "output_type": "execute_result"
    }
   ],
   "source": [
    "from numba import njit\n",
    "\n",
    "@njit\n",
    "def kernel(n):\n",
    "    acc = 0.0\n",
    "    for i in range(n):\n",
    "        acc += i * 0.5\n",
    "    return acc\n",
    "\n",
    "kernel(1_000_000)"
   ]
  },
  {
   "cell_type": "markdown",
   "metadata": {},
   "source": [
    "### Cython\n",
    "```markdown\n",
    "- Гибрид Python и C.  \n",
    "- Позволяет добавлять типы и вызывать C-функции.  \n",
    "- Используется для оптимизации критически важных частей кода.  "
   ]
  },
  {
   "cell_type": "markdown",
   "metadata": {},
   "source": [
    "### MicroPython\n",
    "```markdown\n",
    "- Облегчённая версия Python.  \n",
    "- Предназначен для микроконтроллеров и IoT-устройств.  \n",
    "- Поддерживает только часть стандартной библиотеки.  \n"
   ]
  },
  {
   "cell_type": "markdown",
   "metadata": {},
   "source": [
    "### Самостоятельные исполняемые файлы\n",
    "```markdown\n",
    "- **Обычные Python-программы**: запускаются только при установленном Python.  \n",
    "- **Упакованные программы (frozen binaries)**: содержат в себе код + интерпретатор + библиотеки → запускаются без Python.  \n",
    "- Используются для распространения приложений среди пользователей.  \n",
    "- Инструменты:  \n",
    "  - **PyInstaller, cx_Freeze** — Windows, macOS, Linux,  \n",
    "  - **py2exe** — Windows,  \n",
    "  - **py2app** — macOS,  \n",
    "  - **Buildozer, Briefcase** — Android, iOS.  \n"
   ]
  },
  {
   "cell_type": "markdown",
   "metadata": {},
   "source": [
    "### Возможные будущие направления\n",
    "```markdown\n",
    "- Возможны новые компиляторы:  \n",
    "  - **AOT** — компиляция в машинный код заранее,  \n",
    "  - **JIT** — ускорение во время выполнения.  \n",
    "- Байт-код остаётся стандартом → переносимость и гибкость.  \n",
    "- Подсказки типов (type hints) есть, но интерпретатор их не применяет жёстко.  \n"
   ]
  },
  {
   "cell_type": "markdown",
   "metadata": {},
   "source": [
    "### Как запускать программы\n",
    "```markdown\n",
    "- Есть разные способы:  \n",
    "  - интерактивный режим,  \n",
    "  - запуск файлов через командную строку,  \n",
    "  - двойной клик по иконке,  \n",
    "  - использование IDLE и других IDE,  \n",
    "  - мобильные приложения,  \n",
    "  - web-интерфейсы,  \n",
    "  - импорт модулей.  "
   ]
  },
  {
   "cell_type": "markdown",
   "metadata": {},
   "source": [
    "### Установка Python\n",
    "```markdown\n",
    "- Python есть на многих устройствах по умолчанию (например, в Linux).  \n",
    "- Если Python отсутствует, его можно установить:  \n",
    "  - **Windows и macOS** → скачать установщик с python.org.  \n",
    "  - **Linux** → через пакетный менеджер (apt, yum и др.).  \n",
    "  - **Android и iOS** → через приложение из магазина.  "
   ]
  },
  {
   "cell_type": "markdown",
   "metadata": {},
   "source": [
    "### Файлы программ \n",
    "```markdown\n",
    "- Интерактивный режим **не сохраняет** код.  \n",
    "- Для повторного запуска пишем код в **файлы-модули** `.py`.  \n",
    "- Скрипт = «верхнеуровневый» файл, модуль = файл, который **импортируют**.  "
   ]
  },
  {
   "cell_type": "markdown",
   "metadata": {},
   "source": [
    "### Запуск файлов через командную строку\n",
    "```markdown\n",
    "- Базовый способ: `python3 script1.py` (или `py script1.py` на Windows).  \n",
    "- Запускайте **в папке**, где лежит файл (сначала `cd` туда).  \n",
    "- **Перенаправление вывода**: `python3 script1.py > saveit.txt`.  \n",
    "- **Полные пути**: указывайте путь к Python и/или к скрипту при запуске из другой папки.  "
   ]
  },
  {
   "cell_type": "markdown",
   "metadata": {},
   "source": [
    "### Другие способы запуска файлов\n",
    "```markdown\n",
    "- Помимо командной строки, запуск возможен через:  \n",
    "  - **Клики по иконке файла** (Windows, macOS, иногда Linux и смартфоны).  \n",
    "  - **IDLE** — стандартная графическая среда Python.  \n",
    "  - **Другие IDE** (PyCharm, VSCode, Spyder и др.).  \n",
    "  - **Jupyter Notebooks** — интерактивные тетрадки для науки и анализа данных.  \n",
    "  - **AOT-компиляторы** — превращают Python в исполняемые файлы.  "
   ]
  },
  {
   "cell_type": "markdown",
   "metadata": {},
   "source": [
    "### Запуск кода из кода\n",
    "```markdown\n",
    "- **import** запускает файл как модуль (первый раз за сессию).  \n",
    "- **reload(...)** принудительно перезапускает уже импортированный модуль.  \n",
    "- **Атрибуты модуля**: имена верхнего уровня доступны через `module.name` или `from module import name`.  \n",
    "- **exec(...)** запускает текст кода из строки (или файла), без импорта.  \n",
    "- **os.system / subprocess** запускают команды/скрипты как отдельные процессы.  "
   ]
  },
  {
   "cell_type": "markdown",
   "metadata": {},
   "source": [
    "### Перезагрузка модулей\n",
    "```markdown\n",
    "- Повторный `import` **не перезапускает** файл.  \n",
    "- Используйте `importlib.reload(module)`.  \n"
   ]
  },
  {
   "cell_type": "code",
   "execution_count": 26,
   "metadata": {},
   "outputs": [
    {
     "data": {
      "text/plain": [
       "<module 'scripts.test_script' from '/Users/petrovich/Desktop/CODE/python_course/lesson_1/scripts/test_script.py'>"
      ]
     },
     "execution_count": 26,
     "metadata": {},
     "output_type": "execute_result"
    }
   ],
   "source": [
    "import scripts.test_script\n",
    "from importlib import reload\n",
    "reload(scripts.test_script)  # Выполнит актуальную версию файла повторно"
   ]
  },
  {
   "cell_type": "markdown",
   "metadata": {},
   "source": [
    "### Атрибуты модуля\n",
    "```markdown\n",
    "- Имена верхнего уровня становятся атрибутами модуля.  \n",
    "- Доступ: `module.name` или `from module import name`.  \n"
   ]
  },
  {
   "cell_type": "code",
   "execution_count": 28,
   "metadata": {},
   "outputs": [
    {
     "data": {
      "text/plain": [
       "'Hello world!'"
      ]
     },
     "execution_count": 28,
     "metadata": {},
     "output_type": "execute_result"
    }
   ],
   "source": [
    "import scripts.test_script\n",
    "scripts.test_script.title # доступ через пространство имён модуля\n",
    "\n",
    "from scripts.test_script import title\n",
    "title # прямой доступ"
   ]
  },
  {
   "cell_type": "markdown",
   "metadata": {},
   "source": [
    "### exec: выполнение текста кода\n",
    "```markdown\n",
    "- Запуск файла без импорта: `exec(open('file.py').read())`.  \n",
    "- Исполняется в **текущем** пространстве имён.  \n"
   ]
  },
  {
   "cell_type": "code",
   "execution_count": 3,
   "metadata": {},
   "outputs": [
    {
     "name": "stdout",
     "output_type": "stream",
     "text": [
      "1000\n"
     ]
    }
   ],
   "source": [
    "x = 999\n",
    "exec(open('scripts/test_script.py').read())  # выполняет код как «вставленный» здесь\n",
    "print(x)"
   ]
  },
  {
   "cell_type": "markdown",
   "metadata": {},
   "source": [
    "### Запуск через системные команды\n",
    "```markdown\n",
    "- `os.system('python3 script.py')` — как в терминале (возвращает код статуса).  \n",
    "- `subprocess.run([...])` — гибче: аргументы, вывод, ошибки, таймауты.  \n"
   ]
  },
  {
   "cell_type": "markdown",
   "metadata": {},
   "source": [
    "### Другие варианты запуска\n",
    "```markdown\n",
    "- Запуск Python-кода из других языков (C, C++, Java и др.), которые **встраивают** интерпретатор Python.  \n",
    "- Запуск прямо из **текстовых редакторов**, не являющихся полноценными IDE, но умеющих выполнять текущий файл.  \n",
    "- Запуск Python-выражений в **Excel**, как часть расчёта таблицы.  \n",
    "- Автоматический запуск скриптов веб-серверами в ответ на действия пользователя.  \n",
    "- Запуск через **упакованные программы** (standalone executables).  "
   ]
  }
 ],
 "metadata": {
  "kernelspec": {
   "display_name": "3.10.8",
   "language": "python",
   "name": "python3"
  },
  "language_info": {
   "codemirror_mode": {
    "name": "ipython",
    "version": 3
   },
   "file_extension": ".py",
   "mimetype": "text/x-python",
   "name": "python",
   "nbconvert_exporter": "python",
   "pygments_lexer": "ipython3",
   "version": "3.13.7"
  }
 },
 "nbformat": 4,
 "nbformat_minor": 2
}
