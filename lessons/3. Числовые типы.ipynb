{
 "cells": [
  {
   "cell_type": "markdown",
   "metadata": {},
   "source": [
    "## Числа и выражения"
   ]
  },
  {
   "cell_type": "markdown",
   "metadata": {},
   "source": [
    "```markdown\n",
    "Python поддерживает разные виды числовых объектов, которые используются для работы с любыми количественными данными.\n",
    "\n",
    "Основные числовые объекты:\n",
    "- Целые числа (**integers**)  \n",
    "- Числа с плавающей точкой (**floating-point**)  \n",
    "- Комплексные числа (**complex**)  \n",
    "- Десятичные числа с фиксированной точностью (**decimal**)  \n",
    "- Рациональные дроби (**fractions**)  \n",
    "\n",
    "Дополнительно:\n",
    "- Множества (**sets**) и операции над ними  \n",
    "- Логические (**boolean**) и побитовые операции  \n",
    "- Встроенные модули: `math`, `cmath`, `random`, `statistics`  \n",
    "- Сторонние библиотеки: для работы с векторами, графикой, визуализацией, высокой точностью вычислений  \n",
    "\n",
    "```\n"
   ]
  },
  {
   "cell_type": "markdown",
   "metadata": {},
   "source": [
    "### Числовые литералы в Python\n",
    "```markdown\n",
    "- **Целые числа (integers):** `1234`, `-24`, `0`  \n",
    "- **Числа с плавающей точкой (floats):** `1.23`, `3.14e-10`, `4E210`  \n",
    "- **Шестнадцатеричные, восьмеричные, двоичные:** `0x9ff`, `0o177`, `0b101010`  \n",
    "- **Комплексные числа (complex):** `3+4j`, `3.0+4.0j`, `3J`  \n",
    "- **Множества (sets):** `set('hack')`, `{1, 2, 3, 4}`  \n",
    "- **Десятичные числа (Decimal):** `Decimal('1.0')`  \n",
    "- **Дроби (Fraction):** `Fraction(1, 3)`  \n",
    "- **Булевы значения (Booleans):** `True`, `False`, `bool(X)`  \n"
   ]
  },
  {
   "cell_type": "code",
   "execution_count": 27,
   "metadata": {},
   "outputs": [
    {
     "data": {
      "text/plain": [
       "42"
      ]
     },
     "execution_count": 27,
     "metadata": {},
     "output_type": "execute_result"
    }
   ],
   "source": [
    "# Примеры числовых литералов\n",
    "a = 1234            # целое число\n",
    "pi = 3.1415         # число с плавающей точкой\n",
    "hx = 0x9ff          # шестнадцатеричное\n",
    "oc = 0o177          # восьмеричное\n",
    "bn = 0b101010       # двоичное\n",
    "bn"
   ]
  },
  {
   "cell_type": "code",
   "execution_count": 24,
   "metadata": {},
   "outputs": [
    {
     "data": {
      "text/plain": [
       "(2-3j)"
      ]
     },
     "execution_count": 24,
     "metadata": {},
     "output_type": "execute_result"
    }
   ],
   "source": [
    "c1 = 3 + 4j         # комплексное число\n",
    "c2 = complex(2, -3) # другой способ задать комплексное число\n",
    "c2"
   ]
  },
  {
   "cell_type": "code",
   "execution_count": 23,
   "metadata": {},
   "outputs": [],
   "source": [
    "flag1 = True\n",
    "flag2 = bool(\"text\")   # непустая строка -> True"
   ]
  },
  {
   "cell_type": "code",
   "execution_count": 20,
   "metadata": {},
   "outputs": [
    {
     "name": "stdout",
     "output_type": "stream",
     "text": [
      "0b101010\n",
      "0o52\n",
      "0x2a\n"
     ]
    }
   ],
   "source": [
    "# Перевод между системами счисления\n",
    "n = 42\n",
    "print(bin(n))       # '0b101010'\n",
    "print(oct(n))       # '0o52'\n",
    "print(hex(n))       # '0x2a'"
   ]
  },
  {
   "cell_type": "code",
   "execution_count": 21,
   "metadata": {},
   "outputs": [
    {
     "name": "stdout",
     "output_type": "stream",
     "text": [
      "42\n",
      "42\n"
     ]
    }
   ],
   "source": [
    "# Преобразование строки в число\n",
    "print(int(\"101010\", 2))  # из двоичной строки в число -> 42\n",
    "print(int(\"2a\", 16))     # из hex-строки в число -> 42"
   ]
  },
  {
   "cell_type": "markdown",
   "metadata": {},
   "source": [
    "### Встроенные числовые инструменты\n",
    "```markdown\n",
    "Python предоставляет три основные группы инструментов для работы с числами:\n",
    "\n",
    "- **Операторы выражений:** `+`, `-`, `*`, `/`, `//`, `%`, `**`, `>>`, `&` и др.  \n",
    "- **Встроенные функции:** `pow()`, `abs()`, `round()`, `int()`, `hex()`, `bin()` и др.  \n",
    "- **Модули стандартной библиотеки:** `math`, `random`, `statistics` (и другие).  \n",
    "\n",
    "Кроме этого, у чисел есть и **методы объектов**:  \n",
    "- Для **вещественных чисел (float):**  \n",
    "  - `as_integer_ratio()` — дробь, эквивалентная числу;  \n",
    "  - `is_integer()` — проверка, является ли число целым.  \n",
    "- Для **целых чисел (int):**  \n",
    "  - `bit_length()` — количество бит для представления числа.  \n",
    "- Для **множеств (set):** поддерживаются и выражения (`|`, `&`, `-`), и методы (`add()`, `remove()`).  \n"
   ]
  },
  {
   "cell_type": "code",
   "execution_count": 28,
   "metadata": {},
   "outputs": [
    {
     "name": "stdout",
     "output_type": "stream",
     "text": [
      "8\n",
      "1024\n",
      "7\n",
      "3.14\n",
      "3\n"
     ]
    }
   ],
   "source": [
    "# Операторы и встроенные функции\n",
    "print(5 + 3)        \n",
    "print(2 ** 10)      # возведение в степень\n",
    "print(abs(-7))      # модуль числа \n",
    "print(round(3.14159, 2))  # округление до 2 знаков\n",
    "print(int(3.99))    # преобразование в целое "
   ]
  },
  {
   "cell_type": "code",
   "execution_count": 29,
   "metadata": {},
   "outputs": [
    {
     "name": "stdout",
     "output_type": "stream",
     "text": [
      "(7, 2)\n",
      "False\n"
     ]
    }
   ],
   "source": [
    "# Методы float\n",
    "x = 3.5\n",
    "print(x.as_integer_ratio())   \n",
    "print(x.is_integer())        "
   ]
  },
  {
   "cell_type": "code",
   "execution_count": 30,
   "metadata": {},
   "outputs": [
    {
     "name": "stdout",
     "output_type": "stream",
     "text": [
      "6\n"
     ]
    }
   ],
   "source": [
    "# Методы int\n",
    "n = 42\n",
    "print(n.bit_length())        "
   ]
  },
  {
   "cell_type": "code",
   "execution_count": 31,
   "metadata": {},
   "outputs": [
    {
     "name": "stdout",
     "output_type": "stream",
     "text": [
      "{1, 2, 3, 4, 5}\n",
      "{3}\n",
      "{1, 2}\n"
     ]
    }
   ],
   "source": [
    "# Работа с множествами\n",
    "A = {1, 2, 3}\n",
    "B = {3, 4, 5}\n",
    "print(A | B)   # объединение \n",
    "print(A & B)   # пересечение \n",
    "print(A - B)   # разность "
   ]
  },
  {
   "cell_type": "markdown",
   "metadata": {},
   "source": [
    "### Операторы выражений в Python\n",
    "```markdown\n",
    "#### Основные группы операторов:\n",
    "- **Арифметические:** `+`, `-`, `*`, `/`, `//`, `%`, `**`  \n",
    "- **Сравнения:** `<`, `<=`, `>`, `>=`, `==`, `!=`  \n",
    "- **Логические:** `and`, `or`, `not`  \n",
    "- **Побитовые:** `&`, `|`, `^`, `<<`, `>>`, `~`  \n",
    "- **Операторы принадлежности и идентичности:** `in`, `not in`, `is`, `is not`  \n",
    "- **Другие:**  \n",
    "  - `x if y else z` — тернарный оператор (выбор по условию)  \n",
    "  - `lambda` — анонимные функции  \n",
    "  - `:=` — оператор присваивания в выражениях (walrus operator)  \n",
    "  - `@` — матричное умножение (обычно используется в библиотеках, например NumPy)  \n",
    "\n",
    "> Многие операторы работают не только с числами, но и со строками, списками, словарями, множествами."
   ]
  },
  {
   "cell_type": "code",
   "execution_count": 32,
   "metadata": {},
   "outputs": [
    {
     "name": "stdout",
     "output_type": "stream",
     "text": [
      "10\n",
      "2.3333333333333335\n",
      "2\n",
      "1\n",
      "32\n"
     ]
    }
   ],
   "source": [
    "# Арифметика\n",
    "print(7 + 3)     # 10\n",
    "print(7 / 3)     # 2.333... (обычное деление)\n",
    "print(7 // 3)    # 2 (целочисленное деление)\n",
    "print(7 % 3)     # 1 (остаток)\n",
    "print(2 ** 5)    # 32 (возведение в степень)"
   ]
  },
  {
   "cell_type": "code",
   "execution_count": 33,
   "metadata": {},
   "outputs": [
    {
     "name": "stdout",
     "output_type": "stream",
     "text": [
      "True\n",
      "False\n",
      "False\n"
     ]
    }
   ],
   "source": [
    "# Сравнения и логика\n",
    "print(5 > 3)           \n",
    "print(5 == 3)          \n",
    "print((5 > 3) and (2 < 1))  "
   ]
  },
  {
   "cell_type": "code",
   "execution_count": 34,
   "metadata": {},
   "outputs": [
    {
     "name": "stdout",
     "output_type": "stream",
     "text": [
      "even\n"
     ]
    }
   ],
   "source": [
    "# Тернарный оператор\n",
    "x = 10\n",
    "print(\"even\" if x % 2 == 0 else \"odd\")  "
   ]
  },
  {
   "cell_type": "code",
   "execution_count": 36,
   "metadata": {},
   "outputs": [
    {
     "name": "stdout",
     "output_type": "stream",
     "text": [
      "True\n",
      "False\n",
      "True\n",
      "True\n"
     ]
    }
   ],
   "source": [
    "# Принадлежность и идентичность\n",
    "print(2 in [1, 2, 3])      # True\n",
    "print(2 not in [1, 2, 3])  # False\n",
    "a = [1, 2, 3]\n",
    "b = a\n",
    "print(a is b)              # True (один и тот же объект в памяти)\n",
    "print(a == b)              # True (равны по содержимому)"
   ]
  },
  {
   "cell_type": "markdown",
   "metadata": {},
   "source": [
    "### Приоритет операторов \n",
    "```markdown\n",
    "Когда в выражении используется несколько операторов, порядок их выполнения задаётся **правилами приоритета**:\n",
    "- Обычно операторы с одинаковым приоритетом выполняются **слева направо**.  \n",
    "- Исключения:  \n",
    "  - **Возведение в степень `**`** выполняется справа налево.  \n",
    "  - **Сравнения** могут \"цепляться\" (`X < Y < Z`).  "
   ]
  },
  {
   "cell_type": "code",
   "execution_count": 38,
   "metadata": {},
   "outputs": [
    {
     "name": "stdout",
     "output_type": "stream",
     "text": [
      "14\n",
      "20\n",
      "512\n",
      "64\n",
      "True\n",
      "True\n",
      "True\n"
     ]
    }
   ],
   "source": [
    "print(2 + 3 * 4)        \n",
    "print((2 + 3) * 4)      \n",
    "\n",
    "print(2 ** 3 ** 2)      # 512 (сначала 3**2=9, потом 2**9)\n",
    "print((2 ** 3) ** 2)    # 64  (если скобки: сначала 2**3, потом возведение в квадрат)\n",
    "\n",
    "print(1 < 2 < 3)        # True  (цепное сравнение: 1<2 и 2<3)\n",
    "print(1 < 2 and 2 < 3)  # То же самое, но длиннее\n",
    "\n",
    "# Логические и арифметические операторы\n",
    "print(2 + 3 > 4 and 5 < 10)  # True"
   ]
  },
  {
   "cell_type": "markdown",
   "metadata": {},
   "source": [
    "### Смешанные типы в выражениях\n",
    "```markdown\n",
    "- В Python можно смешивать разные числовые типы в одном выражении.  \n",
    "- **Правило**: более простой тип автоматически преобразуется к более сложному.  \n",
    "- Порядок \"сложности\" типов:  \n",
    "  `int` → `float` → `complex`.  \n",
    "- Итоговый результат имеет тот же тип, что и самый «сложный» из операндов.  \n",
    "\n",
    "Примеры:  \n",
    "- `40 + 3.14` → целое число (`int`) преобразуется в число с плавающей точкой (`float`).  \n",
    "- Любая операция с комплексным числом превращает результат в `complex`.  \n",
    "- Равенство сравнивает разные типы: `3 == 3.0 → True`.  \n",
    "\n",
    "Ручные преобразования:  \n",
    "- `int(3.1415)` → 3 (усечение дробной части).  \n",
    "- `float(3)` → 3.0.  \n",
    "\n",
    "Автоматические преобразования работают **только для чисел**. Попытка сложить строку и число вызовет ошибку.  \n"
   ]
  },
  {
   "cell_type": "code",
   "execution_count": 39,
   "metadata": {},
   "outputs": [
    {
     "name": "stdout",
     "output_type": "stream",
     "text": [
      "43.14\n",
      "(7+3j)\n"
     ]
    }
   ],
   "source": [
    "# Автоматические преобразования\n",
    "print(40 + 3.14)   \n",
    "print(2 + 3j + 5)  "
   ]
  },
  {
   "cell_type": "markdown",
   "metadata": {},
   "source": [
    "### Форматы отображения чисел\n",
    "```markdown\n",
    "- Иногда результат вычислений с `float` выглядит странно:  \n",
    "  `1.1 + 2.2 → 3.3000000000000003`.  \n",
    "- Это не ошибка Python, а ограничение двоичной арифметики процессора.  \n",
    "- Обычно Python сам выводит меньше знаков, но иногда появляются \"лишние\".  \n",
    "- Для управления выводом используются **форматирование строк** (`%`, `format`, f-строки).  \n",
    "- Разные функции для вывода:  \n",
    "  - `repr()` — формальный вид (как в коде, используется в интерактивных эхо).  \n",
    "  - `str()` — человеко-дружественный вид (используется в `print`).  \n"
   ]
  },
  {
   "cell_type": "code",
   "execution_count": 41,
   "metadata": {},
   "outputs": [
    {
     "name": "stdout",
     "output_type": "stream",
     "text": [
      "3.3000000000000003\n"
     ]
    }
   ],
   "source": [
    "# Ограничения float\n",
    "print(1.1 + 2.2)   "
   ]
  },
  {
   "cell_type": "code",
   "execution_count": 44,
   "metadata": {},
   "outputs": [
    {
     "name": "stdout",
     "output_type": "stream",
     "text": [
      "3.300000e+00\n",
      "3.3\n",
      "3.300000e+00\n",
      "3.3\n"
     ]
    }
   ],
   "source": [
    "# Форматирование вывода\n",
    "num = 1.1 + 2.2\n",
    "print('%e' % num)      # экспоненциальный формат \n",
    "print('%.1f' % num)    # округление до 1 знака после запятой\n",
    "print(f'{num:e}')      # f-строка, экспоненциальный формат\n",
    "print(f'{num:.1f}')    # f-строка, округление "
   ]
  },
  {
   "cell_type": "code",
   "execution_count": 43,
   "metadata": {},
   "outputs": [
    {
     "name": "stdout",
     "output_type": "stream",
     "text": [
      "'hack'\n",
      "hack\n"
     ]
    }
   ],
   "source": [
    "# Разница repr и str\n",
    "print(repr('hack'))   # \"'hack'\" (как код)\n",
    "print(str('hack'))    # \"hack\"  (как для пользователя)"
   ]
  },
  {
   "cell_type": "markdown",
   "metadata": {},
   "source": [
    "### Операторы деления в Python\n",
    "```markdown\n",
    "- `/` — **обычное деление (true division)**, результат всегда `float`.\n",
    "- `//` — **деление с округлением вниз (floor division)**, результат `int` или `float` в зависимости от типов операндов.\n",
    "- `%` — **остаток от деления (modulus)**.\n",
    "- `divmod(x, y)` — сразу возвращает `(частное, остаток)` в виде кортежа.\n"
   ]
  },
  {
   "cell_type": "code",
   "execution_count": 1,
   "metadata": {},
   "outputs": [
    {
     "name": "stdout",
     "output_type": "stream",
     "text": [
      "2.5\n",
      "2.5\n",
      "2\n",
      "2.0\n",
      "2\n",
      "1\n",
      "1.0\n",
      "(3, 1)\n"
     ]
    }
   ],
   "source": [
    "# Обычное деление (true division)\n",
    "print(10 / 4)      \n",
    "print(10 / 4.0)    \n",
    "\n",
    "# Деление с округлением вниз (floor division)\n",
    "print(10 // 4)     # 2   (результат int)\n",
    "print(10 // 4.0)   # 2.0 (результат float)\n",
    "\n",
    "# Приведение к целому\n",
    "print(int(10 // 4.0))  # 2\n",
    "\n",
    "# Остаток от деления (modulus)\n",
    "print(10 % 3)      # 1\n",
    "print(10 % 3.0)    # 1.0\n",
    "\n",
    "# Частное и остаток сразу\n",
    "print(divmod(10, 3))   # (3, 1)\n"
   ]
  },
  {
   "cell_type": "markdown",
   "metadata": {},
   "source": [
    "### Деление: округление вниз (floor) против усечения (truncation)\n",
    "```markdown\n",
    "- `//` — **деление с округлением вниз** (floor division).  \n",
    "  Оно всегда округляет результат к ближайшему целому числу, которое **меньше или равно** результату деления.  \n",
    "- `math.trunc()` — **усечение дробной части** (truncation).  \n",
    "  Оно просто «отрезает» дробную часть, двигаясь к нулю, а не обязательно вниз.  \n",
    "- Для положительных чисел поведение `//` и `trunc()` совпадает.  \n",
    "- Для отрицательных чисел появляется разница: `//` округляет «вниз» (к меньшему), а `trunc()` округляет к нулю.  \n"
   ]
  },
  {
   "cell_type": "code",
   "execution_count": null,
   "metadata": {},
   "outputs": [],
   "source": [
    "import math\n",
    "\n",
    "print(math.floor(2.5))    # 2\n",
    "print(math.floor(-2.5))   # -3\n",
    "\n",
    "print(math.trunc(2.5))    # 2\n",
    "print(math.trunc(-2.5))   # -2\n",
    "\n",
    "print(5 / 2, 5 // 2)      # 2.5  2\n",
    "print(5 / -2, 5 // -2)    # -2.5 -3\n",
    "\n",
    "print(math.trunc(5 / -2)) # -2 (усечение)"
   ]
  },
  {
   "cell_type": "markdown",
   "metadata": {},
   "source": [
    "### Целые числа и их точность (Integer Precision)\n",
    "```markdown\n",
    "- Целые числа в Python имеют **неограниченную точность**.  \n",
    "- Ограничение — только объём памяти.  \n",
    "- Очень большие числа обрабатываются медленнее.  \n",
    "- Для вывода сверхдлинных чисел есть ограничение (`sys.set_int_max_str_digits`).  \n"
   ]
  },
  {
   "cell_type": "code",
   "execution_count": 47,
   "metadata": {},
   "outputs": [
    {
     "data": {
      "text/plain": [
       "4300"
      ]
     },
     "execution_count": 47,
     "metadata": {},
     "output_type": "execute_result"
    }
   ],
   "source": [
    "import sys\n",
    "\n",
    "sys.get_int_max_str_digits()"
   ]
  },
  {
   "cell_type": "code",
   "execution_count": 51,
   "metadata": {},
   "outputs": [
    {
     "name": "stdout",
     "output_type": "stream",
     "text": [
      "1000000000000000000000000000000\n",
      "948568795032094272909893509191171341133987714380927500611236528192824358010355712\n"
     ]
    }
   ],
   "source": [
    "# Примеры работы с большими числами\n",
    "print(999999999999999999999999999999 + 1)\n",
    "\n",
    "print(2 ** 269)  # Возведение в большую степень"
   ]
  },
  {
   "cell_type": "code",
   "execution_count": 54,
   "metadata": {},
   "outputs": [
    {
     "name": "stdout",
     "output_type": "stream",
     "text": [
      "Ошибка: Exceeds the limit (4300 digits) for integer string conversion; use sys.set_int_max_str_digits() to increase the limit\n"
     ]
    }
   ],
   "source": [
    "# Попытка вывести слишком большое число\n",
    "try:\n",
    "    x = 2 ** 1000000\n",
    "    print(x)\n",
    "except ValueError as e:\n",
    "    print(\"Ошибка:\", e)"
   ]
  },
  {
   "cell_type": "markdown",
   "metadata": {},
   "source": [
    "### Комплексные числа (Complex Numbers)\n",
    "```markdown\n",
    "- Записываются как `a + bj` (где `a` — действительная часть, `b` — мнимая).  \n",
    "- Поддерживают стандартные арифметические операции.  \n",
    "- Доступ к частям: `.real` и `.imag`.  \n",
    "- Дополнительные функции — в модуле `cmath`.  \n"
   ]
  },
  {
   "cell_type": "code",
   "execution_count": 57,
   "metadata": {},
   "outputs": [
    {
     "name": "stdout",
     "output_type": "stream",
     "text": [
      "(-1+0j)\n",
      "(2+3j)\n",
      "(6+3j)\n",
      "2.0\n",
      "-3.0\n"
     ]
    }
   ],
   "source": [
    "print(1j * 1J)       \n",
    "print(2 + 1j * 3)    \n",
    "print((2 + 1j) * 3)  \n",
    "\n",
    "z = 2 - 3j\n",
    "print(z.real) \n",
    "print(z.imag) "
   ]
  },
  {
   "cell_type": "markdown",
   "metadata": {},
   "source": [
    "### Шестнадцатеричные, восьмеричные и двоичные числа\n",
    "```markdown\n",
    "- В Python можно записывать целые числа не только в десятичной системе, но и в **hex (16-ричной)**, **oct (8-ричной)** и **bin (2-ичной)**.  \n",
    "- Запись:  \n",
    "  - `0x` — шестнадцатеричная форма (цифры `0–9`, буквы `A–F`).  \n",
    "  - `0o` — восьмеричная форма (цифры `0–7`).  \n",
    "  - `0b` — двоичная форма (цифры `0–1`).  \n",
    "- Независимо от формы записи, в памяти число хранится одинаково.  \n",
    "- Встроенные функции:  \n",
    "  - `bin()`, `oct()`, `hex()` — перевод числа в строку в другой системе.  \n",
    "  - `int(str, base)` — перевод строки в число с указанием системы счисления.  \n",
    "- Форматирование строк (`%`, `.format()`, f-строки) тоже позволяет выводить числа в разных системах.  \n"
   ]
  },
  {
   "cell_type": "code",
   "execution_count": 59,
   "metadata": {},
   "outputs": [
    {
     "name": "stdout",
     "output_type": "stream",
     "text": [
      "1 16 255\n",
      "1 16 255\n",
      "1 16 255\n",
      "0o100 0x40 0b1000000\n",
      "64\n",
      "64\n"
     ]
    }
   ],
   "source": [
    "# Запись чисел в разных системах\n",
    "print(0x01, 0x10, 0xFF)       # 1, 16, 255 (hex)\n",
    "print(0o1, 0o20, 0o377)       # 1, 16, 255 (octal)\n",
    "print(0b1, 0b10000, 0b11111111)  # 1, 16, 255 (binary)\n",
    "\n",
    "# Перевод числа в разные системы\n",
    "print(oct(64), hex(64), bin(64))\n",
    "\n",
    "# Обратный перевод строки в число\n",
    "print(int('100', 8))   \n",
    "print(int('1000000', 2))  # 64 (binary → decimal)"
   ]
  },
  {
   "cell_type": "code",
   "execution_count": 60,
   "metadata": {},
   "outputs": [
    {
     "name": "stdout",
     "output_type": "stream",
     "text": [
      "100, ff, 0XFF\n",
      "100, 1000000, ff, 0XFF\n",
      "100, 1000000, ff, 0XFF\n"
     ]
    }
   ],
   "source": [
    "# Форматирование строк\n",
    "print('%o, %x, %#X' % (64, 255, 255))                # старый стиль\n",
    "print('{:o}, {:b}, {:x}, {:#X}'.format(64, 64, 255, 255))  # .format\n",
    "print(f'{64:o}, {64:b}, {255:x}, {255:#X}')          # f-строки"
   ]
  },
  {
   "cell_type": "code",
   "execution_count": 58,
   "metadata": {},
   "outputs": [
    {
     "name": "stdout",
     "output_type": "stream",
     "text": [
      "5192296858534827628530496329220095\n",
      "0o17777777777777777777777777777777777777\n",
      "0b11111111111111111111111111111111111111111111111111111111111111111111...\n"
     ]
    }
   ],
   "source": [
    "# Большие числа тоже работают\n",
    "X = 0xFFFFFFFFFFFFFFFFFFFFFFFFFFFF\n",
    "print(X)        # десятичное представление\n",
    "print(oct(X))   # восьмеричное\n",
    "print(bin(X)[:70] + '...')  # двоичное "
   ]
  },
  {
   "cell_type": "markdown",
   "metadata": {},
   "source": [
    "### Побитовые операции в Python\n",
    "```markdown\n",
    "- Python поддерживает работу с числами на уровне **битов** (как в C).  \n",
    "- Основные операции:  \n",
    "  - `<<` — сдвиг влево (умножение на степень 2).  \n",
    "  - `>>` — сдвиг вправо (деление на степень 2).  \n",
    "  - `&` — побитовое И (AND).  \n",
    "  - `|` — побитовое ИЛИ (OR).  \n",
    "  - `^` — побитовое исключающее ИЛИ (XOR).  \n",
    "  - `~` — побитовое отрицание (NOT).  \n",
    "- Часто применяются для работы с **флагами, пакетами данных, бинарными протоколами**.  \n",
    "- Удобно комбинировать с **двоичными (`0b...`) и шестнадцатеричными (`0x...`) литералами**.  \n",
    "- Метод `.bit_length()` позволяет узнать, сколько бит нужно для представления числа.  \n"
   ]
  },
  {
   "cell_type": "code",
   "execution_count": 61,
   "metadata": {},
   "outputs": [
    {
     "name": "stdout",
     "output_type": "stream",
     "text": [
      "4\n",
      "3\n",
      "1\n"
     ]
    }
   ],
   "source": [
    "x = 1       # двоичное: 0001\n",
    "print(x << 2)   # 4  -> 0100 (сдвиг влево)\n",
    "print(x | 3)    # 3  -> 0011 (OR: хотя бы один бит = 1)\n",
    "print(x & 3)    # 1  -> 0001 (AND: оба бита = 1)"
   ]
  },
  {
   "cell_type": "code",
   "execution_count": 63,
   "metadata": {},
   "outputs": [
    {
     "name": "stdout",
     "output_type": "stream",
     "text": [
      "0b100\n",
      "0b11\n",
      "0b1\n"
     ]
    }
   ],
   "source": [
    "# Работа с бинарными литералами\n",
    "X = 0b0001\n",
    "print(bin(X << 2))        # \n",
    "print(bin(X | 0b0011))    # \n",
    "print(bin(X & 0b11))      # "
   ]
  },
  {
   "cell_type": "markdown",
   "metadata": {},
   "source": [
    "### Подчёркивания в числах (underscore separators)\n",
    "```markdown\n",
    "- Начиная с **Python 3.6**, в числовых литералах можно использовать символ `_` для удобного чтения.  \n",
    "- Подчёркивания **не влияют на значение числа**, они игнорируются интерпретатором.  \n",
    "- Ограничения: нельзя ставить `_` в начале, в конце и подряд несколько.  \n",
    "- В выводе Python подчёркивания **не сохраняются** — только в исходном коде.  "
   ]
  },
  {
   "cell_type": "code",
   "execution_count": 74,
   "metadata": {},
   "outputs": [
    {
     "name": "stdout",
     "output_type": "stream",
     "text": [
      "True\n",
      "True\n",
      "True\n"
     ]
    }
   ],
   "source": [
    "# Примеры использования подчёркиваний\n",
    "print(999_999_999 == 999999999)     \n",
    "print(0xFF_FF == 0xFFFF)            \n",
    "print(3.141_592 == 3.141592) "
   ]
  },
  {
   "cell_type": "markdown",
   "metadata": {},
   "source": [
    "### Встроенные числовые инструменты в Python\n",
    "```markdown\n",
    "- **Встроенные функции**: `pow`, `abs`, `round`, `int`, `sum`, `min`, `max`.  \n",
    "- **Модуль `math`**: константы (`pi`, `e`), функции (`sin`, `sqrt`, `floor`, `trunc`).  \n",
    "- **Округление**:  \n",
    "  - `math.floor()` — округление вниз (к меньшему).  \n",
    "  - `math.trunc()` или `int()` — усечение (обрезание дробной части).  \n",
    "  - `round(x, n)` — округление до `n` знаков.  \n",
    "    - Если n > 0, то округление идёт до указанного количества знаков после запятой.\n",
    "    - Если n = 0, то округляется до целого.\n",
    "    - Если n < 0, то округление идёт влево от десятичной точки — до десятков, сотен, тысяч и т.д.\n",
    "  - Форматирование строками (`f'{x:.2f}'`) — вывод числа как строки.  \n",
    "- **Несколько способов вычислить корень**: `math.sqrt(x)`, `x ** 0.5`, `pow(x, 0.5)`.  \n",
    "- **Модуль `statistics`**: среднее (`mean`), медиана (`median`) и другие функции.  \n",
    "- **Модуль `random`**: генерация случайных чисел, выбор элементов и перемешивание списков.  \n"
   ]
  },
  {
   "cell_type": "code",
   "execution_count": 75,
   "metadata": {},
   "outputs": [
    {
     "name": "stdout",
     "output_type": "stream",
     "text": [
      "3.141592653589793 2.718281828459045\n",
      "0.03489949670250097\n",
      "12.0 1.4142135623730951\n",
      "16 16\n",
      "62.0 10\n",
      "1 4\n"
     ]
    }
   ],
   "source": [
    "import math\n",
    "import statistics\n",
    "import random\n",
    "\n",
    "print(math.pi, math.e)                 \n",
    "print(math.sin(2 * math.pi / 180))     \n",
    "print(math.sqrt(144), math.sqrt(2))    \n",
    "print(pow(2, 4), 2 ** 4)               \n",
    "print(abs(-62.0), sum([1, 2, 3, 4]))   \n",
    "print(min(3, 1, 2, 4), max(3, 1, 2, 4))"
   ]
  },
  {
   "cell_type": "code",
   "execution_count": 81,
   "metadata": {},
   "outputs": [
    {
     "name": "stdout",
     "output_type": "stream",
     "text": [
      "2 -3\n",
      "2 -2\n",
      "2.57 3000\n",
      "2.57\n"
     ]
    }
   ],
   "source": [
    "# Округления\n",
    "print(math.floor(2.567), math.floor(-2.567))  \n",
    "print(math.trunc(2.567), math.trunc(-2.567))  \n",
    "print(round(2.567, 2), round(2567, -3))       \n",
    "print(f\"{2.567:.2f}\")                         "
   ]
  },
  {
   "cell_type": "code",
   "execution_count": 80,
   "metadata": {},
   "outputs": [
    {
     "name": "stdout",
     "output_type": "stream",
     "text": [
      "12.0 12.0 12.0\n"
     ]
    }
   ],
   "source": [
    "# Три способа вычислить корень\n",
    "print(math.sqrt(144), 144 ** 0.5, pow(144, 0.5))"
   ]
  },
  {
   "cell_type": "code",
   "execution_count": 77,
   "metadata": {},
   "outputs": [
    {
     "name": "stdout",
     "output_type": "stream",
     "text": [
      "3.8\n",
      "4\n"
     ]
    }
   ],
   "source": [
    "# Модуль statistics\n",
    "print(statistics.mean([1, 2, 4, 5, 7]))   \n",
    "print(statistics.median([1, 2, 4, 5, 7])) "
   ]
  },
  {
   "cell_type": "code",
   "execution_count": 78,
   "metadata": {},
   "outputs": [
    {
     "name": "stdout",
     "output_type": "stream",
     "text": [
      "0.5762589713052353\n",
      "7\n"
     ]
    }
   ],
   "source": [
    "print(random.random())         # случайное число [0,1)\n",
    "print(random.randint(1, 10))   # случайное целое число"
   ]
  },
  {
   "cell_type": "code",
   "execution_count": 83,
   "metadata": {},
   "outputs": [
    {
     "name": "stdout",
     "output_type": "stream",
     "text": [
      "Lasagna\n",
      "['spades', 'clubs', 'hearts', 'diamonds']\n"
     ]
    }
   ],
   "source": [
    "print(random.choice(['Pizza', 'Tacos', 'Lasagna']))\n",
    "suits = ['hearts', 'diamonds', 'clubs', 'spades']\n",
    "random.shuffle(suits)\n",
    "print(suits)"
   ]
  },
  {
   "cell_type": "markdown",
   "metadata": {},
   "source": [
    "### Decimal — десятичные числа с фиксированной точностью\n",
    "```markdown\n",
    "- Обычные `float` в Python хранят значения в двоичном формате, из-за чего возможны ошибки округления  \n",
    "- Пример: `0.1 + 0.1 + 0.1 - 0.3` ≠ `0.0`, а даёт маленькую погрешность  \n",
    "- Модуль `decimal` позволяет работать с **десятичными числами фиксированной точности**  \n",
    "- Создание: `Decimal('0.1')` (лучше передавать строки, чтобы избежать ошибок float)  \n",
    "- Можно задавать **глобальную точность** и правила округления через `decimal.getcontext()`  \n",
    "- Используется там, где важна точность вычислений (например, финансы)  "
   ]
  },
  {
   "cell_type": "code",
   "execution_count": 89,
   "metadata": {},
   "outputs": [
    {
     "name": "stdout",
     "output_type": "stream",
     "text": [
      "5.551115123125783e-17\n",
      "0.0\n"
     ]
    }
   ],
   "source": [
    "from decimal import Decimal, getcontext\n",
    "import decimal\n",
    "\n",
    "# Ошибка округления с float\n",
    "print(0.1 + 0.1 + 0.1 - 0.3)\n",
    "\n",
    "# Работа с Decimal\n",
    "print(Decimal('0.1') + Decimal('0.1') + Decimal('0.1') - Decimal('0.3'))"
   ]
  },
  {
   "cell_type": "code",
   "execution_count": 90,
   "metadata": {},
   "outputs": [
    {
     "name": "stdout",
     "output_type": "stream",
     "text": [
      "0.00\n",
      "1.1E-17\n"
     ]
    }
   ],
   "source": [
    "# Разная точность\n",
    "print(Decimal('0.1') + Decimal('0.10') + Decimal('0.1000') - Decimal('0.30'))\n",
    "\n",
    "# Создание из float\n",
    "print(Decimal(0.1) + Decimal(0.1) + Decimal(0.1) - Decimal(0.3))"
   ]
  },
  {
   "cell_type": "code",
   "execution_count": 91,
   "metadata": {},
   "outputs": [
    {
     "name": "stdout",
     "output_type": "stream",
     "text": [
      "0.14\n",
      "0.1429\n"
     ]
    }
   ],
   "source": [
    "# Управление точностью\n",
    "print(decimal.Decimal(1) / decimal.Decimal(7))  # по умолчанию\n",
    "getcontext().prec = 4\n",
    "print(decimal.Decimal(1) / decimal.Decimal(7))  # с точностью 4 знака"
   ]
  },
  {
   "cell_type": "markdown",
   "metadata": {},
   "source": [
    "### Fraction — рациональные числа\n",
    "```markdown\n",
    "- Модуль `fractions` реализует работу с **рациональными числами** (числитель и знаменатель)  \n",
    "- Дроби создаются через `Fraction(числитель, знаменатель)`  \n",
    "- При создании автоматически сокращаются (например, `Fraction(4, 6)` → `2/3`)  \n",
    "- Можно создавать из строк, включая десятичные (`Fraction('0.25') → 1/4`)  \n",
    "- Дроби участвуют в обычных арифметических операциях (+, −, *, /), результат всегда точный  \n",
    "- В отличие от `float`, дроби не теряют точность при вычислениях  \n",
    "- Подходят для задач, где важна **математическая точность** (например, вычисления с долями)  \n"
   ]
  },
  {
   "cell_type": "code",
   "execution_count": 92,
   "metadata": {},
   "outputs": [
    {
     "name": "stdout",
     "output_type": "stream",
     "text": [
      "1/3 2/3\n",
      "1\n",
      "-1/3\n",
      "2/9\n"
     ]
    }
   ],
   "source": [
    "from fractions import Fraction\n",
    "from decimal import Decimal\n",
    "\n",
    "# Создание дробей\n",
    "x = Fraction(1, 3)\n",
    "y = Fraction(4, 6)  # автоматически сократится до 2/3\n",
    "\n",
    "print(x, y)        # 1/3  2/3\n",
    "print(x + y)       # 1\n",
    "print(x - y)       # -1/3\n",
    "print(x * y)       # 2/9\n"
   ]
  },
  {
   "cell_type": "code",
   "execution_count": 93,
   "metadata": {},
   "outputs": [
    {
     "name": "stdout",
     "output_type": "stream",
     "text": [
      "1/4\n",
      "5/4\n",
      "0.3333333333333333 0.6666666666666666 1.0 0.2222222222222222\n"
     ]
    }
   ],
   "source": [
    "# Создание из строк\n",
    "print(Fraction(\"0.25\"))   # 1/4\n",
    "print(Fraction(\"1.25\"))   # 5/4\n",
    "\n",
    "# Сравнение с float\n",
    "a = 1/3\n",
    "b = 4/6\n",
    "print(a, b, a+b, a*b)  # приближённые значения"
   ]
  },
  {
   "cell_type": "code",
   "execution_count": 94,
   "metadata": {},
   "outputs": [
    {
     "name": "stdout",
     "output_type": "stream",
     "text": [
      "5.551115123125783e-17\n",
      "0\n",
      "0.0\n"
     ]
    }
   ],
   "source": [
    "# Fraction и Decimal решают проблему точности\n",
    "print(0.1 + 0.1 + 0.1 - 0.3)  \n",
    "print(Fraction(1, 10) + Fraction(1, 10) + Fraction(1, 10) - Fraction(3, 10))\n",
    "print(Decimal(\"0.1\") + Decimal(\"0.1\") + Decimal(\"0.1\") - Decimal(\"0.3\"))"
   ]
  },
  {
   "cell_type": "code",
   "execution_count": 95,
   "metadata": {},
   "outputs": [
    {
     "name": "stdout",
     "output_type": "stream",
     "text": [
      "0.3333333333333333\n",
      "1/3\n"
     ]
    }
   ],
   "source": [
    "# Сравнение подходов\n",
    "print(1/3)                # float\n",
    "print(Fraction(1, 3))     # Fraction"
   ]
  },
  {
   "cell_type": "code",
   "execution_count": 96,
   "metadata": {},
   "outputs": [
    {
     "name": "stdout",
     "output_type": "stream",
     "text": [
      "0.33\n"
     ]
    }
   ],
   "source": [
    "from decimal import getcontext\n",
    "\n",
    "getcontext().prec = 2\n",
    "print(Decimal(1) / Decimal(3))  # Decimal с ограниченной точностью"
   ]
  },
  {
   "cell_type": "markdown",
   "metadata": {},
   "source": [
    "### Множества (set) в Python\n",
    "```markdown\n",
    "- Множество — это **неупорядоченная коллекция уникальных и неизменяемых объектов**  \n",
    "- Дубликаты автоматически удаляются  \n",
    "- Два способа создания:\n",
    "  - `set(iterable)` — из итерируемого объекта  \n",
    "  - `{a, b, c}` — для непустых множеств  \n",
    "- Пустое множество создаётся только через `set()`, так как `{}` — это словарь  \n",
    "- Множества поддерживают операции из теории множеств:\n",
    "  - `-` разность  \n",
    "  - `|` объединение  \n",
    "  - `&` пересечение  \n",
    "  - `^` симметрическая разность  \n",
    "  - `<`/`>` проверки на подмножество и надмножество  \n",
    "- Проверка принадлежности `in` работает для множеств и других коллекций  \n",
    "- Методы множеств:\n",
    "  - `.add(x)` — добавить элемент  \n",
    "  - `.update(iterable)` — объединить с другим множеством/итератором  \n",
    "  - `.remove(x)` — удалить элемент по значению  \n",
    "- Множества итерируемы, но не индексируемы  "
   ]
  },
  {
   "cell_type": "code",
   "execution_count": 97,
   "metadata": {},
   "outputs": [
    {
     "name": "stdout",
     "output_type": "stream",
     "text": [
      "{'d', 'a', 'c', 'e', 'b'}\n",
      "{1.2, 99, 'y', 'b'}\n"
     ]
    }
   ],
   "source": [
    "# Создание множеств\n",
    "x = set(\"abcde\")\n",
    "y = {99, \"b\", \"y\", 1.2}\n",
    "\n",
    "print(x)       \n",
    "print(y)       \n"
   ]
  },
  {
   "cell_type": "code",
   "execution_count": 98,
   "metadata": {},
   "outputs": [
    {
     "name": "stdout",
     "output_type": "stream",
     "text": [
      "{'c', 'a'}\n",
      "{'d', 'x', 'a', 'c', 'b', 'y'}\n",
      "{'d', 'b'}\n",
      "{'x', 'a', 'c', 'y'}\n",
      "False\n",
      "True\n"
     ]
    }
   ],
   "source": [
    "# Операции множеств\n",
    "x = set(\"abcd\")\n",
    "y = set(\"bdxy\")\n",
    "\n",
    "print(x - y)   # {'a', 'c'}   разность\n",
    "print(x | y)   # объединение\n",
    "print(x & y)   # пересечение\n",
    "print(x ^ y)   # симметрическая разность\n",
    "print(x < y)   # подмножество?\n",
    "print('d' in x)  # True"
   ]
  },
  {
   "cell_type": "code",
   "execution_count": 99,
   "metadata": {},
   "outputs": [
    {
     "name": "stdout",
     "output_type": "stream",
     "text": [
      "{'d', 'X', 'Y', 'HACK'}\n",
      "bbb\n",
      "ccc\n",
      "aaa\n"
     ]
    }
   ],
   "source": [
    "# Методы множеств\n",
    "z = x.intersection(y)   # то же, что x & y\n",
    "z.add(\"HACK\")\n",
    "z.update([\"X\", \"Y\"])    # расширение\n",
    "z.remove(\"b\")           # удаление\n",
    "print(z)\n",
    "\n",
    "# Итерация по множеству\n",
    "for item in {\"a\", \"b\", \"c\"}:\n",
    "    print(item * 3)"
   ]
  },
  {
   "cell_type": "markdown",
   "metadata": {},
   "source": [
    "### Ограничения множеств и frozenset\n",
    "```markdown\n",
    "- Множества могут содержать **только неизменяемые (immutable, hashable)** объекты  \n",
    "- В них нельзя помещать списки или словари  \n",
    "- Можно хранить числа, строки, кортежи (если внутри только неизменяемые объекты)  \n",
    "- Сравнение в множествах идёт по полному значению  \n",
    "- Множества сами по себе изменяемы, поэтому **нельзя вложить set в set**  \n",
    "- Для этого есть специальный тип `frozenset` — неизменяемое множество  \n",
    "  - Создаётся с помощью `frozenset(iterable)`  \n",
    "  - Может использоваться внутри обычных множеств  \n"
   ]
  },
  {
   "cell_type": "code",
   "execution_count": 100,
   "metadata": {},
   "outputs": [
    {
     "name": "stdout",
     "output_type": "stream",
     "text": [
      "Ошибка: unhashable type: 'list'\n",
      "Ошибка: unhashable type: 'dict'\n"
     ]
    }
   ],
   "source": [
    "# Ограничения: только неизменяемые объекты\n",
    "S = {1.23}\n",
    "\n",
    "try:\n",
    "    S.add([1, 2, 3])   # список\n",
    "except TypeError as e:\n",
    "    print(\"Ошибка:\", e)\n",
    "\n",
    "try:\n",
    "    S.add({\"a\": 1})    # словарь\n",
    "except TypeError as e:\n",
    "    print(\"Ошибка:\", e)\n"
   ]
  },
  {
   "cell_type": "code",
   "execution_count": 101,
   "metadata": {},
   "outputs": [
    {
     "name": "stdout",
     "output_type": "stream",
     "text": [
      "{1.23, (1, 2, 3)}\n",
      "True\n",
      "False\n"
     ]
    }
   ],
   "source": [
    "# Работает с кортежами\n",
    "S.add((1, 2, 3))\n",
    "print(S)\n",
    "\n",
    "# Проверка принадлежности\n",
    "print((1, 2, 3) in S)   # True\n",
    "print((1, 4, 3) in S)   # False"
   ]
  },
  {
   "cell_type": "code",
   "execution_count": 102,
   "metadata": {},
   "outputs": [
    {
     "name": "stdout",
     "output_type": "stream",
     "text": [
      "{1.23, (1, 2, 3), frozenset({'p', 'a'})}\n"
     ]
    }
   ],
   "source": [
    "# Вложенные множества: используем frozenset\n",
    "S.add(frozenset(\"app\"))\n",
    "print(S)"
   ]
  },
  {
   "cell_type": "markdown",
   "metadata": {},
   "source": [
    "### Генераторы множеств (set comprehensions)\n",
    "```markdown\n",
    "- Множества можно создавать не только через литералы `{}` и функцию `set()`, но и с помощью **генераторов множеств**  \n",
    "- Запись аналогична списковым генераторам, но результатом будет **множество**  \n",
    "- Синтаксис: `{выражение for переменная in итерируемый_объект}`  \n",
    "- Все правила множеств сохраняются: элементы уникальны, порядок не гарантируется  \n",
    "- Можно использовать строки, списки и другие итерируемые объекты  \n",
    "- Результирующее множество поддерживает все стандартные операции: объединение, пересечение и т.д.  \n"
   ]
  },
  {
   "cell_type": "code",
   "execution_count": 4,
   "metadata": {},
   "outputs": [
    {
     "name": "stdout",
     "output_type": "stream",
     "text": [
      "{16, 1, 4, 9}\n",
      "{'3', 'p', 'X', 'y'}\n"
     ]
    }
   ],
   "source": [
    "# Квадраты чисел через set comprehension\n",
    "S1 = {x ** 2 for x in [1, 2, 3, 4, 4]}\n",
    "print(S1)  # {16, 1, 4, 9}\n",
    "\n",
    "# Создание множества символов из строки\n",
    "S2 = {x for x in \"py3X\"}\n",
    "print(S2) "
   ]
  },
  {
   "cell_type": "code",
   "execution_count": 104,
   "metadata": {},
   "outputs": [
    {
     "name": "stdout",
     "output_type": "stream",
     "text": [
      "{'yyyy', 'pppp', '3333', 'XXXX'}\n"
     ]
    }
   ],
   "source": [
    "# Использование выражения для преобразования элементов\n",
    "S3 = {c * 4 for c in \"py3X\"}\n",
    "print(S3)  # {'pppp', 'yyyy', '3333', 'XXXX'}"
   ]
  },
  {
   "cell_type": "code",
   "execution_count": 105,
   "metadata": {},
   "outputs": [
    {
     "name": "stdout",
     "output_type": "stream",
     "text": [
      "{'yyyy', 'pppp', '3333', 'zzzz', 'XXXX'}\n",
      "{'XXXX'}\n"
     ]
    }
   ],
   "source": [
    "# Обычные операции с результатами\n",
    "print(S3 | {\"zzzz\", \"XXXX\"})  # объединение\n",
    "print(S3 & {\"zzzz\", \"XXXX\"})  # пересечение"
   ]
  },
  {
   "cell_type": "markdown",
   "metadata": {},
   "source": [
    "### Зачем нужны множества\n",
    "```markdown\n",
    "- Множества полезны не только в математике, но и в прикладных задачах.  \n",
    "- Основные применения:  \n",
    "  - **Удаление дубликатов**: преобразовать список в множество и обратно.  \n",
    "  - **Разности**: найти элементы, которых нет в другой коллекции.  \n",
    "  - **Порядок неважен**: сравнение результатов независимо от порядка элементов.  \n",
    "  - **Отслеживание посещённых элементов**: при обходе графов или деревьев.  \n",
    "  - **Работа с большими данными**: пересечения и объединения множеств в запросах.  \n"
   ]
  },
  {
   "cell_type": "code",
   "execution_count": 106,
   "metadata": {},
   "outputs": [
    {
     "name": "stdout",
     "output_type": "stream",
     "text": [
      "[1, 2, 3, 4, 5]\n",
      "{3, 7}\n",
      "False\n",
      "True\n"
     ]
    }
   ],
   "source": [
    "# Удаление дубликатов\n",
    "L = [1, 2, 1, 3, 2, 4, 5]\n",
    "print(list(set(L))) \n",
    "\n",
    "# Разность множеств\n",
    "print(set([1, 3, 5, 7]) - set([1, 2, 4, 5, 6]))  # {3, 7}\n",
    "\n",
    "# Порядок неважен\n",
    "L1, L2 = [1, 3, 5, 2, 4], [2, 5, 3, 4, 1]\n",
    "print(L1 == L2)            \n",
    "print(set(L1) == set(L2))  \n"
   ]
  },
  {
   "cell_type": "markdown",
   "metadata": {},
   "source": [
    "### Логический тип (Boolean)\n",
    "```markdown\n",
    "- В Python есть отдельный логический тип **bool** с двумя значениями: **True** и **False**.  \n",
    "- На самом деле `True` и `False` — это подкласс целых чисел `int`, где `True` ведёт себя как `1`, а `False` — как `0`.  \n",
    "- Главное отличие: они выводятся как слова `True` и `False`, а не как цифры.  \n",
    "- Это делает код более понятным:  \n",
    "  - вместо `while 1:` можно писать `while True:`  \n",
    "  - флаг можно инициализировать как `flag = False`.  \n",
    "- Но так как `True` и `False` — это числа, возможны неожиданные эффекты:  \n",
    "  - `True + 4` даёт `5`  \n",
    "  - `True == 1` вернёт `True`, но `True is 1` — `False`.  \n"
   ]
  },
  {
   "cell_type": "code",
   "execution_count": 8,
   "metadata": {},
   "outputs": [
    {
     "name": "stdout",
     "output_type": "stream",
     "text": [
      "<class 'bool'>\n",
      "True\n",
      "True\n",
      "False\n",
      "True\n",
      "5\n"
     ]
    }
   ],
   "source": [
    "print(type(True))            \n",
    "print(isinstance(True, int)) \n",
    "print(True == 1)             \n",
    "print(True is 1)             \n",
    "print(True or False)         \n",
    "print(True + 4)              "
   ]
  },
  {
   "cell_type": "markdown",
   "metadata": {},
   "source": [
    "## Динамическая типизация в Python\n",
    "```markdown\n",
    "- В Python **не нужно объявлять переменные и их типы заранее**.  \n",
    "- Тип объекта определяется **автоматически во время выполнения** (runtime), а не на этапе компиляции.  \n",
    "- Это сильно отличает Python от языков со статической типизацией (C, C++, Java).  \n",
    "- Когда мы пишем `a = 3`, Python создаёт объект-число `3` и связывает имя `a` с этим объектом.  \n",
    "- Такой подход даёт гибкость: один и тот же код может работать с разными типами данных.  \n"
   ]
  },
  {
   "cell_type": "code",
   "execution_count": 107,
   "metadata": {},
   "outputs": [
    {
     "name": "stdout",
     "output_type": "stream",
     "text": [
      "3 <class 'int'>\n",
      "hello <class 'str'>\n",
      "[1, 2, 3] <class 'list'>\n"
     ]
    }
   ],
   "source": [
    "# Пример динамической типизации\n",
    "a = 3        \n",
    "print(a, type(a))\n",
    "\n",
    "a = \"hello\"  \n",
    "print(a, type(a))\n",
    "\n",
    "a = [1, 2, 3]  \n",
    "print(a, type(a))"
   ]
  },
  {
   "cell_type": "markdown",
   "metadata": {},
   "source": [
    "### Переменные, объекты и ссылки в Python\n",
    "```markdown\n",
    "- **Создание переменной**: имя создаётся при первом присвоении (`a = 3`).  \n",
    "- **Типа у переменных нет** — тип хранится в объекте, на который ссылается имя.  \n",
    "- **Использование переменной**: при обращении к имени Python подставляет объект, на который оно ссылается.  \n",
    "- **Обязательная инициализация**: имя должно получить значение до использования, иначе будет ошибка.  \n",
    "- Присвоение `a = 3` концептуально состоит из трёх шагов:  \n",
    "  1. Создать объект `3`.  \n",
    "  2. Создать имя `a`, если оно не существует.  \n",
    "  3. Связать имя `a` с объектом `3`.  \n",
    "- Ссылка — это «указатель» от имени на объект. Python автоматически их разыменовывает.  \n",
    "### Типы у объектов, а не у переменных. Сборка мусора\n",
    "```markdown\n",
    "- В Python переменные (имена) не имеют типа.   \n",
    "- В Python логика основана на **счётчике ссылок** (каждый объект хранит, сколько имён на него указывает).  \n"
   ]
  },
  {
   "cell_type": "code",
   "execution_count": 111,
   "metadata": {},
   "outputs": [
    {
     "name": "stdout",
     "output_type": "stream",
     "text": [
      "3 <class 'int'> 4351696960\n",
      "hello <class 'str'> 4476129216\n"
     ]
    }
   ],
   "source": [
    "# Переменные и объекты\n",
    "a = 3            # имя a ссылается на объект-целое число\n",
    "print(a, type(a), id(a))\n",
    "\n",
    "a = \"hello\"      # теперь a ссылается на объект-строку\n",
    "print(a, type(a), id(a))"
   ]
  },
  {
   "cell_type": "code",
   "execution_count": 110,
   "metadata": {},
   "outputs": [
    {
     "name": "stdout",
     "output_type": "stream",
     "text": [
      "Ошибка: name 'bm' is not defined\n"
     ]
    }
   ],
   "source": [
    "# Ошибка при обращении к неинициализированному имени\n",
    "try:\n",
    "    print(bm)     # имя bm ещё не создано\n",
    "except NameError as e:\n",
    "    print(\"Ошибка:\", e)"
   ]
  },
  {
   "cell_type": "markdown",
   "metadata": {},
   "source": [
    "### Совместные ссылки (Shared References)\n",
    "```markdown\n",
    "- В Python несколько переменных могут ссылаться на один и тот же объект.  \n",
    "- Присвоение `b = a` не копирует объект, а делает так, что `b` указывает на тот же объект, что и `a`.  \n",
    "- Переменные **никогда не ссылаются друг на друга напрямую**, они всегда указывают на объект.  \n",
    "- Если затем переназначить `a` на новый объект, это никак не затронет `b` — он продолжит ссылаться на старый объект.  \n",
    "- Объекты неизменяемых типов (например, числа и строки) никогда не меняются \"на месте\" — новые значения создают новые объекты.  \n"
   ]
  },
  {
   "cell_type": "code",
   "execution_count": 116,
   "metadata": {},
   "outputs": [
    {
     "name": "stdout",
     "output_type": "stream",
     "text": [
      "После присваивания b = a: 3 3\n",
      "После изменения a: hack\n",
      "b 3\n"
     ]
    }
   ],
   "source": [
    "# Пример shared references\n",
    "a = 3\n",
    "b = a   # b указывает на тот же объект, что и a\n",
    "\n",
    "print(\"После присваивания b = a:\", a, b)\n",
    "\n",
    "a = \"hack\"   # теперь a указывает на новый объект (строку)\n",
    "print(\"После изменения a:\", a, )  # b остался привязан к числу 3\n",
    "print(\"b\", b)"
   ]
  },
  {
   "cell_type": "code",
   "execution_count": 117,
   "metadata": {},
   "outputs": [
    {
     "name": "stdout",
     "output_type": "stream",
     "text": [
      "После a = a + 2: 5 3\n"
     ]
    }
   ],
   "source": [
    "a = 3\n",
    "b = a\n",
    "a = a + 2   # создаётся новый объект 5, на который теперь указывает a\n",
    "print(\"После a = a + 2:\", a, b)    # b остался привязан к 3"
   ]
  },
  {
   "cell_type": "markdown",
   "metadata": {},
   "source": [
    "### Совместные ссылки и изменения \"на месте\"\n",
    "```markdown\n",
    "- Неизменяемые объекты (числа, строки, кортежи) нельзя менять — при новых значениях создаются новые объекты.  \n",
    "- Изменяемые объекты (списки, словари, множества) могут изменяться **на месте**.  \n",
    "- Если две переменные ссылаются на один и тот же изменяемый объект, то изменения, сделанные через одну переменную, будут видны и через другую.  \n",
    "- Чтобы этого избежать, нужно явно создавать копии объектов (`[:]`, `list()`, `.copy()`, `copy.deepcopy()` и др.).  \n"
   ]
  },
  {
   "cell_type": "code",
   "execution_count": 118,
   "metadata": {},
   "outputs": [],
   "source": [
    "# Пример с общими ссылками на изменяемый объект\n",
    "L1 = [2, 3, 4]\n",
    "L2 = L1     # L2 и L1 указывают на один и тот же список"
   ]
  },
  {
   "cell_type": "code",
   "execution_count": 119,
   "metadata": {},
   "outputs": [
    {
     "name": "stdout",
     "output_type": "stream",
     "text": [
      "L1: [24, 3, 4]\n",
      "L2: [24, 3, 4]\n"
     ]
    }
   ],
   "source": [
    "L1[0] = 24  # изменяем список \"на месте\"\n",
    "print(\"L1:\", L1)\n",
    "print(\"L2:\", L2)   # L2 тоже \"видит\" изменения"
   ]
  },
  {
   "cell_type": "code",
   "execution_count": 122,
   "metadata": {},
   "outputs": [
    {
     "name": "stdout",
     "output_type": "stream",
     "text": [
      "L1: [24, 3, 4]\n",
      "L2: [2, 3, 4]\n"
     ]
    }
   ],
   "source": [
    "# Создание копии, чтобы избежать совместных изменений\n",
    "L1 = [2, 3, 4, [1, 2, 3]]\n",
    "L2 = L1[:]  # копия списка\n",
    "L1[0] = 24\n",
    "print(\"L1:\", L1)\n",
    "print(\"L2:\", L2)   # теперь списки разные"
   ]
  },
  {
   "cell_type": "markdown",
   "metadata": {},
   "source": [
    "### Совместные ссылки и равенство объектов\n",
    "```markdown\n",
    "- В Python есть два разных способа проверить «равенство»:\n",
    "  - `==` сравнивает **значения объектов**.\n",
    "  - `is` проверяет **идентичность объектов** (ссылаются ли переменные на один и тот же объект).  \n",
    "- Для изменяемых объектов (`list`, `dict`, `set`):  \n",
    "  - `==` проверяет совпадение содержимого.  \n",
    "  - `is` проверяет, действительно ли это один и тот же объект в памяти.  \n",
    "- Для неизменяемых объектов (например, маленькие числа и строки) Python часто использует кэширование. Поэтому разные переменные могут указывать на один и тот же объект.  \n",
    "- `id(obj)` возвращает уникальный идентификатор объекта (часто его адрес в памяти).  \n"
   ]
  },
  {
   "cell_type": "code",
   "execution_count": 124,
   "metadata": {},
   "outputs": [
    {
     "name": "stdout",
     "output_type": "stream",
     "text": [
      "True\n",
      "True\n"
     ]
    }
   ],
   "source": [
    "# Пример с изменяемыми объектами\n",
    "L = [1, 2, 3]\n",
    "M = L\n",
    "print(L == M)  # True: значения совпадают\n",
    "print(L is M)  # True: это один и тот же объект\n"
   ]
  },
  {
   "cell_type": "code",
   "execution_count": 125,
   "metadata": {},
   "outputs": [
    {
     "name": "stdout",
     "output_type": "stream",
     "text": [
      "True\n",
      "False\n"
     ]
    }
   ],
   "source": [
    "L = [1, 2, 3]\n",
    "M = [1, 2, 3]\n",
    "print(L == M)  # True: значения совпадают\n",
    "print(L is M)  # False: разные объекты"
   ]
  },
  {
   "cell_type": "code",
   "execution_count": 127,
   "metadata": {},
   "outputs": [
    {
     "name": "stdout",
     "output_type": "stream",
     "text": [
      "True\n",
      "True\n"
     ]
    }
   ],
   "source": [
    "# Пример с неизменяемыми объектами (кэширование чисел и строк)\n",
    "X = 99\n",
    "Y = 99\n",
    "print(X == Y)  # True: значения совпадают\n",
    "print(X is Y)  # True из-за кэширования"
   ]
  },
  {
   "cell_type": "code",
   "execution_count": 128,
   "metadata": {},
   "outputs": [
    {
     "name": "stdout",
     "output_type": "stream",
     "text": [
      "True\n",
      "4294967295\n",
      "1\n"
     ]
    }
   ],
   "source": [
    "import sys\n",
    "\n",
    "print(id(99) == id(99))         # True — одно и то же число кэшируется\n",
    "print(sys.getrefcount(99))      # Очень большое значение — \"бессмертный\" объект\n",
    "print(sys.getrefcount(2**1000)) # Здесь объект создается заново"
   ]
  }
 ],
 "metadata": {
  "kernelspec": {
   "display_name": ".venv",
   "language": "python",
   "name": "python3"
  },
  "language_info": {
   "codemirror_mode": {
    "name": "ipython",
    "version": 3
   },
   "file_extension": ".py",
   "mimetype": "text/x-python",
   "name": "python",
   "nbconvert_exporter": "python",
   "pygments_lexer": "ipython3",
   "version": "3.13.7"
  }
 },
 "nbformat": 4,
 "nbformat_minor": 2
}
