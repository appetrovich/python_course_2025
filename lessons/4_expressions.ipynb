{
 "cells": [
  {
   "cell_type": "markdown",
   "metadata": {},
   "source": [
    "## Выражения и операторы в Python"
   ]
  },
  {
   "cell_type": "markdown",
   "metadata": {},
   "source": [
    "### Введение в операторы в Python\n",
    "```markdown\n",
    "- Программы в Python строятся из операторов \n",
    "- Оператор — инструкция, которая указывает, что программа должна сделать  \n",
    "- Python — процедурный, основанный на операторах язык  "
   ]
  },
  {
   "cell_type": "markdown",
   "metadata": {},
   "source": [
    "### Базовые операторы Python\n",
    "```markdown\n",
    "- **Присваивание**: создаёт ссылки на объекты  \n",
    "- **Вызовы функций и выражения**: выполняют действия  \n",
    "- **print**: вывод объектов  \n",
    "- **if/elif/else**: выбор действий по условию  "
   ]
  },
  {
   "cell_type": "code",
   "execution_count": 32,
   "metadata": {},
   "outputs": [
    {
     "name": "stdout",
     "output_type": "stream",
     "text": [
      "5\n",
      "Hello, - world!\n",
      "Больше 5, но не больше 10\n"
     ]
    }
   ],
   "source": [
    "# Assignment (присваивание)\n",
    "a, b = \"python\", 3.12   # множественное присваивание\n",
    "x = (y := 5) + 2        # оператор морж := (с Python 3.8)\n",
    "\n",
    "# Вызовы функций и выражения\n",
    "result = len(\"hello\")   \n",
    "print(result)           \n",
    "\n",
    "# Оператор print\n",
    "print(\"Hello,\", \"world\", sep=\" - \", end=\"!\\n\")\n",
    "\n",
    "# if / elif / else\n",
    "value = 7\n",
    "if value > 10:\n",
    "    print(\"Больше 10\")\n",
    "elif value > 5:\n",
    "    print(\"Больше 5, но не больше 10\")\n",
    "else:\n",
    "    print(\"Меньше или равно 5\")"
   ]
  },
  {
   "cell_type": "markdown",
   "metadata": {},
   "source": [
    "### Операторы ветвления и циклов\n",
    "```markdown\n",
    "- **match/case**: множественный выбор (Python 3.10+)  \n",
    "- **for/else**: цикл по коллекции, `else` выполняется если не было `break`  \n",
    "- **while/else**: цикл с условием, `else` аналогично `for/else`  \n",
    "- **pass**: пустая заглушка  \n",
    "- **break**: выход из цикла досрочно  \n",
    "- **continue**: переход к следующей итерации цикла  \n"
   ]
  },
  {
   "cell_type": "code",
   "execution_count": 4,
   "metadata": {},
   "outputs": [
    {
     "name": "stdout",
     "output_type": "stream",
     "text": [
      "Два\n",
      "Цикл завершён без break\n",
      "Цикл while завершён без break\n",
      "p\n",
      "y\n",
      "t\n",
      "o\n",
      "n\n",
      "0\n",
      "1\n",
      "2\n",
      "3\n",
      "1\n",
      "3\n"
     ]
    }
   ],
   "source": [
    "# match/case (Python 3.10+)\n",
    "value = 2\n",
    "match value:\n",
    "    case 1:\n",
    "        print(\"Один\")\n",
    "    case 2:\n",
    "        print(\"Два\")\n",
    "    case _:\n",
    "        print(\"Что-то другое\")\n",
    "\n",
    "# for/else\n",
    "for i in range(3):\n",
    "    if i == 5:\n",
    "        break\n",
    "else:\n",
    "    print(\"Цикл завершён без break\")\n",
    "\n",
    "# while/else\n",
    "n = 0\n",
    "while n < 3:\n",
    "    n += 1\n",
    "    if n == 10:\n",
    "        break\n",
    "else:\n",
    "    print(\"Цикл while завершён без break\")\n",
    "\n",
    "# pass\n",
    "for char in \"python\":\n",
    "    if char == \"h\":\n",
    "        pass  # пока ничего не делаем\n",
    "    else:\n",
    "        print(char)\n",
    "\n",
    "# break\n",
    "for i in range(10):\n",
    "    if i == 4:\n",
    "        break\n",
    "    print(i)\n",
    "\n",
    "# continue\n",
    "for i in range(5):\n",
    "    if i % 2 == 0:\n",
    "        continue\n",
    "    print(i)\n"
   ]
  },
  {
   "cell_type": "markdown",
   "metadata": {},
   "source": [
    "### Определение функций и генераторов\n",
    "```markdown\n",
    "- **def**: создаёт функцию или метод  \n",
    "- **return**: возвращает результат из функции  \n",
    "- **yield**: создаёт генератор (возвращает результат по частям)  \n"
   ]
  },
  {
   "cell_type": "code",
   "execution_count": 1,
   "metadata": {},
   "outputs": [
    {
     "name": "stdout",
     "output_type": "stream",
     "text": [
      "Сумма: 5\n",
      "Сумма: 7\n",
      "15\n"
     ]
    }
   ],
   "source": [
    "def add(a, b=2, *args):\n",
    "    print(\"Сумма:\", a + b)\n",
    "\n",
    "add(3)      \n",
    "add(3, 4)   \n",
    "\n",
    "# return — возврат значения из функции\n",
    "def multiply(a, b=2):\n",
    "    return a * b\n",
    "\n",
    "result = multiply(5, 3)\n",
    "print(result)   \n"
   ]
  },
  {
   "cell_type": "code",
   "execution_count": 1,
   "metadata": {},
   "outputs": [
    {
     "name": "stdout",
     "output_type": "stream",
     "text": [
      "2\n",
      "4\n",
      "6\n"
     ]
    }
   ],
   "source": [
    "# yield — генератор\n",
    "def double_numbers(n):\n",
    "    for i in n:\n",
    "        yield i * 2\n",
    "\n",
    "for val in double_numbers([1, 2, 3]):\n",
    "    print(val)   "
   ]
  },
  {
   "cell_type": "code",
   "execution_count": 21,
   "metadata": {},
   "outputs": [
    {
     "name": "stdout",
     "output_type": "stream",
     "text": [
      "2\n",
      "4\n",
      "6\n"
     ]
    }
   ],
   "source": [
    "gen = double_numbers([1, 2, 3])\n",
    "print(next(gen))\n",
    "print(next(gen))\n",
    "print(next(gen))"
   ]
  },
  {
   "cell_type": "code",
   "execution_count": 22,
   "metadata": {},
   "outputs": [
    {
     "ename": "StopIteration",
     "evalue": "",
     "output_type": "error",
     "traceback": [
      "\u001b[31m---------------------------------------------------------------------------\u001b[39m",
      "\u001b[31mStopIteration\u001b[39m                             Traceback (most recent call last)",
      "\u001b[36mCell\u001b[39m\u001b[36m \u001b[39m\u001b[32mIn[22]\u001b[39m\u001b[32m, line 1\u001b[39m\n\u001b[32m----> \u001b[39m\u001b[32m1\u001b[39m \u001b[38;5;28;43mnext\u001b[39;49m\u001b[43m(\u001b[49m\u001b[43mgen\u001b[49m\u001b[43m)\u001b[49m\n",
      "\u001b[31mStopIteration\u001b[39m: "
     ]
    }
   ],
   "source": [
    "next(gen)"
   ]
  },
  {
   "cell_type": "markdown",
   "metadata": {},
   "source": [
    "### Асинхронность, модули и классы\n",
    "```markdown\n",
    "- **async**: обозначение корутины (асинхронной функции)  \n",
    "- **await**: передача управления, ожидание результата корутины  \n",
    "- **import**: подключение модуля  \n",
    "- **from ... import ...**: выборочный импорт атрибутов из модуля  \n",
    "- **class**: создание нового класса (шаблона объекта)  \n"
   ]
  },
  {
   "cell_type": "markdown",
   "metadata": {},
   "source": [
    "### Обработка и генерация исключений\n",
    "```markdown\n",
    "- **try/except/finally**: перехват ошибок и действия при завершении  \n",
    "- **raise**: явный вызов исключения  \n",
    "```\n"
   ]
  },
  {
   "cell_type": "code",
   "execution_count": 24,
   "metadata": {},
   "outputs": [
    {
     "name": "stdout",
     "output_type": "stream",
     "text": [
      "Произошла ошибка: invalid literal for int() with base 10: 'abc'\n",
      "Этот блок выполняется всегда\n",
      "5.0\n"
     ]
    },
    {
     "ename": "ZeroDivisionError",
     "evalue": "Деление на ноль запрещено!",
     "output_type": "error",
     "traceback": [
      "\u001b[31m---------------------------------------------------------------------------\u001b[39m",
      "\u001b[31mZeroDivisionError\u001b[39m                         Traceback (most recent call last)",
      "\u001b[36mCell\u001b[39m\u001b[36m \u001b[39m\u001b[32mIn[24]\u001b[39m\u001b[32m, line 16\u001b[39m\n\u001b[32m     13\u001b[39m     \u001b[38;5;28;01mreturn\u001b[39;00m a / b\n\u001b[32m     15\u001b[39m \u001b[38;5;28mprint\u001b[39m(divide(\u001b[32m10\u001b[39m, \u001b[32m2\u001b[39m))\n\u001b[32m---> \u001b[39m\u001b[32m16\u001b[39m \u001b[38;5;28mprint\u001b[39m(\u001b[43mdivide\u001b[49m\u001b[43m(\u001b[49m\u001b[32;43m5\u001b[39;49m\u001b[43m,\u001b[49m\u001b[43m \u001b[49m\u001b[32;43m0\u001b[39;49m\u001b[43m)\u001b[49m)\n",
      "\u001b[36mCell\u001b[39m\u001b[36m \u001b[39m\u001b[32mIn[24]\u001b[39m\u001b[32m, line 12\u001b[39m, in \u001b[36mdivide\u001b[39m\u001b[34m(a, b)\u001b[39m\n\u001b[32m     10\u001b[39m \u001b[38;5;28;01mdef\u001b[39;00m\u001b[38;5;250m \u001b[39m\u001b[34mdivide\u001b[39m(a, b):\n\u001b[32m     11\u001b[39m     \u001b[38;5;28;01mif\u001b[39;00m b == \u001b[32m0\u001b[39m:\n\u001b[32m---> \u001b[39m\u001b[32m12\u001b[39m         \u001b[38;5;28;01mraise\u001b[39;00m \u001b[38;5;167;01mZeroDivisionError\u001b[39;00m(\u001b[33m\"\u001b[39m\u001b[33mДеление на ноль запрещено!\u001b[39m\u001b[33m\"\u001b[39m)\n\u001b[32m     13\u001b[39m     \u001b[38;5;28;01mreturn\u001b[39;00m a / b\n",
      "\u001b[31mZeroDivisionError\u001b[39m: Деление на ноль запрещено!"
     ]
    }
   ],
   "source": [
    "# try/except/finally\n",
    "try:\n",
    "    x = int(\"abc\")   # ошибка преобразования\n",
    "except ValueError as e:\n",
    "    print(\"Произошла ошибка:\", e)\n",
    "finally:\n",
    "    print(\"Этот блок выполняется всегда\")\n",
    "\n",
    "# raise\n",
    "def divide(a, b):\n",
    "    if b == 0:\n",
    "        raise ZeroDivisionError(\"Деление на ноль запрещено!\")\n",
    "    return a / b\n",
    "\n",
    "print(divide(10, 2))\n",
    "print(divide(5, 0))"
   ]
  },
  {
   "cell_type": "markdown",
   "metadata": {},
   "source": [
    "### Проверки, контекстные менеджеры и управление объектами\n",
    "```markdown\n",
    "- **assert**: проверка условий во время отладки  \n",
    "- **with**: работа с контекстными менеджерами (гарантированное закрытие ресурсов)  \n",
    "- **del**: удаление ссылок (переменных, атрибутов, элементов списка/словаря)  \n",
    "```\n"
   ]
  },
  {
   "cell_type": "code",
   "execution_count": 119,
   "metadata": {},
   "outputs": [],
   "source": [
    "# assert\n",
    "x = 3\n",
    "assert x > 0, \"x должно быть положительным\"\n",
    "\n",
    "# with\n",
    "with open(\"data.txt\", \"w\") as f:\n",
    "    f.write(\"Hello\\n\")\n",
    "    f.write(\"World\")"
   ]
  },
  {
   "cell_type": "code",
   "execution_count": 30,
   "metadata": {},
   "outputs": [
    {
     "name": "stdout",
     "output_type": "stream",
     "text": [
      "[10, 30]\n"
     ]
    }
   ],
   "source": [
    "# del\n",
    "data = [10, 20, 30]\n",
    "del data[1]      \n",
    "print(data)      "
   ]
  },
  {
   "cell_type": "markdown",
   "metadata": {},
   "source": [
    "### Сравнение оператора if\n",
    "```markdown\n",
    "- В Python синтаксис условного оператора проще, чем в C-подобных языках  \n",
    "- Не нужны круглые скобки вокруг условия  \n",
    "- Не нужны фигурные скобки для блока кода  \n",
    "- Не нужны точки с запятой в конце строк  \n",
    "- Используются двоеточие и отступы для обозначения блока  \n",
    "```"
   ]
  },
  {
   "cell_type": "code",
   "execution_count": 9,
   "metadata": {},
   "outputs": [
    {
     "name": "stdout",
     "output_type": "stream",
     "text": [
      "1 2\n"
     ]
    }
   ],
   "source": [
    "# Так могло бы выглядеть в C-подобном языке:\n",
    "# if (x > y) {\n",
    "#     x = 1;\n",
    "#     y = 2;\n",
    "# }\n",
    "\n",
    "x, y = 5, 3\n",
    "if x > y:\n",
    "    x = 1\n",
    "    y = 2\n",
    "print(x, y)  # 1 2"
   ]
  },
  {
   "cell_type": "markdown",
   "metadata": {},
   "source": [
    "### Что привносит Python\n",
    "```markdown\n",
    "- Новый синтаксический элемент — двоеточие `:`  \n",
    "- Используется во всех составных операторах \n",
    "- Общий шаблон:  \n",
    "  - заголовок с двоеточием  \n",
    "  - вложенный блок кода с отступами  \n",
    "```"
   ]
  },
  {
   "cell_type": "markdown",
   "metadata": {},
   "source": [
    "### Что исключает Python\n",
    "```markdown\n",
    "- **Скобки** вокруг условий — не нужны  \n",
    "- **Точки с запятой** в конце строк — не нужны  \n",
    "- **Фигурные скобки / begin-end** для блоков — не нужны  \n",
    "- Python использует:  \n",
    "  - конец строки = конец оператора  \n",
    "  - отступы = границы блока  \n",
    "- Эти изменения делают код чище и короче  \n"
   ]
  },
  {
   "cell_type": "code",
   "execution_count": 10,
   "metadata": {},
   "outputs": [
    {
     "name": "stdout",
     "output_type": "stream",
     "text": [
      "Меньше\n"
     ]
    }
   ],
   "source": [
    "# Скобки вокруг условий (как в C-подобных языках)\n",
    "# if (x < y) { ... }\n",
    "\n",
    "# Python — без скобок\n",
    "if x < y:\n",
    "    print(\"Меньше\")\n",
    "\n",
    "# Точки с запятой\n",
    "x = 1      # в Python ; не нужен\n",
    "x = 2; y = 3   # допустимо, но не по стилю\n",
    "\n",
    "# Фигурные скобки для блоков\n",
    "# C-подобный стиль: { ... }\n",
    "# Python — блоки определяются отступами\n",
    "if True:\n",
    "    a = 1\n",
    "    b = 2"
   ]
  },
  {
   "cell_type": "markdown",
   "metadata": {},
   "source": [
    "### Зачем нужен синтаксис отступов\n",
    "```markdown\n",
    "- Отступы — ключевая особенность Python, повышающая читаемость  \n",
    "- Код выравнивается вертикально по логической структуре  \n",
    "- В других языках разные программисты часто используют разный стиль отступов → код становится хаотичным  \n",
    "- Python устраняет такие проблемы, делая отступы частью синтаксиса  \n",
    "- Визуальное расположение кода = фактическая логика выполнения  \n",
    "- Инструменты и редакторы помогают автоматически поддерживать отступы  \n",
    "- Нельзя смешивать табы и пробелы внутри одного блока  "
   ]
  },
  {
   "cell_type": "markdown",
   "metadata": {},
   "source": [
    "### Несколько особых случаев\n",
    "```markdown\n",
    "- По умолчанию:  \n",
    "  - конец строки = конец оператора  \n",
    "  - отступ = границы блока  \n",
    "- Есть специальные исключения:  \n",
    "  1. **Несколько операторов в одной строке** через `;`  \n",
    "  2. **Оператор на несколько строк** — в скобках `()`, `[]`, `{}`  \n",
    "  3. **Старый способ** — обратный слэш `\\` (лучше не использовать)  \n",
    "  4. **Однострочные блоки**: `if x > y: print(x)` (только для простых операторов)  \n",
    "- Всё это допустимо, но считается не самым читаемым стилем  \n"
   ]
  },
  {
   "cell_type": "code",
   "execution_count": 11,
   "metadata": {},
   "outputs": [
    {
     "name": "stdout",
     "output_type": "stream",
     "text": [
      "3\n"
     ]
    }
   ],
   "source": [
    "# 1. Несколько операторов на одной строке\n",
    "a = 1; b = 2; print(a + b)\n",
    "\n",
    "# 2. Продолжение в скобках\n",
    "mylist = [\n",
    "    1111, 2222,\n",
    "    3333, 4444\n",
    "]\n",
    "\n",
    "X = (1 + 2 +\n",
    "     3 + 4)\n",
    "\n",
    "# 3. Обратный слэш (устаревший способ, лучше не использовать)\n",
    "Y = 10 + 20 + \\\n",
    "    30 + 40\n",
    "\n",
    "# 4. Однострочный if\n",
    "if X > Y: print(\"X больше Y\")\n"
   ]
  },
  {
   "cell_type": "markdown",
   "metadata": {},
   "source": [
    "## Присваивания, выражения и вывод\n",
    "```markdown\n",
    "- **Присваивание (=)**: связывает имя с объектом (создаёт ссылку)  \n",
    "- Переменные (имена) создаются при первом присваивании  \n",
    "- Нельзя использовать имя до присваивания — будет ошибка  \n",
    "- Присваивание может происходить не только явно, но и неявно (например, в `for`, `def`, `import`)  \n"
   ]
  },
  {
   "cell_type": "code",
   "execution_count": 12,
   "metadata": {},
   "outputs": [
    {
     "name": "stdout",
     "output_type": "stream",
     "text": [
      "0\n",
      "1\n",
      "2\n",
      "10\n"
     ]
    }
   ],
   "source": [
    "# Простые примеры присваивания\n",
    "x = 10          # создаём имя x и связываем с числом 10\n",
    "y = x + 5       # имя y ссылается на результат выражения\n",
    "\n",
    "# Ошибка: обращение к имени до присваивания\n",
    "# print(z)   # NameError: name 'z' is not defined\n",
    "\n",
    "# Неявные присваивания\n",
    "for i in range(3):      # i создаётся автоматически\n",
    "    print(i)\n",
    "\n",
    "def func(a):            # аргумент a присваивается при вызове\n",
    "    return a * 2\n",
    "print(func(5))\n"
   ]
  },
  {
   "cell_type": "markdown",
   "metadata": {},
   "source": [
    "### Формы присваивания в Python\n",
    "```markdown\n",
    "- **Обычное присваивание**: `x = obj`  \n",
    "- **Кортежное и списковое присваивание** (unpacking): `a, b = (1, 2)`  \n",
    "- **Присваивание последовательностей**: `a, b, c = \"abc\"`  \n",
    "- **Расширенная распаковка**: `a, *b = \"hack\"`  \n",
    "- **Множественное присваивание**: `x = y = 10` (оба имени ссылаются на один объект)  \n",
    "- **Составные присваивания** (augmented): `x += 1`, `y *= 2`  \n",
    "- **Оператор := (морж)** — присваивание внутри выражения  \n"
   ]
  },
  {
   "cell_type": "code",
   "execution_count": 148,
   "metadata": {},
   "outputs": [],
   "source": [
    "a, *b = \"hack\"\n"
   ]
  },
  {
   "cell_type": "code",
   "execution_count": 149,
   "metadata": {},
   "outputs": [
    {
     "data": {
      "text/plain": [
       "['a', 'c', 'k']"
      ]
     },
     "execution_count": 149,
     "metadata": {},
     "output_type": "execute_result"
    }
   ],
   "source": [
    "b"
   ]
  },
  {
   "cell_type": "code",
   "execution_count": 146,
   "metadata": {},
   "outputs": [],
   "source": [
    "# 1. Обычное присваивание\n",
    "code = \"Hack\"\n",
    "\n",
    "# 2. Кортежное и списковое присваивание (unpacking)\n",
    "code, hack = \"py\", \"PY\"\n",
    "[code, hack] = [\"py\", \"PY\"]"
   ]
  },
  {
   "cell_type": "markdown",
   "metadata": {},
   "source": [
    "### Базовые и последовательностные присваивания\n",
    "```markdown\n",
    "- **Базовое присваивание**: имя, индекс, срез или атрибут слева = выражение справа  \n",
    "- Примеры:  \n",
    "  - имя: `x = 10`  \n",
    "  - индекс: `L[0] = 3`  \n",
    "  - срез: `L[-1:] = [4, 5]`  \n",
    "  - атрибут: `obj.attr = value`  \n",
    "- **Распаковка (unpacking)**: кортежи и списки слева = итерируемый объект справа  \n",
    "- Значения сопоставляются по позициям слева направо  \n",
    "- Удобный трюк: обмен значениями без временной переменной (`a, b = b, a`)  \n",
    "- На правой стороне может быть любой итерируемый объект, не только список или кортеж  \n"
   ]
  },
  {
   "cell_type": "code",
   "execution_count": 31,
   "metadata": {},
   "outputs": [
    {
     "name": "stdout",
     "output_type": "stream",
     "text": [
      "[3, 4, 5]\n",
      "[3, 4, 5]\n"
     ]
    }
   ],
   "source": [
    "# Базовое присваивание\n",
    "L = [1, 2]\n",
    "L[0] = 3        \n",
    "L[-1:] = [4, 5] \n",
    "print(L)        \n",
    "\n",
    "# Атрибут \n",
    "class Obj: pass\n",
    "o = Obj()\n",
    "o.attr = L\n",
    "print(o.attr)"
   ]
  },
  {
   "cell_type": "code",
   "execution_count": 32,
   "metadata": {},
   "outputs": [
    {
     "name": "stdout",
     "output_type": "stream",
     "text": [
      "1 2\n",
      "3 4\n"
     ]
    }
   ],
   "source": [
    "# Распаковка (tuple / list assignment)\n",
    "first, second = 1, 2\n",
    "print(first, second)   \n",
    "\n",
    "[C, D] = [3, 4]\n",
    "print(C, D)            "
   ]
  },
  {
   "cell_type": "code",
   "execution_count": 33,
   "metadata": {},
   "outputs": [
    {
     "name": "stdout",
     "output_type": "stream",
     "text": [
      "20 10\n"
     ]
    }
   ],
   "source": [
    "# Обмен значениями\n",
    "a, b = 10, 20\n",
    "a, b = b, a\n",
    "print(a, b)            "
   ]
  },
  {
   "cell_type": "code",
   "execution_count": 150,
   "metadata": {},
   "outputs": [
    {
     "name": "stdout",
     "output_type": "stream",
     "text": [
      "1 3\n"
     ]
    }
   ],
   "source": [
    "# Распаковка с разными типами\n",
    "[a, b, c] = (1, 2, 3)\n",
    "print(a, c)                     "
   ]
  },
  {
   "cell_type": "code",
   "execution_count": 151,
   "metadata": {},
   "outputs": [
    {
     "name": "stdout",
     "output_type": "stream",
     "text": [
      "A C\n"
     ]
    }
   ],
   "source": [
    "(a, b, c) = \"ABC\"\n",
    "print(a, c)   "
   ]
  },
  {
   "cell_type": "markdown",
   "metadata": {},
   "source": [
    "### Расширенные шаблоны присваивания последовательностей\n",
    "```markdown\n",
    "- Обычно количество целей слева и значений справа должно совпадать  \n",
    "- Если их разное количество → `ValueError`  \n",
    "- Решение: использовать срезы (`string[:2]`, `string[2:]`)  \n",
    "- Можно комбинировать индексы и срезы, чтобы «собрать» нужное распределение  \n",
    "- Поддерживаются **вложенные последовательности**: `(a, b), c = ('TE', 'XT')`  \n",
    "- Частый приём: распаковка `range()` → инициализация нескольких переменных сразу  \n",
    "- В циклах можно разделять элементы на «первый и остальные» (`front, L = L[0], L[1:]`)  \n"
   ]
  },
  {
   "cell_type": "code",
   "execution_count": 36,
   "metadata": {},
   "outputs": [
    {
     "name": "stdout",
     "output_type": "stream",
     "text": [
      "T E X T\n"
     ]
    }
   ],
   "source": [
    "# Стандартное правило: длины должны совпадать\n",
    "string = \"TEXT\"\n",
    "a, b, c, d = string\n",
    "print(a, b, c, d)   # T E X T"
   ]
  },
  {
   "cell_type": "code",
   "execution_count": 35,
   "metadata": {},
   "outputs": [
    {
     "ename": "ValueError",
     "evalue": "too many values to unpack (expected 3)",
     "output_type": "error",
     "traceback": [
      "\u001b[31m---------------------------------------------------------------------------\u001b[39m",
      "\u001b[31mValueError\u001b[39m                                Traceback (most recent call last)",
      "\u001b[36mCell\u001b[39m\u001b[36m \u001b[39m\u001b[32mIn[35]\u001b[39m\u001b[32m, line 2\u001b[39m\n\u001b[32m      1\u001b[39m \u001b[38;5;66;03m# Ошибка: несоответствие длин\u001b[39;00m\n\u001b[32m----> \u001b[39m\u001b[32m2\u001b[39m a, b, c = string  \n",
      "\u001b[31mValueError\u001b[39m: too many values to unpack (expected 3)"
     ]
    }
   ],
   "source": [
    "# Ошибка: несоответствие длин\n",
    "a, b, c = string  "
   ]
  },
  {
   "cell_type": "code",
   "execution_count": 37,
   "metadata": {},
   "outputs": [
    {
     "name": "stdout",
     "output_type": "stream",
     "text": [
      "T E XT\n"
     ]
    }
   ],
   "source": [
    "# Обходное решение через срезы\n",
    "a, b, c = string[0], string[1], string[2:]\n",
    "print(a, b, c)      # T E XT"
   ]
  },
  {
   "cell_type": "code",
   "execution_count": 38,
   "metadata": {},
   "outputs": [
    {
     "name": "stdout",
     "output_type": "stream",
     "text": [
      "T E XT\n"
     ]
    }
   ],
   "source": [
    "# Вложенные присваивания\n",
    "((a, b), c) = (\"TE\", \"XT\")\n",
    "print(a, b, c)      # T E XT"
   ]
  },
  {
   "cell_type": "code",
   "execution_count": 40,
   "metadata": {},
   "outputs": [
    {
     "name": "stdout",
     "output_type": "stream",
     "text": [
      "0 2\n"
     ]
    }
   ],
   "source": [
    "# Инициализация переменных через range\n",
    "red, green, blue = range(3)\n",
    "print(red, blue)    # 0 2"
   ]
  },
  {
   "cell_type": "code",
   "execution_count": 41,
   "metadata": {},
   "outputs": [
    {
     "name": "stdout",
     "output_type": "stream",
     "text": [
      "1 [2, 3, 4]\n",
      "2 [3, 4]\n",
      "3 [4]\n",
      "4 []\n"
     ]
    }
   ],
   "source": [
    "# Деление списка на первый элемент и \"хвост\"\n",
    "L = [1, 2, 3, 4]\n",
    "while L:\n",
    "    front, L = L[0], L[1:]\n",
    "    print(front, L)"
   ]
  },
  {
   "cell_type": "markdown",
   "metadata": {},
   "source": [
    "### Расширенная распаковка со звёздочкой\n",
    "```markdown\n",
    "- Обычно количество целей слева = количество элементов справа  \n",
    "- При несоответствии возникает ошибка (`ValueError`)  \n",
    "- **Звёздочка `*`** позволяет забирать «остаток» элементов в список  \n",
    "- `*` может стоять в начале, в конце или в середине слева от `=`  \n",
    "- Работает с любыми итерируемыми объектами: списками, строками, range и т.д.  \n",
    "- В отличие от срезов: `*` всегда возвращает список, а не тот же тип данных  \n",
    "- Удобно для шаблонов вида «первый и остальные»  \n"
   ]
  },
  {
   "cell_type": "code",
   "execution_count": 42,
   "metadata": {},
   "outputs": [
    {
     "name": "stdout",
     "output_type": "stream",
     "text": [
      "1 4\n"
     ]
    }
   ],
   "source": [
    "seq = [1, 2, 3, 4]\n",
    "\n",
    "# Без * — нужно совпадение длин\n",
    "a, b, c, d = seq\n",
    "print(a, d)   # 1 4"
   ]
  },
  {
   "cell_type": "code",
   "execution_count": 43,
   "metadata": {},
   "outputs": [
    {
     "ename": "ValueError",
     "evalue": "too many values to unpack (expected 2)",
     "output_type": "error",
     "traceback": [
      "\u001b[31m---------------------------------------------------------------------------\u001b[39m",
      "\u001b[31mValueError\u001b[39m                                Traceback (most recent call last)",
      "\u001b[36mCell\u001b[39m\u001b[36m \u001b[39m\u001b[32mIn[43]\u001b[39m\u001b[32m, line 2\u001b[39m\n\u001b[32m      1\u001b[39m \u001b[38;5;66;03m# Ошибка, если целей меньше\u001b[39;00m\n\u001b[32m----> \u001b[39m\u001b[32m2\u001b[39m a, b = seq   \u001b[38;5;66;03m# ValueError\u001b[39;00m\n",
      "\u001b[31mValueError\u001b[39m: too many values to unpack (expected 2)"
     ]
    }
   ],
   "source": [
    "# Ошибка, если целей меньше\n",
    "a, b = seq   "
   ]
  },
  {
   "cell_type": "code",
   "execution_count": 44,
   "metadata": {},
   "outputs": [
    {
     "name": "stdout",
     "output_type": "stream",
     "text": [
      "1\n",
      "[2, 3, 4]\n"
     ]
    }
   ],
   "source": [
    "# С * — можно забирать остаток\n",
    "a, *b = seq\n",
    "print(a)      \n",
    "print(b)      "
   ]
  },
  {
   "cell_type": "code",
   "execution_count": 45,
   "metadata": {},
   "outputs": [
    {
     "name": "stdout",
     "output_type": "stream",
     "text": [
      "[1, 2, 3] 4\n"
     ]
    }
   ],
   "source": [
    "# Звёздочка в начале\n",
    "*a, b = seq\n",
    "print(a, b)   "
   ]
  },
  {
   "cell_type": "code",
   "execution_count": 46,
   "metadata": {},
   "outputs": [
    {
     "name": "stdout",
     "output_type": "stream",
     "text": [
      "1 [2, 3] 4\n"
     ]
    }
   ],
   "source": [
    "# Звёздочка в середине\n",
    "a, *b, c = seq\n",
    "print(a, b, c)  "
   ]
  },
  {
   "cell_type": "code",
   "execution_count": 48,
   "metadata": {},
   "outputs": [
    {
     "name": "stdout",
     "output_type": "stream",
     "text": [
      "h ['a', 'c', 'k']\n",
      "0 [1, 2] 3\n"
     ]
    }
   ],
   "source": [
    "# Работает и со строками, и с range\n",
    "a, *b = \"hack\"\n",
    "print(a, b)     \n",
    "\n",
    "a, *b, c = range(4)\n",
    "print(a, b, c)  "
   ]
  },
  {
   "cell_type": "code",
   "execution_count": 49,
   "metadata": {},
   "outputs": [
    {
     "name": "stdout",
     "output_type": "stream",
     "text": [
      "1 [2, 3, 4]\n",
      "2 [3, 4]\n",
      "3 [4]\n",
      "4 []\n"
     ]
    }
   ],
   "source": [
    "# Упрощение \"первый и остальные\"\n",
    "L = [1, 2, 3, 4]\n",
    "while L:\n",
    "    front, *L = L\n",
    "    print(front, L)"
   ]
  },
  {
   "cell_type": "markdown",
   "metadata": {},
   "source": [
    "### Граничные случаи расширенной распаковки\n",
    "```markdown\n",
    "- Звёздочная переменная всегда получает **список**, даже если там 1 элемент  \n",
    "- Если элементов не осталось → звёздочная переменная = пустой список `[]`  \n",
    "- Ошибки:  \n",
    "  - более одной звёздочной переменной в одном блоке  \n",
    "  - слишком мало целей слева без `*`  \n",
    "  - звёздочка вне последовательности (`*a = ...`)  \n",
    "- Допустимы разные цели для `*`: имя, индекс, срез, атрибут (встречается редко)  \n",
    "- В реальном коде звёздочка — удобный синтаксический сахар для паттернов «первый и остальные» или «все кроме последнего»  \n"
   ]
  },
  {
   "cell_type": "code",
   "execution_count": 50,
   "metadata": {},
   "outputs": [
    {
     "name": "stdout",
     "output_type": "stream",
     "text": [
      "1 2 3 [4]\n"
     ]
    }
   ],
   "source": [
    "seq = [1, 2, 3, 4]\n",
    "\n",
    "# Один элемент и список-остаток\n",
    "a, b, c, *d = seq\n",
    "print(a, b, c, d)   # 1 2 3 [4]\n"
   ]
  },
  {
   "cell_type": "code",
   "execution_count": 53,
   "metadata": {},
   "outputs": [
    {
     "name": "stdout",
     "output_type": "stream",
     "text": [
      "1 2 3 4 []\n"
     ]
    }
   ],
   "source": [
    "# Ничего не осталось для *\n",
    "a, b, c, d, *e = seq\n",
    "print(a, b, c, d, e)  # 1 2 3 4 []"
   ]
  },
  {
   "cell_type": "code",
   "execution_count": 55,
   "metadata": {},
   "outputs": [
    {
     "ename": "SyntaxError",
     "evalue": "multiple starred expressions in assignment (822805771.py, line 2)",
     "output_type": "error",
     "traceback": [
      "  \u001b[36mCell\u001b[39m\u001b[36m \u001b[39m\u001b[32mIn[55]\u001b[39m\u001b[32m, line 2\u001b[39m\n\u001b[31m    \u001b[39m\u001b[31ma, *b, c, *d = seq\u001b[39m\n    ^\n\u001b[31mSyntaxError\u001b[39m\u001b[31m:\u001b[39m multiple starred expressions in assignment\n"
     ]
    }
   ],
   "source": [
    "# * только один раз\n",
    "a, *b, c, *d = seq   "
   ]
  },
  {
   "cell_type": "code",
   "execution_count": 58,
   "metadata": {},
   "outputs": [
    {
     "ename": "SyntaxError",
     "evalue": "starred assignment target must be in a list or tuple (3081984195.py, line 2)",
     "output_type": "error",
     "traceback": [
      "  \u001b[36mCell\u001b[39m\u001b[36m \u001b[39m\u001b[32mIn[58]\u001b[39m\u001b[32m, line 2\u001b[39m\n\u001b[31m    \u001b[39m\u001b[31m*a = seq\u001b[39m\n    ^\n\u001b[31mSyntaxError\u001b[39m\u001b[31m:\u001b[39m starred assignment target must be in a list or tuple\n"
     ]
    }
   ],
   "source": [
    "# * вне последовательности\n",
    "*a = seq             "
   ]
  },
  {
   "cell_type": "code",
   "execution_count": 60,
   "metadata": {},
   "outputs": [
    {
     "data": {
      "text/plain": [
       "[1, 2, 3, 4]"
      ]
     },
     "execution_count": 60,
     "metadata": {},
     "output_type": "execute_result"
    }
   ],
   "source": [
    "*a, = seq              \n",
    "a"
   ]
  },
  {
   "cell_type": "code",
   "execution_count": 61,
   "metadata": {},
   "outputs": [
    {
     "name": "stdout",
     "output_type": "stream",
     "text": [
      "1 [2, 3, 4]\n"
     ]
    }
   ],
   "source": [
    "# Удобные паттерны\n",
    "a, *rest = seq\n",
    "print(a, rest)        "
   ]
  },
  {
   "cell_type": "code",
   "execution_count": 63,
   "metadata": {},
   "outputs": [
    {
     "name": "stdout",
     "output_type": "stream",
     "text": [
      "[1, 2, 3] 4\n"
     ]
    }
   ],
   "source": [
    "*init, last = seq\n",
    "print(init, last)     "
   ]
  },
  {
   "cell_type": "markdown",
   "metadata": {},
   "source": [
    "### Звёздочка в циклах for и других конструкциях\n",
    "```markdown\n",
    "- В `for` переменная может быть любой целью присваивания  \n",
    "- Поэтому работает и расширенная распаковка со `*`  \n",
    "- На каждой итерации кортеж справа раскладывается по переменным слева  \n",
    "- Удобно для выделения первого, последнего и «остатка» элементов  \n",
    "- Символы `*` и `**` применяются также в функциях, вызовах и литералах  \n"
   ]
  },
  {
   "cell_type": "code",
   "execution_count": 65,
   "metadata": {},
   "outputs": [
    {
     "name": "stdout",
     "output_type": "stream",
     "text": [
      "1 [2, 3] 4\n",
      "5 [6, 7] 8\n"
     ]
    }
   ],
   "source": [
    "# Расширенная распаковка в цикле for\n",
    "for a, *b, c in [(1, 2, 3, 4), (5, 6, 7, 8)]:\n",
    "    print(a, b, c)"
   ]
  },
  {
   "cell_type": "code",
   "execution_count": 66,
   "metadata": {},
   "outputs": [
    {
     "name": "stdout",
     "output_type": "stream",
     "text": [
      "1 (2, 3) 4\n",
      "5 (6, 7) 8\n"
     ]
    }
   ],
   "source": [
    "# Эквивалент через срезы (менее удобно)\n",
    "for seq in [(1, 2, 3, 4), (5, 6, 7, 8)]:\n",
    "    a, b, c = seq[0], seq[1:-1], seq[-1]\n",
    "    print(a, b, c)"
   ]
  },
  {
   "cell_type": "markdown",
   "metadata": {},
   "source": [
    "### Множественное присваивание\n",
    "```markdown\n",
    "- Запись вида `a = b = c = значение` присваивает одно и то же значение нескольким переменным  \n",
    "- Все переменные начинают ссылаться на **один и тот же объект**  \n",
    "- Для неизменяемых объектов (числа, строки, кортежи) это безопасно  \n",
    "- Для изменяемых объектов (списки, словари) это может привести к неожиданным эффектам  \n",
    "- Чтобы избежать проблем, создавайте новые объекты отдельно: `a = []; b = []` или `a, b = [], []`  \n"
   ]
  },
  {
   "cell_type": "code",
   "execution_count": 68,
   "metadata": {},
   "outputs": [
    {
     "name": "stdout",
     "output_type": "stream",
     "text": [
      "code code code\n"
     ]
    }
   ],
   "source": [
    "# Несколько переменных указывают на один и тот же объект\n",
    "a = b = c = \"code\"\n",
    "print(a, b, c)   "
   ]
  },
  {
   "cell_type": "code",
   "execution_count": 69,
   "metadata": {},
   "outputs": [
    {
     "name": "stdout",
     "output_type": "stream",
     "text": [
      "0 1\n"
     ]
    }
   ],
   "source": [
    "# Для неизменяемых объектов (чисел) это безопасно\n",
    "a = b = 0\n",
    "b = b + 1\n",
    "print(a, b)      "
   ]
  },
  {
   "cell_type": "code",
   "execution_count": 70,
   "metadata": {},
   "outputs": [
    {
     "name": "stdout",
     "output_type": "stream",
     "text": [
      "[42] [42]\n"
     ]
    }
   ],
   "source": [
    "# Но с изменяемыми объектами нужно быть осторожным\n",
    "a = b = []\n",
    "b.append(42)\n",
    "print(a, b)      "
   ]
  },
  {
   "cell_type": "code",
   "execution_count": 71,
   "metadata": {},
   "outputs": [
    {
     "name": "stdout",
     "output_type": "stream",
     "text": [
      "[] [42]\n"
     ]
    }
   ],
   "source": [
    "# Решение: создавать новые объекты\n",
    "a = []\n",
    "b = []\n",
    "b.append(42)\n",
    "print(a, b)      "
   ]
  },
  {
   "cell_type": "code",
   "execution_count": 72,
   "metadata": {},
   "outputs": [
    {
     "name": "stdout",
     "output_type": "stream",
     "text": [
      "[] []\n"
     ]
    }
   ],
   "source": [
    "# То же самое в одной строке\n",
    "a, b = [], []\n",
    "print(a, b)      "
   ]
  },
  {
   "cell_type": "markdown",
   "metadata": {},
   "source": [
    "### Сокращённые присваивания \n",
    "```markdown\n",
    "- Запись вида `X += Y` — это сокращение для `X = X + Y`  \n",
    "- Работают для любых типов, где определены соответствующие операции  \n",
    "- Примеры: `+=`, `-=`, `*=`, `/=`, `//=`, `%=` и др.  \n",
    "- Преимущества:  \n",
    "  - Меньше кода для написания  \n",
    "  - Левая часть вычисляется один раз (быстрее)  \n",
    "  - Для изменяемых объектов применяются оптимизации (операции в месте, без создания копий)  \n",
    "- Для неизменяемых типов (`int`, `str`, `tuple`) результат будет новым объектом  \n",
    "- Для изменяемых типов (`list`, `dict`, `set`) операция часто меняет объект на месте  \n"
   ]
  },
  {
   "cell_type": "code",
   "execution_count": 73,
   "metadata": {},
   "outputs": [
    {
     "name": "stdout",
     "output_type": "stream",
     "text": [
      "2\n",
      "3\n"
     ]
    }
   ],
   "source": [
    "# Пример с числами\n",
    "x = 1\n",
    "x = x + 1   # обычная форма\n",
    "print(x)    \n",
    "x += 1      # сокращённая форма\n",
    "print(x)    "
   ]
  },
  {
   "cell_type": "code",
   "execution_count": 74,
   "metadata": {},
   "outputs": [
    {
     "name": "stdout",
     "output_type": "stream",
     "text": [
      "hackHACK\n"
     ]
    }
   ],
   "source": [
    "# Пример со строками (конкатенация)\n",
    "s = \"hack\"\n",
    "s += \"HACK\"\n",
    "print(s)    "
   ]
  },
  {
   "cell_type": "code",
   "execution_count": 76,
   "metadata": {},
   "outputs": [
    {
     "name": "stdout",
     "output_type": "stream",
     "text": [
      "[1, 2, 3, 4]\n"
     ]
    }
   ],
   "source": [
    "# Пример со списком (in-place extend)\n",
    "L = [1, 2]\n",
    "L += [3, 4]\n",
    "print(L)    "
   ]
  },
  {
   "cell_type": "code",
   "execution_count": 79,
   "metadata": {},
   "outputs": [
    {
     "name": "stdout",
     "output_type": "stream",
     "text": [
      "['h', 'a', 'c', 'k']\n"
     ]
    }
   ],
   "source": [
    "# Важно: += и + могут вести себя по-разному\n",
    "L = []\n",
    "L += \"hack\"\n",
    "print(L)   \n"
   ]
  },
  {
   "cell_type": "code",
   "execution_count": 80,
   "metadata": {},
   "outputs": [
    {
     "ename": "TypeError",
     "evalue": "can only concatenate list (not \"str\") to list",
     "output_type": "error",
     "traceback": [
      "\u001b[31m---------------------------------------------------------------------------\u001b[39m",
      "\u001b[31mTypeError\u001b[39m                                 Traceback (most recent call last)",
      "\u001b[36mCell\u001b[39m\u001b[36m \u001b[39m\u001b[32mIn[80]\u001b[39m\u001b[32m, line 1\u001b[39m\n\u001b[32m----> \u001b[39m\u001b[32m1\u001b[39m L = \u001b[43mL\u001b[49m\u001b[43m \u001b[49m\u001b[43m+\u001b[49m\u001b[43m \u001b[49m\u001b[33;43m\"\u001b[39;49m\u001b[33;43mhack\u001b[39;49m\u001b[33;43m\"\u001b[39;49m\n",
      "\u001b[31mTypeError\u001b[39m: can only concatenate list (not \"str\") to list"
     ]
    }
   ],
   "source": [
    "L = L + \"hack\""
   ]
  },
  {
   "cell_type": "code",
   "execution_count": 81,
   "metadata": {},
   "outputs": [
    {
     "name": "stdout",
     "output_type": "stream",
     "text": [
      "[1, 2, 3, 4] [1, 2]\n"
     ]
    }
   ],
   "source": [
    "# Разница в поведении при общих ссылках\n",
    "L = [1, 2]\n",
    "M = L\n",
    "L = L + [3, 4]   # создаётся новый список\n",
    "print(L, M)     "
   ]
  },
  {
   "cell_type": "code",
   "execution_count": 82,
   "metadata": {},
   "outputs": [
    {
     "name": "stdout",
     "output_type": "stream",
     "text": [
      "[1, 2, 3, 4] [1, 2, 3, 4]\n"
     ]
    }
   ],
   "source": [
    "L = [1, 2]\n",
    "M = L\n",
    "L += [3, 4]      # изменяется исходный список\n",
    "print(L, M)      "
   ]
  },
  {
   "cell_type": "markdown",
   "metadata": {},
   "source": [
    "### Именованные выражения присваивания (оператор `:=`)\n",
    "```markdown\n",
    "- Появились в Python 3.8  \n",
    "- Запись `имя := выражение` одновременно:  \n",
    "  - присваивает значение переменной  \n",
    "  - возвращает это значение как результат выражения  \n",
    "- Можно использовать в местах, где обычное `=` недопустимо (например, в заголовке `if` или `while`)  \n",
    "- Ограничения:  \n",
    "  - слева может быть только имя переменной  \n",
    "  - не поддерживает формы вроде `:+=`  \n",
    "- Использовать стоит умеренно: удобнее, но иногда ухудшает читаемость  \n"
   ]
  },
  {
   "cell_type": "code",
   "execution_count": 83,
   "metadata": {},
   "outputs": [
    {
     "name": "stdout",
     "output_type": "stream",
     "text": [
      "hackhack 2\n"
     ]
    }
   ],
   "source": [
    "# Пример: присваивание и использование в одном выражении\n",
    "a = \"hack\" * (b := 2)\n",
    "print(a, b)   "
   ]
  },
  {
   "cell_type": "code",
   "execution_count": 87,
   "metadata": {},
   "outputs": [
    {
     "name": "stdout",
     "output_type": "stream",
     "text": [
      "one\n",
      "two\n"
     ]
    }
   ],
   "source": [
    "# Использование в условиях\n",
    "lines = [\"one\\n\", \"two\\n\", \"\"]\n",
    "it = iter(lines)\n",
    "\n",
    "while (line := next(it)) != \"\":\n",
    "    print(line.strip())"
   ]
  },
  {
   "cell_type": "code",
   "execution_count": 89,
   "metadata": {},
   "outputs": [],
   "source": [
    "# В if\n",
    "ignore = \"skip\\n\"\n",
    "line = \"skip\\n\"\n",
    "if (line := line) != ignore:\n",
    "    print(line)   "
   ]
  },
  {
   "cell_type": "markdown",
   "metadata": {},
   "source": [
    "### Правила именования переменных\n",
    "```markdown\n",
    "- Имя переменной создаётся в момент присваивания  \n",
    "- Синтаксис: начинается с буквы или подчёркивания, затем буквы, цифры или подчёркивания  \n",
    "  - ОК: `_hack`, `hack1`, `Hack`  \n",
    "  - НЕ ОК: `1hack`, `hack$`, `@#!`  \n",
    "- Допустимы символы Unicode, но их лучше избегать ради переносимости  \n",
    "- Регистр имеет значение: `hack` ≠ `HACK`  \n",
    "- Нельзя использовать **зарезервированные слова** Python (например, `class`, `for`, `while`)  "
   ]
  },
  {
   "cell_type": "code",
   "execution_count": null,
   "metadata": {},
   "outputs": [],
   "source": [
    "# Корректные имена\n",
    "_hack = 1\n",
    "hack1 = 2\n",
    "Hack = 3\n",
    "print(_hack, hack1, Hack)"
   ]
  },
  {
   "cell_type": "code",
   "execution_count": 93,
   "metadata": {},
   "outputs": [
    {
     "name": "stdout",
     "output_type": "stream",
     "text": [
      "100 200\n"
     ]
    }
   ],
   "source": [
    "# Разные переменные из-за регистра\n",
    "x = 100\n",
    "X = 200\n",
    "print(x, X)   "
   ]
  },
  {
   "cell_type": "markdown",
   "metadata": {},
   "source": [
    "### Зарезервированные слова в Python\n",
    "```markdown\n",
    "- Зарезервированные слова (keywords) — это часть синтаксиса Python, их нельзя использовать как имена переменных или модулей  \n",
    "- Большинство пишутся в нижнем регистре, исключения: `False`, `None`, `True`  \n",
    "- Полный список:  \n",
    "  `False`, `None`, `True`, `and`, `as`, `assert`, `async`, `await`,  \n",
    "  `break`, `class`, `continue`, `def`, `del`, `elif`, `else`, `except`,  \n",
    "  `finally`, `for`, `from`, `global`, `if`, `import`, `in`, `is`,  \n",
    "  `lambda`, `nonlocal`, `not`, `or`, `pass`, `raise`, `return`,  \n",
    "  `try`, `while`, `with`, `yield`  \n",
    "\n",
    "- Есть «мягко» зарезервированные слова (soft keywords):  \n",
    "  - `match`, `case`, `_`, `type` — их можно использовать как переменные, кроме контекста соответствующих конструкций  \n",
    "\n",
    "- Ограничения распространяются и на имена файлов/пакетов, так как при импорте они становятся переменными  \n",
    "- Зарезервированные слова нельзя переопределить присваиванием  "
   ]
  },
  {
   "cell_type": "code",
   "execution_count": 94,
   "metadata": {},
   "outputs": [
    {
     "name": "stdout",
     "output_type": "stream",
     "text": [
      "ok 42\n"
     ]
    }
   ],
   "source": [
    "# Soft keywords можно использовать вне их контекста\n",
    "match = \"ok\"\n",
    "case = 42\n",
    "print(match, case)  "
   ]
  },
  {
   "cell_type": "markdown",
   "metadata": {},
   "source": [
    "### Соглашения об именах в Python\n",
    "```markdown\n",
    "- Двойные подчёркивания по краям `__X__` — системные имена, использовать только по назначению  \n",
    "- Два подчёркивания в начале `__X` — «псевдоприватные» атрибуты классов  \n",
    "- Один подчёркивание в начале `_X` — признак «внутреннего» имени; такие имена не импортируются через `from module import *`  \n",
    "- Один символ `_` — в REPL хранит последний результат, в `match` служит шаблоном для «любого значения»  \n",
    "- CamelCase (`MyClass`) часто для имён классов, snake_case (`my_variable`) — для функций и переменных  \n",
    "- Названия модулей обычно строчными буквами  \n",
    "- Имя `self` принято использовать как ссылку на текущий объект в методах класса  \n",
    "- Переменные (имена) не имеют типа; тип принадлежит объекту, на который они указывают  "
   ]
  },
  {
   "cell_type": "markdown",
   "metadata": {},
   "source": [
    "### Выражения как операторы\n",
    "```markdown\n",
    "- В Python любое выражение можно написать как оператор (отдельной строкой)  \n",
    "- Чаще всего это используется для:  \n",
    "  - вызова функций и методов  \n",
    "  - печати значений в интерактивном режиме (REPL)  \n",
    "- `print()` — особый случай: сам по себе это вызов функции, но обычно его используют как оператор  \n",
    "- Есть и другие примеры: `yield` в генераторах, `await` в корутинах  \n",
    "- Важно: выражения можно использовать как операторы, но **операторы не могут быть выражениями**  \n",
    "- Ошибка новичков: писать `L = L.append(…)` — такие методы меняют объект на месте и возвращают `None`  \n"
   ]
  },
  {
   "cell_type": "code",
   "execution_count": 95,
   "metadata": {},
   "outputs": [
    {
     "name": "stdout",
     "output_type": "stream",
     "text": [
      "Hello, Python\n"
     ]
    }
   ],
   "source": [
    "# Вызовы функций и методов как выражения-операторы\n",
    "def greet(name):\n",
    "    print(\"Hello,\", name)\n",
    "\n",
    "greet(\"Python\")   # работает как оператор"
   ]
  },
  {
   "cell_type": "code",
   "execution_count": 96,
   "metadata": {},
   "outputs": [
    {
     "name": "stdout",
     "output_type": "stream",
     "text": [
      "[1, 2, 3]\n"
     ]
    }
   ],
   "source": [
    "L = [1, 2]\n",
    "L.append(3)       # метод изменяет список на месте\n",
    "print(L)          "
   ]
  },
  {
   "cell_type": "code",
   "execution_count": 97,
   "metadata": {},
   "outputs": [
    {
     "name": "stdout",
     "output_type": "stream",
     "text": [
      "None\n"
     ]
    }
   ],
   "source": [
    "# Ошибка: результат append() — None\n",
    "L = [1, 2]\n",
    "L = L.append(4)   # неверно!\n",
    "print(L)          "
   ]
  },
  {
   "cell_type": "code",
   "execution_count": 99,
   "metadata": {},
   "outputs": [
    {
     "name": "stdout",
     "output_type": "stream",
     "text": [
      "code\n",
      "x = None\n"
     ]
    }
   ],
   "source": [
    "# print() сам по себе возвращает None\n",
    "x = print(\"code\")\n",
    "print(\"x =\", x)   "
   ]
  },
  {
   "cell_type": "markdown",
   "metadata": {},
   "source": [
    "### Операции печати (print)\n",
    "```markdown\n",
    "- `print()` — это встроенная функция для вывода данных, чаще всего на стандартный поток вывода (**stdout**)  \n",
    "- В отличие от методов файлов (`file.write()`), `print` сам преобразует объекты в строки и добавляет форматирование  \n",
    "- Основные параметры `print`:  \n",
    "  - `sep=' '` — разделитель между объектами (по умолчанию пробел)  \n",
    "  - `end='\\n'` — строка, добавляемая в конце (по умолчанию перевод строки)  \n",
    "  - `file=sys.stdout` — поток для вывода (можно перенаправить в файл)  \n",
    "- Возвращаемое значение всегда `None` — функция используется ради побочного эффекта (вывода)  \n",
    "- `print` в Python 3 стал функцией (в Python 2 это был оператор)  "
   ]
  },
  {
   "cell_type": "code",
   "execution_count": 101,
   "metadata": {},
   "outputs": [
    {
     "name": "stdout",
     "output_type": "stream",
     "text": [
      "\n",
      "python 3.12 ['lp6e']\n"
     ]
    }
   ],
   "source": [
    "# Простая печать\n",
    "x = \"python\"\n",
    "y = 3.12\n",
    "z = [\"lp6e\"]\n",
    "\n",
    "print()                 \n",
    "print(x, y, z)          "
   ]
  },
  {
   "cell_type": "code",
   "execution_count": 102,
   "metadata": {},
   "outputs": [
    {
     "name": "stdout",
     "output_type": "stream",
     "text": [
      "python3.12['lp6e']\n",
      "python,3.12,['lp6e']\n"
     ]
    }
   ],
   "source": [
    "# Изменение разделителя\n",
    "print(x, y, z, sep=\"\")   \n",
    "print(x, y, z, sep=\",\")  "
   ]
  },
  {
   "cell_type": "code",
   "execution_count": 103,
   "metadata": {},
   "outputs": [
    {
     "name": "stdout",
     "output_type": "stream",
     "text": [
      "python 3.12 ['lp6e']!"
     ]
    }
   ],
   "source": [
    "# Изменение конца строки\n",
    "print(x, y, z, end=\"!\")  "
   ]
  },
  {
   "cell_type": "code",
   "execution_count": 117,
   "metadata": {},
   "outputs": [],
   "source": [
    "# Печать в файл\n",
    "with open(\"data.txt\", \"w\") as f:\n",
    "    print(x, y, z, sep=\"...\", file=f)"
   ]
  },
  {
   "cell_type": "code",
   "execution_count": 104,
   "metadata": {},
   "outputs": [
    {
     "name": "stdout",
     "output_type": "stream",
     "text": [
      "python: 3.1200, 00006\n"
     ]
    }
   ],
   "source": [
    "# Форматирование строк\n",
    "print(f\"{x}: {y:.4f}, {int(z[0][-2]):05d}\")  "
   ]
  },
  {
   "cell_type": "markdown",
   "metadata": {},
   "source": [
    "### match оператор в Python\n",
    "```markdown\n",
    "- Появился в Python 3.10.  \n",
    "- Используется для множественного выбора (аналог `switch` в других языках).  \n",
    "- Может заменять цепочки `if/elif/else` или словари для выбора действий.  \n",
    "- Синтаксис: `match <выражение>:` и далее `case <значение>:`.  \n",
    "- `case _:` — это \"по умолчанию\", срабатывает, если нет совпадений.  \n",
    "- Можно перечислять несколько значений через `|` или присваивать переменные внутри `case`."
   ]
  },
  {
   "cell_type": "code",
   "execution_count": 105,
   "metadata": {},
   "outputs": [
    {
     "name": "stdout",
     "output_type": "stream",
     "text": [
      "green\n"
     ]
    }
   ],
   "source": [
    "# Пример через if/elif/else\n",
    "state = \"go\"\n",
    "if state == \"go\":\n",
    "    print(\"green\")\n",
    "elif state == \"stop\":\n",
    "    print(\"red\")\n",
    "else:\n",
    "    print(\"yellow\")"
   ]
  },
  {
   "cell_type": "code",
   "execution_count": 106,
   "metadata": {},
   "outputs": [
    {
     "name": "stdout",
     "output_type": "stream",
     "text": [
      "green\n"
     ]
    }
   ],
   "source": [
    "# Пример через словарь\n",
    "colors = {\"go\": \"green\", \"stop\": \"red\"}\n",
    "print(colors.get(state, \"yellow\"))"
   ]
  },
  {
   "cell_type": "code",
   "execution_count": 107,
   "metadata": {},
   "outputs": [
    {
     "name": "stdout",
     "output_type": "stream",
     "text": [
      "green\n"
     ]
    }
   ],
   "source": [
    "# Пример через match\n",
    "match state:\n",
    "    case \"go\":\n",
    "        print(\"green\")\n",
    "    case \"stop\":\n",
    "        print(\"red\")\n",
    "    case _:\n",
    "        print(\"yellow\")"
   ]
  },
  {
   "cell_type": "code",
   "execution_count": 108,
   "metadata": {},
   "outputs": [
    {
     "name": "stdout",
     "output_type": "stream",
     "text": [
      "red\n",
      "means halt\n"
     ]
    }
   ],
   "source": [
    "# Использование | \n",
    "state = \"halt\"\n",
    "match state:\n",
    "    case \"go\" | \"proceed\" | \"start\":\n",
    "        print(\"green\")\n",
    "    case \"stop\" | \"halt\" as what:\n",
    "        print(\"red\")\n",
    "        print(\"means\", what)\n",
    "    case other:\n",
    "        print(\"catchall:\", other)"
   ]
  },
  {
   "cell_type": "markdown",
   "metadata": {},
   "source": [
    "### Match vs if\n",
    "```markdown\n",
    "- `match` может назначать переменные внутри `case`.  \n",
    "- Упрощает множественный выбор, делая синтаксис более явным.  \n",
    "- `if` гибче: позволяет писать более сложные условия.  \n",
    "- Пример: перебор операторов и отнесение их к категориям.\n"
   ]
  },
  {
   "cell_type": "code",
   "execution_count": 109,
   "metadata": {},
   "outputs": [
    {
     "name": "stdout",
     "output_type": "stream",
     "text": [
      "logic\n",
      "loop\n",
      "tbd\n",
      "while try\n"
     ]
    }
   ],
   "source": [
    "# Пример с match\n",
    "for stmt in [\"if\", \"while\", \"try\"]:\n",
    "    match stmt:\n",
    "        case \"if\" | \"match\":\n",
    "            print(\"logic\")\n",
    "        case \"for\" | \"while\" as which:\n",
    "            print(\"loop\")\n",
    "        case other:\n",
    "            print(\"tbd\")\n",
    "\n",
    "print(which, other)  "
   ]
  },
  {
   "cell_type": "code",
   "execution_count": 110,
   "metadata": {},
   "outputs": [
    {
     "name": "stdout",
     "output_type": "stream",
     "text": [
      "logic\n",
      "loop\n",
      "tbd\n",
      "while try\n"
     ]
    }
   ],
   "source": [
    "# Эквивалентный пример через if\n",
    "for stmt in [\"if\", \"while\", \"try\"]:\n",
    "    if stmt in [\"if\", \"match\"]:\n",
    "        print(\"logic\")\n",
    "    elif stmt in [\"for\", \"while\"]:\n",
    "        which = stmt\n",
    "        print(\"loop\")\n",
    "    else:\n",
    "        other = stmt\n",
    "        print(\"tbd\")\n",
    "\n",
    "print(which, other)  "
   ]
  },
  {
   "cell_type": "markdown",
   "metadata": {},
   "source": [
    "### Продвинутый `match` в Python\n",
    "```markdown\n",
    "- Расширяет простую множественную проверку до **структурного сопоставления с образцом**.  \n",
    "- Поддерживает разные виды шаблонов:  \n",
    "  - **Literal** — сравнение по значению (`case 1 | 2`).  \n",
    "  - **Wildcard** — `_` совпадает с чем угодно.  \n",
    "  - **Capture** — имя переменной сохраняет совпавшее значение.  \n",
    "  - **Or** — несколько вариантов (`case 1 | 2 | 3`).  \n",
    "  - **As** — связывает совпавшее значение с переменной.  \n",
    "  - **Sequence/Mapping/Instance patterns** — можно проверять списки, словари и объекты по структуре.  \n",
    "- Можно использовать `if`-условия в заголовке `case` (guards).  \n"
   ]
  },
  {
   "cell_type": "code",
   "execution_count": 111,
   "metadata": {},
   "outputs": [
    {
     "name": "stdout",
     "output_type": "stream",
     "text": [
      "list 3\n"
     ]
    }
   ],
   "source": [
    "# Пример структурного сопоставления\n",
    "state = [1, 2, 3]\n",
    "\n",
    "match state:\n",
    "    case 1 | 2 | 3 as what:\n",
    "        print(\"or\", what)                # совпадение с литералом\n",
    "    case [1, 2, what]:\n",
    "        print(\"list\", what)              # совпадение со списком\n",
    "    case {\"a\": 1, \"b\": 2, \"c\": what}:\n",
    "        print(\"dict\", what)              # совпадение с dict\n",
    "    case (1, 2, what):\n",
    "        print(\"tuple\", what)             # совпадение с кортежем\n",
    "    case _ as other:\n",
    "        print(\"other\", other)            # совпадение со всем остальным\n"
   ]
  },
  {
   "cell_type": "markdown",
   "metadata": {},
   "source": [
    "### Итерации в Python\n",
    "```markdown\n",
    "- Цикл `for` работает не только с последовательностями (списки, кортежи, строки).  \n",
    "- Он поддерживает **любые итерируемые объекты** (`iterable`).  \n",
    "- Итерируемые объекты бывают:  \n",
    "  - **Физические последовательности** (списки, строки, кортежи).  \n",
    "  - **Виртуальные последовательности** (генераторы, итераторы) — создают элементы \"на лету\".  \n",
    "- Главное условие: объект должен поддерживать **итерационный протокол** (`__iter__` и `__next__`).  \n",
    "- Итерационные инструменты Python: `for`, comprehensions, `in`, `zip`, `enumerate`, `map`, и др.  \n"
   ]
  },
  {
   "cell_type": "code",
   "execution_count": 112,
   "metadata": {},
   "outputs": [
    {
     "name": "stdout",
     "output_type": "stream",
     "text": [
      "1 4 9 16 \n"
     ]
    }
   ],
   "source": [
    "# Примеры итераций в Python\n",
    "\n",
    "# Список\n",
    "for x in [1, 2, 3, 4]:\n",
    "    print(x ** 2, end=\" \")   # 1 4 9 16\n",
    "print()"
   ]
  },
  {
   "cell_type": "code",
   "execution_count": 113,
   "metadata": {},
   "outputs": [
    {
     "name": "stdout",
     "output_type": "stream",
     "text": [
      "1 8 27 64 \n"
     ]
    }
   ],
   "source": [
    "# Кортеж\n",
    "for x in (1, 2, 3, 4):\n",
    "    print(x ** 3, end=\" \")   \n",
    "print()"
   ]
  },
  {
   "cell_type": "code",
   "execution_count": 114,
   "metadata": {},
   "outputs": [
    {
     "name": "stdout",
     "output_type": "stream",
     "text": [
      "tt ee xx tt \n"
     ]
    }
   ],
   "source": [
    "# Строка\n",
    "for x in \"text\":\n",
    "    print(x * 2, end=\" \")    \n",
    "print()"
   ]
  },
  {
   "cell_type": "code",
   "execution_count": 115,
   "metadata": {},
   "outputs": [
    {
     "name": "stdout",
     "output_type": "stream",
     "text": [
      "a b c "
     ]
    }
   ],
   "source": [
    "# Словарь (по ключам)\n",
    "for k in dict(a=1, b=2, c=3):\n",
    "    print(k, end=\" \")        \n"
   ]
  },
  {
   "cell_type": "markdown",
   "metadata": {},
   "source": [
    "### Итерационный протокол в Python\n",
    "```markdown\n",
    "- **Итератор** — объект с методом `__next__()`, возвращающим следующий элемент.  \n",
    "- Когда элементы заканчиваются → вызывается исключение `StopIteration`.  \n",
    "- **Итерируемый объект** — тот, из которого можно получить итератор с помощью `iter()`.  \n",
    "- Все циклы `for` и многие встроенные инструменты (`map`, `zip`, `enumerate`) работают через этот протокол.  \n",
    "- Чтение файлов построчно — классический пример работы итераторов.  \n"
   ]
  },
  {
   "cell_type": "code",
   "execution_count": null,
   "metadata": {},
   "outputs": [],
   "source": [
    "# Работа с файлом через readline (устаревший способ)\n",
    "f = open(\"data.txt\")\n",
    "print(f.readline())  # Первая строка\n",
    "print(f.readline())  # Вторая строка\n",
    "print(f.readline())  # Третья строка\n",
    "print(f.readline())  # Пустая строка (конец файла)"
   ]
  },
  {
   "cell_type": "code",
   "execution_count": null,
   "metadata": {},
   "outputs": [],
   "source": [
    "# Работа через __next__ (итерационный протокол напрямую)\n",
    "f = open(\"data.txt\")\n",
    "print(f.__next__())  # Первая строка\n",
    "print(f.__next__())  # Вторая строка\n",
    "print(f.__next__())  # Третья строка\n",
    "# Следующий вызов вызовет StopIteration"
   ]
  },
  {
   "cell_type": "code",
   "execution_count": null,
   "metadata": {},
   "outputs": [],
   "source": [
    "# Правильный способ — использовать for (файл сам является итератором)\n",
    "for line in open(\"data.txt\"):\n",
    "    print(line.upper(), end=\"\")  # Читаем и печатаем по строке"
   ]
  },
  {
   "cell_type": "code",
   "execution_count": 166,
   "metadata": {},
   "outputs": [],
   "source": [
    "a, *b, c = [1, 2]"
   ]
  },
  {
   "cell_type": "code",
   "execution_count": 167,
   "metadata": {},
   "outputs": [
    {
     "data": {
      "text/plain": [
       "1"
      ]
     },
     "execution_count": 167,
     "metadata": {},
     "output_type": "execute_result"
    }
   ],
   "source": [
    "a"
   ]
  },
  {
   "cell_type": "code",
   "execution_count": 168,
   "metadata": {},
   "outputs": [
    {
     "data": {
      "text/plain": [
       "[]"
      ]
     },
     "execution_count": 168,
     "metadata": {},
     "output_type": "execute_result"
    }
   ],
   "source": [
    "b"
   ]
  },
  {
   "cell_type": "markdown",
   "metadata": {},
   "source": [
    "### Встроенные функции iter() и next()\n",
    "```markdown\n",
    "- `next(obj)` — возвращает следующий элемент итератора (эквивалент вызова `obj.__next__()`).\n",
    "- `iter(obj)` — получает итератор из итерируемого объекта (эквивалент вызова `obj.__iter__()`).\n",
    "- Файлы в Python являются **итераторами** сами по себе → `iter(f) is f` возвращает `True`.\n",
    "- Списки и другие коллекции таковыми не являются → для них обязательно нужно вызвать `iter()`.  "
   ]
  },
  {
   "cell_type": "code",
   "execution_count": 120,
   "metadata": {},
   "outputs": [
    {
     "name": "stdout",
     "output_type": "stream",
     "text": [
      "Hello\n",
      "\n",
      "World\n",
      "True\n"
     ]
    }
   ],
   "source": [
    "# Пример с файлом (он является итератором сам по себе)\n",
    "f = open(\"data.txt\")\n",
    "print(next(f))        # Первая строка\n",
    "print(next(f))        # Вторая строка\n",
    "print(iter(f) is f)   # файл сам является итератором"
   ]
  },
  {
   "cell_type": "code",
   "execution_count": 121,
   "metadata": {},
   "outputs": [
    {
     "name": "stdout",
     "output_type": "stream",
     "text": [
      "Ошибка: 'list' object is not an iterator\n"
     ]
    }
   ],
   "source": [
    "# Пример со списком (список не является итератором!)\n",
    "L = [1, 2, 3]\n",
    "try:\n",
    "    next(L)  # Ошибка: список — итерируемый объект, но не итератор\n",
    "except TypeError as e:\n",
    "    print(\"Ошибка:\", e)"
   ]
  },
  {
   "cell_type": "code",
   "execution_count": 122,
   "metadata": {},
   "outputs": [
    {
     "name": "stdout",
     "output_type": "stream",
     "text": [
      "1\n",
      "2\n",
      "3\n"
     ]
    }
   ],
   "source": [
    "# Нужно создать итератор через iter()\n",
    "I = iter(L)\n",
    "print(next(I))  # 1\n",
    "print(next(I))  # 2\n",
    "print(next(I))  # 3"
   ]
  },
  {
   "cell_type": "code",
   "execution_count": 123,
   "metadata": {},
   "outputs": [
    {
     "ename": "StopIteration",
     "evalue": "",
     "output_type": "error",
     "traceback": [
      "\u001b[31m---------------------------------------------------------------------------\u001b[39m",
      "\u001b[31mStopIteration\u001b[39m                             Traceback (most recent call last)",
      "\u001b[36mCell\u001b[39m\u001b[36m \u001b[39m\u001b[32mIn[123]\u001b[39m\u001b[32m, line 1\u001b[39m\n\u001b[32m----> \u001b[39m\u001b[32m1\u001b[39m \u001b[38;5;28mprint\u001b[39m(\u001b[38;5;28;43mnext\u001b[39;49m\u001b[43m(\u001b[49m\u001b[43mI\u001b[49m\u001b[43m)\u001b[49m)\n",
      "\u001b[31mStopIteration\u001b[39m: "
     ]
    }
   ],
   "source": [
    "print(next(I))"
   ]
  },
  {
   "cell_type": "markdown",
   "metadata": {},
   "source": [
    "### Ручная итерация с iter() и next()\n",
    "```markdown\n",
    "- Цикл `for` работает автоматически: сам вызывает `iter()`, затем многократно `next()`, пока не встретит `StopIteration`.\n",
    "- Можно выполнить этот процесс вручную с помощью `try/except` — это эквивалент работы цикла `for`.\n",
    "- У функции `next()` есть необязательный второй аргумент — **значение по умолчанию**, которое возвращается вместо исключения `StopIteration`.\n",
    "- У функции `iter()` есть особый режим с **сентинелом**: `iter(callable, sentinel)` вызывает функцию до тех пор, пока результат не совпадёт с `sentinel`.\n"
   ]
  },
  {
   "cell_type": "code",
   "execution_count": 124,
   "metadata": {},
   "outputs": [
    {
     "name": "stdout",
     "output_type": "stream",
     "text": [
      "1 4 9 \n"
     ]
    }
   ],
   "source": [
    "# Автоматическая итерация\n",
    "L = [1, 2, 3]\n",
    "for x in L:\n",
    "    print(x ** 2, end=\" \")\n",
    "print()"
   ]
  },
  {
   "cell_type": "code",
   "execution_count": 125,
   "metadata": {},
   "outputs": [
    {
     "name": "stdout",
     "output_type": "stream",
     "text": [
      "1 4 9 \n"
     ]
    }
   ],
   "source": [
    "# Ручная итерация (эквивалент for)\n",
    "I = iter(L)\n",
    "while True:\n",
    "    try:\n",
    "        x = next(I)\n",
    "    except StopIteration:\n",
    "        break\n",
    "    print(x ** 2, end=\" \")\n",
    "print()"
   ]
  },
  {
   "cell_type": "code",
   "execution_count": 126,
   "metadata": {},
   "outputs": [
    {
     "name": "stdout",
     "output_type": "stream",
     "text": [
      "1\n",
      "end of list\n"
     ]
    }
   ],
   "source": [
    "# Использование next() с значением по умолчанию\n",
    "L = [1]\n",
    "I = iter(L)\n",
    "print(next(I, \"end of list\"))  \n",
    "print(next(I, \"end of list\"))  "
   ]
  },
  {
   "cell_type": "code",
   "execution_count": 127,
   "metadata": {},
   "outputs": [
    {
     "name": "stdout",
     "output_type": "stream",
     "text": [
      "1 4 9 \n"
     ]
    }
   ],
   "source": [
    "# next() + оператор := (короче запись)\n",
    "I = iter([1, 2, 3])\n",
    "while (x := next(I, None)) is not None:\n",
    "    print(x ** 2, end=\" \")\n",
    "print()"
   ]
  },
  {
   "cell_type": "code",
   "execution_count": 128,
   "metadata": {},
   "outputs": [
    {
     "name": "stdout",
     "output_type": "stream",
     "text": [
      "Hello\n",
      "World"
     ]
    }
   ],
   "source": [
    "# iter() с callable и sentinel\n",
    "f = open(\"data.txt\")\n",
    "I = iter(lambda: f.read(5), \"\")  # читать блоками по 5 символов\n",
    "for block in I:\n",
    "    print(block, end=\"\")\n",
    "f.close()"
   ]
  },
  {
   "cell_type": "markdown",
   "metadata": {},
   "source": [
    "### Другие встроенные итерируемые объекты\n",
    "```markdown\n",
    "- Помимо файлов и списков, протокол итерации поддерживают:\n",
    "  - **Словари** — возвращают ключи по одному.\n",
    "  - **range()** — создаёт последовательность чисел.\n",
    "  - **enumerate()** — возвращает пары (индекс, элемент).\n",
    "  - **zip()** — объединяет несколько итерируемых объектов, возвращая кортежи.\n",
    "- Некоторые итерируемые объекты (например, enumerate и zip) являются **своими собственными итераторами**, то есть их можно пройти только один раз.\n",
    "- Функции `list()`, `tuple()` и другие могут материализовать итераторы в коллекции.\n",
    "- Итераторы можно **вкладывать** (zip поверх enumerate поверх range и т. д.)."
   ]
  },
  {
   "cell_type": "code",
   "execution_count": 129,
   "metadata": {},
   "outputs": [
    {
     "name": "stdout",
     "output_type": "stream",
     "text": [
      "a 1\n",
      "b 2\n"
     ]
    }
   ],
   "source": [
    "# Словарь как итерируемый объект\n",
    "D = dict(a=1, b=2)\n",
    "for key in D:\n",
    "    print(key, D[key])"
   ]
  },
  {
   "cell_type": "code",
   "execution_count": 131,
   "metadata": {},
   "outputs": [
    {
     "name": "stdout",
     "output_type": "stream",
     "text": [
      "[0, 1, 2, 3, 4]\n"
     ]
    }
   ],
   "source": [
    "# range()\n",
    "R = range(5)\n",
    "print(list(R)) "
   ]
  },
  {
   "cell_type": "code",
   "execution_count": 132,
   "metadata": {},
   "outputs": [
    {
     "name": "stdout",
     "output_type": "stream",
     "text": [
      "[(0, 't'), (1, 'e'), (2, 'x'), (3, 't')]\n"
     ]
    }
   ],
   "source": [
    "# enumerate()\n",
    "E = enumerate(\"text\")\n",
    "print(list(E))  # список индексов и символов"
   ]
  },
  {
   "cell_type": "code",
   "execution_count": 133,
   "metadata": {},
   "outputs": [
    {
     "name": "stdout",
     "output_type": "stream",
     "text": [
      "[(1, 10), (2, 20), (3, 30)]\n"
     ]
    }
   ],
   "source": [
    "# zip()\n",
    "Z = zip((1, 2, 3), (10, 20, 30))\n",
    "print(list(Z))"
   ]
  },
  {
   "cell_type": "code",
   "execution_count": 134,
   "metadata": {},
   "outputs": [
    {
     "name": "stdout",
     "output_type": "stream",
     "text": [
      "[(0, 1), (1, 2), (2, 3)]\n",
      "[((0, 1), (0, 5)), ((1, 2), (1, 6)), ((2, 3), (2, 7))]\n"
     ]
    }
   ],
   "source": [
    "# Вложенные итераторы\n",
    "print(list(enumerate(range(1, 4))))\n",
    "print(list(zip(enumerate(range(1, 4)), enumerate(range(5, 8)))))"
   ]
  },
  {
   "cell_type": "code",
   "execution_count": 135,
   "metadata": {},
   "outputs": [
    {
     "name": "stdout",
     "output_type": "stream",
     "text": [
      "(0, (1, 5))\n",
      "(1, (2, 6))\n",
      "(2, (3, 7))\n"
     ]
    }
   ],
   "source": [
    "# for с вложенными итераторами\n",
    "for x in enumerate(zip(range(1, 4), range(5, 8))):\n",
    "    print(x)\n"
   ]
  },
  {
   "cell_type": "markdown",
   "metadata": {},
   "source": [
    "### Функциональные итераторы: map и filter\n",
    "```markdown\n",
    "- **map(func, iterable)** — применяет функцию к каждому элементу последовательности, возвращает итератор.  \n",
    "- **filter(func, iterable)** — возвращает только те элементы, для которых функция возвращает `True`.  \n",
    "- Эти объекты являются **своими собственными итераторами** (как и zip, enumerate, open).   \n",
    "- В отличие от них, **range, list, dict** поддерживают **многократные проходы** и независимые итераторы.  "
   ]
  },
  {
   "cell_type": "code",
   "execution_count": 136,
   "metadata": {},
   "outputs": [
    {
     "name": "stdout",
     "output_type": "stream",
     "text": [
      "[112, 121, 51]\n"
     ]
    }
   ],
   "source": [
    "# map: применяем ord() ко всем символам\n",
    "M = map(ord, \"py3\")\n",
    "print(list(M))  "
   ]
  },
  {
   "cell_type": "code",
   "execution_count": 137,
   "metadata": {},
   "outputs": [
    {
     "name": "stdout",
     "output_type": "stream",
     "text": [
      "['lp6e', '2024']\n",
      "['2024']\n"
     ]
    }
   ],
   "source": [
    "# filter: оставляем только \"правдивые\" элементы\n",
    "data = [\"lp6e\", \"\", \"2024\"]\n",
    "print(list(filter(bool, data)))        \n",
    "print(list(filter(str.isdigit, data))) "
   ]
  },
  {
   "cell_type": "code",
   "execution_count": 138,
   "metadata": {},
   "outputs": [
    {
     "name": "stdout",
     "output_type": "stream",
     "text": [
      "(1, 10)\n",
      "(2, 20)\n"
     ]
    }
   ],
   "source": [
    "# Демонстрация однопроходных итераторов\n",
    "Z = zip((1, 2, 3), (10, 20, 30))\n",
    "I1, I2 = iter(Z), iter(Z)\n",
    "print(next(I1))  \n",
    "print(next(I2))  # (2, 20) — продолжаем с того же места, не новый проход!"
   ]
  },
  {
   "cell_type": "code",
   "execution_count": 157,
   "metadata": {},
   "outputs": [
    {
     "name": "stdout",
     "output_type": "stream",
     "text": [
      "0\n",
      "0\n",
      "1\n",
      "2\n",
      "1\n"
     ]
    }
   ],
   "source": [
    "# Демонстрация многопроходных итераторов\n",
    "R = range(3)\n",
    "I1, I2 = iter(R), iter(R)\n",
    "print(next(I1))  # 0\n",
    "print(next(I2))  # 0 — новый проход независим\n",
    "print(next(I1))\n",
    "print(next(I1))\n",
    "print(next(I2))"
   ]
  },
  {
   "cell_type": "markdown",
   "metadata": {},
   "source": [
    "### Однопроходные и многопроходные итераторы\n",
    "```markdown\n",
    "- **Многопроходные итераторы** (например, `range`, `list`, `dict`) поддерживают несколько независимых проходов. Каждый вызов `iter()` создает новый объект-итератор.  \n",
    "- **Однопроходные итераторы** (например, `enumerate`, `zip`, `map`, `filter`, `open`) являются своими собственными итераторами. После полного прохода по ним их нужно создать заново.  \n",
    "- У однопроходных объектов вызов `iter(obj)` возвращает сам объект.  \n"
   ]
  },
  {
   "cell_type": "code",
   "execution_count": 140,
   "metadata": {},
   "outputs": [
    {
     "name": "stdout",
     "output_type": "stream",
     "text": [
      "0\n",
      "0\n",
      "1\n"
     ]
    }
   ],
   "source": [
    "# Многопроходные итераторы\n",
    "R = range(3)\n",
    "I1, I2 = iter(R), iter(R)\n",
    "print(next(I1))  # \n",
    "print(next(I2))  # новый проход\n",
    "print(next(I1))  # "
   ]
  },
  {
   "cell_type": "code",
   "execution_count": 141,
   "metadata": {},
   "outputs": [
    {
     "name": "stdout",
     "output_type": "stream",
     "text": [
      "(1, 10)\n",
      "(2, 11)\n",
      "(3, 12)\n"
     ]
    }
   ],
   "source": [
    "# Однопроходные итераторы\n",
    "Z = zip((1, 2, 3), (10, 11, 12))\n",
    "I1, I2 = iter(Z), iter(Z)\n",
    "print(next(I1))  # \n",
    "print(next(I1))  # \n",
    "print(next(I2))  #  продолжаем, не новый проход"
   ]
  }
 ],
 "metadata": {
  "kernelspec": {
   "display_name": ".venv",
   "language": "python",
   "name": "python3"
  },
  "language_info": {
   "codemirror_mode": {
    "name": "ipython",
    "version": 3
   },
   "file_extension": ".py",
   "mimetype": "text/x-python",
   "name": "python",
   "nbconvert_exporter": "python",
   "pygments_lexer": "ipython3",
   "version": "3.13.7"
  }
 },
 "nbformat": 4,
 "nbformat_minor": 2
}
